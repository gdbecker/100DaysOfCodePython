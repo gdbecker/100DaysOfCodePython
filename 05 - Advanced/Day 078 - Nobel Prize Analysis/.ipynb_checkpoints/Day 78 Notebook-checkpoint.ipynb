{
 "cells": [
  {
   "cell_type": "markdown",
   "metadata": {
    "id": "FuDxBL8UamHp"
   },
   "source": [
    "# Setup and Context"
   ]
  },
  {
   "cell_type": "markdown",
   "metadata": {
    "id": "9vYVhf9vo7LK"
   },
   "source": [
    "### Introduction\n",
    "\n",
    "On November 27, 1895, Alfred Nobel signed his last will in Paris. When it was opened after his death, the will caused a lot of controversy, as Nobel had left much of his wealth for the establishment of a prize.\n",
    "\n",
    "Alfred Nobel dictates that his entire remaining estate should be used to endow “prizes to those who, during the preceding year, have conferred the greatest benefit to humankind”.\n",
    "\n",
    "Every year the Nobel Prize is given to scientists and scholars in the categories chemistry, literature, physics, physiology or medicine, economics, and peace. \n",
    "\n",
    "<img src=https://i.imgur.com/36pCx5Q.jpg>\n",
    "\n",
    "Let's see what patterns we can find in the data of the past Nobel laureates. What can we learn about the Nobel prize and our world more generally?"
   ]
  },
  {
   "cell_type": "markdown",
   "metadata": {
    "id": "RaHW4kg0sZKP"
   },
   "source": [
    "### Upgrade plotly (only Google Colab Notebook)\n",
    "\n",
    "Google Colab may not be running the latest version of plotly. If you're working in Google Colab, uncomment the line below, run the cell, and restart your notebook server. "
   ]
  },
  {
   "cell_type": "code",
   "execution_count": 28,
   "metadata": {
    "id": "od8BRWbAsGxS"
   },
   "outputs": [],
   "source": [
    "# %pip install --upgrade plotly"
   ]
  },
  {
   "cell_type": "markdown",
   "metadata": {
    "id": "QPnGYVYyo7LK"
   },
   "source": [
    "### Import Statements"
   ]
  },
  {
   "cell_type": "code",
   "execution_count": 29,
   "metadata": {
    "id": "dCIwm0dLo7LL"
   },
   "outputs": [],
   "source": [
    "import pandas as pd\n",
    "import numpy as np\n",
    "import plotly.express as px\n",
    "import seaborn as sns\n",
    "import matplotlib.pyplot as plt\n",
    "\n",
    "from fractions import Fraction"
   ]
  },
  {
   "cell_type": "markdown",
   "metadata": {
    "id": "FcJY6qfNo7LN"
   },
   "source": [
    "### Notebook Presentation"
   ]
  },
  {
   "cell_type": "code",
   "execution_count": 30,
   "metadata": {
    "id": "RjzC6BoMo7LO"
   },
   "outputs": [],
   "source": [
    "pd.options.display.float_format = '{:,.2f}'.format"
   ]
  },
  {
   "cell_type": "markdown",
   "metadata": {
    "id": "eoQ5Af4wo7LQ"
   },
   "source": [
    "### Read the Data"
   ]
  },
  {
   "cell_type": "code",
   "execution_count": 31,
   "metadata": {
    "id": "EbVGyi7Eo7LQ"
   },
   "outputs": [],
   "source": [
    "df_data = pd.read_csv('nobel_prize_data.csv')"
   ]
  },
  {
   "cell_type": "markdown",
   "metadata": {
    "id": "XZzHD-1dKKbr"
   },
   "source": [
    "Caveats: The exact birth dates for Michael Houghton, Venkatraman Ramakrishnan, and Nadia Murad are unknown. I've substituted them with mid-year estimate of July 2nd. \n"
   ]
  },
  {
   "cell_type": "markdown",
   "metadata": {
    "id": "rYlGEluAo7LS"
   },
   "source": [
    "# Data Exploration & Cleaning\n",
    "\n",
    "**Challenge**: Preliminary data exploration. \n",
    "* What is the shape of `df_data`? How many rows and columns?\n",
    "* What are the column names?\n",
    "* In which year was the Nobel prize first awarded?\n",
    "* Which year is the latest year included in the dataset?"
   ]
  },
  {
   "cell_type": "code",
   "execution_count": 32,
   "metadata": {
    "id": "4U-OQVRbFOu6"
   },
   "outputs": [
    {
     "name": "stdout",
     "output_type": "stream",
     "text": [
      "Shape: (962, 16)\n",
      "Columns: Index(['year', 'category', 'prize', 'motivation', 'prize_share',\n",
      "       'laureate_type', 'full_name', 'birth_date', 'birth_city',\n",
      "       'birth_country', 'birth_country_current', 'sex', 'organization_name',\n",
      "       'organization_city', 'organization_country', 'ISO'],\n",
      "      dtype='object')\n"
     ]
    },
    {
     "data": {
      "text/html": [
       "<div>\n",
       "<style scoped>\n",
       "    .dataframe tbody tr th:only-of-type {\n",
       "        vertical-align: middle;\n",
       "    }\n",
       "\n",
       "    .dataframe tbody tr th {\n",
       "        vertical-align: top;\n",
       "    }\n",
       "\n",
       "    .dataframe thead th {\n",
       "        text-align: right;\n",
       "    }\n",
       "</style>\n",
       "<table border=\"1\" class=\"dataframe\">\n",
       "  <thead>\n",
       "    <tr style=\"text-align: right;\">\n",
       "      <th></th>\n",
       "      <th>year</th>\n",
       "      <th>category</th>\n",
       "      <th>prize</th>\n",
       "      <th>motivation</th>\n",
       "      <th>prize_share</th>\n",
       "      <th>laureate_type</th>\n",
       "      <th>full_name</th>\n",
       "      <th>birth_date</th>\n",
       "      <th>birth_city</th>\n",
       "      <th>birth_country</th>\n",
       "      <th>birth_country_current</th>\n",
       "      <th>sex</th>\n",
       "      <th>organization_name</th>\n",
       "      <th>organization_city</th>\n",
       "      <th>organization_country</th>\n",
       "      <th>ISO</th>\n",
       "    </tr>\n",
       "  </thead>\n",
       "  <tbody>\n",
       "    <tr>\n",
       "      <th>0</th>\n",
       "      <td>1901</td>\n",
       "      <td>Chemistry</td>\n",
       "      <td>The Nobel Prize in Chemistry 1901</td>\n",
       "      <td>\"in recognition of the extraordinary services ...</td>\n",
       "      <td>1/1</td>\n",
       "      <td>Individual</td>\n",
       "      <td>Jacobus Henricus van 't Hoff</td>\n",
       "      <td>1852-08-30</td>\n",
       "      <td>Rotterdam</td>\n",
       "      <td>Netherlands</td>\n",
       "      <td>Netherlands</td>\n",
       "      <td>Male</td>\n",
       "      <td>Berlin University</td>\n",
       "      <td>Berlin</td>\n",
       "      <td>Germany</td>\n",
       "      <td>NLD</td>\n",
       "    </tr>\n",
       "    <tr>\n",
       "      <th>1</th>\n",
       "      <td>1901</td>\n",
       "      <td>Literature</td>\n",
       "      <td>The Nobel Prize in Literature 1901</td>\n",
       "      <td>\"in special recognition of his poetic composit...</td>\n",
       "      <td>1/1</td>\n",
       "      <td>Individual</td>\n",
       "      <td>Sully Prudhomme</td>\n",
       "      <td>1839-03-16</td>\n",
       "      <td>Paris</td>\n",
       "      <td>France</td>\n",
       "      <td>France</td>\n",
       "      <td>Male</td>\n",
       "      <td>NaN</td>\n",
       "      <td>NaN</td>\n",
       "      <td>NaN</td>\n",
       "      <td>FRA</td>\n",
       "    </tr>\n",
       "    <tr>\n",
       "      <th>2</th>\n",
       "      <td>1901</td>\n",
       "      <td>Medicine</td>\n",
       "      <td>The Nobel Prize in Physiology or Medicine 1901</td>\n",
       "      <td>\"for his work on serum therapy, especially its...</td>\n",
       "      <td>1/1</td>\n",
       "      <td>Individual</td>\n",
       "      <td>Emil Adolf von Behring</td>\n",
       "      <td>1854-03-15</td>\n",
       "      <td>Hansdorf (Lawice)</td>\n",
       "      <td>Prussia (Poland)</td>\n",
       "      <td>Poland</td>\n",
       "      <td>Male</td>\n",
       "      <td>Marburg University</td>\n",
       "      <td>Marburg</td>\n",
       "      <td>Germany</td>\n",
       "      <td>POL</td>\n",
       "    </tr>\n",
       "    <tr>\n",
       "      <th>3</th>\n",
       "      <td>1901</td>\n",
       "      <td>Peace</td>\n",
       "      <td>The Nobel Peace Prize 1901</td>\n",
       "      <td>NaN</td>\n",
       "      <td>1/2</td>\n",
       "      <td>Individual</td>\n",
       "      <td>Frédéric Passy</td>\n",
       "      <td>1822-05-20</td>\n",
       "      <td>Paris</td>\n",
       "      <td>France</td>\n",
       "      <td>France</td>\n",
       "      <td>Male</td>\n",
       "      <td>NaN</td>\n",
       "      <td>NaN</td>\n",
       "      <td>NaN</td>\n",
       "      <td>FRA</td>\n",
       "    </tr>\n",
       "    <tr>\n",
       "      <th>4</th>\n",
       "      <td>1901</td>\n",
       "      <td>Peace</td>\n",
       "      <td>The Nobel Peace Prize 1901</td>\n",
       "      <td>NaN</td>\n",
       "      <td>1/2</td>\n",
       "      <td>Individual</td>\n",
       "      <td>Jean Henry Dunant</td>\n",
       "      <td>1828-05-08</td>\n",
       "      <td>Geneva</td>\n",
       "      <td>Switzerland</td>\n",
       "      <td>Switzerland</td>\n",
       "      <td>Male</td>\n",
       "      <td>NaN</td>\n",
       "      <td>NaN</td>\n",
       "      <td>NaN</td>\n",
       "      <td>CHE</td>\n",
       "    </tr>\n",
       "  </tbody>\n",
       "</table>\n",
       "</div>"
      ],
      "text/plain": [
       "   year    category                                           prize  \\\n",
       "0  1901   Chemistry               The Nobel Prize in Chemistry 1901   \n",
       "1  1901  Literature              The Nobel Prize in Literature 1901   \n",
       "2  1901    Medicine  The Nobel Prize in Physiology or Medicine 1901   \n",
       "3  1901       Peace                      The Nobel Peace Prize 1901   \n",
       "4  1901       Peace                      The Nobel Peace Prize 1901   \n",
       "\n",
       "                                          motivation prize_share  \\\n",
       "0  \"in recognition of the extraordinary services ...         1/1   \n",
       "1  \"in special recognition of his poetic composit...         1/1   \n",
       "2  \"for his work on serum therapy, especially its...         1/1   \n",
       "3                                                NaN         1/2   \n",
       "4                                                NaN         1/2   \n",
       "\n",
       "  laureate_type                     full_name  birth_date         birth_city  \\\n",
       "0    Individual  Jacobus Henricus van 't Hoff  1852-08-30          Rotterdam   \n",
       "1    Individual               Sully Prudhomme  1839-03-16              Paris   \n",
       "2    Individual        Emil Adolf von Behring  1854-03-15  Hansdorf (Lawice)   \n",
       "3    Individual                Frédéric Passy  1822-05-20              Paris   \n",
       "4    Individual             Jean Henry Dunant  1828-05-08             Geneva   \n",
       "\n",
       "      birth_country birth_country_current   sex   organization_name  \\\n",
       "0       Netherlands           Netherlands  Male   Berlin University   \n",
       "1            France                France  Male                 NaN   \n",
       "2  Prussia (Poland)                Poland  Male  Marburg University   \n",
       "3            France                France  Male                 NaN   \n",
       "4       Switzerland           Switzerland  Male                 NaN   \n",
       "\n",
       "  organization_city organization_country  ISO  \n",
       "0            Berlin              Germany  NLD  \n",
       "1               NaN                  NaN  FRA  \n",
       "2           Marburg              Germany  POL  \n",
       "3               NaN                  NaN  FRA  \n",
       "4               NaN                  NaN  CHE  "
      ]
     },
     "execution_count": 32,
     "metadata": {},
     "output_type": "execute_result"
    }
   ],
   "source": [
    "print(f\"Shape: {df_data.shape}\")\n",
    "print(f\"Columns: {df_data.columns}\")\n",
    "df_data.sort_values(by=\"year\", ascending=True).head()"
   ]
  },
  {
   "cell_type": "code",
   "execution_count": 33,
   "metadata": {
    "id": "Iy6cDcXAFOsV"
   },
   "outputs": [
    {
     "data": {
      "text/html": [
       "<div>\n",
       "<style scoped>\n",
       "    .dataframe tbody tr th:only-of-type {\n",
       "        vertical-align: middle;\n",
       "    }\n",
       "\n",
       "    .dataframe tbody tr th {\n",
       "        vertical-align: top;\n",
       "    }\n",
       "\n",
       "    .dataframe thead th {\n",
       "        text-align: right;\n",
       "    }\n",
       "</style>\n",
       "<table border=\"1\" class=\"dataframe\">\n",
       "  <thead>\n",
       "    <tr style=\"text-align: right;\">\n",
       "      <th></th>\n",
       "      <th>year</th>\n",
       "      <th>category</th>\n",
       "      <th>prize</th>\n",
       "      <th>motivation</th>\n",
       "      <th>prize_share</th>\n",
       "      <th>laureate_type</th>\n",
       "      <th>full_name</th>\n",
       "      <th>birth_date</th>\n",
       "      <th>birth_city</th>\n",
       "      <th>birth_country</th>\n",
       "      <th>birth_country_current</th>\n",
       "      <th>sex</th>\n",
       "      <th>organization_name</th>\n",
       "      <th>organization_city</th>\n",
       "      <th>organization_country</th>\n",
       "      <th>ISO</th>\n",
       "    </tr>\n",
       "  </thead>\n",
       "  <tbody>\n",
       "    <tr>\n",
       "      <th>961</th>\n",
       "      <td>2020</td>\n",
       "      <td>Physics</td>\n",
       "      <td>The Nobel Prize in Physics 2020</td>\n",
       "      <td>“for the discovery that black hole formation i...</td>\n",
       "      <td>1/2</td>\n",
       "      <td>Individual</td>\n",
       "      <td>Roger Penrose</td>\n",
       "      <td>1931-08-08</td>\n",
       "      <td>Colchester</td>\n",
       "      <td>United Kingdom</td>\n",
       "      <td>United Kingdom</td>\n",
       "      <td>Male</td>\n",
       "      <td>University of Oxford</td>\n",
       "      <td>Oxford</td>\n",
       "      <td>United Kingdom</td>\n",
       "      <td>GBR</td>\n",
       "    </tr>\n",
       "    <tr>\n",
       "      <th>955</th>\n",
       "      <td>2020</td>\n",
       "      <td>Medicine</td>\n",
       "      <td>The Nobel Prize in Physiology or Medicine 2020</td>\n",
       "      <td>“for the discovery of Hepatitis C virus”</td>\n",
       "      <td>1/3</td>\n",
       "      <td>Individual</td>\n",
       "      <td>Charles M. Rice</td>\n",
       "      <td>1952-08-25</td>\n",
       "      <td>Sacramento, CA</td>\n",
       "      <td>United States of America</td>\n",
       "      <td>United States of America</td>\n",
       "      <td>Male</td>\n",
       "      <td>Rockefeller University</td>\n",
       "      <td>New York, NY</td>\n",
       "      <td>United States of America</td>\n",
       "      <td>USA</td>\n",
       "    </tr>\n",
       "    <tr>\n",
       "      <th>950</th>\n",
       "      <td>2020</td>\n",
       "      <td>Chemistry</td>\n",
       "      <td>The Nobel Prize in Chemistry 2020</td>\n",
       "      <td>“for the development of a method for genome ed...</td>\n",
       "      <td>1/2</td>\n",
       "      <td>Individual</td>\n",
       "      <td>Emmanuelle Charpentier</td>\n",
       "      <td>1968-12-11</td>\n",
       "      <td>Juvisy-sur-Orge</td>\n",
       "      <td>France</td>\n",
       "      <td>France</td>\n",
       "      <td>Female</td>\n",
       "      <td>Max-Planck-Institut</td>\n",
       "      <td>Berlin</td>\n",
       "      <td>Germany</td>\n",
       "      <td>FRA</td>\n",
       "    </tr>\n",
       "    <tr>\n",
       "      <th>951</th>\n",
       "      <td>2020</td>\n",
       "      <td>Chemistry</td>\n",
       "      <td>The Nobel Prize in Chemistry 2020</td>\n",
       "      <td>“for the development of a method for genome ed...</td>\n",
       "      <td>1/2</td>\n",
       "      <td>Individual</td>\n",
       "      <td>Jennifer A. Doudna</td>\n",
       "      <td>1964-02-19</td>\n",
       "      <td>Washington, DC</td>\n",
       "      <td>United States of America</td>\n",
       "      <td>United States of America</td>\n",
       "      <td>Female</td>\n",
       "      <td>University of California</td>\n",
       "      <td>Berkeley, CA</td>\n",
       "      <td>United States of America</td>\n",
       "      <td>USA</td>\n",
       "    </tr>\n",
       "    <tr>\n",
       "      <th>952</th>\n",
       "      <td>2020</td>\n",
       "      <td>Economics</td>\n",
       "      <td>The Sveriges Riksbank Prize in Economic Scienc...</td>\n",
       "      <td>“for improvements to auction theory and invent...</td>\n",
       "      <td>1/2</td>\n",
       "      <td>Individual</td>\n",
       "      <td>Paul R. Milgrom</td>\n",
       "      <td>1948-04-20</td>\n",
       "      <td>Detroit, MI</td>\n",
       "      <td>United States of America</td>\n",
       "      <td>United States of America</td>\n",
       "      <td>Male</td>\n",
       "      <td>Stanford University</td>\n",
       "      <td>Stanford, CA</td>\n",
       "      <td>United States of America</td>\n",
       "      <td>USA</td>\n",
       "    </tr>\n",
       "  </tbody>\n",
       "</table>\n",
       "</div>"
      ],
      "text/plain": [
       "     year   category                                              prize  \\\n",
       "961  2020    Physics                    The Nobel Prize in Physics 2020   \n",
       "955  2020   Medicine     The Nobel Prize in Physiology or Medicine 2020   \n",
       "950  2020  Chemistry                  The Nobel Prize in Chemistry 2020   \n",
       "951  2020  Chemistry                  The Nobel Prize in Chemistry 2020   \n",
       "952  2020  Economics  The Sveriges Riksbank Prize in Economic Scienc...   \n",
       "\n",
       "                                            motivation prize_share  \\\n",
       "961  “for the discovery that black hole formation i...         1/2   \n",
       "955           “for the discovery of Hepatitis C virus”         1/3   \n",
       "950  “for the development of a method for genome ed...         1/2   \n",
       "951  “for the development of a method for genome ed...         1/2   \n",
       "952  “for improvements to auction theory and invent...         1/2   \n",
       "\n",
       "    laureate_type               full_name  birth_date       birth_city  \\\n",
       "961    Individual           Roger Penrose  1931-08-08       Colchester   \n",
       "955    Individual         Charles M. Rice  1952-08-25   Sacramento, CA   \n",
       "950    Individual  Emmanuelle Charpentier  1968-12-11  Juvisy-sur-Orge   \n",
       "951    Individual      Jennifer A. Doudna  1964-02-19   Washington, DC   \n",
       "952    Individual         Paul R. Milgrom  1948-04-20      Detroit, MI   \n",
       "\n",
       "                birth_country     birth_country_current     sex  \\\n",
       "961            United Kingdom            United Kingdom    Male   \n",
       "955  United States of America  United States of America    Male   \n",
       "950                    France                    France  Female   \n",
       "951  United States of America  United States of America  Female   \n",
       "952  United States of America  United States of America    Male   \n",
       "\n",
       "            organization_name organization_city      organization_country  ISO  \n",
       "961      University of Oxford            Oxford            United Kingdom  GBR  \n",
       "955    Rockefeller University      New York, NY  United States of America  USA  \n",
       "950       Max-Planck-Institut            Berlin                   Germany  FRA  \n",
       "951  University of California      Berkeley, CA  United States of America  USA  \n",
       "952       Stanford University      Stanford, CA  United States of America  USA  "
      ]
     },
     "execution_count": 33,
     "metadata": {},
     "output_type": "execute_result"
    }
   ],
   "source": [
    "df_data.sort_values(by=\"year\", ascending=False).head()"
   ]
  },
  {
   "cell_type": "markdown",
   "metadata": {
    "id": "SjA1sZPPMH_Y"
   },
   "source": [
    "**Challange**: \n",
    "* Are there any duplicate values in the dataset?\n",
    "* Are there NaN values in the dataset?\n",
    "* Which columns tend to have NaN values?\n",
    "* How many NaN values are there per column? \n",
    "* Why do these columns have NaN values?  "
   ]
  },
  {
   "cell_type": "markdown",
   "metadata": {
    "id": "q1EuEZV7o7Lb"
   },
   "source": [
    "### Check for Duplicates"
   ]
  },
  {
   "cell_type": "code",
   "execution_count": 34,
   "metadata": {},
   "outputs": [
    {
     "name": "stdout",
     "output_type": "stream",
     "text": [
      "Duplicates? False\n",
      "NaN values? True\n"
     ]
    }
   ],
   "source": [
    "print(f\"Duplicates? {df_data.duplicated().values.any()}\")\n",
    "print(f\"NaN values? {df_data.isna().values.any()}\")"
   ]
  },
  {
   "cell_type": "markdown",
   "metadata": {
    "id": "w69xDtpzo7Ld"
   },
   "source": [
    "### Check for NaN Values"
   ]
  },
  {
   "cell_type": "code",
   "execution_count": 35,
   "metadata": {
    "id": "HgbI5sQNFStg"
   },
   "outputs": [
    {
     "data": {
      "text/html": [
       "<div>\n",
       "<style scoped>\n",
       "    .dataframe tbody tr th:only-of-type {\n",
       "        vertical-align: middle;\n",
       "    }\n",
       "\n",
       "    .dataframe tbody tr th {\n",
       "        vertical-align: top;\n",
       "    }\n",
       "\n",
       "    .dataframe thead th {\n",
       "        text-align: right;\n",
       "    }\n",
       "</style>\n",
       "<table border=\"1\" class=\"dataframe\">\n",
       "  <thead>\n",
       "    <tr style=\"text-align: right;\">\n",
       "      <th></th>\n",
       "      <th>year</th>\n",
       "      <th>category</th>\n",
       "      <th>prize</th>\n",
       "      <th>motivation</th>\n",
       "      <th>prize_share</th>\n",
       "      <th>laureate_type</th>\n",
       "      <th>full_name</th>\n",
       "      <th>birth_date</th>\n",
       "      <th>birth_city</th>\n",
       "      <th>birth_country</th>\n",
       "      <th>birth_country_current</th>\n",
       "      <th>sex</th>\n",
       "      <th>organization_name</th>\n",
       "      <th>organization_city</th>\n",
       "      <th>organization_country</th>\n",
       "      <th>ISO</th>\n",
       "    </tr>\n",
       "  </thead>\n",
       "  <tbody>\n",
       "    <tr>\n",
       "      <th>0</th>\n",
       "      <td>False</td>\n",
       "      <td>False</td>\n",
       "      <td>False</td>\n",
       "      <td>False</td>\n",
       "      <td>False</td>\n",
       "      <td>False</td>\n",
       "      <td>False</td>\n",
       "      <td>False</td>\n",
       "      <td>False</td>\n",
       "      <td>False</td>\n",
       "      <td>False</td>\n",
       "      <td>False</td>\n",
       "      <td>False</td>\n",
       "      <td>False</td>\n",
       "      <td>False</td>\n",
       "      <td>False</td>\n",
       "    </tr>\n",
       "    <tr>\n",
       "      <th>1</th>\n",
       "      <td>False</td>\n",
       "      <td>False</td>\n",
       "      <td>False</td>\n",
       "      <td>False</td>\n",
       "      <td>False</td>\n",
       "      <td>False</td>\n",
       "      <td>False</td>\n",
       "      <td>False</td>\n",
       "      <td>False</td>\n",
       "      <td>False</td>\n",
       "      <td>False</td>\n",
       "      <td>False</td>\n",
       "      <td>True</td>\n",
       "      <td>True</td>\n",
       "      <td>True</td>\n",
       "      <td>False</td>\n",
       "    </tr>\n",
       "    <tr>\n",
       "      <th>2</th>\n",
       "      <td>False</td>\n",
       "      <td>False</td>\n",
       "      <td>False</td>\n",
       "      <td>False</td>\n",
       "      <td>False</td>\n",
       "      <td>False</td>\n",
       "      <td>False</td>\n",
       "      <td>False</td>\n",
       "      <td>False</td>\n",
       "      <td>False</td>\n",
       "      <td>False</td>\n",
       "      <td>False</td>\n",
       "      <td>False</td>\n",
       "      <td>False</td>\n",
       "      <td>False</td>\n",
       "      <td>False</td>\n",
       "    </tr>\n",
       "    <tr>\n",
       "      <th>3</th>\n",
       "      <td>False</td>\n",
       "      <td>False</td>\n",
       "      <td>False</td>\n",
       "      <td>True</td>\n",
       "      <td>False</td>\n",
       "      <td>False</td>\n",
       "      <td>False</td>\n",
       "      <td>False</td>\n",
       "      <td>False</td>\n",
       "      <td>False</td>\n",
       "      <td>False</td>\n",
       "      <td>False</td>\n",
       "      <td>True</td>\n",
       "      <td>True</td>\n",
       "      <td>True</td>\n",
       "      <td>False</td>\n",
       "    </tr>\n",
       "    <tr>\n",
       "      <th>4</th>\n",
       "      <td>False</td>\n",
       "      <td>False</td>\n",
       "      <td>False</td>\n",
       "      <td>True</td>\n",
       "      <td>False</td>\n",
       "      <td>False</td>\n",
       "      <td>False</td>\n",
       "      <td>False</td>\n",
       "      <td>False</td>\n",
       "      <td>False</td>\n",
       "      <td>False</td>\n",
       "      <td>False</td>\n",
       "      <td>True</td>\n",
       "      <td>True</td>\n",
       "      <td>True</td>\n",
       "      <td>False</td>\n",
       "    </tr>\n",
       "    <tr>\n",
       "      <th>...</th>\n",
       "      <td>...</td>\n",
       "      <td>...</td>\n",
       "      <td>...</td>\n",
       "      <td>...</td>\n",
       "      <td>...</td>\n",
       "      <td>...</td>\n",
       "      <td>...</td>\n",
       "      <td>...</td>\n",
       "      <td>...</td>\n",
       "      <td>...</td>\n",
       "      <td>...</td>\n",
       "      <td>...</td>\n",
       "      <td>...</td>\n",
       "      <td>...</td>\n",
       "      <td>...</td>\n",
       "      <td>...</td>\n",
       "    </tr>\n",
       "    <tr>\n",
       "      <th>957</th>\n",
       "      <td>False</td>\n",
       "      <td>False</td>\n",
       "      <td>False</td>\n",
       "      <td>False</td>\n",
       "      <td>False</td>\n",
       "      <td>False</td>\n",
       "      <td>False</td>\n",
       "      <td>False</td>\n",
       "      <td>True</td>\n",
       "      <td>False</td>\n",
       "      <td>False</td>\n",
       "      <td>False</td>\n",
       "      <td>False</td>\n",
       "      <td>False</td>\n",
       "      <td>False</td>\n",
       "      <td>False</td>\n",
       "    </tr>\n",
       "    <tr>\n",
       "      <th>958</th>\n",
       "      <td>False</td>\n",
       "      <td>False</td>\n",
       "      <td>False</td>\n",
       "      <td>False</td>\n",
       "      <td>False</td>\n",
       "      <td>False</td>\n",
       "      <td>False</td>\n",
       "      <td>True</td>\n",
       "      <td>True</td>\n",
       "      <td>True</td>\n",
       "      <td>True</td>\n",
       "      <td>True</td>\n",
       "      <td>True</td>\n",
       "      <td>True</td>\n",
       "      <td>True</td>\n",
       "      <td>True</td>\n",
       "    </tr>\n",
       "    <tr>\n",
       "      <th>959</th>\n",
       "      <td>False</td>\n",
       "      <td>False</td>\n",
       "      <td>False</td>\n",
       "      <td>False</td>\n",
       "      <td>False</td>\n",
       "      <td>False</td>\n",
       "      <td>False</td>\n",
       "      <td>False</td>\n",
       "      <td>False</td>\n",
       "      <td>False</td>\n",
       "      <td>False</td>\n",
       "      <td>False</td>\n",
       "      <td>False</td>\n",
       "      <td>False</td>\n",
       "      <td>False</td>\n",
       "      <td>False</td>\n",
       "    </tr>\n",
       "    <tr>\n",
       "      <th>960</th>\n",
       "      <td>False</td>\n",
       "      <td>False</td>\n",
       "      <td>False</td>\n",
       "      <td>False</td>\n",
       "      <td>False</td>\n",
       "      <td>False</td>\n",
       "      <td>False</td>\n",
       "      <td>False</td>\n",
       "      <td>False</td>\n",
       "      <td>False</td>\n",
       "      <td>False</td>\n",
       "      <td>False</td>\n",
       "      <td>False</td>\n",
       "      <td>False</td>\n",
       "      <td>False</td>\n",
       "      <td>False</td>\n",
       "    </tr>\n",
       "    <tr>\n",
       "      <th>961</th>\n",
       "      <td>False</td>\n",
       "      <td>False</td>\n",
       "      <td>False</td>\n",
       "      <td>False</td>\n",
       "      <td>False</td>\n",
       "      <td>False</td>\n",
       "      <td>False</td>\n",
       "      <td>False</td>\n",
       "      <td>False</td>\n",
       "      <td>False</td>\n",
       "      <td>False</td>\n",
       "      <td>False</td>\n",
       "      <td>False</td>\n",
       "      <td>False</td>\n",
       "      <td>False</td>\n",
       "      <td>False</td>\n",
       "    </tr>\n",
       "  </tbody>\n",
       "</table>\n",
       "<p>962 rows × 16 columns</p>\n",
       "</div>"
      ],
      "text/plain": [
       "      year  category  prize  motivation  prize_share  laureate_type  \\\n",
       "0    False     False  False       False        False          False   \n",
       "1    False     False  False       False        False          False   \n",
       "2    False     False  False       False        False          False   \n",
       "3    False     False  False        True        False          False   \n",
       "4    False     False  False        True        False          False   \n",
       "..     ...       ...    ...         ...          ...            ...   \n",
       "957  False     False  False       False        False          False   \n",
       "958  False     False  False       False        False          False   \n",
       "959  False     False  False       False        False          False   \n",
       "960  False     False  False       False        False          False   \n",
       "961  False     False  False       False        False          False   \n",
       "\n",
       "     full_name  birth_date  birth_city  birth_country  birth_country_current  \\\n",
       "0        False       False       False          False                  False   \n",
       "1        False       False       False          False                  False   \n",
       "2        False       False       False          False                  False   \n",
       "3        False       False       False          False                  False   \n",
       "4        False       False       False          False                  False   \n",
       "..         ...         ...         ...            ...                    ...   \n",
       "957      False       False        True          False                  False   \n",
       "958      False        True        True           True                   True   \n",
       "959      False       False       False          False                  False   \n",
       "960      False       False       False          False                  False   \n",
       "961      False       False       False          False                  False   \n",
       "\n",
       "       sex  organization_name  organization_city  organization_country    ISO  \n",
       "0    False              False              False                 False  False  \n",
       "1    False               True               True                  True  False  \n",
       "2    False              False              False                 False  False  \n",
       "3    False               True               True                  True  False  \n",
       "4    False               True               True                  True  False  \n",
       "..     ...                ...                ...                   ...    ...  \n",
       "957  False              False              False                 False  False  \n",
       "958   True               True               True                  True   True  \n",
       "959  False              False              False                 False  False  \n",
       "960  False              False              False                 False  False  \n",
       "961  False              False              False                 False  False  \n",
       "\n",
       "[962 rows x 16 columns]"
      ]
     },
     "execution_count": 35,
     "metadata": {},
     "output_type": "execute_result"
    }
   ],
   "source": [
    "# Show where some NaN values are happening\n",
    "df_data.isna()"
   ]
  },
  {
   "cell_type": "code",
   "execution_count": 36,
   "metadata": {
    "id": "O2zgruevFSyV"
   },
   "outputs": [
    {
     "data": {
      "text/plain": [
       "year                       0\n",
       "category                   0\n",
       "prize                      0\n",
       "motivation                88\n",
       "prize_share                0\n",
       "laureate_type              0\n",
       "full_name                  0\n",
       "birth_date                28\n",
       "birth_city                31\n",
       "birth_country             28\n",
       "birth_country_current     28\n",
       "sex                       28\n",
       "organization_name        255\n",
       "organization_city        255\n",
       "organization_country     254\n",
       "ISO                       28\n",
       "dtype: int64"
      ]
     },
     "execution_count": 36,
     "metadata": {},
     "output_type": "execute_result"
    }
   ],
   "source": [
    "# Count of NaN vlaues in each column\n",
    "df_data.isna().sum()"
   ]
  },
  {
   "cell_type": "markdown",
   "metadata": {
    "id": "ZyG18tKXo7Lj"
   },
   "source": [
    "### Type Conversions\n",
    "\n",
    "**Challenge**: \n",
    "* Convert the `birth_date` column to Pandas `Datetime` objects\n",
    "* Add a Column called `share_pct` which has the laureates' share as a percentage in the form of a floating-point number."
   ]
  },
  {
   "cell_type": "markdown",
   "metadata": {
    "id": "tTTFo-CXo7Lk"
   },
   "source": [
    "#### Convert Year and Birth Date to Datetime"
   ]
  },
  {
   "cell_type": "code",
   "execution_count": 38,
   "metadata": {},
   "outputs": [
    {
     "data": {
      "text/plain": [
       "year                              int64\n",
       "category                         object\n",
       "prize                            object\n",
       "motivation                       object\n",
       "prize_share                      object\n",
       "laureate_type                    object\n",
       "full_name                        object\n",
       "birth_date               datetime64[ns]\n",
       "birth_city                       object\n",
       "birth_country                    object\n",
       "birth_country_current            object\n",
       "sex                              object\n",
       "organization_name                object\n",
       "organization_city                object\n",
       "organization_country             object\n",
       "ISO                              object\n",
       "dtype: object"
      ]
     },
     "execution_count": 38,
     "metadata": {},
     "output_type": "execute_result"
    }
   ],
   "source": [
    "df_data.dtypes"
   ]
  },
  {
   "cell_type": "markdown",
   "metadata": {
    "id": "i456Gr0io7Lm"
   },
   "source": [
    "#### Add a Column with the Prize Share as a Percentage"
   ]
  },
  {
   "cell_type": "code",
   "execution_count": 41,
   "metadata": {
    "id": "4BNug19-FdHP",
    "scrolled": false
   },
   "outputs": [
    {
     "data": {
      "text/html": [
       "<div>\n",
       "<style scoped>\n",
       "    .dataframe tbody tr th:only-of-type {\n",
       "        vertical-align: middle;\n",
       "    }\n",
       "\n",
       "    .dataframe tbody tr th {\n",
       "        vertical-align: top;\n",
       "    }\n",
       "\n",
       "    .dataframe thead th {\n",
       "        text-align: right;\n",
       "    }\n",
       "</style>\n",
       "<table border=\"1\" class=\"dataframe\">\n",
       "  <thead>\n",
       "    <tr style=\"text-align: right;\">\n",
       "      <th></th>\n",
       "      <th>year</th>\n",
       "      <th>category</th>\n",
       "      <th>prize</th>\n",
       "      <th>motivation</th>\n",
       "      <th>prize_share</th>\n",
       "      <th>laureate_type</th>\n",
       "      <th>full_name</th>\n",
       "      <th>birth_date</th>\n",
       "      <th>birth_city</th>\n",
       "      <th>birth_country</th>\n",
       "      <th>birth_country_current</th>\n",
       "      <th>sex</th>\n",
       "      <th>organization_name</th>\n",
       "      <th>organization_city</th>\n",
       "      <th>organization_country</th>\n",
       "      <th>ISO</th>\n",
       "      <th>share_pct</th>\n",
       "    </tr>\n",
       "  </thead>\n",
       "  <tbody>\n",
       "    <tr>\n",
       "      <th>0</th>\n",
       "      <td>1901</td>\n",
       "      <td>Chemistry</td>\n",
       "      <td>The Nobel Prize in Chemistry 1901</td>\n",
       "      <td>\"in recognition of the extraordinary services ...</td>\n",
       "      <td>1/1</td>\n",
       "      <td>Individual</td>\n",
       "      <td>Jacobus Henricus van 't Hoff</td>\n",
       "      <td>1852-08-30</td>\n",
       "      <td>Rotterdam</td>\n",
       "      <td>Netherlands</td>\n",
       "      <td>Netherlands</td>\n",
       "      <td>Male</td>\n",
       "      <td>Berlin University</td>\n",
       "      <td>Berlin</td>\n",
       "      <td>Germany</td>\n",
       "      <td>NLD</td>\n",
       "      <td>1.00</td>\n",
       "    </tr>\n",
       "    <tr>\n",
       "      <th>1</th>\n",
       "      <td>1901</td>\n",
       "      <td>Literature</td>\n",
       "      <td>The Nobel Prize in Literature 1901</td>\n",
       "      <td>\"in special recognition of his poetic composit...</td>\n",
       "      <td>1/1</td>\n",
       "      <td>Individual</td>\n",
       "      <td>Sully Prudhomme</td>\n",
       "      <td>1839-03-16</td>\n",
       "      <td>Paris</td>\n",
       "      <td>France</td>\n",
       "      <td>France</td>\n",
       "      <td>Male</td>\n",
       "      <td>NaN</td>\n",
       "      <td>NaN</td>\n",
       "      <td>NaN</td>\n",
       "      <td>FRA</td>\n",
       "      <td>1.00</td>\n",
       "    </tr>\n",
       "    <tr>\n",
       "      <th>2</th>\n",
       "      <td>1901</td>\n",
       "      <td>Medicine</td>\n",
       "      <td>The Nobel Prize in Physiology or Medicine 1901</td>\n",
       "      <td>\"for his work on serum therapy, especially its...</td>\n",
       "      <td>1/1</td>\n",
       "      <td>Individual</td>\n",
       "      <td>Emil Adolf von Behring</td>\n",
       "      <td>1854-03-15</td>\n",
       "      <td>Hansdorf (Lawice)</td>\n",
       "      <td>Prussia (Poland)</td>\n",
       "      <td>Poland</td>\n",
       "      <td>Male</td>\n",
       "      <td>Marburg University</td>\n",
       "      <td>Marburg</td>\n",
       "      <td>Germany</td>\n",
       "      <td>POL</td>\n",
       "      <td>1.00</td>\n",
       "    </tr>\n",
       "    <tr>\n",
       "      <th>3</th>\n",
       "      <td>1901</td>\n",
       "      <td>Peace</td>\n",
       "      <td>The Nobel Peace Prize 1901</td>\n",
       "      <td>NaN</td>\n",
       "      <td>1/2</td>\n",
       "      <td>Individual</td>\n",
       "      <td>Frédéric Passy</td>\n",
       "      <td>1822-05-20</td>\n",
       "      <td>Paris</td>\n",
       "      <td>France</td>\n",
       "      <td>France</td>\n",
       "      <td>Male</td>\n",
       "      <td>NaN</td>\n",
       "      <td>NaN</td>\n",
       "      <td>NaN</td>\n",
       "      <td>FRA</td>\n",
       "      <td>0.50</td>\n",
       "    </tr>\n",
       "    <tr>\n",
       "      <th>4</th>\n",
       "      <td>1901</td>\n",
       "      <td>Peace</td>\n",
       "      <td>The Nobel Peace Prize 1901</td>\n",
       "      <td>NaN</td>\n",
       "      <td>1/2</td>\n",
       "      <td>Individual</td>\n",
       "      <td>Jean Henry Dunant</td>\n",
       "      <td>1828-05-08</td>\n",
       "      <td>Geneva</td>\n",
       "      <td>Switzerland</td>\n",
       "      <td>Switzerland</td>\n",
       "      <td>Male</td>\n",
       "      <td>NaN</td>\n",
       "      <td>NaN</td>\n",
       "      <td>NaN</td>\n",
       "      <td>CHE</td>\n",
       "      <td>0.50</td>\n",
       "    </tr>\n",
       "  </tbody>\n",
       "</table>\n",
       "</div>"
      ],
      "text/plain": [
       "   year    category                                           prize  \\\n",
       "0  1901   Chemistry               The Nobel Prize in Chemistry 1901   \n",
       "1  1901  Literature              The Nobel Prize in Literature 1901   \n",
       "2  1901    Medicine  The Nobel Prize in Physiology or Medicine 1901   \n",
       "3  1901       Peace                      The Nobel Peace Prize 1901   \n",
       "4  1901       Peace                      The Nobel Peace Prize 1901   \n",
       "\n",
       "                                          motivation prize_share  \\\n",
       "0  \"in recognition of the extraordinary services ...         1/1   \n",
       "1  \"in special recognition of his poetic composit...         1/1   \n",
       "2  \"for his work on serum therapy, especially its...         1/1   \n",
       "3                                                NaN         1/2   \n",
       "4                                                NaN         1/2   \n",
       "\n",
       "  laureate_type                     full_name birth_date         birth_city  \\\n",
       "0    Individual  Jacobus Henricus van 't Hoff 1852-08-30          Rotterdam   \n",
       "1    Individual               Sully Prudhomme 1839-03-16              Paris   \n",
       "2    Individual        Emil Adolf von Behring 1854-03-15  Hansdorf (Lawice)   \n",
       "3    Individual                Frédéric Passy 1822-05-20              Paris   \n",
       "4    Individual             Jean Henry Dunant 1828-05-08             Geneva   \n",
       "\n",
       "      birth_country birth_country_current   sex   organization_name  \\\n",
       "0       Netherlands           Netherlands  Male   Berlin University   \n",
       "1            France                France  Male                 NaN   \n",
       "2  Prussia (Poland)                Poland  Male  Marburg University   \n",
       "3            France                France  Male                 NaN   \n",
       "4       Switzerland           Switzerland  Male                 NaN   \n",
       "\n",
       "  organization_city organization_country  ISO  share_pct  \n",
       "0            Berlin              Germany  NLD       1.00  \n",
       "1               NaN                  NaN  FRA       1.00  \n",
       "2           Marburg              Germany  POL       1.00  \n",
       "3               NaN                  NaN  FRA       0.50  \n",
       "4               NaN                  NaN  CHE       0.50  "
      ]
     },
     "execution_count": 41,
     "metadata": {},
     "output_type": "execute_result"
    }
   ],
   "source": [
    "df_data[\"birth_date\"] = pd.to_datetime(df_data[\"birth_date\"])\n",
    "\n",
    "separated_values = df_data[\"prize_share\"].str.split(\"/\", expand=True)\n",
    "numerator = pd.to_numeric(separated_values[0])\n",
    "denominator = pd.to_numeric(separated_values[1])\n",
    "df_data[\"share_pct\"] = numerator / denominator\n",
    "\n",
    "df_data.head()"
   ]
  },
  {
   "cell_type": "code",
   "execution_count": 42,
   "metadata": {},
   "outputs": [
    {
     "data": {
      "text/plain": [
       "year                              int64\n",
       "category                         object\n",
       "prize                            object\n",
       "motivation                       object\n",
       "prize_share                      object\n",
       "laureate_type                    object\n",
       "full_name                        object\n",
       "birth_date               datetime64[ns]\n",
       "birth_city                       object\n",
       "birth_country                    object\n",
       "birth_country_current            object\n",
       "sex                              object\n",
       "organization_name                object\n",
       "organization_city                object\n",
       "organization_country             object\n",
       "ISO                              object\n",
       "share_pct                       float64\n",
       "dtype: object"
      ]
     },
     "execution_count": 42,
     "metadata": {},
     "output_type": "execute_result"
    }
   ],
   "source": [
    "df_data.dtypes"
   ]
  },
  {
   "cell_type": "markdown",
   "metadata": {
    "id": "-x571TLao7Lq"
   },
   "source": [
    "# Plotly Donut Chart: Percentage of Male vs. Female Laureates"
   ]
  },
  {
   "cell_type": "markdown",
   "metadata": {
    "id": "Q5jBv1lUo7Lq"
   },
   "source": [
    "**Challenge**: Create a [donut chart using plotly](https://plotly.com/python/pie-charts/) which shows how many prizes went to men compared to how many prizes went to women. What percentage of all the prizes went to women?"
   ]
  },
  {
   "cell_type": "code",
   "execution_count": 46,
   "metadata": {
    "id": "wxTmkQd-Ff3Q"
   },
   "outputs": [
    {
     "data": {
      "application/vnd.plotly.v1+json": {
       "config": {
        "plotlyServerURL": "https://plot.ly"
       },
       "data": [
        {
         "domain": {
          "x": [
           0,
           1
          ],
          "y": [
           0,
           1
          ]
         },
         "hole": 0.5,
         "hovertemplate": "label=%{label}<br>value=%{value}<extra></extra>",
         "labels": [
          "Male",
          "Female"
         ],
         "legendgroup": "",
         "name": "",
         "showlegend": true,
         "textinfo": "percent+label",
         "textposition": "outside",
         "type": "pie",
         "values": [
          876,
          58
         ]
        }
       ],
       "layout": {
        "legend": {
         "tracegroupgap": 0
        },
        "template": {
         "data": {
          "bar": [
           {
            "error_x": {
             "color": "#2a3f5f"
            },
            "error_y": {
             "color": "#2a3f5f"
            },
            "marker": {
             "line": {
              "color": "#E5ECF6",
              "width": 0.5
             },
             "pattern": {
              "fillmode": "overlay",
              "size": 10,
              "solidity": 0.2
             }
            },
            "type": "bar"
           }
          ],
          "barpolar": [
           {
            "marker": {
             "line": {
              "color": "#E5ECF6",
              "width": 0.5
             },
             "pattern": {
              "fillmode": "overlay",
              "size": 10,
              "solidity": 0.2
             }
            },
            "type": "barpolar"
           }
          ],
          "carpet": [
           {
            "aaxis": {
             "endlinecolor": "#2a3f5f",
             "gridcolor": "white",
             "linecolor": "white",
             "minorgridcolor": "white",
             "startlinecolor": "#2a3f5f"
            },
            "baxis": {
             "endlinecolor": "#2a3f5f",
             "gridcolor": "white",
             "linecolor": "white",
             "minorgridcolor": "white",
             "startlinecolor": "#2a3f5f"
            },
            "type": "carpet"
           }
          ],
          "choropleth": [
           {
            "colorbar": {
             "outlinewidth": 0,
             "ticks": ""
            },
            "type": "choropleth"
           }
          ],
          "contour": [
           {
            "colorbar": {
             "outlinewidth": 0,
             "ticks": ""
            },
            "colorscale": [
             [
              0,
              "#0d0887"
             ],
             [
              0.1111111111111111,
              "#46039f"
             ],
             [
              0.2222222222222222,
              "#7201a8"
             ],
             [
              0.3333333333333333,
              "#9c179e"
             ],
             [
              0.4444444444444444,
              "#bd3786"
             ],
             [
              0.5555555555555556,
              "#d8576b"
             ],
             [
              0.6666666666666666,
              "#ed7953"
             ],
             [
              0.7777777777777778,
              "#fb9f3a"
             ],
             [
              0.8888888888888888,
              "#fdca26"
             ],
             [
              1,
              "#f0f921"
             ]
            ],
            "type": "contour"
           }
          ],
          "contourcarpet": [
           {
            "colorbar": {
             "outlinewidth": 0,
             "ticks": ""
            },
            "type": "contourcarpet"
           }
          ],
          "heatmap": [
           {
            "colorbar": {
             "outlinewidth": 0,
             "ticks": ""
            },
            "colorscale": [
             [
              0,
              "#0d0887"
             ],
             [
              0.1111111111111111,
              "#46039f"
             ],
             [
              0.2222222222222222,
              "#7201a8"
             ],
             [
              0.3333333333333333,
              "#9c179e"
             ],
             [
              0.4444444444444444,
              "#bd3786"
             ],
             [
              0.5555555555555556,
              "#d8576b"
             ],
             [
              0.6666666666666666,
              "#ed7953"
             ],
             [
              0.7777777777777778,
              "#fb9f3a"
             ],
             [
              0.8888888888888888,
              "#fdca26"
             ],
             [
              1,
              "#f0f921"
             ]
            ],
            "type": "heatmap"
           }
          ],
          "heatmapgl": [
           {
            "colorbar": {
             "outlinewidth": 0,
             "ticks": ""
            },
            "colorscale": [
             [
              0,
              "#0d0887"
             ],
             [
              0.1111111111111111,
              "#46039f"
             ],
             [
              0.2222222222222222,
              "#7201a8"
             ],
             [
              0.3333333333333333,
              "#9c179e"
             ],
             [
              0.4444444444444444,
              "#bd3786"
             ],
             [
              0.5555555555555556,
              "#d8576b"
             ],
             [
              0.6666666666666666,
              "#ed7953"
             ],
             [
              0.7777777777777778,
              "#fb9f3a"
             ],
             [
              0.8888888888888888,
              "#fdca26"
             ],
             [
              1,
              "#f0f921"
             ]
            ],
            "type": "heatmapgl"
           }
          ],
          "histogram": [
           {
            "marker": {
             "pattern": {
              "fillmode": "overlay",
              "size": 10,
              "solidity": 0.2
             }
            },
            "type": "histogram"
           }
          ],
          "histogram2d": [
           {
            "colorbar": {
             "outlinewidth": 0,
             "ticks": ""
            },
            "colorscale": [
             [
              0,
              "#0d0887"
             ],
             [
              0.1111111111111111,
              "#46039f"
             ],
             [
              0.2222222222222222,
              "#7201a8"
             ],
             [
              0.3333333333333333,
              "#9c179e"
             ],
             [
              0.4444444444444444,
              "#bd3786"
             ],
             [
              0.5555555555555556,
              "#d8576b"
             ],
             [
              0.6666666666666666,
              "#ed7953"
             ],
             [
              0.7777777777777778,
              "#fb9f3a"
             ],
             [
              0.8888888888888888,
              "#fdca26"
             ],
             [
              1,
              "#f0f921"
             ]
            ],
            "type": "histogram2d"
           }
          ],
          "histogram2dcontour": [
           {
            "colorbar": {
             "outlinewidth": 0,
             "ticks": ""
            },
            "colorscale": [
             [
              0,
              "#0d0887"
             ],
             [
              0.1111111111111111,
              "#46039f"
             ],
             [
              0.2222222222222222,
              "#7201a8"
             ],
             [
              0.3333333333333333,
              "#9c179e"
             ],
             [
              0.4444444444444444,
              "#bd3786"
             ],
             [
              0.5555555555555556,
              "#d8576b"
             ],
             [
              0.6666666666666666,
              "#ed7953"
             ],
             [
              0.7777777777777778,
              "#fb9f3a"
             ],
             [
              0.8888888888888888,
              "#fdca26"
             ],
             [
              1,
              "#f0f921"
             ]
            ],
            "type": "histogram2dcontour"
           }
          ],
          "mesh3d": [
           {
            "colorbar": {
             "outlinewidth": 0,
             "ticks": ""
            },
            "type": "mesh3d"
           }
          ],
          "parcoords": [
           {
            "line": {
             "colorbar": {
              "outlinewidth": 0,
              "ticks": ""
             }
            },
            "type": "parcoords"
           }
          ],
          "pie": [
           {
            "automargin": true,
            "type": "pie"
           }
          ],
          "scatter": [
           {
            "fillpattern": {
             "fillmode": "overlay",
             "size": 10,
             "solidity": 0.2
            },
            "type": "scatter"
           }
          ],
          "scatter3d": [
           {
            "line": {
             "colorbar": {
              "outlinewidth": 0,
              "ticks": ""
             }
            },
            "marker": {
             "colorbar": {
              "outlinewidth": 0,
              "ticks": ""
             }
            },
            "type": "scatter3d"
           }
          ],
          "scattercarpet": [
           {
            "marker": {
             "colorbar": {
              "outlinewidth": 0,
              "ticks": ""
             }
            },
            "type": "scattercarpet"
           }
          ],
          "scattergeo": [
           {
            "marker": {
             "colorbar": {
              "outlinewidth": 0,
              "ticks": ""
             }
            },
            "type": "scattergeo"
           }
          ],
          "scattergl": [
           {
            "marker": {
             "colorbar": {
              "outlinewidth": 0,
              "ticks": ""
             }
            },
            "type": "scattergl"
           }
          ],
          "scattermapbox": [
           {
            "marker": {
             "colorbar": {
              "outlinewidth": 0,
              "ticks": ""
             }
            },
            "type": "scattermapbox"
           }
          ],
          "scatterpolar": [
           {
            "marker": {
             "colorbar": {
              "outlinewidth": 0,
              "ticks": ""
             }
            },
            "type": "scatterpolar"
           }
          ],
          "scatterpolargl": [
           {
            "marker": {
             "colorbar": {
              "outlinewidth": 0,
              "ticks": ""
             }
            },
            "type": "scatterpolargl"
           }
          ],
          "scatterternary": [
           {
            "marker": {
             "colorbar": {
              "outlinewidth": 0,
              "ticks": ""
             }
            },
            "type": "scatterternary"
           }
          ],
          "surface": [
           {
            "colorbar": {
             "outlinewidth": 0,
             "ticks": ""
            },
            "colorscale": [
             [
              0,
              "#0d0887"
             ],
             [
              0.1111111111111111,
              "#46039f"
             ],
             [
              0.2222222222222222,
              "#7201a8"
             ],
             [
              0.3333333333333333,
              "#9c179e"
             ],
             [
              0.4444444444444444,
              "#bd3786"
             ],
             [
              0.5555555555555556,
              "#d8576b"
             ],
             [
              0.6666666666666666,
              "#ed7953"
             ],
             [
              0.7777777777777778,
              "#fb9f3a"
             ],
             [
              0.8888888888888888,
              "#fdca26"
             ],
             [
              1,
              "#f0f921"
             ]
            ],
            "type": "surface"
           }
          ],
          "table": [
           {
            "cells": {
             "fill": {
              "color": "#EBF0F8"
             },
             "line": {
              "color": "white"
             }
            },
            "header": {
             "fill": {
              "color": "#C8D4E3"
             },
             "line": {
              "color": "white"
             }
            },
            "type": "table"
           }
          ]
         },
         "layout": {
          "annotationdefaults": {
           "arrowcolor": "#2a3f5f",
           "arrowhead": 0,
           "arrowwidth": 1
          },
          "autotypenumbers": "strict",
          "coloraxis": {
           "colorbar": {
            "outlinewidth": 0,
            "ticks": ""
           }
          },
          "colorscale": {
           "diverging": [
            [
             0,
             "#8e0152"
            ],
            [
             0.1,
             "#c51b7d"
            ],
            [
             0.2,
             "#de77ae"
            ],
            [
             0.3,
             "#f1b6da"
            ],
            [
             0.4,
             "#fde0ef"
            ],
            [
             0.5,
             "#f7f7f7"
            ],
            [
             0.6,
             "#e6f5d0"
            ],
            [
             0.7,
             "#b8e186"
            ],
            [
             0.8,
             "#7fbc41"
            ],
            [
             0.9,
             "#4d9221"
            ],
            [
             1,
             "#276419"
            ]
           ],
           "sequential": [
            [
             0,
             "#0d0887"
            ],
            [
             0.1111111111111111,
             "#46039f"
            ],
            [
             0.2222222222222222,
             "#7201a8"
            ],
            [
             0.3333333333333333,
             "#9c179e"
            ],
            [
             0.4444444444444444,
             "#bd3786"
            ],
            [
             0.5555555555555556,
             "#d8576b"
            ],
            [
             0.6666666666666666,
             "#ed7953"
            ],
            [
             0.7777777777777778,
             "#fb9f3a"
            ],
            [
             0.8888888888888888,
             "#fdca26"
            ],
            [
             1,
             "#f0f921"
            ]
           ],
           "sequentialminus": [
            [
             0,
             "#0d0887"
            ],
            [
             0.1111111111111111,
             "#46039f"
            ],
            [
             0.2222222222222222,
             "#7201a8"
            ],
            [
             0.3333333333333333,
             "#9c179e"
            ],
            [
             0.4444444444444444,
             "#bd3786"
            ],
            [
             0.5555555555555556,
             "#d8576b"
            ],
            [
             0.6666666666666666,
             "#ed7953"
            ],
            [
             0.7777777777777778,
             "#fb9f3a"
            ],
            [
             0.8888888888888888,
             "#fdca26"
            ],
            [
             1,
             "#f0f921"
            ]
           ]
          },
          "colorway": [
           "#636efa",
           "#EF553B",
           "#00cc96",
           "#ab63fa",
           "#FFA15A",
           "#19d3f3",
           "#FF6692",
           "#B6E880",
           "#FF97FF",
           "#FECB52"
          ],
          "font": {
           "color": "#2a3f5f"
          },
          "geo": {
           "bgcolor": "white",
           "lakecolor": "white",
           "landcolor": "#E5ECF6",
           "showlakes": true,
           "showland": true,
           "subunitcolor": "white"
          },
          "hoverlabel": {
           "align": "left"
          },
          "hovermode": "closest",
          "mapbox": {
           "style": "light"
          },
          "paper_bgcolor": "white",
          "plot_bgcolor": "#E5ECF6",
          "polar": {
           "angularaxis": {
            "gridcolor": "white",
            "linecolor": "white",
            "ticks": ""
           },
           "bgcolor": "#E5ECF6",
           "radialaxis": {
            "gridcolor": "white",
            "linecolor": "white",
            "ticks": ""
           }
          },
          "scene": {
           "xaxis": {
            "backgroundcolor": "#E5ECF6",
            "gridcolor": "white",
            "gridwidth": 2,
            "linecolor": "white",
            "showbackground": true,
            "ticks": "",
            "zerolinecolor": "white"
           },
           "yaxis": {
            "backgroundcolor": "#E5ECF6",
            "gridcolor": "white",
            "gridwidth": 2,
            "linecolor": "white",
            "showbackground": true,
            "ticks": "",
            "zerolinecolor": "white"
           },
           "zaxis": {
            "backgroundcolor": "#E5ECF6",
            "gridcolor": "white",
            "gridwidth": 2,
            "linecolor": "white",
            "showbackground": true,
            "ticks": "",
            "zerolinecolor": "white"
           }
          },
          "shapedefaults": {
           "line": {
            "color": "#2a3f5f"
           }
          },
          "ternary": {
           "aaxis": {
            "gridcolor": "white",
            "linecolor": "white",
            "ticks": ""
           },
           "baxis": {
            "gridcolor": "white",
            "linecolor": "white",
            "ticks": ""
           },
           "bgcolor": "#E5ECF6",
           "caxis": {
            "gridcolor": "white",
            "linecolor": "white",
            "ticks": ""
           }
          },
          "title": {
           "x": 0.05
          },
          "xaxis": {
           "automargin": true,
           "gridcolor": "white",
           "linecolor": "white",
           "ticks": "",
           "title": {
            "standoff": 15
           },
           "zerolinecolor": "white",
           "zerolinewidth": 2
          },
          "yaxis": {
           "automargin": true,
           "gridcolor": "white",
           "linecolor": "white",
           "ticks": "",
           "title": {
            "standoff": 15
           },
           "zerolinecolor": "white",
           "zerolinewidth": 2
          }
         }
        },
        "title": {
         "text": "Percentage of Male vs Femaile Laureates"
        }
       }
      },
      "text/html": [
       "<div>                            <div id=\"7a17f36a-ff4a-439f-b177-d6e5c0cc0f1e\" class=\"plotly-graph-div\" style=\"height:525px; width:100%;\"></div>            <script type=\"text/javascript\">                require([\"plotly\"], function(Plotly) {                    window.PLOTLYENV=window.PLOTLYENV || {};                                    if (document.getElementById(\"7a17f36a-ff4a-439f-b177-d6e5c0cc0f1e\")) {                    Plotly.newPlot(                        \"7a17f36a-ff4a-439f-b177-d6e5c0cc0f1e\",                        [{\"domain\":{\"x\":[0.0,1.0],\"y\":[0.0,1.0]},\"hole\":0.5,\"hovertemplate\":\"label=%{label}<br>value=%{value}<extra></extra>\",\"labels\":[\"Male\",\"Female\"],\"legendgroup\":\"\",\"name\":\"\",\"showlegend\":true,\"values\":[876,58],\"type\":\"pie\",\"textinfo\":\"percent+label\",\"textposition\":\"outside\"}],                        {\"template\":{\"data\":{\"histogram2dcontour\":[{\"type\":\"histogram2dcontour\",\"colorbar\":{\"outlinewidth\":0,\"ticks\":\"\"},\"colorscale\":[[0.0,\"#0d0887\"],[0.1111111111111111,\"#46039f\"],[0.2222222222222222,\"#7201a8\"],[0.3333333333333333,\"#9c179e\"],[0.4444444444444444,\"#bd3786\"],[0.5555555555555556,\"#d8576b\"],[0.6666666666666666,\"#ed7953\"],[0.7777777777777778,\"#fb9f3a\"],[0.8888888888888888,\"#fdca26\"],[1.0,\"#f0f921\"]]}],\"choropleth\":[{\"type\":\"choropleth\",\"colorbar\":{\"outlinewidth\":0,\"ticks\":\"\"}}],\"histogram2d\":[{\"type\":\"histogram2d\",\"colorbar\":{\"outlinewidth\":0,\"ticks\":\"\"},\"colorscale\":[[0.0,\"#0d0887\"],[0.1111111111111111,\"#46039f\"],[0.2222222222222222,\"#7201a8\"],[0.3333333333333333,\"#9c179e\"],[0.4444444444444444,\"#bd3786\"],[0.5555555555555556,\"#d8576b\"],[0.6666666666666666,\"#ed7953\"],[0.7777777777777778,\"#fb9f3a\"],[0.8888888888888888,\"#fdca26\"],[1.0,\"#f0f921\"]]}],\"heatmap\":[{\"type\":\"heatmap\",\"colorbar\":{\"outlinewidth\":0,\"ticks\":\"\"},\"colorscale\":[[0.0,\"#0d0887\"],[0.1111111111111111,\"#46039f\"],[0.2222222222222222,\"#7201a8\"],[0.3333333333333333,\"#9c179e\"],[0.4444444444444444,\"#bd3786\"],[0.5555555555555556,\"#d8576b\"],[0.6666666666666666,\"#ed7953\"],[0.7777777777777778,\"#fb9f3a\"],[0.8888888888888888,\"#fdca26\"],[1.0,\"#f0f921\"]]}],\"heatmapgl\":[{\"type\":\"heatmapgl\",\"colorbar\":{\"outlinewidth\":0,\"ticks\":\"\"},\"colorscale\":[[0.0,\"#0d0887\"],[0.1111111111111111,\"#46039f\"],[0.2222222222222222,\"#7201a8\"],[0.3333333333333333,\"#9c179e\"],[0.4444444444444444,\"#bd3786\"],[0.5555555555555556,\"#d8576b\"],[0.6666666666666666,\"#ed7953\"],[0.7777777777777778,\"#fb9f3a\"],[0.8888888888888888,\"#fdca26\"],[1.0,\"#f0f921\"]]}],\"contourcarpet\":[{\"type\":\"contourcarpet\",\"colorbar\":{\"outlinewidth\":0,\"ticks\":\"\"}}],\"contour\":[{\"type\":\"contour\",\"colorbar\":{\"outlinewidth\":0,\"ticks\":\"\"},\"colorscale\":[[0.0,\"#0d0887\"],[0.1111111111111111,\"#46039f\"],[0.2222222222222222,\"#7201a8\"],[0.3333333333333333,\"#9c179e\"],[0.4444444444444444,\"#bd3786\"],[0.5555555555555556,\"#d8576b\"],[0.6666666666666666,\"#ed7953\"],[0.7777777777777778,\"#fb9f3a\"],[0.8888888888888888,\"#fdca26\"],[1.0,\"#f0f921\"]]}],\"surface\":[{\"type\":\"surface\",\"colorbar\":{\"outlinewidth\":0,\"ticks\":\"\"},\"colorscale\":[[0.0,\"#0d0887\"],[0.1111111111111111,\"#46039f\"],[0.2222222222222222,\"#7201a8\"],[0.3333333333333333,\"#9c179e\"],[0.4444444444444444,\"#bd3786\"],[0.5555555555555556,\"#d8576b\"],[0.6666666666666666,\"#ed7953\"],[0.7777777777777778,\"#fb9f3a\"],[0.8888888888888888,\"#fdca26\"],[1.0,\"#f0f921\"]]}],\"mesh3d\":[{\"type\":\"mesh3d\",\"colorbar\":{\"outlinewidth\":0,\"ticks\":\"\"}}],\"scatter\":[{\"fillpattern\":{\"fillmode\":\"overlay\",\"size\":10,\"solidity\":0.2},\"type\":\"scatter\"}],\"parcoords\":[{\"type\":\"parcoords\",\"line\":{\"colorbar\":{\"outlinewidth\":0,\"ticks\":\"\"}}}],\"scatterpolargl\":[{\"type\":\"scatterpolargl\",\"marker\":{\"colorbar\":{\"outlinewidth\":0,\"ticks\":\"\"}}}],\"bar\":[{\"error_x\":{\"color\":\"#2a3f5f\"},\"error_y\":{\"color\":\"#2a3f5f\"},\"marker\":{\"line\":{\"color\":\"#E5ECF6\",\"width\":0.5},\"pattern\":{\"fillmode\":\"overlay\",\"size\":10,\"solidity\":0.2}},\"type\":\"bar\"}],\"scattergeo\":[{\"type\":\"scattergeo\",\"marker\":{\"colorbar\":{\"outlinewidth\":0,\"ticks\":\"\"}}}],\"scatterpolar\":[{\"type\":\"scatterpolar\",\"marker\":{\"colorbar\":{\"outlinewidth\":0,\"ticks\":\"\"}}}],\"histogram\":[{\"marker\":{\"pattern\":{\"fillmode\":\"overlay\",\"size\":10,\"solidity\":0.2}},\"type\":\"histogram\"}],\"scattergl\":[{\"type\":\"scattergl\",\"marker\":{\"colorbar\":{\"outlinewidth\":0,\"ticks\":\"\"}}}],\"scatter3d\":[{\"type\":\"scatter3d\",\"line\":{\"colorbar\":{\"outlinewidth\":0,\"ticks\":\"\"}},\"marker\":{\"colorbar\":{\"outlinewidth\":0,\"ticks\":\"\"}}}],\"scattermapbox\":[{\"type\":\"scattermapbox\",\"marker\":{\"colorbar\":{\"outlinewidth\":0,\"ticks\":\"\"}}}],\"scatterternary\":[{\"type\":\"scatterternary\",\"marker\":{\"colorbar\":{\"outlinewidth\":0,\"ticks\":\"\"}}}],\"scattercarpet\":[{\"type\":\"scattercarpet\",\"marker\":{\"colorbar\":{\"outlinewidth\":0,\"ticks\":\"\"}}}],\"carpet\":[{\"aaxis\":{\"endlinecolor\":\"#2a3f5f\",\"gridcolor\":\"white\",\"linecolor\":\"white\",\"minorgridcolor\":\"white\",\"startlinecolor\":\"#2a3f5f\"},\"baxis\":{\"endlinecolor\":\"#2a3f5f\",\"gridcolor\":\"white\",\"linecolor\":\"white\",\"minorgridcolor\":\"white\",\"startlinecolor\":\"#2a3f5f\"},\"type\":\"carpet\"}],\"table\":[{\"cells\":{\"fill\":{\"color\":\"#EBF0F8\"},\"line\":{\"color\":\"white\"}},\"header\":{\"fill\":{\"color\":\"#C8D4E3\"},\"line\":{\"color\":\"white\"}},\"type\":\"table\"}],\"barpolar\":[{\"marker\":{\"line\":{\"color\":\"#E5ECF6\",\"width\":0.5},\"pattern\":{\"fillmode\":\"overlay\",\"size\":10,\"solidity\":0.2}},\"type\":\"barpolar\"}],\"pie\":[{\"automargin\":true,\"type\":\"pie\"}]},\"layout\":{\"autotypenumbers\":\"strict\",\"colorway\":[\"#636efa\",\"#EF553B\",\"#00cc96\",\"#ab63fa\",\"#FFA15A\",\"#19d3f3\",\"#FF6692\",\"#B6E880\",\"#FF97FF\",\"#FECB52\"],\"font\":{\"color\":\"#2a3f5f\"},\"hovermode\":\"closest\",\"hoverlabel\":{\"align\":\"left\"},\"paper_bgcolor\":\"white\",\"plot_bgcolor\":\"#E5ECF6\",\"polar\":{\"bgcolor\":\"#E5ECF6\",\"angularaxis\":{\"gridcolor\":\"white\",\"linecolor\":\"white\",\"ticks\":\"\"},\"radialaxis\":{\"gridcolor\":\"white\",\"linecolor\":\"white\",\"ticks\":\"\"}},\"ternary\":{\"bgcolor\":\"#E5ECF6\",\"aaxis\":{\"gridcolor\":\"white\",\"linecolor\":\"white\",\"ticks\":\"\"},\"baxis\":{\"gridcolor\":\"white\",\"linecolor\":\"white\",\"ticks\":\"\"},\"caxis\":{\"gridcolor\":\"white\",\"linecolor\":\"white\",\"ticks\":\"\"}},\"coloraxis\":{\"colorbar\":{\"outlinewidth\":0,\"ticks\":\"\"}},\"colorscale\":{\"sequential\":[[0.0,\"#0d0887\"],[0.1111111111111111,\"#46039f\"],[0.2222222222222222,\"#7201a8\"],[0.3333333333333333,\"#9c179e\"],[0.4444444444444444,\"#bd3786\"],[0.5555555555555556,\"#d8576b\"],[0.6666666666666666,\"#ed7953\"],[0.7777777777777778,\"#fb9f3a\"],[0.8888888888888888,\"#fdca26\"],[1.0,\"#f0f921\"]],\"sequentialminus\":[[0.0,\"#0d0887\"],[0.1111111111111111,\"#46039f\"],[0.2222222222222222,\"#7201a8\"],[0.3333333333333333,\"#9c179e\"],[0.4444444444444444,\"#bd3786\"],[0.5555555555555556,\"#d8576b\"],[0.6666666666666666,\"#ed7953\"],[0.7777777777777778,\"#fb9f3a\"],[0.8888888888888888,\"#fdca26\"],[1.0,\"#f0f921\"]],\"diverging\":[[0,\"#8e0152\"],[0.1,\"#c51b7d\"],[0.2,\"#de77ae\"],[0.3,\"#f1b6da\"],[0.4,\"#fde0ef\"],[0.5,\"#f7f7f7\"],[0.6,\"#e6f5d0\"],[0.7,\"#b8e186\"],[0.8,\"#7fbc41\"],[0.9,\"#4d9221\"],[1,\"#276419\"]]},\"xaxis\":{\"gridcolor\":\"white\",\"linecolor\":\"white\",\"ticks\":\"\",\"title\":{\"standoff\":15},\"zerolinecolor\":\"white\",\"automargin\":true,\"zerolinewidth\":2},\"yaxis\":{\"gridcolor\":\"white\",\"linecolor\":\"white\",\"ticks\":\"\",\"title\":{\"standoff\":15},\"zerolinecolor\":\"white\",\"automargin\":true,\"zerolinewidth\":2},\"scene\":{\"xaxis\":{\"backgroundcolor\":\"#E5ECF6\",\"gridcolor\":\"white\",\"linecolor\":\"white\",\"showbackground\":true,\"ticks\":\"\",\"zerolinecolor\":\"white\",\"gridwidth\":2},\"yaxis\":{\"backgroundcolor\":\"#E5ECF6\",\"gridcolor\":\"white\",\"linecolor\":\"white\",\"showbackground\":true,\"ticks\":\"\",\"zerolinecolor\":\"white\",\"gridwidth\":2},\"zaxis\":{\"backgroundcolor\":\"#E5ECF6\",\"gridcolor\":\"white\",\"linecolor\":\"white\",\"showbackground\":true,\"ticks\":\"\",\"zerolinecolor\":\"white\",\"gridwidth\":2}},\"shapedefaults\":{\"line\":{\"color\":\"#2a3f5f\"}},\"annotationdefaults\":{\"arrowcolor\":\"#2a3f5f\",\"arrowhead\":0,\"arrowwidth\":1},\"geo\":{\"bgcolor\":\"white\",\"landcolor\":\"#E5ECF6\",\"subunitcolor\":\"white\",\"showland\":true,\"showlakes\":true,\"lakecolor\":\"white\"},\"title\":{\"x\":0.05},\"mapbox\":{\"style\":\"light\"}}},\"legend\":{\"tracegroupgap\":0},\"title\":{\"text\":\"Percentage of Male vs Femaile Laureates\"}},                        {\"responsive\": true}                    ).then(function(){\n",
       "                            \n",
       "var gd = document.getElementById('7a17f36a-ff4a-439f-b177-d6e5c0cc0f1e');\n",
       "var x = new MutationObserver(function (mutations, observer) {{\n",
       "        var display = window.getComputedStyle(gd).display;\n",
       "        if (!display || display === 'none') {{\n",
       "            console.log([gd, 'removed!']);\n",
       "            Plotly.purge(gd);\n",
       "            observer.disconnect();\n",
       "        }}\n",
       "}});\n",
       "\n",
       "// Listen for the removal of the full notebook cells\n",
       "var notebookContainer = gd.closest('#notebook-container');\n",
       "if (notebookContainer) {{\n",
       "    x.observe(notebookContainer, {childList: true});\n",
       "}}\n",
       "\n",
       "// Listen for the clearing of the current output cell\n",
       "var outputEl = gd.closest('.output');\n",
       "if (outputEl) {{\n",
       "    x.observe(outputEl, {childList: true});\n",
       "}}\n",
       "\n",
       "                        })                };                });            </script>        </div>"
      ]
     },
     "metadata": {},
     "output_type": "display_data"
    }
   ],
   "source": [
    "genders = df_data[\"sex\"].value_counts()\n",
    "\n",
    "fig = px.pie(\n",
    "    labels=genders.index,\n",
    "    values=genders.values,\n",
    "    title=\"Percentage of Male vs Femaile Laureates\",\n",
    "    names=genders.index,\n",
    "    hole=0.5\n",
    ")\n",
    "\n",
    "fig.update_traces(textposition=\"outside\", textinfo=\"percent+label\")\n",
    "fig.show()"
   ]
  },
  {
   "cell_type": "markdown",
   "metadata": {
    "dc": {
     "key": "38"
    },
    "id": "dmdB0tCko7Lu",
    "run_control": {
     "frozen": true
    },
    "tags": [
     "context"
    ]
   },
   "source": [
    "# Who were the first 3 Women to Win the Nobel Prize?\n",
    "\n",
    "**Challenge**: \n",
    "* What are the names of the first 3 female Nobel laureates? \n",
    "* What did the win the prize for? \n",
    "* What do you see in their `birth_country`? Were they part of an organisation?"
   ]
  },
  {
   "cell_type": "code",
   "execution_count": 52,
   "metadata": {
    "id": "nk5h-XFcFiJp",
    "scrolled": false
   },
   "outputs": [
    {
     "data": {
      "text/html": [
       "<div>\n",
       "<style scoped>\n",
       "    .dataframe tbody tr th:only-of-type {\n",
       "        vertical-align: middle;\n",
       "    }\n",
       "\n",
       "    .dataframe tbody tr th {\n",
       "        vertical-align: top;\n",
       "    }\n",
       "\n",
       "    .dataframe thead th {\n",
       "        text-align: right;\n",
       "    }\n",
       "</style>\n",
       "<table border=\"1\" class=\"dataframe\">\n",
       "  <thead>\n",
       "    <tr style=\"text-align: right;\">\n",
       "      <th></th>\n",
       "      <th>year</th>\n",
       "      <th>category</th>\n",
       "      <th>prize</th>\n",
       "      <th>motivation</th>\n",
       "      <th>prize_share</th>\n",
       "      <th>laureate_type</th>\n",
       "      <th>full_name</th>\n",
       "      <th>birth_date</th>\n",
       "      <th>birth_city</th>\n",
       "      <th>birth_country</th>\n",
       "      <th>birth_country_current</th>\n",
       "      <th>sex</th>\n",
       "      <th>organization_name</th>\n",
       "      <th>organization_city</th>\n",
       "      <th>organization_country</th>\n",
       "      <th>ISO</th>\n",
       "      <th>share_pct</th>\n",
       "    </tr>\n",
       "  </thead>\n",
       "  <tbody>\n",
       "    <tr>\n",
       "      <th>18</th>\n",
       "      <td>1903</td>\n",
       "      <td>Physics</td>\n",
       "      <td>The Nobel Prize in Physics 1903</td>\n",
       "      <td>\"in recognition of the extraordinary services ...</td>\n",
       "      <td>1/4</td>\n",
       "      <td>Individual</td>\n",
       "      <td>Marie Curie, née Sklodowska</td>\n",
       "      <td>1867-11-07</td>\n",
       "      <td>Warsaw</td>\n",
       "      <td>Russian Empire (Poland)</td>\n",
       "      <td>Poland</td>\n",
       "      <td>Female</td>\n",
       "      <td>NaN</td>\n",
       "      <td>NaN</td>\n",
       "      <td>NaN</td>\n",
       "      <td>POL</td>\n",
       "      <td>0.25</td>\n",
       "    </tr>\n",
       "    <tr>\n",
       "      <th>29</th>\n",
       "      <td>1905</td>\n",
       "      <td>Peace</td>\n",
       "      <td>The Nobel Peace Prize 1905</td>\n",
       "      <td>NaN</td>\n",
       "      <td>1/1</td>\n",
       "      <td>Individual</td>\n",
       "      <td>Baroness Bertha Sophie Felicita von Suttner, n...</td>\n",
       "      <td>1843-06-09</td>\n",
       "      <td>Prague</td>\n",
       "      <td>Austrian Empire (Czech Republic)</td>\n",
       "      <td>Czech Republic</td>\n",
       "      <td>Female</td>\n",
       "      <td>NaN</td>\n",
       "      <td>NaN</td>\n",
       "      <td>NaN</td>\n",
       "      <td>CZE</td>\n",
       "      <td>1.00</td>\n",
       "    </tr>\n",
       "    <tr>\n",
       "      <th>51</th>\n",
       "      <td>1909</td>\n",
       "      <td>Literature</td>\n",
       "      <td>The Nobel Prize in Literature 1909</td>\n",
       "      <td>\"in appreciation of the lofty idealism, vivid ...</td>\n",
       "      <td>1/1</td>\n",
       "      <td>Individual</td>\n",
       "      <td>Selma Ottilia Lovisa Lagerlöf</td>\n",
       "      <td>1858-11-20</td>\n",
       "      <td>Mårbacka</td>\n",
       "      <td>Sweden</td>\n",
       "      <td>Sweden</td>\n",
       "      <td>Female</td>\n",
       "      <td>NaN</td>\n",
       "      <td>NaN</td>\n",
       "      <td>NaN</td>\n",
       "      <td>SWE</td>\n",
       "      <td>1.00</td>\n",
       "    </tr>\n",
       "  </tbody>\n",
       "</table>\n",
       "</div>"
      ],
      "text/plain": [
       "    year    category                               prize  \\\n",
       "18  1903     Physics     The Nobel Prize in Physics 1903   \n",
       "29  1905       Peace          The Nobel Peace Prize 1905   \n",
       "51  1909  Literature  The Nobel Prize in Literature 1909   \n",
       "\n",
       "                                           motivation prize_share  \\\n",
       "18  \"in recognition of the extraordinary services ...         1/4   \n",
       "29                                                NaN         1/1   \n",
       "51  \"in appreciation of the lofty idealism, vivid ...         1/1   \n",
       "\n",
       "   laureate_type                                          full_name  \\\n",
       "18    Individual                        Marie Curie, née Sklodowska   \n",
       "29    Individual  Baroness Bertha Sophie Felicita von Suttner, n...   \n",
       "51    Individual                      Selma Ottilia Lovisa Lagerlöf   \n",
       "\n",
       "   birth_date birth_city                     birth_country  \\\n",
       "18 1867-11-07     Warsaw           Russian Empire (Poland)   \n",
       "29 1843-06-09     Prague  Austrian Empire (Czech Republic)   \n",
       "51 1858-11-20   Mårbacka                            Sweden   \n",
       "\n",
       "   birth_country_current     sex organization_name organization_city  \\\n",
       "18                Poland  Female               NaN               NaN   \n",
       "29        Czech Republic  Female               NaN               NaN   \n",
       "51                Sweden  Female               NaN               NaN   \n",
       "\n",
       "   organization_country  ISO  share_pct  \n",
       "18                  NaN  POL       0.25  \n",
       "29                  NaN  CZE       1.00  \n",
       "51                  NaN  SWE       1.00  "
      ]
     },
     "execution_count": 52,
     "metadata": {},
     "output_type": "execute_result"
    }
   ],
   "source": [
    "top_3_ladies = df_data[df_data[\"sex\"] == \"Female\"].sort_values(by=\"year\", ascending=True)\n",
    "top_3_ladies.head(3)"
   ]
  },
  {
   "cell_type": "markdown",
   "metadata": {
    "id": "dPVD_f1oo7Lw"
   },
   "source": [
    "# Find the Repeat Winners\n",
    "\n",
    "**Challenge**: Did some people get a Nobel Prize more than once? If so, who were they? "
   ]
  },
  {
   "cell_type": "code",
   "execution_count": 60,
   "metadata": {
    "id": "Qqf8_dWUFjpz"
   },
   "outputs": [
    {
     "data": {
      "text/plain": [
       "18                           Marie Curie, née Sklodowska\n",
       "62                           Marie Curie, née Sklodowska\n",
       "89     Comité international de la Croix Rouge (Intern...\n",
       "215    Comité international de la Croix Rouge (Intern...\n",
       "278                                   Linus Carl Pauling\n",
       "283    Office of the United Nations High Commissioner...\n",
       "297                                         John Bardeen\n",
       "306                                     Frederick Sanger\n",
       "340                                   Linus Carl Pauling\n",
       "348    Comité international de la Croix Rouge (Intern...\n",
       "424                                         John Bardeen\n",
       "505                                     Frederick Sanger\n",
       "523    Office of the United Nations High Commissioner...\n",
       "Name: full_name, dtype: object"
      ]
     },
     "execution_count": 60,
     "metadata": {},
     "output_type": "execute_result"
    }
   ],
   "source": [
    "is_winner = df_data.duplicated(subset=\"full_name\", keep=False)\n",
    "multiple_winners = df_data[is_winner]\n",
    "\n",
    "multiple_winners[\"full_name\"]"
   ]
  },
  {
   "cell_type": "markdown",
   "metadata": {
    "dc": {
     "key": "45"
    },
    "id": "x5NtE05go7L1",
    "tags": [
     "sample_code"
    ]
   },
   "source": [
    "# Number of Prizes per Category\n",
    "\n",
    "**Challenge**: \n",
    "* In how many categories are prizes awarded? \n",
    "* Create a plotly bar chart with the number of prizes awarded by category. \n",
    "* Use the color scale called `Aggrnyl` to colour the chart, but don't show a color axis.\n",
    "* Which category has the most number of prizes awarded? \n",
    "* Which category has the fewest number of prizes awarded? "
   ]
  },
  {
   "cell_type": "code",
   "execution_count": 61,
   "metadata": {
    "id": "EjwqH7bxFm10"
   },
   "outputs": [
    {
     "data": {
      "text/plain": [
       "year                     117\n",
       "category                   6\n",
       "prize                    602\n",
       "motivation               594\n",
       "prize_share                4\n",
       "laureate_type              2\n",
       "full_name                955\n",
       "birth_date               917\n",
       "birth_city               630\n",
       "birth_country            124\n",
       "birth_country_current     79\n",
       "sex                        2\n",
       "organization_name        264\n",
       "organization_city        187\n",
       "organization_country      27\n",
       "ISO                       79\n",
       "share_pct                  4\n",
       "dtype: int64"
      ]
     },
     "execution_count": 61,
     "metadata": {},
     "output_type": "execute_result"
    }
   ],
   "source": [
    "df_data.nunique()"
   ]
  },
  {
   "cell_type": "code",
   "execution_count": 65,
   "metadata": {
    "id": "BhweS8X1FmuL"
   },
   "outputs": [
    {
     "data": {
      "application/vnd.plotly.v1+json": {
       "config": {
        "plotlyServerURL": "https://plot.ly"
       },
       "data": [
        {
         "alignmentgroup": "True",
         "hovertemplate": "<b>%{hovertext}</b><br><br>x=%{x}<br>y=%{y}<br>color=%{marker.color}<extra></extra>",
         "hovertext": [
          "Medicine",
          "Physics",
          "Chemistry",
          "Peace",
          "Literature",
          "Economics"
         ],
         "legendgroup": "",
         "marker": {
          "color": [
           222,
           216,
           186,
           135,
           117,
           86
          ],
          "coloraxis": "coloraxis",
          "pattern": {
           "shape": ""
          }
         },
         "name": "",
         "offsetgroup": "",
         "orientation": "v",
         "showlegend": false,
         "textposition": "auto",
         "type": "bar",
         "x": [
          "Medicine",
          "Physics",
          "Chemistry",
          "Peace",
          "Literature",
          "Economics"
         ],
         "xaxis": "x",
         "y": [
          222,
          216,
          186,
          135,
          117,
          86
         ],
         "yaxis": "y"
        }
       ],
       "layout": {
        "barmode": "relative",
        "coloraxis": {
         "colorbar": {
          "title": {
           "text": "color"
          }
         },
         "colorscale": [
          [
           0,
           "rgb(75, 41, 145)"
          ],
          [
           0.16666666666666666,
           "rgb(135, 44, 162)"
          ],
          [
           0.3333333333333333,
           "rgb(192, 54, 157)"
          ],
          [
           0.5,
           "rgb(234, 79, 136)"
          ],
          [
           0.6666666666666666,
           "rgb(250, 120, 118)"
          ],
          [
           0.8333333333333334,
           "rgb(246, 169, 122)"
          ],
          [
           1,
           "rgb(237, 217, 163)"
          ]
         ],
         "showscale": false
        },
        "legend": {
         "tracegroupgap": 0
        },
        "template": {
         "data": {
          "bar": [
           {
            "error_x": {
             "color": "#2a3f5f"
            },
            "error_y": {
             "color": "#2a3f5f"
            },
            "marker": {
             "line": {
              "color": "#E5ECF6",
              "width": 0.5
             },
             "pattern": {
              "fillmode": "overlay",
              "size": 10,
              "solidity": 0.2
             }
            },
            "type": "bar"
           }
          ],
          "barpolar": [
           {
            "marker": {
             "line": {
              "color": "#E5ECF6",
              "width": 0.5
             },
             "pattern": {
              "fillmode": "overlay",
              "size": 10,
              "solidity": 0.2
             }
            },
            "type": "barpolar"
           }
          ],
          "carpet": [
           {
            "aaxis": {
             "endlinecolor": "#2a3f5f",
             "gridcolor": "white",
             "linecolor": "white",
             "minorgridcolor": "white",
             "startlinecolor": "#2a3f5f"
            },
            "baxis": {
             "endlinecolor": "#2a3f5f",
             "gridcolor": "white",
             "linecolor": "white",
             "minorgridcolor": "white",
             "startlinecolor": "#2a3f5f"
            },
            "type": "carpet"
           }
          ],
          "choropleth": [
           {
            "colorbar": {
             "outlinewidth": 0,
             "ticks": ""
            },
            "type": "choropleth"
           }
          ],
          "contour": [
           {
            "colorbar": {
             "outlinewidth": 0,
             "ticks": ""
            },
            "colorscale": [
             [
              0,
              "#0d0887"
             ],
             [
              0.1111111111111111,
              "#46039f"
             ],
             [
              0.2222222222222222,
              "#7201a8"
             ],
             [
              0.3333333333333333,
              "#9c179e"
             ],
             [
              0.4444444444444444,
              "#bd3786"
             ],
             [
              0.5555555555555556,
              "#d8576b"
             ],
             [
              0.6666666666666666,
              "#ed7953"
             ],
             [
              0.7777777777777778,
              "#fb9f3a"
             ],
             [
              0.8888888888888888,
              "#fdca26"
             ],
             [
              1,
              "#f0f921"
             ]
            ],
            "type": "contour"
           }
          ],
          "contourcarpet": [
           {
            "colorbar": {
             "outlinewidth": 0,
             "ticks": ""
            },
            "type": "contourcarpet"
           }
          ],
          "heatmap": [
           {
            "colorbar": {
             "outlinewidth": 0,
             "ticks": ""
            },
            "colorscale": [
             [
              0,
              "#0d0887"
             ],
             [
              0.1111111111111111,
              "#46039f"
             ],
             [
              0.2222222222222222,
              "#7201a8"
             ],
             [
              0.3333333333333333,
              "#9c179e"
             ],
             [
              0.4444444444444444,
              "#bd3786"
             ],
             [
              0.5555555555555556,
              "#d8576b"
             ],
             [
              0.6666666666666666,
              "#ed7953"
             ],
             [
              0.7777777777777778,
              "#fb9f3a"
             ],
             [
              0.8888888888888888,
              "#fdca26"
             ],
             [
              1,
              "#f0f921"
             ]
            ],
            "type": "heatmap"
           }
          ],
          "heatmapgl": [
           {
            "colorbar": {
             "outlinewidth": 0,
             "ticks": ""
            },
            "colorscale": [
             [
              0,
              "#0d0887"
             ],
             [
              0.1111111111111111,
              "#46039f"
             ],
             [
              0.2222222222222222,
              "#7201a8"
             ],
             [
              0.3333333333333333,
              "#9c179e"
             ],
             [
              0.4444444444444444,
              "#bd3786"
             ],
             [
              0.5555555555555556,
              "#d8576b"
             ],
             [
              0.6666666666666666,
              "#ed7953"
             ],
             [
              0.7777777777777778,
              "#fb9f3a"
             ],
             [
              0.8888888888888888,
              "#fdca26"
             ],
             [
              1,
              "#f0f921"
             ]
            ],
            "type": "heatmapgl"
           }
          ],
          "histogram": [
           {
            "marker": {
             "pattern": {
              "fillmode": "overlay",
              "size": 10,
              "solidity": 0.2
             }
            },
            "type": "histogram"
           }
          ],
          "histogram2d": [
           {
            "colorbar": {
             "outlinewidth": 0,
             "ticks": ""
            },
            "colorscale": [
             [
              0,
              "#0d0887"
             ],
             [
              0.1111111111111111,
              "#46039f"
             ],
             [
              0.2222222222222222,
              "#7201a8"
             ],
             [
              0.3333333333333333,
              "#9c179e"
             ],
             [
              0.4444444444444444,
              "#bd3786"
             ],
             [
              0.5555555555555556,
              "#d8576b"
             ],
             [
              0.6666666666666666,
              "#ed7953"
             ],
             [
              0.7777777777777778,
              "#fb9f3a"
             ],
             [
              0.8888888888888888,
              "#fdca26"
             ],
             [
              1,
              "#f0f921"
             ]
            ],
            "type": "histogram2d"
           }
          ],
          "histogram2dcontour": [
           {
            "colorbar": {
             "outlinewidth": 0,
             "ticks": ""
            },
            "colorscale": [
             [
              0,
              "#0d0887"
             ],
             [
              0.1111111111111111,
              "#46039f"
             ],
             [
              0.2222222222222222,
              "#7201a8"
             ],
             [
              0.3333333333333333,
              "#9c179e"
             ],
             [
              0.4444444444444444,
              "#bd3786"
             ],
             [
              0.5555555555555556,
              "#d8576b"
             ],
             [
              0.6666666666666666,
              "#ed7953"
             ],
             [
              0.7777777777777778,
              "#fb9f3a"
             ],
             [
              0.8888888888888888,
              "#fdca26"
             ],
             [
              1,
              "#f0f921"
             ]
            ],
            "type": "histogram2dcontour"
           }
          ],
          "mesh3d": [
           {
            "colorbar": {
             "outlinewidth": 0,
             "ticks": ""
            },
            "type": "mesh3d"
           }
          ],
          "parcoords": [
           {
            "line": {
             "colorbar": {
              "outlinewidth": 0,
              "ticks": ""
             }
            },
            "type": "parcoords"
           }
          ],
          "pie": [
           {
            "automargin": true,
            "type": "pie"
           }
          ],
          "scatter": [
           {
            "fillpattern": {
             "fillmode": "overlay",
             "size": 10,
             "solidity": 0.2
            },
            "type": "scatter"
           }
          ],
          "scatter3d": [
           {
            "line": {
             "colorbar": {
              "outlinewidth": 0,
              "ticks": ""
             }
            },
            "marker": {
             "colorbar": {
              "outlinewidth": 0,
              "ticks": ""
             }
            },
            "type": "scatter3d"
           }
          ],
          "scattercarpet": [
           {
            "marker": {
             "colorbar": {
              "outlinewidth": 0,
              "ticks": ""
             }
            },
            "type": "scattercarpet"
           }
          ],
          "scattergeo": [
           {
            "marker": {
             "colorbar": {
              "outlinewidth": 0,
              "ticks": ""
             }
            },
            "type": "scattergeo"
           }
          ],
          "scattergl": [
           {
            "marker": {
             "colorbar": {
              "outlinewidth": 0,
              "ticks": ""
             }
            },
            "type": "scattergl"
           }
          ],
          "scattermapbox": [
           {
            "marker": {
             "colorbar": {
              "outlinewidth": 0,
              "ticks": ""
             }
            },
            "type": "scattermapbox"
           }
          ],
          "scatterpolar": [
           {
            "marker": {
             "colorbar": {
              "outlinewidth": 0,
              "ticks": ""
             }
            },
            "type": "scatterpolar"
           }
          ],
          "scatterpolargl": [
           {
            "marker": {
             "colorbar": {
              "outlinewidth": 0,
              "ticks": ""
             }
            },
            "type": "scatterpolargl"
           }
          ],
          "scatterternary": [
           {
            "marker": {
             "colorbar": {
              "outlinewidth": 0,
              "ticks": ""
             }
            },
            "type": "scatterternary"
           }
          ],
          "surface": [
           {
            "colorbar": {
             "outlinewidth": 0,
             "ticks": ""
            },
            "colorscale": [
             [
              0,
              "#0d0887"
             ],
             [
              0.1111111111111111,
              "#46039f"
             ],
             [
              0.2222222222222222,
              "#7201a8"
             ],
             [
              0.3333333333333333,
              "#9c179e"
             ],
             [
              0.4444444444444444,
              "#bd3786"
             ],
             [
              0.5555555555555556,
              "#d8576b"
             ],
             [
              0.6666666666666666,
              "#ed7953"
             ],
             [
              0.7777777777777778,
              "#fb9f3a"
             ],
             [
              0.8888888888888888,
              "#fdca26"
             ],
             [
              1,
              "#f0f921"
             ]
            ],
            "type": "surface"
           }
          ],
          "table": [
           {
            "cells": {
             "fill": {
              "color": "#EBF0F8"
             },
             "line": {
              "color": "white"
             }
            },
            "header": {
             "fill": {
              "color": "#C8D4E3"
             },
             "line": {
              "color": "white"
             }
            },
            "type": "table"
           }
          ]
         },
         "layout": {
          "annotationdefaults": {
           "arrowcolor": "#2a3f5f",
           "arrowhead": 0,
           "arrowwidth": 1
          },
          "autotypenumbers": "strict",
          "coloraxis": {
           "colorbar": {
            "outlinewidth": 0,
            "ticks": ""
           }
          },
          "colorscale": {
           "diverging": [
            [
             0,
             "#8e0152"
            ],
            [
             0.1,
             "#c51b7d"
            ],
            [
             0.2,
             "#de77ae"
            ],
            [
             0.3,
             "#f1b6da"
            ],
            [
             0.4,
             "#fde0ef"
            ],
            [
             0.5,
             "#f7f7f7"
            ],
            [
             0.6,
             "#e6f5d0"
            ],
            [
             0.7,
             "#b8e186"
            ],
            [
             0.8,
             "#7fbc41"
            ],
            [
             0.9,
             "#4d9221"
            ],
            [
             1,
             "#276419"
            ]
           ],
           "sequential": [
            [
             0,
             "#0d0887"
            ],
            [
             0.1111111111111111,
             "#46039f"
            ],
            [
             0.2222222222222222,
             "#7201a8"
            ],
            [
             0.3333333333333333,
             "#9c179e"
            ],
            [
             0.4444444444444444,
             "#bd3786"
            ],
            [
             0.5555555555555556,
             "#d8576b"
            ],
            [
             0.6666666666666666,
             "#ed7953"
            ],
            [
             0.7777777777777778,
             "#fb9f3a"
            ],
            [
             0.8888888888888888,
             "#fdca26"
            ],
            [
             1,
             "#f0f921"
            ]
           ],
           "sequentialminus": [
            [
             0,
             "#0d0887"
            ],
            [
             0.1111111111111111,
             "#46039f"
            ],
            [
             0.2222222222222222,
             "#7201a8"
            ],
            [
             0.3333333333333333,
             "#9c179e"
            ],
            [
             0.4444444444444444,
             "#bd3786"
            ],
            [
             0.5555555555555556,
             "#d8576b"
            ],
            [
             0.6666666666666666,
             "#ed7953"
            ],
            [
             0.7777777777777778,
             "#fb9f3a"
            ],
            [
             0.8888888888888888,
             "#fdca26"
            ],
            [
             1,
             "#f0f921"
            ]
           ]
          },
          "colorway": [
           "#636efa",
           "#EF553B",
           "#00cc96",
           "#ab63fa",
           "#FFA15A",
           "#19d3f3",
           "#FF6692",
           "#B6E880",
           "#FF97FF",
           "#FECB52"
          ],
          "font": {
           "color": "#2a3f5f"
          },
          "geo": {
           "bgcolor": "white",
           "lakecolor": "white",
           "landcolor": "#E5ECF6",
           "showlakes": true,
           "showland": true,
           "subunitcolor": "white"
          },
          "hoverlabel": {
           "align": "left"
          },
          "hovermode": "closest",
          "mapbox": {
           "style": "light"
          },
          "paper_bgcolor": "white",
          "plot_bgcolor": "#E5ECF6",
          "polar": {
           "angularaxis": {
            "gridcolor": "white",
            "linecolor": "white",
            "ticks": ""
           },
           "bgcolor": "#E5ECF6",
           "radialaxis": {
            "gridcolor": "white",
            "linecolor": "white",
            "ticks": ""
           }
          },
          "scene": {
           "xaxis": {
            "backgroundcolor": "#E5ECF6",
            "gridcolor": "white",
            "gridwidth": 2,
            "linecolor": "white",
            "showbackground": true,
            "ticks": "",
            "zerolinecolor": "white"
           },
           "yaxis": {
            "backgroundcolor": "#E5ECF6",
            "gridcolor": "white",
            "gridwidth": 2,
            "linecolor": "white",
            "showbackground": true,
            "ticks": "",
            "zerolinecolor": "white"
           },
           "zaxis": {
            "backgroundcolor": "#E5ECF6",
            "gridcolor": "white",
            "gridwidth": 2,
            "linecolor": "white",
            "showbackground": true,
            "ticks": "",
            "zerolinecolor": "white"
           }
          },
          "shapedefaults": {
           "line": {
            "color": "#2a3f5f"
           }
          },
          "ternary": {
           "aaxis": {
            "gridcolor": "white",
            "linecolor": "white",
            "ticks": ""
           },
           "baxis": {
            "gridcolor": "white",
            "linecolor": "white",
            "ticks": ""
           },
           "bgcolor": "#E5ECF6",
           "caxis": {
            "gridcolor": "white",
            "linecolor": "white",
            "ticks": ""
           }
          },
          "title": {
           "x": 0.05
          },
          "xaxis": {
           "automargin": true,
           "gridcolor": "white",
           "linecolor": "white",
           "ticks": "",
           "title": {
            "standoff": 15
           },
           "zerolinecolor": "white",
           "zerolinewidth": 2
          },
          "yaxis": {
           "automargin": true,
           "gridcolor": "white",
           "linecolor": "white",
           "ticks": "",
           "title": {
            "standoff": 15
           },
           "zerolinecolor": "white",
           "zerolinewidth": 2
          }
         }
        },
        "title": {
         "text": "Prizes Count by Category"
        },
        "xaxis": {
         "anchor": "y",
         "domain": [
          0,
          1
         ],
         "title": {
          "text": "Category"
         }
        },
        "yaxis": {
         "anchor": "x",
         "domain": [
          0,
          1
         ],
         "title": {
          "text": "Number of Prizes"
         }
        }
       }
      },
      "text/html": [
       "<div>                            <div id=\"0be97eac-92bf-4b3e-b641-80303dddcf76\" class=\"plotly-graph-div\" style=\"height:525px; width:100%;\"></div>            <script type=\"text/javascript\">                require([\"plotly\"], function(Plotly) {                    window.PLOTLYENV=window.PLOTLYENV || {};                                    if (document.getElementById(\"0be97eac-92bf-4b3e-b641-80303dddcf76\")) {                    Plotly.newPlot(                        \"0be97eac-92bf-4b3e-b641-80303dddcf76\",                        [{\"alignmentgroup\":\"True\",\"hovertemplate\":\"<b>%{hovertext}</b><br><br>x=%{x}<br>y=%{y}<br>color=%{marker.color}<extra></extra>\",\"hovertext\":[\"Medicine\",\"Physics\",\"Chemistry\",\"Peace\",\"Literature\",\"Economics\"],\"legendgroup\":\"\",\"marker\":{\"color\":[222,216,186,135,117,86],\"coloraxis\":\"coloraxis\",\"pattern\":{\"shape\":\"\"}},\"name\":\"\",\"offsetgroup\":\"\",\"orientation\":\"v\",\"showlegend\":false,\"textposition\":\"auto\",\"x\":[\"Medicine\",\"Physics\",\"Chemistry\",\"Peace\",\"Literature\",\"Economics\"],\"xaxis\":\"x\",\"y\":[222,216,186,135,117,86],\"yaxis\":\"y\",\"type\":\"bar\"}],                        {\"template\":{\"data\":{\"histogram2dcontour\":[{\"type\":\"histogram2dcontour\",\"colorbar\":{\"outlinewidth\":0,\"ticks\":\"\"},\"colorscale\":[[0.0,\"#0d0887\"],[0.1111111111111111,\"#46039f\"],[0.2222222222222222,\"#7201a8\"],[0.3333333333333333,\"#9c179e\"],[0.4444444444444444,\"#bd3786\"],[0.5555555555555556,\"#d8576b\"],[0.6666666666666666,\"#ed7953\"],[0.7777777777777778,\"#fb9f3a\"],[0.8888888888888888,\"#fdca26\"],[1.0,\"#f0f921\"]]}],\"choropleth\":[{\"type\":\"choropleth\",\"colorbar\":{\"outlinewidth\":0,\"ticks\":\"\"}}],\"histogram2d\":[{\"type\":\"histogram2d\",\"colorbar\":{\"outlinewidth\":0,\"ticks\":\"\"},\"colorscale\":[[0.0,\"#0d0887\"],[0.1111111111111111,\"#46039f\"],[0.2222222222222222,\"#7201a8\"],[0.3333333333333333,\"#9c179e\"],[0.4444444444444444,\"#bd3786\"],[0.5555555555555556,\"#d8576b\"],[0.6666666666666666,\"#ed7953\"],[0.7777777777777778,\"#fb9f3a\"],[0.8888888888888888,\"#fdca26\"],[1.0,\"#f0f921\"]]}],\"heatmap\":[{\"type\":\"heatmap\",\"colorbar\":{\"outlinewidth\":0,\"ticks\":\"\"},\"colorscale\":[[0.0,\"#0d0887\"],[0.1111111111111111,\"#46039f\"],[0.2222222222222222,\"#7201a8\"],[0.3333333333333333,\"#9c179e\"],[0.4444444444444444,\"#bd3786\"],[0.5555555555555556,\"#d8576b\"],[0.6666666666666666,\"#ed7953\"],[0.7777777777777778,\"#fb9f3a\"],[0.8888888888888888,\"#fdca26\"],[1.0,\"#f0f921\"]]}],\"heatmapgl\":[{\"type\":\"heatmapgl\",\"colorbar\":{\"outlinewidth\":0,\"ticks\":\"\"},\"colorscale\":[[0.0,\"#0d0887\"],[0.1111111111111111,\"#46039f\"],[0.2222222222222222,\"#7201a8\"],[0.3333333333333333,\"#9c179e\"],[0.4444444444444444,\"#bd3786\"],[0.5555555555555556,\"#d8576b\"],[0.6666666666666666,\"#ed7953\"],[0.7777777777777778,\"#fb9f3a\"],[0.8888888888888888,\"#fdca26\"],[1.0,\"#f0f921\"]]}],\"contourcarpet\":[{\"type\":\"contourcarpet\",\"colorbar\":{\"outlinewidth\":0,\"ticks\":\"\"}}],\"contour\":[{\"type\":\"contour\",\"colorbar\":{\"outlinewidth\":0,\"ticks\":\"\"},\"colorscale\":[[0.0,\"#0d0887\"],[0.1111111111111111,\"#46039f\"],[0.2222222222222222,\"#7201a8\"],[0.3333333333333333,\"#9c179e\"],[0.4444444444444444,\"#bd3786\"],[0.5555555555555556,\"#d8576b\"],[0.6666666666666666,\"#ed7953\"],[0.7777777777777778,\"#fb9f3a\"],[0.8888888888888888,\"#fdca26\"],[1.0,\"#f0f921\"]]}],\"surface\":[{\"type\":\"surface\",\"colorbar\":{\"outlinewidth\":0,\"ticks\":\"\"},\"colorscale\":[[0.0,\"#0d0887\"],[0.1111111111111111,\"#46039f\"],[0.2222222222222222,\"#7201a8\"],[0.3333333333333333,\"#9c179e\"],[0.4444444444444444,\"#bd3786\"],[0.5555555555555556,\"#d8576b\"],[0.6666666666666666,\"#ed7953\"],[0.7777777777777778,\"#fb9f3a\"],[0.8888888888888888,\"#fdca26\"],[1.0,\"#f0f921\"]]}],\"mesh3d\":[{\"type\":\"mesh3d\",\"colorbar\":{\"outlinewidth\":0,\"ticks\":\"\"}}],\"scatter\":[{\"fillpattern\":{\"fillmode\":\"overlay\",\"size\":10,\"solidity\":0.2},\"type\":\"scatter\"}],\"parcoords\":[{\"type\":\"parcoords\",\"line\":{\"colorbar\":{\"outlinewidth\":0,\"ticks\":\"\"}}}],\"scatterpolargl\":[{\"type\":\"scatterpolargl\",\"marker\":{\"colorbar\":{\"outlinewidth\":0,\"ticks\":\"\"}}}],\"bar\":[{\"error_x\":{\"color\":\"#2a3f5f\"},\"error_y\":{\"color\":\"#2a3f5f\"},\"marker\":{\"line\":{\"color\":\"#E5ECF6\",\"width\":0.5},\"pattern\":{\"fillmode\":\"overlay\",\"size\":10,\"solidity\":0.2}},\"type\":\"bar\"}],\"scattergeo\":[{\"type\":\"scattergeo\",\"marker\":{\"colorbar\":{\"outlinewidth\":0,\"ticks\":\"\"}}}],\"scatterpolar\":[{\"type\":\"scatterpolar\",\"marker\":{\"colorbar\":{\"outlinewidth\":0,\"ticks\":\"\"}}}],\"histogram\":[{\"marker\":{\"pattern\":{\"fillmode\":\"overlay\",\"size\":10,\"solidity\":0.2}},\"type\":\"histogram\"}],\"scattergl\":[{\"type\":\"scattergl\",\"marker\":{\"colorbar\":{\"outlinewidth\":0,\"ticks\":\"\"}}}],\"scatter3d\":[{\"type\":\"scatter3d\",\"line\":{\"colorbar\":{\"outlinewidth\":0,\"ticks\":\"\"}},\"marker\":{\"colorbar\":{\"outlinewidth\":0,\"ticks\":\"\"}}}],\"scattermapbox\":[{\"type\":\"scattermapbox\",\"marker\":{\"colorbar\":{\"outlinewidth\":0,\"ticks\":\"\"}}}],\"scatterternary\":[{\"type\":\"scatterternary\",\"marker\":{\"colorbar\":{\"outlinewidth\":0,\"ticks\":\"\"}}}],\"scattercarpet\":[{\"type\":\"scattercarpet\",\"marker\":{\"colorbar\":{\"outlinewidth\":0,\"ticks\":\"\"}}}],\"carpet\":[{\"aaxis\":{\"endlinecolor\":\"#2a3f5f\",\"gridcolor\":\"white\",\"linecolor\":\"white\",\"minorgridcolor\":\"white\",\"startlinecolor\":\"#2a3f5f\"},\"baxis\":{\"endlinecolor\":\"#2a3f5f\",\"gridcolor\":\"white\",\"linecolor\":\"white\",\"minorgridcolor\":\"white\",\"startlinecolor\":\"#2a3f5f\"},\"type\":\"carpet\"}],\"table\":[{\"cells\":{\"fill\":{\"color\":\"#EBF0F8\"},\"line\":{\"color\":\"white\"}},\"header\":{\"fill\":{\"color\":\"#C8D4E3\"},\"line\":{\"color\":\"white\"}},\"type\":\"table\"}],\"barpolar\":[{\"marker\":{\"line\":{\"color\":\"#E5ECF6\",\"width\":0.5},\"pattern\":{\"fillmode\":\"overlay\",\"size\":10,\"solidity\":0.2}},\"type\":\"barpolar\"}],\"pie\":[{\"automargin\":true,\"type\":\"pie\"}]},\"layout\":{\"autotypenumbers\":\"strict\",\"colorway\":[\"#636efa\",\"#EF553B\",\"#00cc96\",\"#ab63fa\",\"#FFA15A\",\"#19d3f3\",\"#FF6692\",\"#B6E880\",\"#FF97FF\",\"#FECB52\"],\"font\":{\"color\":\"#2a3f5f\"},\"hovermode\":\"closest\",\"hoverlabel\":{\"align\":\"left\"},\"paper_bgcolor\":\"white\",\"plot_bgcolor\":\"#E5ECF6\",\"polar\":{\"bgcolor\":\"#E5ECF6\",\"angularaxis\":{\"gridcolor\":\"white\",\"linecolor\":\"white\",\"ticks\":\"\"},\"radialaxis\":{\"gridcolor\":\"white\",\"linecolor\":\"white\",\"ticks\":\"\"}},\"ternary\":{\"bgcolor\":\"#E5ECF6\",\"aaxis\":{\"gridcolor\":\"white\",\"linecolor\":\"white\",\"ticks\":\"\"},\"baxis\":{\"gridcolor\":\"white\",\"linecolor\":\"white\",\"ticks\":\"\"},\"caxis\":{\"gridcolor\":\"white\",\"linecolor\":\"white\",\"ticks\":\"\"}},\"coloraxis\":{\"colorbar\":{\"outlinewidth\":0,\"ticks\":\"\"}},\"colorscale\":{\"sequential\":[[0.0,\"#0d0887\"],[0.1111111111111111,\"#46039f\"],[0.2222222222222222,\"#7201a8\"],[0.3333333333333333,\"#9c179e\"],[0.4444444444444444,\"#bd3786\"],[0.5555555555555556,\"#d8576b\"],[0.6666666666666666,\"#ed7953\"],[0.7777777777777778,\"#fb9f3a\"],[0.8888888888888888,\"#fdca26\"],[1.0,\"#f0f921\"]],\"sequentialminus\":[[0.0,\"#0d0887\"],[0.1111111111111111,\"#46039f\"],[0.2222222222222222,\"#7201a8\"],[0.3333333333333333,\"#9c179e\"],[0.4444444444444444,\"#bd3786\"],[0.5555555555555556,\"#d8576b\"],[0.6666666666666666,\"#ed7953\"],[0.7777777777777778,\"#fb9f3a\"],[0.8888888888888888,\"#fdca26\"],[1.0,\"#f0f921\"]],\"diverging\":[[0,\"#8e0152\"],[0.1,\"#c51b7d\"],[0.2,\"#de77ae\"],[0.3,\"#f1b6da\"],[0.4,\"#fde0ef\"],[0.5,\"#f7f7f7\"],[0.6,\"#e6f5d0\"],[0.7,\"#b8e186\"],[0.8,\"#7fbc41\"],[0.9,\"#4d9221\"],[1,\"#276419\"]]},\"xaxis\":{\"gridcolor\":\"white\",\"linecolor\":\"white\",\"ticks\":\"\",\"title\":{\"standoff\":15},\"zerolinecolor\":\"white\",\"automargin\":true,\"zerolinewidth\":2},\"yaxis\":{\"gridcolor\":\"white\",\"linecolor\":\"white\",\"ticks\":\"\",\"title\":{\"standoff\":15},\"zerolinecolor\":\"white\",\"automargin\":true,\"zerolinewidth\":2},\"scene\":{\"xaxis\":{\"backgroundcolor\":\"#E5ECF6\",\"gridcolor\":\"white\",\"linecolor\":\"white\",\"showbackground\":true,\"ticks\":\"\",\"zerolinecolor\":\"white\",\"gridwidth\":2},\"yaxis\":{\"backgroundcolor\":\"#E5ECF6\",\"gridcolor\":\"white\",\"linecolor\":\"white\",\"showbackground\":true,\"ticks\":\"\",\"zerolinecolor\":\"white\",\"gridwidth\":2},\"zaxis\":{\"backgroundcolor\":\"#E5ECF6\",\"gridcolor\":\"white\",\"linecolor\":\"white\",\"showbackground\":true,\"ticks\":\"\",\"zerolinecolor\":\"white\",\"gridwidth\":2}},\"shapedefaults\":{\"line\":{\"color\":\"#2a3f5f\"}},\"annotationdefaults\":{\"arrowcolor\":\"#2a3f5f\",\"arrowhead\":0,\"arrowwidth\":1},\"geo\":{\"bgcolor\":\"white\",\"landcolor\":\"#E5ECF6\",\"subunitcolor\":\"white\",\"showland\":true,\"showlakes\":true,\"lakecolor\":\"white\"},\"title\":{\"x\":0.05},\"mapbox\":{\"style\":\"light\"}}},\"xaxis\":{\"anchor\":\"y\",\"domain\":[0.0,1.0],\"title\":{\"text\":\"Category\"}},\"yaxis\":{\"anchor\":\"x\",\"domain\":[0.0,1.0],\"title\":{\"text\":\"Number of Prizes\"}},\"coloraxis\":{\"colorbar\":{\"title\":{\"text\":\"color\"}},\"colorscale\":[[0.0,\"rgb(75, 41, 145)\"],[0.16666666666666666,\"rgb(135, 44, 162)\"],[0.3333333333333333,\"rgb(192, 54, 157)\"],[0.5,\"rgb(234, 79, 136)\"],[0.6666666666666666,\"rgb(250, 120, 118)\"],[0.8333333333333334,\"rgb(246, 169, 122)\"],[1.0,\"rgb(237, 217, 163)\"]],\"showscale\":false},\"legend\":{\"tracegroupgap\":0},\"title\":{\"text\":\"Prizes Count by Category\"},\"barmode\":\"relative\"},                        {\"responsive\": true}                    ).then(function(){\n",
       "                            \n",
       "var gd = document.getElementById('0be97eac-92bf-4b3e-b641-80303dddcf76');\n",
       "var x = new MutationObserver(function (mutations, observer) {{\n",
       "        var display = window.getComputedStyle(gd).display;\n",
       "        if (!display || display === 'none') {{\n",
       "            console.log([gd, 'removed!']);\n",
       "            Plotly.purge(gd);\n",
       "            observer.disconnect();\n",
       "        }}\n",
       "}});\n",
       "\n",
       "// Listen for the removal of the full notebook cells\n",
       "var notebookContainer = gd.closest('#notebook-container');\n",
       "if (notebookContainer) {{\n",
       "    x.observe(notebookContainer, {childList: true});\n",
       "}}\n",
       "\n",
       "// Listen for the clearing of the current output cell\n",
       "var outputEl = gd.closest('.output');\n",
       "if (outputEl) {{\n",
       "    x.observe(outputEl, {childList: true});\n",
       "}}\n",
       "\n",
       "                        })                };                });            </script>        </div>"
      ]
     },
     "metadata": {},
     "output_type": "display_data"
    }
   ],
   "source": [
    "prizes_by_category = df_data[\"category\"].value_counts()\n",
    "\n",
    "bar = px.bar(\n",
    "    x=prizes_by_category.index,\n",
    "    y=prizes_by_category.values,\n",
    "    title=\"Prizes Count by Category\",\n",
    "    hover_name=prizes_by_category.index,\n",
    "    color=prizes_by_category.values,\n",
    "    color_continuous_scale=\"Agsunset\"\n",
    ")\n",
    "\n",
    "bar.update_layout(\n",
    "    xaxis_title=\"Category\",\n",
    "    yaxis_title=\"Number of Prizes\",\n",
    "    coloraxis_showscale=False\n",
    ")\n",
    "\n",
    "bar.show()"
   ]
  },
  {
   "cell_type": "markdown",
   "metadata": {
    "id": "nlISAxfXo7L5"
   },
   "source": [
    "**Challenge**: \n",
    "* When was the first prize in the field of Economics awarded?\n",
    "* Who did the prize go to?"
   ]
  },
  {
   "cell_type": "code",
   "execution_count": 66,
   "metadata": {
    "id": "ndzQ8lz6FpSG"
   },
   "outputs": [
    {
     "data": {
      "text/html": [
       "<div>\n",
       "<style scoped>\n",
       "    .dataframe tbody tr th:only-of-type {\n",
       "        vertical-align: middle;\n",
       "    }\n",
       "\n",
       "    .dataframe tbody tr th {\n",
       "        vertical-align: top;\n",
       "    }\n",
       "\n",
       "    .dataframe thead th {\n",
       "        text-align: right;\n",
       "    }\n",
       "</style>\n",
       "<table border=\"1\" class=\"dataframe\">\n",
       "  <thead>\n",
       "    <tr style=\"text-align: right;\">\n",
       "      <th></th>\n",
       "      <th>year</th>\n",
       "      <th>category</th>\n",
       "      <th>prize</th>\n",
       "      <th>motivation</th>\n",
       "      <th>prize_share</th>\n",
       "      <th>laureate_type</th>\n",
       "      <th>full_name</th>\n",
       "      <th>birth_date</th>\n",
       "      <th>birth_city</th>\n",
       "      <th>birth_country</th>\n",
       "      <th>birth_country_current</th>\n",
       "      <th>sex</th>\n",
       "      <th>organization_name</th>\n",
       "      <th>organization_city</th>\n",
       "      <th>organization_country</th>\n",
       "      <th>ISO</th>\n",
       "      <th>share_pct</th>\n",
       "    </tr>\n",
       "  </thead>\n",
       "  <tbody>\n",
       "    <tr>\n",
       "      <th>393</th>\n",
       "      <td>1969</td>\n",
       "      <td>Economics</td>\n",
       "      <td>The Sveriges Riksbank Prize in Economic Scienc...</td>\n",
       "      <td>\"for having developed and applied dynamic mode...</td>\n",
       "      <td>1/2</td>\n",
       "      <td>Individual</td>\n",
       "      <td>Jan Tinbergen</td>\n",
       "      <td>1903-04-12</td>\n",
       "      <td>the Hague</td>\n",
       "      <td>Netherlands</td>\n",
       "      <td>Netherlands</td>\n",
       "      <td>Male</td>\n",
       "      <td>The Netherlands School of Economics</td>\n",
       "      <td>Rotterdam</td>\n",
       "      <td>Netherlands</td>\n",
       "      <td>NLD</td>\n",
       "      <td>0.50</td>\n",
       "    </tr>\n",
       "    <tr>\n",
       "      <th>394</th>\n",
       "      <td>1969</td>\n",
       "      <td>Economics</td>\n",
       "      <td>The Sveriges Riksbank Prize in Economic Scienc...</td>\n",
       "      <td>\"for having developed and applied dynamic mode...</td>\n",
       "      <td>1/2</td>\n",
       "      <td>Individual</td>\n",
       "      <td>Ragnar Frisch</td>\n",
       "      <td>1895-03-03</td>\n",
       "      <td>Oslo</td>\n",
       "      <td>Norway</td>\n",
       "      <td>Norway</td>\n",
       "      <td>Male</td>\n",
       "      <td>University of Oslo</td>\n",
       "      <td>Oslo</td>\n",
       "      <td>Norway</td>\n",
       "      <td>NOR</td>\n",
       "      <td>0.50</td>\n",
       "    </tr>\n",
       "    <tr>\n",
       "      <th>402</th>\n",
       "      <td>1970</td>\n",
       "      <td>Economics</td>\n",
       "      <td>The Sveriges Riksbank Prize in Economic Scienc...</td>\n",
       "      <td>\"for the scientific work through which he has ...</td>\n",
       "      <td>1/1</td>\n",
       "      <td>Individual</td>\n",
       "      <td>Paul A. Samuelson</td>\n",
       "      <td>1915-05-15</td>\n",
       "      <td>Gary, IN</td>\n",
       "      <td>United States of America</td>\n",
       "      <td>United States of America</td>\n",
       "      <td>Male</td>\n",
       "      <td>Massachusetts Institute of Technology (MIT)</td>\n",
       "      <td>Cambridge, MA</td>\n",
       "      <td>United States of America</td>\n",
       "      <td>USA</td>\n",
       "      <td>1.00</td>\n",
       "    </tr>\n",
       "    <tr>\n",
       "      <th>411</th>\n",
       "      <td>1971</td>\n",
       "      <td>Economics</td>\n",
       "      <td>The Sveriges Riksbank Prize in Economic Scienc...</td>\n",
       "      <td>\"for his empirically founded interpretation of...</td>\n",
       "      <td>1/1</td>\n",
       "      <td>Individual</td>\n",
       "      <td>Simon Kuznets</td>\n",
       "      <td>1901-04-30</td>\n",
       "      <td>Pinsk</td>\n",
       "      <td>Russian Empire (Belarus)</td>\n",
       "      <td>Belarus</td>\n",
       "      <td>Male</td>\n",
       "      <td>Harvard University</td>\n",
       "      <td>Cambridge, MA</td>\n",
       "      <td>United States of America</td>\n",
       "      <td>BLR</td>\n",
       "      <td>1.00</td>\n",
       "    </tr>\n",
       "    <tr>\n",
       "      <th>419</th>\n",
       "      <td>1972</td>\n",
       "      <td>Economics</td>\n",
       "      <td>The Sveriges Riksbank Prize in Economic Scienc...</td>\n",
       "      <td>\"for their pioneering contributions to general...</td>\n",
       "      <td>1/2</td>\n",
       "      <td>Individual</td>\n",
       "      <td>John R. Hicks</td>\n",
       "      <td>1904-04-08</td>\n",
       "      <td>Warwick</td>\n",
       "      <td>United Kingdom</td>\n",
       "      <td>United Kingdom</td>\n",
       "      <td>Male</td>\n",
       "      <td>University of Oxford</td>\n",
       "      <td>Oxford</td>\n",
       "      <td>United Kingdom</td>\n",
       "      <td>GBR</td>\n",
       "      <td>0.50</td>\n",
       "    </tr>\n",
       "  </tbody>\n",
       "</table>\n",
       "</div>"
      ],
      "text/plain": [
       "     year   category                                              prize  \\\n",
       "393  1969  Economics  The Sveriges Riksbank Prize in Economic Scienc...   \n",
       "394  1969  Economics  The Sveriges Riksbank Prize in Economic Scienc...   \n",
       "402  1970  Economics  The Sveriges Riksbank Prize in Economic Scienc...   \n",
       "411  1971  Economics  The Sveriges Riksbank Prize in Economic Scienc...   \n",
       "419  1972  Economics  The Sveriges Riksbank Prize in Economic Scienc...   \n",
       "\n",
       "                                            motivation prize_share  \\\n",
       "393  \"for having developed and applied dynamic mode...         1/2   \n",
       "394  \"for having developed and applied dynamic mode...         1/2   \n",
       "402  \"for the scientific work through which he has ...         1/1   \n",
       "411  \"for his empirically founded interpretation of...         1/1   \n",
       "419  \"for their pioneering contributions to general...         1/2   \n",
       "\n",
       "    laureate_type          full_name birth_date birth_city  \\\n",
       "393    Individual      Jan Tinbergen 1903-04-12  the Hague   \n",
       "394    Individual      Ragnar Frisch 1895-03-03       Oslo   \n",
       "402    Individual  Paul A. Samuelson 1915-05-15   Gary, IN   \n",
       "411    Individual      Simon Kuznets 1901-04-30      Pinsk   \n",
       "419    Individual      John R. Hicks 1904-04-08    Warwick   \n",
       "\n",
       "                birth_country     birth_country_current   sex  \\\n",
       "393               Netherlands               Netherlands  Male   \n",
       "394                    Norway                    Norway  Male   \n",
       "402  United States of America  United States of America  Male   \n",
       "411  Russian Empire (Belarus)                   Belarus  Male   \n",
       "419            United Kingdom            United Kingdom  Male   \n",
       "\n",
       "                               organization_name organization_city  \\\n",
       "393          The Netherlands School of Economics         Rotterdam   \n",
       "394                           University of Oslo              Oslo   \n",
       "402  Massachusetts Institute of Technology (MIT)     Cambridge, MA   \n",
       "411                           Harvard University     Cambridge, MA   \n",
       "419                         University of Oxford            Oxford   \n",
       "\n",
       "         organization_country  ISO  share_pct  \n",
       "393               Netherlands  NLD       0.50  \n",
       "394                    Norway  NOR       0.50  \n",
       "402  United States of America  USA       1.00  \n",
       "411  United States of America  BLR       1.00  \n",
       "419            United Kingdom  GBR       0.50  "
      ]
     },
     "execution_count": 66,
     "metadata": {},
     "output_type": "execute_result"
    }
   ],
   "source": [
    "economics_prizes = df_data[df_data[\"category\"] == \"Economics\"].sort_values(by=\"year\", ascending=True)\n",
    "economics_prizes.head()"
   ]
  },
  {
   "cell_type": "markdown",
   "metadata": {
    "dc": {
     "key": "31"
    },
    "id": "COqMa0fIo7L7",
    "run_control": {
     "frozen": true
    },
    "tags": [
     "context"
    ]
   },
   "source": [
    "# Male and Female Winners by Category\n",
    "\n",
    "**Challenge**: Create a [plotly bar chart](https://plotly.com/python/bar-charts/) that shows the split between men and women by category. \n",
    "* Hover over the bar chart. How many prizes went to women in Literature compared to Physics?\n",
    "\n",
    "<img src=https://i.imgur.com/od8TfOp.png width=650>"
   ]
  },
  {
   "cell_type": "code",
   "execution_count": 78,
   "metadata": {
    "id": "5rm03TQmFrlk"
   },
   "outputs": [
    {
     "data": {
      "application/vnd.plotly.v1+json": {
       "config": {
        "plotlyServerURL": "https://plot.ly"
       },
       "data": [
        {
         "alignmentgroup": "True",
         "hovertemplate": "sex=Female<br>category=%{x}<br>prize=%{y}<extra></extra>",
         "legendgroup": "Female",
         "marker": {
          "color": "#636efa",
          "pattern": {
           "shape": ""
          }
         },
         "name": "Female",
         "offsetgroup": "Female",
         "orientation": "v",
         "showlegend": true,
         "textposition": "auto",
         "type": "bar",
         "x": [
          "Chemistry",
          "Economics",
          "Literature",
          "Medicine",
          "Peace",
          "Physics"
         ],
         "xaxis": "x",
         "y": [
          7,
          2,
          16,
          12,
          17,
          4
         ],
         "yaxis": "y"
        },
        {
         "alignmentgroup": "True",
         "hovertemplate": "sex=Male<br>category=%{x}<br>prize=%{y}<extra></extra>",
         "legendgroup": "Male",
         "marker": {
          "color": "#EF553B",
          "pattern": {
           "shape": ""
          }
         },
         "name": "Male",
         "offsetgroup": "Male",
         "orientation": "v",
         "showlegend": true,
         "textposition": "auto",
         "type": "bar",
         "x": [
          "Chemistry",
          "Economics",
          "Literature",
          "Medicine",
          "Peace",
          "Physics"
         ],
         "xaxis": "x",
         "y": [
          179,
          84,
          101,
          210,
          90,
          212
         ],
         "yaxis": "y"
        }
       ],
       "layout": {
        "barmode": "stack",
        "legend": {
         "title": {
          "text": "sex"
         },
         "tracegroupgap": 0
        },
        "template": {
         "data": {
          "bar": [
           {
            "error_x": {
             "color": "#2a3f5f"
            },
            "error_y": {
             "color": "#2a3f5f"
            },
            "marker": {
             "line": {
              "color": "#E5ECF6",
              "width": 0.5
             },
             "pattern": {
              "fillmode": "overlay",
              "size": 10,
              "solidity": 0.2
             }
            },
            "type": "bar"
           }
          ],
          "barpolar": [
           {
            "marker": {
             "line": {
              "color": "#E5ECF6",
              "width": 0.5
             },
             "pattern": {
              "fillmode": "overlay",
              "size": 10,
              "solidity": 0.2
             }
            },
            "type": "barpolar"
           }
          ],
          "carpet": [
           {
            "aaxis": {
             "endlinecolor": "#2a3f5f",
             "gridcolor": "white",
             "linecolor": "white",
             "minorgridcolor": "white",
             "startlinecolor": "#2a3f5f"
            },
            "baxis": {
             "endlinecolor": "#2a3f5f",
             "gridcolor": "white",
             "linecolor": "white",
             "minorgridcolor": "white",
             "startlinecolor": "#2a3f5f"
            },
            "type": "carpet"
           }
          ],
          "choropleth": [
           {
            "colorbar": {
             "outlinewidth": 0,
             "ticks": ""
            },
            "type": "choropleth"
           }
          ],
          "contour": [
           {
            "colorbar": {
             "outlinewidth": 0,
             "ticks": ""
            },
            "colorscale": [
             [
              0,
              "#0d0887"
             ],
             [
              0.1111111111111111,
              "#46039f"
             ],
             [
              0.2222222222222222,
              "#7201a8"
             ],
             [
              0.3333333333333333,
              "#9c179e"
             ],
             [
              0.4444444444444444,
              "#bd3786"
             ],
             [
              0.5555555555555556,
              "#d8576b"
             ],
             [
              0.6666666666666666,
              "#ed7953"
             ],
             [
              0.7777777777777778,
              "#fb9f3a"
             ],
             [
              0.8888888888888888,
              "#fdca26"
             ],
             [
              1,
              "#f0f921"
             ]
            ],
            "type": "contour"
           }
          ],
          "contourcarpet": [
           {
            "colorbar": {
             "outlinewidth": 0,
             "ticks": ""
            },
            "type": "contourcarpet"
           }
          ],
          "heatmap": [
           {
            "colorbar": {
             "outlinewidth": 0,
             "ticks": ""
            },
            "colorscale": [
             [
              0,
              "#0d0887"
             ],
             [
              0.1111111111111111,
              "#46039f"
             ],
             [
              0.2222222222222222,
              "#7201a8"
             ],
             [
              0.3333333333333333,
              "#9c179e"
             ],
             [
              0.4444444444444444,
              "#bd3786"
             ],
             [
              0.5555555555555556,
              "#d8576b"
             ],
             [
              0.6666666666666666,
              "#ed7953"
             ],
             [
              0.7777777777777778,
              "#fb9f3a"
             ],
             [
              0.8888888888888888,
              "#fdca26"
             ],
             [
              1,
              "#f0f921"
             ]
            ],
            "type": "heatmap"
           }
          ],
          "heatmapgl": [
           {
            "colorbar": {
             "outlinewidth": 0,
             "ticks": ""
            },
            "colorscale": [
             [
              0,
              "#0d0887"
             ],
             [
              0.1111111111111111,
              "#46039f"
             ],
             [
              0.2222222222222222,
              "#7201a8"
             ],
             [
              0.3333333333333333,
              "#9c179e"
             ],
             [
              0.4444444444444444,
              "#bd3786"
             ],
             [
              0.5555555555555556,
              "#d8576b"
             ],
             [
              0.6666666666666666,
              "#ed7953"
             ],
             [
              0.7777777777777778,
              "#fb9f3a"
             ],
             [
              0.8888888888888888,
              "#fdca26"
             ],
             [
              1,
              "#f0f921"
             ]
            ],
            "type": "heatmapgl"
           }
          ],
          "histogram": [
           {
            "marker": {
             "pattern": {
              "fillmode": "overlay",
              "size": 10,
              "solidity": 0.2
             }
            },
            "type": "histogram"
           }
          ],
          "histogram2d": [
           {
            "colorbar": {
             "outlinewidth": 0,
             "ticks": ""
            },
            "colorscale": [
             [
              0,
              "#0d0887"
             ],
             [
              0.1111111111111111,
              "#46039f"
             ],
             [
              0.2222222222222222,
              "#7201a8"
             ],
             [
              0.3333333333333333,
              "#9c179e"
             ],
             [
              0.4444444444444444,
              "#bd3786"
             ],
             [
              0.5555555555555556,
              "#d8576b"
             ],
             [
              0.6666666666666666,
              "#ed7953"
             ],
             [
              0.7777777777777778,
              "#fb9f3a"
             ],
             [
              0.8888888888888888,
              "#fdca26"
             ],
             [
              1,
              "#f0f921"
             ]
            ],
            "type": "histogram2d"
           }
          ],
          "histogram2dcontour": [
           {
            "colorbar": {
             "outlinewidth": 0,
             "ticks": ""
            },
            "colorscale": [
             [
              0,
              "#0d0887"
             ],
             [
              0.1111111111111111,
              "#46039f"
             ],
             [
              0.2222222222222222,
              "#7201a8"
             ],
             [
              0.3333333333333333,
              "#9c179e"
             ],
             [
              0.4444444444444444,
              "#bd3786"
             ],
             [
              0.5555555555555556,
              "#d8576b"
             ],
             [
              0.6666666666666666,
              "#ed7953"
             ],
             [
              0.7777777777777778,
              "#fb9f3a"
             ],
             [
              0.8888888888888888,
              "#fdca26"
             ],
             [
              1,
              "#f0f921"
             ]
            ],
            "type": "histogram2dcontour"
           }
          ],
          "mesh3d": [
           {
            "colorbar": {
             "outlinewidth": 0,
             "ticks": ""
            },
            "type": "mesh3d"
           }
          ],
          "parcoords": [
           {
            "line": {
             "colorbar": {
              "outlinewidth": 0,
              "ticks": ""
             }
            },
            "type": "parcoords"
           }
          ],
          "pie": [
           {
            "automargin": true,
            "type": "pie"
           }
          ],
          "scatter": [
           {
            "fillpattern": {
             "fillmode": "overlay",
             "size": 10,
             "solidity": 0.2
            },
            "type": "scatter"
           }
          ],
          "scatter3d": [
           {
            "line": {
             "colorbar": {
              "outlinewidth": 0,
              "ticks": ""
             }
            },
            "marker": {
             "colorbar": {
              "outlinewidth": 0,
              "ticks": ""
             }
            },
            "type": "scatter3d"
           }
          ],
          "scattercarpet": [
           {
            "marker": {
             "colorbar": {
              "outlinewidth": 0,
              "ticks": ""
             }
            },
            "type": "scattercarpet"
           }
          ],
          "scattergeo": [
           {
            "marker": {
             "colorbar": {
              "outlinewidth": 0,
              "ticks": ""
             }
            },
            "type": "scattergeo"
           }
          ],
          "scattergl": [
           {
            "marker": {
             "colorbar": {
              "outlinewidth": 0,
              "ticks": ""
             }
            },
            "type": "scattergl"
           }
          ],
          "scattermapbox": [
           {
            "marker": {
             "colorbar": {
              "outlinewidth": 0,
              "ticks": ""
             }
            },
            "type": "scattermapbox"
           }
          ],
          "scatterpolar": [
           {
            "marker": {
             "colorbar": {
              "outlinewidth": 0,
              "ticks": ""
             }
            },
            "type": "scatterpolar"
           }
          ],
          "scatterpolargl": [
           {
            "marker": {
             "colorbar": {
              "outlinewidth": 0,
              "ticks": ""
             }
            },
            "type": "scatterpolargl"
           }
          ],
          "scatterternary": [
           {
            "marker": {
             "colorbar": {
              "outlinewidth": 0,
              "ticks": ""
             }
            },
            "type": "scatterternary"
           }
          ],
          "surface": [
           {
            "colorbar": {
             "outlinewidth": 0,
             "ticks": ""
            },
            "colorscale": [
             [
              0,
              "#0d0887"
             ],
             [
              0.1111111111111111,
              "#46039f"
             ],
             [
              0.2222222222222222,
              "#7201a8"
             ],
             [
              0.3333333333333333,
              "#9c179e"
             ],
             [
              0.4444444444444444,
              "#bd3786"
             ],
             [
              0.5555555555555556,
              "#d8576b"
             ],
             [
              0.6666666666666666,
              "#ed7953"
             ],
             [
              0.7777777777777778,
              "#fb9f3a"
             ],
             [
              0.8888888888888888,
              "#fdca26"
             ],
             [
              1,
              "#f0f921"
             ]
            ],
            "type": "surface"
           }
          ],
          "table": [
           {
            "cells": {
             "fill": {
              "color": "#EBF0F8"
             },
             "line": {
              "color": "white"
             }
            },
            "header": {
             "fill": {
              "color": "#C8D4E3"
             },
             "line": {
              "color": "white"
             }
            },
            "type": "table"
           }
          ]
         },
         "layout": {
          "annotationdefaults": {
           "arrowcolor": "#2a3f5f",
           "arrowhead": 0,
           "arrowwidth": 1
          },
          "autotypenumbers": "strict",
          "coloraxis": {
           "colorbar": {
            "outlinewidth": 0,
            "ticks": ""
           }
          },
          "colorscale": {
           "diverging": [
            [
             0,
             "#8e0152"
            ],
            [
             0.1,
             "#c51b7d"
            ],
            [
             0.2,
             "#de77ae"
            ],
            [
             0.3,
             "#f1b6da"
            ],
            [
             0.4,
             "#fde0ef"
            ],
            [
             0.5,
             "#f7f7f7"
            ],
            [
             0.6,
             "#e6f5d0"
            ],
            [
             0.7,
             "#b8e186"
            ],
            [
             0.8,
             "#7fbc41"
            ],
            [
             0.9,
             "#4d9221"
            ],
            [
             1,
             "#276419"
            ]
           ],
           "sequential": [
            [
             0,
             "#0d0887"
            ],
            [
             0.1111111111111111,
             "#46039f"
            ],
            [
             0.2222222222222222,
             "#7201a8"
            ],
            [
             0.3333333333333333,
             "#9c179e"
            ],
            [
             0.4444444444444444,
             "#bd3786"
            ],
            [
             0.5555555555555556,
             "#d8576b"
            ],
            [
             0.6666666666666666,
             "#ed7953"
            ],
            [
             0.7777777777777778,
             "#fb9f3a"
            ],
            [
             0.8888888888888888,
             "#fdca26"
            ],
            [
             1,
             "#f0f921"
            ]
           ],
           "sequentialminus": [
            [
             0,
             "#0d0887"
            ],
            [
             0.1111111111111111,
             "#46039f"
            ],
            [
             0.2222222222222222,
             "#7201a8"
            ],
            [
             0.3333333333333333,
             "#9c179e"
            ],
            [
             0.4444444444444444,
             "#bd3786"
            ],
            [
             0.5555555555555556,
             "#d8576b"
            ],
            [
             0.6666666666666666,
             "#ed7953"
            ],
            [
             0.7777777777777778,
             "#fb9f3a"
            ],
            [
             0.8888888888888888,
             "#fdca26"
            ],
            [
             1,
             "#f0f921"
            ]
           ]
          },
          "colorway": [
           "#636efa",
           "#EF553B",
           "#00cc96",
           "#ab63fa",
           "#FFA15A",
           "#19d3f3",
           "#FF6692",
           "#B6E880",
           "#FF97FF",
           "#FECB52"
          ],
          "font": {
           "color": "#2a3f5f"
          },
          "geo": {
           "bgcolor": "white",
           "lakecolor": "white",
           "landcolor": "#E5ECF6",
           "showlakes": true,
           "showland": true,
           "subunitcolor": "white"
          },
          "hoverlabel": {
           "align": "left"
          },
          "hovermode": "closest",
          "mapbox": {
           "style": "light"
          },
          "paper_bgcolor": "white",
          "plot_bgcolor": "#E5ECF6",
          "polar": {
           "angularaxis": {
            "gridcolor": "white",
            "linecolor": "white",
            "ticks": ""
           },
           "bgcolor": "#E5ECF6",
           "radialaxis": {
            "gridcolor": "white",
            "linecolor": "white",
            "ticks": ""
           }
          },
          "scene": {
           "xaxis": {
            "backgroundcolor": "#E5ECF6",
            "gridcolor": "white",
            "gridwidth": 2,
            "linecolor": "white",
            "showbackground": true,
            "ticks": "",
            "zerolinecolor": "white"
           },
           "yaxis": {
            "backgroundcolor": "#E5ECF6",
            "gridcolor": "white",
            "gridwidth": 2,
            "linecolor": "white",
            "showbackground": true,
            "ticks": "",
            "zerolinecolor": "white"
           },
           "zaxis": {
            "backgroundcolor": "#E5ECF6",
            "gridcolor": "white",
            "gridwidth": 2,
            "linecolor": "white",
            "showbackground": true,
            "ticks": "",
            "zerolinecolor": "white"
           }
          },
          "shapedefaults": {
           "line": {
            "color": "#2a3f5f"
           }
          },
          "ternary": {
           "aaxis": {
            "gridcolor": "white",
            "linecolor": "white",
            "ticks": ""
           },
           "baxis": {
            "gridcolor": "white",
            "linecolor": "white",
            "ticks": ""
           },
           "bgcolor": "#E5ECF6",
           "caxis": {
            "gridcolor": "white",
            "linecolor": "white",
            "ticks": ""
           }
          },
          "title": {
           "x": 0.05
          },
          "xaxis": {
           "automargin": true,
           "gridcolor": "white",
           "linecolor": "white",
           "ticks": "",
           "title": {
            "standoff": 15
           },
           "zerolinecolor": "white",
           "zerolinewidth": 2
          },
          "yaxis": {
           "automargin": true,
           "gridcolor": "white",
           "linecolor": "white",
           "ticks": "",
           "title": {
            "standoff": 15
           },
           "zerolinecolor": "white",
           "zerolinewidth": 2
          }
         }
        },
        "title": {
         "text": "Male and Female Winners by Category"
        },
        "xaxis": {
         "anchor": "y",
         "domain": [
          0,
          1
         ],
         "title": {
          "text": "Nobel Prize Category"
         }
        },
        "yaxis": {
         "anchor": "x",
         "domain": [
          0,
          1
         ],
         "title": {
          "text": "Number of Prizes"
         }
        }
       }
      },
      "text/html": [
       "<div>                            <div id=\"f97bc7f0-8362-49cf-8b79-52933f8c7e5c\" class=\"plotly-graph-div\" style=\"height:525px; width:100%;\"></div>            <script type=\"text/javascript\">                require([\"plotly\"], function(Plotly) {                    window.PLOTLYENV=window.PLOTLYENV || {};                                    if (document.getElementById(\"f97bc7f0-8362-49cf-8b79-52933f8c7e5c\")) {                    Plotly.newPlot(                        \"f97bc7f0-8362-49cf-8b79-52933f8c7e5c\",                        [{\"alignmentgroup\":\"True\",\"hovertemplate\":\"sex=Female<br>category=%{x}<br>prize=%{y}<extra></extra>\",\"legendgroup\":\"Female\",\"marker\":{\"color\":\"#636efa\",\"pattern\":{\"shape\":\"\"}},\"name\":\"Female\",\"offsetgroup\":\"Female\",\"orientation\":\"v\",\"showlegend\":true,\"textposition\":\"auto\",\"x\":[\"Chemistry\",\"Economics\",\"Literature\",\"Medicine\",\"Peace\",\"Physics\"],\"xaxis\":\"x\",\"y\":[7,2,16,12,17,4],\"yaxis\":\"y\",\"type\":\"bar\"},{\"alignmentgroup\":\"True\",\"hovertemplate\":\"sex=Male<br>category=%{x}<br>prize=%{y}<extra></extra>\",\"legendgroup\":\"Male\",\"marker\":{\"color\":\"#EF553B\",\"pattern\":{\"shape\":\"\"}},\"name\":\"Male\",\"offsetgroup\":\"Male\",\"orientation\":\"v\",\"showlegend\":true,\"textposition\":\"auto\",\"x\":[\"Chemistry\",\"Economics\",\"Literature\",\"Medicine\",\"Peace\",\"Physics\"],\"xaxis\":\"x\",\"y\":[179,84,101,210,90,212],\"yaxis\":\"y\",\"type\":\"bar\"}],                        {\"template\":{\"data\":{\"histogram2dcontour\":[{\"type\":\"histogram2dcontour\",\"colorbar\":{\"outlinewidth\":0,\"ticks\":\"\"},\"colorscale\":[[0.0,\"#0d0887\"],[0.1111111111111111,\"#46039f\"],[0.2222222222222222,\"#7201a8\"],[0.3333333333333333,\"#9c179e\"],[0.4444444444444444,\"#bd3786\"],[0.5555555555555556,\"#d8576b\"],[0.6666666666666666,\"#ed7953\"],[0.7777777777777778,\"#fb9f3a\"],[0.8888888888888888,\"#fdca26\"],[1.0,\"#f0f921\"]]}],\"choropleth\":[{\"type\":\"choropleth\",\"colorbar\":{\"outlinewidth\":0,\"ticks\":\"\"}}],\"histogram2d\":[{\"type\":\"histogram2d\",\"colorbar\":{\"outlinewidth\":0,\"ticks\":\"\"},\"colorscale\":[[0.0,\"#0d0887\"],[0.1111111111111111,\"#46039f\"],[0.2222222222222222,\"#7201a8\"],[0.3333333333333333,\"#9c179e\"],[0.4444444444444444,\"#bd3786\"],[0.5555555555555556,\"#d8576b\"],[0.6666666666666666,\"#ed7953\"],[0.7777777777777778,\"#fb9f3a\"],[0.8888888888888888,\"#fdca26\"],[1.0,\"#f0f921\"]]}],\"heatmap\":[{\"type\":\"heatmap\",\"colorbar\":{\"outlinewidth\":0,\"ticks\":\"\"},\"colorscale\":[[0.0,\"#0d0887\"],[0.1111111111111111,\"#46039f\"],[0.2222222222222222,\"#7201a8\"],[0.3333333333333333,\"#9c179e\"],[0.4444444444444444,\"#bd3786\"],[0.5555555555555556,\"#d8576b\"],[0.6666666666666666,\"#ed7953\"],[0.7777777777777778,\"#fb9f3a\"],[0.8888888888888888,\"#fdca26\"],[1.0,\"#f0f921\"]]}],\"heatmapgl\":[{\"type\":\"heatmapgl\",\"colorbar\":{\"outlinewidth\":0,\"ticks\":\"\"},\"colorscale\":[[0.0,\"#0d0887\"],[0.1111111111111111,\"#46039f\"],[0.2222222222222222,\"#7201a8\"],[0.3333333333333333,\"#9c179e\"],[0.4444444444444444,\"#bd3786\"],[0.5555555555555556,\"#d8576b\"],[0.6666666666666666,\"#ed7953\"],[0.7777777777777778,\"#fb9f3a\"],[0.8888888888888888,\"#fdca26\"],[1.0,\"#f0f921\"]]}],\"contourcarpet\":[{\"type\":\"contourcarpet\",\"colorbar\":{\"outlinewidth\":0,\"ticks\":\"\"}}],\"contour\":[{\"type\":\"contour\",\"colorbar\":{\"outlinewidth\":0,\"ticks\":\"\"},\"colorscale\":[[0.0,\"#0d0887\"],[0.1111111111111111,\"#46039f\"],[0.2222222222222222,\"#7201a8\"],[0.3333333333333333,\"#9c179e\"],[0.4444444444444444,\"#bd3786\"],[0.5555555555555556,\"#d8576b\"],[0.6666666666666666,\"#ed7953\"],[0.7777777777777778,\"#fb9f3a\"],[0.8888888888888888,\"#fdca26\"],[1.0,\"#f0f921\"]]}],\"surface\":[{\"type\":\"surface\",\"colorbar\":{\"outlinewidth\":0,\"ticks\":\"\"},\"colorscale\":[[0.0,\"#0d0887\"],[0.1111111111111111,\"#46039f\"],[0.2222222222222222,\"#7201a8\"],[0.3333333333333333,\"#9c179e\"],[0.4444444444444444,\"#bd3786\"],[0.5555555555555556,\"#d8576b\"],[0.6666666666666666,\"#ed7953\"],[0.7777777777777778,\"#fb9f3a\"],[0.8888888888888888,\"#fdca26\"],[1.0,\"#f0f921\"]]}],\"mesh3d\":[{\"type\":\"mesh3d\",\"colorbar\":{\"outlinewidth\":0,\"ticks\":\"\"}}],\"scatter\":[{\"fillpattern\":{\"fillmode\":\"overlay\",\"size\":10,\"solidity\":0.2},\"type\":\"scatter\"}],\"parcoords\":[{\"type\":\"parcoords\",\"line\":{\"colorbar\":{\"outlinewidth\":0,\"ticks\":\"\"}}}],\"scatterpolargl\":[{\"type\":\"scatterpolargl\",\"marker\":{\"colorbar\":{\"outlinewidth\":0,\"ticks\":\"\"}}}],\"bar\":[{\"error_x\":{\"color\":\"#2a3f5f\"},\"error_y\":{\"color\":\"#2a3f5f\"},\"marker\":{\"line\":{\"color\":\"#E5ECF6\",\"width\":0.5},\"pattern\":{\"fillmode\":\"overlay\",\"size\":10,\"solidity\":0.2}},\"type\":\"bar\"}],\"scattergeo\":[{\"type\":\"scattergeo\",\"marker\":{\"colorbar\":{\"outlinewidth\":0,\"ticks\":\"\"}}}],\"scatterpolar\":[{\"type\":\"scatterpolar\",\"marker\":{\"colorbar\":{\"outlinewidth\":0,\"ticks\":\"\"}}}],\"histogram\":[{\"marker\":{\"pattern\":{\"fillmode\":\"overlay\",\"size\":10,\"solidity\":0.2}},\"type\":\"histogram\"}],\"scattergl\":[{\"type\":\"scattergl\",\"marker\":{\"colorbar\":{\"outlinewidth\":0,\"ticks\":\"\"}}}],\"scatter3d\":[{\"type\":\"scatter3d\",\"line\":{\"colorbar\":{\"outlinewidth\":0,\"ticks\":\"\"}},\"marker\":{\"colorbar\":{\"outlinewidth\":0,\"ticks\":\"\"}}}],\"scattermapbox\":[{\"type\":\"scattermapbox\",\"marker\":{\"colorbar\":{\"outlinewidth\":0,\"ticks\":\"\"}}}],\"scatterternary\":[{\"type\":\"scatterternary\",\"marker\":{\"colorbar\":{\"outlinewidth\":0,\"ticks\":\"\"}}}],\"scattercarpet\":[{\"type\":\"scattercarpet\",\"marker\":{\"colorbar\":{\"outlinewidth\":0,\"ticks\":\"\"}}}],\"carpet\":[{\"aaxis\":{\"endlinecolor\":\"#2a3f5f\",\"gridcolor\":\"white\",\"linecolor\":\"white\",\"minorgridcolor\":\"white\",\"startlinecolor\":\"#2a3f5f\"},\"baxis\":{\"endlinecolor\":\"#2a3f5f\",\"gridcolor\":\"white\",\"linecolor\":\"white\",\"minorgridcolor\":\"white\",\"startlinecolor\":\"#2a3f5f\"},\"type\":\"carpet\"}],\"table\":[{\"cells\":{\"fill\":{\"color\":\"#EBF0F8\"},\"line\":{\"color\":\"white\"}},\"header\":{\"fill\":{\"color\":\"#C8D4E3\"},\"line\":{\"color\":\"white\"}},\"type\":\"table\"}],\"barpolar\":[{\"marker\":{\"line\":{\"color\":\"#E5ECF6\",\"width\":0.5},\"pattern\":{\"fillmode\":\"overlay\",\"size\":10,\"solidity\":0.2}},\"type\":\"barpolar\"}],\"pie\":[{\"automargin\":true,\"type\":\"pie\"}]},\"layout\":{\"autotypenumbers\":\"strict\",\"colorway\":[\"#636efa\",\"#EF553B\",\"#00cc96\",\"#ab63fa\",\"#FFA15A\",\"#19d3f3\",\"#FF6692\",\"#B6E880\",\"#FF97FF\",\"#FECB52\"],\"font\":{\"color\":\"#2a3f5f\"},\"hovermode\":\"closest\",\"hoverlabel\":{\"align\":\"left\"},\"paper_bgcolor\":\"white\",\"plot_bgcolor\":\"#E5ECF6\",\"polar\":{\"bgcolor\":\"#E5ECF6\",\"angularaxis\":{\"gridcolor\":\"white\",\"linecolor\":\"white\",\"ticks\":\"\"},\"radialaxis\":{\"gridcolor\":\"white\",\"linecolor\":\"white\",\"ticks\":\"\"}},\"ternary\":{\"bgcolor\":\"#E5ECF6\",\"aaxis\":{\"gridcolor\":\"white\",\"linecolor\":\"white\",\"ticks\":\"\"},\"baxis\":{\"gridcolor\":\"white\",\"linecolor\":\"white\",\"ticks\":\"\"},\"caxis\":{\"gridcolor\":\"white\",\"linecolor\":\"white\",\"ticks\":\"\"}},\"coloraxis\":{\"colorbar\":{\"outlinewidth\":0,\"ticks\":\"\"}},\"colorscale\":{\"sequential\":[[0.0,\"#0d0887\"],[0.1111111111111111,\"#46039f\"],[0.2222222222222222,\"#7201a8\"],[0.3333333333333333,\"#9c179e\"],[0.4444444444444444,\"#bd3786\"],[0.5555555555555556,\"#d8576b\"],[0.6666666666666666,\"#ed7953\"],[0.7777777777777778,\"#fb9f3a\"],[0.8888888888888888,\"#fdca26\"],[1.0,\"#f0f921\"]],\"sequentialminus\":[[0.0,\"#0d0887\"],[0.1111111111111111,\"#46039f\"],[0.2222222222222222,\"#7201a8\"],[0.3333333333333333,\"#9c179e\"],[0.4444444444444444,\"#bd3786\"],[0.5555555555555556,\"#d8576b\"],[0.6666666666666666,\"#ed7953\"],[0.7777777777777778,\"#fb9f3a\"],[0.8888888888888888,\"#fdca26\"],[1.0,\"#f0f921\"]],\"diverging\":[[0,\"#8e0152\"],[0.1,\"#c51b7d\"],[0.2,\"#de77ae\"],[0.3,\"#f1b6da\"],[0.4,\"#fde0ef\"],[0.5,\"#f7f7f7\"],[0.6,\"#e6f5d0\"],[0.7,\"#b8e186\"],[0.8,\"#7fbc41\"],[0.9,\"#4d9221\"],[1,\"#276419\"]]},\"xaxis\":{\"gridcolor\":\"white\",\"linecolor\":\"white\",\"ticks\":\"\",\"title\":{\"standoff\":15},\"zerolinecolor\":\"white\",\"automargin\":true,\"zerolinewidth\":2},\"yaxis\":{\"gridcolor\":\"white\",\"linecolor\":\"white\",\"ticks\":\"\",\"title\":{\"standoff\":15},\"zerolinecolor\":\"white\",\"automargin\":true,\"zerolinewidth\":2},\"scene\":{\"xaxis\":{\"backgroundcolor\":\"#E5ECF6\",\"gridcolor\":\"white\",\"linecolor\":\"white\",\"showbackground\":true,\"ticks\":\"\",\"zerolinecolor\":\"white\",\"gridwidth\":2},\"yaxis\":{\"backgroundcolor\":\"#E5ECF6\",\"gridcolor\":\"white\",\"linecolor\":\"white\",\"showbackground\":true,\"ticks\":\"\",\"zerolinecolor\":\"white\",\"gridwidth\":2},\"zaxis\":{\"backgroundcolor\":\"#E5ECF6\",\"gridcolor\":\"white\",\"linecolor\":\"white\",\"showbackground\":true,\"ticks\":\"\",\"zerolinecolor\":\"white\",\"gridwidth\":2}},\"shapedefaults\":{\"line\":{\"color\":\"#2a3f5f\"}},\"annotationdefaults\":{\"arrowcolor\":\"#2a3f5f\",\"arrowhead\":0,\"arrowwidth\":1},\"geo\":{\"bgcolor\":\"white\",\"landcolor\":\"#E5ECF6\",\"subunitcolor\":\"white\",\"showland\":true,\"showlakes\":true,\"lakecolor\":\"white\"},\"title\":{\"x\":0.05},\"mapbox\":{\"style\":\"light\"}}},\"xaxis\":{\"anchor\":\"y\",\"domain\":[0.0,1.0],\"title\":{\"text\":\"Nobel Prize Category\"}},\"yaxis\":{\"anchor\":\"x\",\"domain\":[0.0,1.0],\"title\":{\"text\":\"Number of Prizes\"}},\"legend\":{\"title\":{\"text\":\"sex\"},\"tracegroupgap\":0},\"title\":{\"text\":\"Male and Female Winners by Category\"},\"barmode\":\"stack\"},                        {\"responsive\": true}                    ).then(function(){\n",
       "                            \n",
       "var gd = document.getElementById('f97bc7f0-8362-49cf-8b79-52933f8c7e5c');\n",
       "var x = new MutationObserver(function (mutations, observer) {{\n",
       "        var display = window.getComputedStyle(gd).display;\n",
       "        if (!display || display === 'none') {{\n",
       "            console.log([gd, 'removed!']);\n",
       "            Plotly.purge(gd);\n",
       "            observer.disconnect();\n",
       "        }}\n",
       "}});\n",
       "\n",
       "// Listen for the removal of the full notebook cells\n",
       "var notebookContainer = gd.closest('#notebook-container');\n",
       "if (notebookContainer) {{\n",
       "    x.observe(notebookContainer, {childList: true});\n",
       "}}\n",
       "\n",
       "// Listen for the clearing of the current output cell\n",
       "var outputEl = gd.closest('.output');\n",
       "if (outputEl) {{\n",
       "    x.observe(outputEl, {childList: true});\n",
       "}}\n",
       "\n",
       "                        })                };                });            </script>        </div>"
      ]
     },
     "metadata": {},
     "output_type": "display_data"
    }
   ],
   "source": [
    "genders = df_data.groupby([\"category\", \"sex\"], as_index=False).agg({\"prize\":pd.Series.count})\n",
    "\n",
    "bar = px.bar(\n",
    "    genders,\n",
    "    x=genders[\"category\"],\n",
    "    y=genders[\"prize\"],\n",
    "    title=\"Male and Female Winners by Category\",\n",
    "    color=genders[\"sex\"],\n",
    "    barmode=\"stack\"\n",
    ")\n",
    "\n",
    "bar.update_layout(\n",
    "    xaxis_title=\"Nobel Prize Category\",\n",
    "    yaxis_title=\"Number of Prizes\"\n",
    ")\n",
    "\n",
    "bar.show()"
   ]
  },
  {
   "cell_type": "markdown",
   "metadata": {
    "id": "CpHaV-ZDo7MD"
   },
   "source": [
    "# Number of Prizes Awarded Over Time\n",
    "\n",
    "**Challenge**: Are more prizes awarded recently than when the prize was first created? Show the trend in awards visually. \n",
    "* Count the number of prizes awarded every year. \n",
    "* Create a 5 year rolling average of the number of prizes (Hint: see previous lessons analysing Google Trends).\n",
    "* Using Matplotlib superimpose the rolling average on a scatter plot.\n",
    "* Show a tick mark on the x-axis for every 5 years from 1900 to 2020. (Hint: you'll need to use NumPy). \n",
    "\n",
    "<img src=https://i.imgur.com/4jqYuWC.png width=650>\n",
    "\n",
    "* Use the [named colours](https://matplotlib.org/3.1.0/gallery/color/named_colors.html) to draw the data points in `dogerblue` while the rolling average is coloured in `crimson`. \n",
    "\n",
    "<img src=https://i.imgur.com/u3RlcJn.png width=350>\n",
    "\n",
    "* Looking at the chart, did the first and second world wars have an impact on the number of prizes being given out? \n",
    "* What could be the reason for the trend in the chart?\n"
   ]
  },
  {
   "cell_type": "code",
   "execution_count": 81,
   "metadata": {
    "id": "gD316Xp5Ftsj"
   },
   "outputs": [],
   "source": [
    "prizes_per_year = df_data.groupby(\"year\").count()[\"prize\"]\n",
    "\n",
    "moving_average = prizes_per_year.rolling(window=5).mean()"
   ]
  },
  {
   "cell_type": "code",
   "execution_count": 94,
   "metadata": {
    "id": "Jjm3G7VHFtx1"
   },
   "outputs": [
    {
     "data": {
      "image/png": "[encoded data removed]",
      "text/plain": [
       "<Figure size 1600x800 with 1 Axes>"
      ]
     },
     "metadata": {
      "needs_background": "light"
     },
     "output_type": "display_data"
    }
   ],
   "source": [
    "plt.figure(figsize=(8,4), dpi=200)\n",
    "\n",
    "with sns.axes_style(\"darkgrid\"):\n",
    "    ax = sns.scatterplot(\n",
    "        data=prizes_per_year,\n",
    "        x=prizes_per_year.index,\n",
    "        y=prizes_per_year.values,\n",
    "        color=\"dodgerblue\"\n",
    "    )\n",
    "\n",
    "    ax.set(\n",
    "        ylabel=\"Year\",\n",
    "        xlabel=\"Number of Prizes\"\n",
    "    )\n",
    "\n",
    "plt.plot(\n",
    "    moving_average.index,\n",
    "    moving_average.values,\n",
    "    c=\"crimson\",\n",
    "    linewidth=3\n",
    ")\n",
    "\n",
    "plt.show()"
   ]
  },
  {
   "cell_type": "markdown",
   "metadata": {
    "id": "gZWAAkdJo7MJ"
   },
   "source": [
    "# Are More Prizes Shared Than Before?\n",
    "\n",
    "**Challenge**: Investigate if more prizes are shared than before. \n",
    "\n",
    "* Calculate the average prize share of the winners on a year by year basis.\n",
    "* Calculate the 5 year rolling average of the percentage share.\n",
    "* Copy-paste the cell from the chart you created above.\n",
    "* Modify the code to add a secondary axis to your Matplotlib chart.\n",
    "* Plot the rolling average of the prize share on this chart. \n",
    "* See if you can invert the secondary y-axis to make the relationship even more clear. "
   ]
  },
  {
   "cell_type": "code",
   "execution_count": 102,
   "metadata": {
    "id": "If8-ZFoOFwph"
   },
   "outputs": [],
   "source": [
    "ave_prize_share_yearly = df_data.groupby(\"year\").agg({\"share_pct\":pd.Series.mean})\n",
    "rolling_average_prize_yearly = ave_prize_share_yearly.rolling(window=5).mean()"
   ]
  },
  {
   "cell_type": "code",
   "execution_count": 105,
   "metadata": {
    "id": "QRen05_6Fw0y"
   },
   "outputs": [
    {
     "data": {
      "image/png": "[encoded data removed]",
      "text/plain": [
       "<Figure size 1600x800 with 2 Axes>"
      ]
     },
     "metadata": {
      "needs_background": "light"
     },
     "output_type": "display_data"
    }
   ],
   "source": [
    "# Previous chart now with this additional rolling average\n",
    "plt.figure(figsize=(8,4), dpi=200)\n",
    "\n",
    "with sns.axes_style(\"darkgrid\"):\n",
    "    ax = sns.scatterplot(\n",
    "        data=prizes_per_year,\n",
    "        x=prizes_per_year.index,\n",
    "        y=prizes_per_year.values,\n",
    "        color=\"dodgerblue\"\n",
    "    )\n",
    "\n",
    "    ax.set(\n",
    "        ylabel=\"Year\",\n",
    "        xlabel=\"Number of Prizes\"\n",
    "    )\n",
    "\n",
    "ax1 = plt.gca()\n",
    "ax2 = ax1.twinx()\n",
    "\n",
    "# Can invert axis\n",
    "ax2.invert_yaxis()\n",
    "\n",
    "ax1.plot(\n",
    "    moving_average.index,\n",
    "    moving_average.values,\n",
    "    c=\"crimson\",\n",
    "    linewidth=2\n",
    ")\n",
    "\n",
    "ax2.plot(\n",
    "    rolling_average_prize_yearly.index,\n",
    "    rolling_average_prize_yearly.values,\n",
    "    c=\"skyblue\",\n",
    "    linewidth=2\n",
    ")\n",
    "\n",
    "plt.show()"
   ]
  },
  {
   "cell_type": "markdown",
   "metadata": {
    "dc": {
     "key": "3"
    },
    "id": "L32lWu0Oo7MM",
    "run_control": {
     "frozen": true
    },
    "tags": [
     "context"
    ]
   },
   "source": [
    "# The Countries with the Most Nobel Prizes"
   ]
  },
  {
   "cell_type": "markdown",
   "metadata": {
    "id": "UipIHU54o7MN"
   },
   "source": [
    "**Challenge**: \n",
    "* Create a Pandas DataFrame called `top20_countries` that has the two columns. The `prize` column should contain the total number of prizes won. \n",
    "\n",
    "<img src=https://i.imgur.com/6HM8rfB.png width=350>\n",
    "\n",
    "* Is it best to use `birth_country`, `birth_country_current` or `organization_country`? \n",
    "* What are some potential problems when using `birth_country` or any of the others? Which column is the least problematic? \n",
    "* Then use plotly to create a horizontal bar chart showing the number of prizes won by each country. Here's what you're after:\n",
    "\n",
    "<img src=https://i.imgur.com/agcJdRS.png width=750>\n",
    "\n",
    "* What is the ranking for the top 20 countries in terms of the number of prizes?"
   ]
  },
  {
   "cell_type": "code",
   "execution_count": 125,
   "metadata": {
    "id": "cscYI4BvFzjC"
   },
   "outputs": [],
   "source": [
    "top20_countries = df_data.groupby(\"birth_country_current\", as_index=False).agg({\"prize\":pd.Series.count}).sort_values(by=\"prize\")\n",
    "top20_countries = top20_countries[-20:]"
   ]
  },
  {
   "cell_type": "code",
   "execution_count": 159,
   "metadata": {
    "id": "Zl2rqcVKFz9P"
   },
   "outputs": [
    {
     "data": {
      "application/vnd.plotly.v1+json": {
       "config": {
        "plotlyServerURL": "https://plot.ly"
       },
       "data": [
        {
         "alignmentgroup": "True",
         "hovertemplate": "prize=%{marker.color}<br>birth_country_current=%{y}<extra></extra>",
         "legendgroup": "",
         "marker": {
          "color": [
           9,
           9,
           9,
           10,
           12,
           12,
           12,
           18,
           18,
           19,
           19,
           20,
           26,
           27,
           27,
           29,
           57,
           84,
           105,
           281
          ],
          "coloraxis": "coloraxis",
          "pattern": {
           "shape": ""
          }
         },
         "name": "",
         "offsetgroup": "",
         "orientation": "h",
         "showlegend": false,
         "textposition": "auto",
         "type": "bar",
         "x": [
          9,
          9,
          9,
          10,
          12,
          12,
          12,
          18,
          18,
          19,
          19,
          20,
          26,
          27,
          27,
          29,
          57,
          84,
          105,
          281
         ],
         "xaxis": "x",
         "y": [
          "Belgium",
          "Hungary",
          "India",
          "Australia",
          "Denmark",
          "Norway",
          "China",
          "Netherlands",
          "Austria",
          "Italy",
          "Switzerland",
          "Canada",
          "Russia",
          "Japan",
          "Poland",
          "Sweden",
          "France",
          "Germany",
          "United Kingdom",
          "United States of America"
         ],
         "yaxis": "y"
        }
       ],
       "layout": {
        "barmode": "relative",
        "coloraxis": {
         "colorbar": {
          "title": {
           "text": "prize"
          }
         },
         "colorscale": [
          [
           0,
           "rgb(75, 41, 145)"
          ],
          [
           0.16666666666666666,
           "rgb(135, 44, 162)"
          ],
          [
           0.3333333333333333,
           "rgb(192, 54, 157)"
          ],
          [
           0.5,
           "rgb(234, 79, 136)"
          ],
          [
           0.6666666666666666,
           "rgb(250, 120, 118)"
          ],
          [
           0.8333333333333334,
           "rgb(246, 169, 122)"
          ],
          [
           1,
           "rgb(237, 217, 163)"
          ]
         ],
         "showscale": false
        },
        "legend": {
         "tracegroupgap": 0
        },
        "template": {
         "data": {
          "bar": [
           {
            "error_x": {
             "color": "#2a3f5f"
            },
            "error_y": {
             "color": "#2a3f5f"
            },
            "marker": {
             "line": {
              "color": "#E5ECF6",
              "width": 0.5
             },
             "pattern": {
              "fillmode": "overlay",
              "size": 10,
              "solidity": 0.2
             }
            },
            "type": "bar"
           }
          ],
          "barpolar": [
           {
            "marker": {
             "line": {
              "color": "#E5ECF6",
              "width": 0.5
             },
             "pattern": {
              "fillmode": "overlay",
              "size": 10,
              "solidity": 0.2
             }
            },
            "type": "barpolar"
           }
          ],
          "carpet": [
           {
            "aaxis": {
             "endlinecolor": "#2a3f5f",
             "gridcolor": "white",
             "linecolor": "white",
             "minorgridcolor": "white",
             "startlinecolor": "#2a3f5f"
            },
            "baxis": {
             "endlinecolor": "#2a3f5f",
             "gridcolor": "white",
             "linecolor": "white",
             "minorgridcolor": "white",
             "startlinecolor": "#2a3f5f"
            },
            "type": "carpet"
           }
          ],
          "choropleth": [
           {
            "colorbar": {
             "outlinewidth": 0,
             "ticks": ""
            },
            "type": "choropleth"
           }
          ],
          "contour": [
           {
            "colorbar": {
             "outlinewidth": 0,
             "ticks": ""
            },
            "colorscale": [
             [
              0,
              "#0d0887"
             ],
             [
              0.1111111111111111,
              "#46039f"
             ],
             [
              0.2222222222222222,
              "#7201a8"
             ],
             [
              0.3333333333333333,
              "#9c179e"
             ],
             [
              0.4444444444444444,
              "#bd3786"
             ],
             [
              0.5555555555555556,
              "#d8576b"
             ],
             [
              0.6666666666666666,
              "#ed7953"
             ],
             [
              0.7777777777777778,
              "#fb9f3a"
             ],
             [
              0.8888888888888888,
              "#fdca26"
             ],
             [
              1,
              "#f0f921"
             ]
            ],
            "type": "contour"
           }
          ],
          "contourcarpet": [
           {
            "colorbar": {
             "outlinewidth": 0,
             "ticks": ""
            },
            "type": "contourcarpet"
           }
          ],
          "heatmap": [
           {
            "colorbar": {
             "outlinewidth": 0,
             "ticks": ""
            },
            "colorscale": [
             [
              0,
              "#0d0887"
             ],
             [
              0.1111111111111111,
              "#46039f"
             ],
             [
              0.2222222222222222,
              "#7201a8"
             ],
             [
              0.3333333333333333,
              "#9c179e"
             ],
             [
              0.4444444444444444,
              "#bd3786"
             ],
             [
              0.5555555555555556,
              "#d8576b"
             ],
             [
              0.6666666666666666,
              "#ed7953"
             ],
             [
              0.7777777777777778,
              "#fb9f3a"
             ],
             [
              0.8888888888888888,
              "#fdca26"
             ],
             [
              1,
              "#f0f921"
             ]
            ],
            "type": "heatmap"
           }
          ],
          "heatmapgl": [
           {
            "colorbar": {
             "outlinewidth": 0,
             "ticks": ""
            },
            "colorscale": [
             [
              0,
              "#0d0887"
             ],
             [
              0.1111111111111111,
              "#46039f"
             ],
             [
              0.2222222222222222,
              "#7201a8"
             ],
             [
              0.3333333333333333,
              "#9c179e"
             ],
             [
              0.4444444444444444,
              "#bd3786"
             ],
             [
              0.5555555555555556,
              "#d8576b"
             ],
             [
              0.6666666666666666,
              "#ed7953"
             ],
             [
              0.7777777777777778,
              "#fb9f3a"
             ],
             [
              0.8888888888888888,
              "#fdca26"
             ],
             [
              1,
              "#f0f921"
             ]
            ],
            "type": "heatmapgl"
           }
          ],
          "histogram": [
           {
            "marker": {
             "pattern": {
              "fillmode": "overlay",
              "size": 10,
              "solidity": 0.2
             }
            },
            "type": "histogram"
           }
          ],
          "histogram2d": [
           {
            "colorbar": {
             "outlinewidth": 0,
             "ticks": ""
            },
            "colorscale": [
             [
              0,
              "#0d0887"
             ],
             [
              0.1111111111111111,
              "#46039f"
             ],
             [
              0.2222222222222222,
              "#7201a8"
             ],
             [
              0.3333333333333333,
              "#9c179e"
             ],
             [
              0.4444444444444444,
              "#bd3786"
             ],
             [
              0.5555555555555556,
              "#d8576b"
             ],
             [
              0.6666666666666666,
              "#ed7953"
             ],
             [
              0.7777777777777778,
              "#fb9f3a"
             ],
             [
              0.8888888888888888,
              "#fdca26"
             ],
             [
              1,
              "#f0f921"
             ]
            ],
            "type": "histogram2d"
           }
          ],
          "histogram2dcontour": [
           {
            "colorbar": {
             "outlinewidth": 0,
             "ticks": ""
            },
            "colorscale": [
             [
              0,
              "#0d0887"
             ],
             [
              0.1111111111111111,
              "#46039f"
             ],
             [
              0.2222222222222222,
              "#7201a8"
             ],
             [
              0.3333333333333333,
              "#9c179e"
             ],
             [
              0.4444444444444444,
              "#bd3786"
             ],
             [
              0.5555555555555556,
              "#d8576b"
             ],
             [
              0.6666666666666666,
              "#ed7953"
             ],
             [
              0.7777777777777778,
              "#fb9f3a"
             ],
             [
              0.8888888888888888,
              "#fdca26"
             ],
             [
              1,
              "#f0f921"
             ]
            ],
            "type": "histogram2dcontour"
           }
          ],
          "mesh3d": [
           {
            "colorbar": {
             "outlinewidth": 0,
             "ticks": ""
            },
            "type": "mesh3d"
           }
          ],
          "parcoords": [
           {
            "line": {
             "colorbar": {
              "outlinewidth": 0,
              "ticks": ""
             }
            },
            "type": "parcoords"
           }
          ],
          "pie": [
           {
            "automargin": true,
            "type": "pie"
           }
          ],
          "scatter": [
           {
            "fillpattern": {
             "fillmode": "overlay",
             "size": 10,
             "solidity": 0.2
            },
            "type": "scatter"
           }
          ],
          "scatter3d": [
           {
            "line": {
             "colorbar": {
              "outlinewidth": 0,
              "ticks": ""
             }
            },
            "marker": {
             "colorbar": {
              "outlinewidth": 0,
              "ticks": ""
             }
            },
            "type": "scatter3d"
           }
          ],
          "scattercarpet": [
           {
            "marker": {
             "colorbar": {
              "outlinewidth": 0,
              "ticks": ""
             }
            },
            "type": "scattercarpet"
           }
          ],
          "scattergeo": [
           {
            "marker": {
             "colorbar": {
              "outlinewidth": 0,
              "ticks": ""
             }
            },
            "type": "scattergeo"
           }
          ],
          "scattergl": [
           {
            "marker": {
             "colorbar": {
              "outlinewidth": 0,
              "ticks": ""
             }
            },
            "type": "scattergl"
           }
          ],
          "scattermapbox": [
           {
            "marker": {
             "colorbar": {
              "outlinewidth": 0,
              "ticks": ""
             }
            },
            "type": "scattermapbox"
           }
          ],
          "scatterpolar": [
           {
            "marker": {
             "colorbar": {
              "outlinewidth": 0,
              "ticks": ""
             }
            },
            "type": "scatterpolar"
           }
          ],
          "scatterpolargl": [
           {
            "marker": {
             "colorbar": {
              "outlinewidth": 0,
              "ticks": ""
             }
            },
            "type": "scatterpolargl"
           }
          ],
          "scatterternary": [
           {
            "marker": {
             "colorbar": {
              "outlinewidth": 0,
              "ticks": ""
             }
            },
            "type": "scatterternary"
           }
          ],
          "surface": [
           {
            "colorbar": {
             "outlinewidth": 0,
             "ticks": ""
            },
            "colorscale": [
             [
              0,
              "#0d0887"
             ],
             [
              0.1111111111111111,
              "#46039f"
             ],
             [
              0.2222222222222222,
              "#7201a8"
             ],
             [
              0.3333333333333333,
              "#9c179e"
             ],
             [
              0.4444444444444444,
              "#bd3786"
             ],
             [
              0.5555555555555556,
              "#d8576b"
             ],
             [
              0.6666666666666666,
              "#ed7953"
             ],
             [
              0.7777777777777778,
              "#fb9f3a"
             ],
             [
              0.8888888888888888,
              "#fdca26"
             ],
             [
              1,
              "#f0f921"
             ]
            ],
            "type": "surface"
           }
          ],
          "table": [
           {
            "cells": {
             "fill": {
              "color": "#EBF0F8"
             },
             "line": {
              "color": "white"
             }
            },
            "header": {
             "fill": {
              "color": "#C8D4E3"
             },
             "line": {
              "color": "white"
             }
            },
            "type": "table"
           }
          ]
         },
         "layout": {
          "annotationdefaults": {
           "arrowcolor": "#2a3f5f",
           "arrowhead": 0,
           "arrowwidth": 1
          },
          "autotypenumbers": "strict",
          "coloraxis": {
           "colorbar": {
            "outlinewidth": 0,
            "ticks": ""
           }
          },
          "colorscale": {
           "diverging": [
            [
             0,
             "#8e0152"
            ],
            [
             0.1,
             "#c51b7d"
            ],
            [
             0.2,
             "#de77ae"
            ],
            [
             0.3,
             "#f1b6da"
            ],
            [
             0.4,
             "#fde0ef"
            ],
            [
             0.5,
             "#f7f7f7"
            ],
            [
             0.6,
             "#e6f5d0"
            ],
            [
             0.7,
             "#b8e186"
            ],
            [
             0.8,
             "#7fbc41"
            ],
            [
             0.9,
             "#4d9221"
            ],
            [
             1,
             "#276419"
            ]
           ],
           "sequential": [
            [
             0,
             "#0d0887"
            ],
            [
             0.1111111111111111,
             "#46039f"
            ],
            [
             0.2222222222222222,
             "#7201a8"
            ],
            [
             0.3333333333333333,
             "#9c179e"
            ],
            [
             0.4444444444444444,
             "#bd3786"
            ],
            [
             0.5555555555555556,
             "#d8576b"
            ],
            [
             0.6666666666666666,
             "#ed7953"
            ],
            [
             0.7777777777777778,
             "#fb9f3a"
            ],
            [
             0.8888888888888888,
             "#fdca26"
            ],
            [
             1,
             "#f0f921"
            ]
           ],
           "sequentialminus": [
            [
             0,
             "#0d0887"
            ],
            [
             0.1111111111111111,
             "#46039f"
            ],
            [
             0.2222222222222222,
             "#7201a8"
            ],
            [
             0.3333333333333333,
             "#9c179e"
            ],
            [
             0.4444444444444444,
             "#bd3786"
            ],
            [
             0.5555555555555556,
             "#d8576b"
            ],
            [
             0.6666666666666666,
             "#ed7953"
            ],
            [
             0.7777777777777778,
             "#fb9f3a"
            ],
            [
             0.8888888888888888,
             "#fdca26"
            ],
            [
             1,
             "#f0f921"
            ]
           ]
          },
          "colorway": [
           "#636efa",
           "#EF553B",
           "#00cc96",
           "#ab63fa",
           "#FFA15A",
           "#19d3f3",
           "#FF6692",
           "#B6E880",
           "#FF97FF",
           "#FECB52"
          ],
          "font": {
           "color": "#2a3f5f"
          },
          "geo": {
           "bgcolor": "white",
           "lakecolor": "white",
           "landcolor": "#E5ECF6",
           "showlakes": true,
           "showland": true,
           "subunitcolor": "white"
          },
          "hoverlabel": {
           "align": "left"
          },
          "hovermode": "closest",
          "mapbox": {
           "style": "light"
          },
          "paper_bgcolor": "white",
          "plot_bgcolor": "#E5ECF6",
          "polar": {
           "angularaxis": {
            "gridcolor": "white",
            "linecolor": "white",
            "ticks": ""
           },
           "bgcolor": "#E5ECF6",
           "radialaxis": {
            "gridcolor": "white",
            "linecolor": "white",
            "ticks": ""
           }
          },
          "scene": {
           "xaxis": {
            "backgroundcolor": "#E5ECF6",
            "gridcolor": "white",
            "gridwidth": 2,
            "linecolor": "white",
            "showbackground": true,
            "ticks": "",
            "zerolinecolor": "white"
           },
           "yaxis": {
            "backgroundcolor": "#E5ECF6",
            "gridcolor": "white",
            "gridwidth": 2,
            "linecolor": "white",
            "showbackground": true,
            "ticks": "",
            "zerolinecolor": "white"
           },
           "zaxis": {
            "backgroundcolor": "#E5ECF6",
            "gridcolor": "white",
            "gridwidth": 2,
            "linecolor": "white",
            "showbackground": true,
            "ticks": "",
            "zerolinecolor": "white"
           }
          },
          "shapedefaults": {
           "line": {
            "color": "#2a3f5f"
           }
          },
          "ternary": {
           "aaxis": {
            "gridcolor": "white",
            "linecolor": "white",
            "ticks": ""
           },
           "baxis": {
            "gridcolor": "white",
            "linecolor": "white",
            "ticks": ""
           },
           "bgcolor": "#E5ECF6",
           "caxis": {
            "gridcolor": "white",
            "linecolor": "white",
            "ticks": ""
           }
          },
          "title": {
           "x": 0.05
          },
          "xaxis": {
           "automargin": true,
           "gridcolor": "white",
           "linecolor": "white",
           "ticks": "",
           "title": {
            "standoff": 15
           },
           "zerolinecolor": "white",
           "zerolinewidth": 2
          },
          "yaxis": {
           "automargin": true,
           "gridcolor": "white",
           "linecolor": "white",
           "ticks": "",
           "title": {
            "standoff": 15
           },
           "zerolinecolor": "white",
           "zerolinewidth": 2
          }
         }
        },
        "title": {
         "text": "Countries with the Most Nobel Prizes"
        },
        "xaxis": {
         "anchor": "y",
         "domain": [
          0,
          1
         ],
         "title": {
          "text": "Number of Prizes"
         }
        },
        "yaxis": {
         "anchor": "x",
         "domain": [
          0,
          1
         ],
         "title": {
          "text": "Country"
         }
        }
       }
      },
      "text/html": [
       "<div>                            <div id=\"8c549f4f-1924-4313-b383-e620c22e72f8\" class=\"plotly-graph-div\" style=\"height:525px; width:100%;\"></div>            <script type=\"text/javascript\">                require([\"plotly\"], function(Plotly) {                    window.PLOTLYENV=window.PLOTLYENV || {};                                    if (document.getElementById(\"8c549f4f-1924-4313-b383-e620c22e72f8\")) {                    Plotly.newPlot(                        \"8c549f4f-1924-4313-b383-e620c22e72f8\",                        [{\"alignmentgroup\":\"True\",\"hovertemplate\":\"prize=%{marker.color}<br>birth_country_current=%{y}<extra></extra>\",\"legendgroup\":\"\",\"marker\":{\"color\":[9,9,9,10,12,12,12,18,18,19,19,20,26,27,27,29,57,84,105,281],\"coloraxis\":\"coloraxis\",\"pattern\":{\"shape\":\"\"}},\"name\":\"\",\"offsetgroup\":\"\",\"orientation\":\"h\",\"showlegend\":false,\"textposition\":\"auto\",\"x\":[9,9,9,10,12,12,12,18,18,19,19,20,26,27,27,29,57,84,105,281],\"xaxis\":\"x\",\"y\":[\"Belgium\",\"Hungary\",\"India\",\"Australia\",\"Denmark\",\"Norway\",\"China\",\"Netherlands\",\"Austria\",\"Italy\",\"Switzerland\",\"Canada\",\"Russia\",\"Japan\",\"Poland\",\"Sweden\",\"France\",\"Germany\",\"United Kingdom\",\"United States of America\"],\"yaxis\":\"y\",\"type\":\"bar\"}],                        {\"template\":{\"data\":{\"histogram2dcontour\":[{\"type\":\"histogram2dcontour\",\"colorbar\":{\"outlinewidth\":0,\"ticks\":\"\"},\"colorscale\":[[0.0,\"#0d0887\"],[0.1111111111111111,\"#46039f\"],[0.2222222222222222,\"#7201a8\"],[0.3333333333333333,\"#9c179e\"],[0.4444444444444444,\"#bd3786\"],[0.5555555555555556,\"#d8576b\"],[0.6666666666666666,\"#ed7953\"],[0.7777777777777778,\"#fb9f3a\"],[0.8888888888888888,\"#fdca26\"],[1.0,\"#f0f921\"]]}],\"choropleth\":[{\"type\":\"choropleth\",\"colorbar\":{\"outlinewidth\":0,\"ticks\":\"\"}}],\"histogram2d\":[{\"type\":\"histogram2d\",\"colorbar\":{\"outlinewidth\":0,\"ticks\":\"\"},\"colorscale\":[[0.0,\"#0d0887\"],[0.1111111111111111,\"#46039f\"],[0.2222222222222222,\"#7201a8\"],[0.3333333333333333,\"#9c179e\"],[0.4444444444444444,\"#bd3786\"],[0.5555555555555556,\"#d8576b\"],[0.6666666666666666,\"#ed7953\"],[0.7777777777777778,\"#fb9f3a\"],[0.8888888888888888,\"#fdca26\"],[1.0,\"#f0f921\"]]}],\"heatmap\":[{\"type\":\"heatmap\",\"colorbar\":{\"outlinewidth\":0,\"ticks\":\"\"},\"colorscale\":[[0.0,\"#0d0887\"],[0.1111111111111111,\"#46039f\"],[0.2222222222222222,\"#7201a8\"],[0.3333333333333333,\"#9c179e\"],[0.4444444444444444,\"#bd3786\"],[0.5555555555555556,\"#d8576b\"],[0.6666666666666666,\"#ed7953\"],[0.7777777777777778,\"#fb9f3a\"],[0.8888888888888888,\"#fdca26\"],[1.0,\"#f0f921\"]]}],\"heatmapgl\":[{\"type\":\"heatmapgl\",\"colorbar\":{\"outlinewidth\":0,\"ticks\":\"\"},\"colorscale\":[[0.0,\"#0d0887\"],[0.1111111111111111,\"#46039f\"],[0.2222222222222222,\"#7201a8\"],[0.3333333333333333,\"#9c179e\"],[0.4444444444444444,\"#bd3786\"],[0.5555555555555556,\"#d8576b\"],[0.6666666666666666,\"#ed7953\"],[0.7777777777777778,\"#fb9f3a\"],[0.8888888888888888,\"#fdca26\"],[1.0,\"#f0f921\"]]}],\"contourcarpet\":[{\"type\":\"contourcarpet\",\"colorbar\":{\"outlinewidth\":0,\"ticks\":\"\"}}],\"contour\":[{\"type\":\"contour\",\"colorbar\":{\"outlinewidth\":0,\"ticks\":\"\"},\"colorscale\":[[0.0,\"#0d0887\"],[0.1111111111111111,\"#46039f\"],[0.2222222222222222,\"#7201a8\"],[0.3333333333333333,\"#9c179e\"],[0.4444444444444444,\"#bd3786\"],[0.5555555555555556,\"#d8576b\"],[0.6666666666666666,\"#ed7953\"],[0.7777777777777778,\"#fb9f3a\"],[0.8888888888888888,\"#fdca26\"],[1.0,\"#f0f921\"]]}],\"surface\":[{\"type\":\"surface\",\"colorbar\":{\"outlinewidth\":0,\"ticks\":\"\"},\"colorscale\":[[0.0,\"#0d0887\"],[0.1111111111111111,\"#46039f\"],[0.2222222222222222,\"#7201a8\"],[0.3333333333333333,\"#9c179e\"],[0.4444444444444444,\"#bd3786\"],[0.5555555555555556,\"#d8576b\"],[0.6666666666666666,\"#ed7953\"],[0.7777777777777778,\"#fb9f3a\"],[0.8888888888888888,\"#fdca26\"],[1.0,\"#f0f921\"]]}],\"mesh3d\":[{\"type\":\"mesh3d\",\"colorbar\":{\"outlinewidth\":0,\"ticks\":\"\"}}],\"scatter\":[{\"fillpattern\":{\"fillmode\":\"overlay\",\"size\":10,\"solidity\":0.2},\"type\":\"scatter\"}],\"parcoords\":[{\"type\":\"parcoords\",\"line\":{\"colorbar\":{\"outlinewidth\":0,\"ticks\":\"\"}}}],\"scatterpolargl\":[{\"type\":\"scatterpolargl\",\"marker\":{\"colorbar\":{\"outlinewidth\":0,\"ticks\":\"\"}}}],\"bar\":[{\"error_x\":{\"color\":\"#2a3f5f\"},\"error_y\":{\"color\":\"#2a3f5f\"},\"marker\":{\"line\":{\"color\":\"#E5ECF6\",\"width\":0.5},\"pattern\":{\"fillmode\":\"overlay\",\"size\":10,\"solidity\":0.2}},\"type\":\"bar\"}],\"scattergeo\":[{\"type\":\"scattergeo\",\"marker\":{\"colorbar\":{\"outlinewidth\":0,\"ticks\":\"\"}}}],\"scatterpolar\":[{\"type\":\"scatterpolar\",\"marker\":{\"colorbar\":{\"outlinewidth\":0,\"ticks\":\"\"}}}],\"histogram\":[{\"marker\":{\"pattern\":{\"fillmode\":\"overlay\",\"size\":10,\"solidity\":0.2}},\"type\":\"histogram\"}],\"scattergl\":[{\"type\":\"scattergl\",\"marker\":{\"colorbar\":{\"outlinewidth\":0,\"ticks\":\"\"}}}],\"scatter3d\":[{\"type\":\"scatter3d\",\"line\":{\"colorbar\":{\"outlinewidth\":0,\"ticks\":\"\"}},\"marker\":{\"colorbar\":{\"outlinewidth\":0,\"ticks\":\"\"}}}],\"scattermapbox\":[{\"type\":\"scattermapbox\",\"marker\":{\"colorbar\":{\"outlinewidth\":0,\"ticks\":\"\"}}}],\"scatterternary\":[{\"type\":\"scatterternary\",\"marker\":{\"colorbar\":{\"outlinewidth\":0,\"ticks\":\"\"}}}],\"scattercarpet\":[{\"type\":\"scattercarpet\",\"marker\":{\"colorbar\":{\"outlinewidth\":0,\"ticks\":\"\"}}}],\"carpet\":[{\"aaxis\":{\"endlinecolor\":\"#2a3f5f\",\"gridcolor\":\"white\",\"linecolor\":\"white\",\"minorgridcolor\":\"white\",\"startlinecolor\":\"#2a3f5f\"},\"baxis\":{\"endlinecolor\":\"#2a3f5f\",\"gridcolor\":\"white\",\"linecolor\":\"white\",\"minorgridcolor\":\"white\",\"startlinecolor\":\"#2a3f5f\"},\"type\":\"carpet\"}],\"table\":[{\"cells\":{\"fill\":{\"color\":\"#EBF0F8\"},\"line\":{\"color\":\"white\"}},\"header\":{\"fill\":{\"color\":\"#C8D4E3\"},\"line\":{\"color\":\"white\"}},\"type\":\"table\"}],\"barpolar\":[{\"marker\":{\"line\":{\"color\":\"#E5ECF6\",\"width\":0.5},\"pattern\":{\"fillmode\":\"overlay\",\"size\":10,\"solidity\":0.2}},\"type\":\"barpolar\"}],\"pie\":[{\"automargin\":true,\"type\":\"pie\"}]},\"layout\":{\"autotypenumbers\":\"strict\",\"colorway\":[\"#636efa\",\"#EF553B\",\"#00cc96\",\"#ab63fa\",\"#FFA15A\",\"#19d3f3\",\"#FF6692\",\"#B6E880\",\"#FF97FF\",\"#FECB52\"],\"font\":{\"color\":\"#2a3f5f\"},\"hovermode\":\"closest\",\"hoverlabel\":{\"align\":\"left\"},\"paper_bgcolor\":\"white\",\"plot_bgcolor\":\"#E5ECF6\",\"polar\":{\"bgcolor\":\"#E5ECF6\",\"angularaxis\":{\"gridcolor\":\"white\",\"linecolor\":\"white\",\"ticks\":\"\"},\"radialaxis\":{\"gridcolor\":\"white\",\"linecolor\":\"white\",\"ticks\":\"\"}},\"ternary\":{\"bgcolor\":\"#E5ECF6\",\"aaxis\":{\"gridcolor\":\"white\",\"linecolor\":\"white\",\"ticks\":\"\"},\"baxis\":{\"gridcolor\":\"white\",\"linecolor\":\"white\",\"ticks\":\"\"},\"caxis\":{\"gridcolor\":\"white\",\"linecolor\":\"white\",\"ticks\":\"\"}},\"coloraxis\":{\"colorbar\":{\"outlinewidth\":0,\"ticks\":\"\"}},\"colorscale\":{\"sequential\":[[0.0,\"#0d0887\"],[0.1111111111111111,\"#46039f\"],[0.2222222222222222,\"#7201a8\"],[0.3333333333333333,\"#9c179e\"],[0.4444444444444444,\"#bd3786\"],[0.5555555555555556,\"#d8576b\"],[0.6666666666666666,\"#ed7953\"],[0.7777777777777778,\"#fb9f3a\"],[0.8888888888888888,\"#fdca26\"],[1.0,\"#f0f921\"]],\"sequentialminus\":[[0.0,\"#0d0887\"],[0.1111111111111111,\"#46039f\"],[0.2222222222222222,\"#7201a8\"],[0.3333333333333333,\"#9c179e\"],[0.4444444444444444,\"#bd3786\"],[0.5555555555555556,\"#d8576b\"],[0.6666666666666666,\"#ed7953\"],[0.7777777777777778,\"#fb9f3a\"],[0.8888888888888888,\"#fdca26\"],[1.0,\"#f0f921\"]],\"diverging\":[[0,\"#8e0152\"],[0.1,\"#c51b7d\"],[0.2,\"#de77ae\"],[0.3,\"#f1b6da\"],[0.4,\"#fde0ef\"],[0.5,\"#f7f7f7\"],[0.6,\"#e6f5d0\"],[0.7,\"#b8e186\"],[0.8,\"#7fbc41\"],[0.9,\"#4d9221\"],[1,\"#276419\"]]},\"xaxis\":{\"gridcolor\":\"white\",\"linecolor\":\"white\",\"ticks\":\"\",\"title\":{\"standoff\":15},\"zerolinecolor\":\"white\",\"automargin\":true,\"zerolinewidth\":2},\"yaxis\":{\"gridcolor\":\"white\",\"linecolor\":\"white\",\"ticks\":\"\",\"title\":{\"standoff\":15},\"zerolinecolor\":\"white\",\"automargin\":true,\"zerolinewidth\":2},\"scene\":{\"xaxis\":{\"backgroundcolor\":\"#E5ECF6\",\"gridcolor\":\"white\",\"linecolor\":\"white\",\"showbackground\":true,\"ticks\":\"\",\"zerolinecolor\":\"white\",\"gridwidth\":2},\"yaxis\":{\"backgroundcolor\":\"#E5ECF6\",\"gridcolor\":\"white\",\"linecolor\":\"white\",\"showbackground\":true,\"ticks\":\"\",\"zerolinecolor\":\"white\",\"gridwidth\":2},\"zaxis\":{\"backgroundcolor\":\"#E5ECF6\",\"gridcolor\":\"white\",\"linecolor\":\"white\",\"showbackground\":true,\"ticks\":\"\",\"zerolinecolor\":\"white\",\"gridwidth\":2}},\"shapedefaults\":{\"line\":{\"color\":\"#2a3f5f\"}},\"annotationdefaults\":{\"arrowcolor\":\"#2a3f5f\",\"arrowhead\":0,\"arrowwidth\":1},\"geo\":{\"bgcolor\":\"white\",\"landcolor\":\"#E5ECF6\",\"subunitcolor\":\"white\",\"showland\":true,\"showlakes\":true,\"lakecolor\":\"white\"},\"title\":{\"x\":0.05},\"mapbox\":{\"style\":\"light\"}}},\"xaxis\":{\"anchor\":\"y\",\"domain\":[0.0,1.0],\"title\":{\"text\":\"Number of Prizes\"}},\"yaxis\":{\"anchor\":\"x\",\"domain\":[0.0,1.0],\"title\":{\"text\":\"Country\"}},\"coloraxis\":{\"colorbar\":{\"title\":{\"text\":\"prize\"}},\"colorscale\":[[0.0,\"rgb(75, 41, 145)\"],[0.16666666666666666,\"rgb(135, 44, 162)\"],[0.3333333333333333,\"rgb(192, 54, 157)\"],[0.5,\"rgb(234, 79, 136)\"],[0.6666666666666666,\"rgb(250, 120, 118)\"],[0.8333333333333334,\"rgb(246, 169, 122)\"],[1.0,\"rgb(237, 217, 163)\"]],\"showscale\":false},\"legend\":{\"tracegroupgap\":0},\"title\":{\"text\":\"Countries with the Most Nobel Prizes\"},\"barmode\":\"relative\"},                        {\"responsive\": true}                    ).then(function(){\n",
       "                            \n",
       "var gd = document.getElementById('8c549f4f-1924-4313-b383-e620c22e72f8');\n",
       "var x = new MutationObserver(function (mutations, observer) {{\n",
       "        var display = window.getComputedStyle(gd).display;\n",
       "        if (!display || display === 'none') {{\n",
       "            console.log([gd, 'removed!']);\n",
       "            Plotly.purge(gd);\n",
       "            observer.disconnect();\n",
       "        }}\n",
       "}});\n",
       "\n",
       "// Listen for the removal of the full notebook cells\n",
       "var notebookContainer = gd.closest('#notebook-container');\n",
       "if (notebookContainer) {{\n",
       "    x.observe(notebookContainer, {childList: true});\n",
       "}}\n",
       "\n",
       "// Listen for the clearing of the current output cell\n",
       "var outputEl = gd.closest('.output');\n",
       "if (outputEl) {{\n",
       "    x.observe(outputEl, {childList: true});\n",
       "}}\n",
       "\n",
       "                        })                };                });            </script>        </div>"
      ]
     },
     "metadata": {},
     "output_type": "display_data"
    }
   ],
   "source": [
    "h_bar = px.bar(\n",
    "    top20_countries,\n",
    "    x=top20_countries[\"prize\"],\n",
    "    y=top20_countries[\"birth_country_current\"],\n",
    "    title=\"Countries with the Most Nobel Prizes\",\n",
    "    orientation=\"h\",\n",
    "    color=top20_countries[\"prize\"],\n",
    "    color_continuous_scale='Agsunset'\n",
    ")\n",
    "\n",
    "h_bar.update_layout(\n",
    "    xaxis_title=\"Number of Prizes\",\n",
    "    yaxis_title=\"Country\",\n",
    "    coloraxis_showscale=False\n",
    ")\n",
    "\n",
    "h_bar.show()"
   ]
  },
  {
   "cell_type": "markdown",
   "metadata": {
    "id": "uNTvKsrzo7MR"
   },
   "source": [
    "# Use a Choropleth Map to Show the Number of Prizes Won by Country\n",
    "\n",
    "* Create this choropleth map using [the plotly documentation](https://plotly.com/python/choropleth-maps/):\n",
    "\n",
    "<img src=https://i.imgur.com/s4lqYZH.png>\n",
    "\n",
    "* Experiment with [plotly's available colours](https://plotly.com/python/builtin-colorscales/). I quite like the sequential colour `matter` on this map. \n",
    "\n",
    "Hint: You'll need to use a 3 letter country code for each country. \n"
   ]
  },
  {
   "cell_type": "code",
   "execution_count": 160,
   "metadata": {
    "id": "2YT8MN4sF4Hs"
   },
   "outputs": [],
   "source": [
    "countries = df_data.groupby([\"birth_country_current\",\"ISO\"], as_index=False).agg({\"prize\":pd.Series.count})\n",
    "countries = countries.sort_values(by=\"prize\", ascending=False)"
   ]
  },
  {
   "cell_type": "code",
   "execution_count": 161,
   "metadata": {
    "id": "4O5jNBUYF4pD"
   },
   "outputs": [
    {
     "data": {
      "application/vnd.plotly.v1+json": {
       "config": {
        "plotlyServerURL": "https://plot.ly"
       },
       "data": [
        {
         "coloraxis": "coloraxis",
         "geo": "geo",
         "hovertemplate": "<b>%{hovertext}</b><br><br>ISO=%{location}<br>prize=%{z}<extra></extra>",
         "hovertext": [
          "United States of America",
          "United Kingdom",
          "Germany",
          "France",
          "Sweden",
          "Japan",
          "Poland",
          "Russia",
          "Canada",
          "Switzerland",
          "Italy",
          "Austria",
          "Netherlands",
          "Denmark",
          "China",
          "Norway",
          "Australia",
          "Belgium",
          "India",
          "South Africa",
          "Hungary",
          "Spain",
          "Israel",
          "Egypt",
          "Czech Republic",
          "Finland",
          "Ireland",
          "Ukraine",
          "Romania",
          "Argentina",
          "Belarus",
          "Lithuania",
          "New Zealand",
          "Mexico",
          "Pakistan",
          "Turkey",
          "Luxembourg",
          "Liberia",
          "Saint Lucia",
          "Portugal",
          "Korea (South Korea)",
          "Algeria",
          "Iran",
          "East Timor",
          "Colombia",
          "Chile",
          "Bosnia and Herzegovina",
          "Guatemala",
          "Kenya",
          "Taiwan",
          "Slovenia",
          "Costa Rica",
          "Bulgaria",
          "Brazil",
          "Trinidad",
          "Croatia",
          "Bangladesh",
          "Azerbaijan",
          "Venezuela",
          "Vietnam",
          "Yemen",
          "Slovakia",
          "Democratic Republic of the Congo",
          "Cyprus",
          "Latvia",
          "Republic of Macedonia",
          "Ethiopia",
          "Peru",
          "Ghana",
          "Greece",
          "Nigeria",
          "Guadeloupe Island",
          "Myanmar",
          "Morocco",
          "Iceland",
          "Madagascar",
          "Indonesia",
          "Iraq",
          "Zimbabwe"
         ],
         "locations": [
          "USA",
          "GBR",
          "DEU",
          "FRA",
          "SWE",
          "JPN",
          "POL",
          "RUS",
          "CAN",
          "CHE",
          "ITA",
          "AUT",
          "NLD",
          "DNK",
          "CHN",
          "NOR",
          "AUS",
          "BEL",
          "IND",
          "ZAF",
          "HUN",
          "ESP",
          "ISR",
          "EGY",
          "CZE",
          "FIN",
          "IRL",
          "UKR",
          "ROU",
          "ARG",
          "BLR",
          "LTU",
          "NZL",
          "MEX",
          "PAK",
          "TUR",
          "LUX",
          "LBR",
          "LCA",
          "PRT",
          "KOR",
          "DZA",
          "IRN",
          "DOM",
          "COL",
          "CHL",
          "BIH",
          "GTM",
          "KEN",
          "SYR",
          "SVN",
          "CRI",
          "BGR",
          "BRA",
          "TON",
          "HRV",
          "BGD",
          "AZE",
          "VEN",
          "VNM",
          "YEM",
          "SVK",
          "COD",
          "CYP",
          "LVA",
          "MKD",
          "ETH",
          "PER",
          "GHA",
          "GRC",
          "NGA",
          "GLP",
          "MMR",
          "MAR",
          "ISL",
          "MDG",
          "IDN",
          "IRQ",
          "ZWE"
         ],
         "name": "",
         "type": "choropleth",
         "z": [
          281,
          105,
          84,
          57,
          29,
          27,
          27,
          26,
          20,
          19,
          19,
          18,
          18,
          12,
          12,
          12,
          10,
          9,
          9,
          9,
          9,
          7,
          6,
          6,
          6,
          5,
          5,
          5,
          4,
          4,
          4,
          3,
          3,
          3,
          3,
          3,
          2,
          2,
          2,
          2,
          2,
          2,
          2,
          2,
          2,
          2,
          2,
          2,
          1,
          1,
          1,
          1,
          1,
          1,
          1,
          1,
          1,
          1,
          1,
          1,
          1,
          1,
          1,
          1,
          1,
          1,
          1,
          1,
          1,
          1,
          1,
          1,
          1,
          1,
          1,
          1,
          1,
          1,
          1
         ]
        }
       ],
       "layout": {
        "coloraxis": {
         "colorbar": {
          "title": {
           "text": "prize"
          }
         },
         "colorscale": [
          [
           0,
           "rgb(253, 237, 176)"
          ],
          [
           0.09090909090909091,
           "rgb(250, 205, 145)"
          ],
          [
           0.18181818181818182,
           "rgb(246, 173, 119)"
          ],
          [
           0.2727272727272727,
           "rgb(240, 142, 98)"
          ],
          [
           0.36363636363636365,
           "rgb(231, 109, 84)"
          ],
          [
           0.45454545454545453,
           "rgb(216, 80, 83)"
          ],
          [
           0.5454545454545454,
           "rgb(195, 56, 90)"
          ],
          [
           0.6363636363636364,
           "rgb(168, 40, 96)"
          ],
          [
           0.7272727272727273,
           "rgb(138, 29, 99)"
          ],
          [
           0.8181818181818182,
           "rgb(107, 24, 93)"
          ],
          [
           0.9090909090909091,
           "rgb(76, 21, 80)"
          ],
          [
           1,
           "rgb(47, 15, 61)"
          ]
         ],
         "showscale": true
        },
        "geo": {
         "center": {},
         "domain": {
          "x": [
           0,
           1
          ],
          "y": [
           0,
           1
          ]
         }
        },
        "legend": {
         "tracegroupgap": 0
        },
        "margin": {
         "t": 60
        },
        "template": {
         "data": {
          "bar": [
           {
            "error_x": {
             "color": "#2a3f5f"
            },
            "error_y": {
             "color": "#2a3f5f"
            },
            "marker": {
             "line": {
              "color": "#E5ECF6",
              "width": 0.5
             },
             "pattern": {
              "fillmode": "overlay",
              "size": 10,
              "solidity": 0.2
             }
            },
            "type": "bar"
           }
          ],
          "barpolar": [
           {
            "marker": {
             "line": {
              "color": "#E5ECF6",
              "width": 0.5
             },
             "pattern": {
              "fillmode": "overlay",
              "size": 10,
              "solidity": 0.2
             }
            },
            "type": "barpolar"
           }
          ],
          "carpet": [
           {
            "aaxis": {
             "endlinecolor": "#2a3f5f",
             "gridcolor": "white",
             "linecolor": "white",
             "minorgridcolor": "white",
             "startlinecolor": "#2a3f5f"
            },
            "baxis": {
             "endlinecolor": "#2a3f5f",
             "gridcolor": "white",
             "linecolor": "white",
             "minorgridcolor": "white",
             "startlinecolor": "#2a3f5f"
            },
            "type": "carpet"
           }
          ],
          "choropleth": [
           {
            "colorbar": {
             "outlinewidth": 0,
             "ticks": ""
            },
            "type": "choropleth"
           }
          ],
          "contour": [
           {
            "colorbar": {
             "outlinewidth": 0,
             "ticks": ""
            },
            "colorscale": [
             [
              0,
              "#0d0887"
             ],
             [
              0.1111111111111111,
              "#46039f"
             ],
             [
              0.2222222222222222,
              "#7201a8"
             ],
             [
              0.3333333333333333,
              "#9c179e"
             ],
             [
              0.4444444444444444,
              "#bd3786"
             ],
             [
              0.5555555555555556,
              "#d8576b"
             ],
             [
              0.6666666666666666,
              "#ed7953"
             ],
             [
              0.7777777777777778,
              "#fb9f3a"
             ],
             [
              0.8888888888888888,
              "#fdca26"
             ],
             [
              1,
              "#f0f921"
             ]
            ],
            "type": "contour"
           }
          ],
          "contourcarpet": [
           {
            "colorbar": {
             "outlinewidth": 0,
             "ticks": ""
            },
            "type": "contourcarpet"
           }
          ],
          "heatmap": [
           {
            "colorbar": {
             "outlinewidth": 0,
             "ticks": ""
            },
            "colorscale": [
             [
              0,
              "#0d0887"
             ],
             [
              0.1111111111111111,
              "#46039f"
             ],
             [
              0.2222222222222222,
              "#7201a8"
             ],
             [
              0.3333333333333333,
              "#9c179e"
             ],
             [
              0.4444444444444444,
              "#bd3786"
             ],
             [
              0.5555555555555556,
              "#d8576b"
             ],
             [
              0.6666666666666666,
              "#ed7953"
             ],
             [
              0.7777777777777778,
              "#fb9f3a"
             ],
             [
              0.8888888888888888,
              "#fdca26"
             ],
             [
              1,
              "#f0f921"
             ]
            ],
            "type": "heatmap"
           }
          ],
          "heatmapgl": [
           {
            "colorbar": {
             "outlinewidth": 0,
             "ticks": ""
            },
            "colorscale": [
             [
              0,
              "#0d0887"
             ],
             [
              0.1111111111111111,
              "#46039f"
             ],
             [
              0.2222222222222222,
              "#7201a8"
             ],
             [
              0.3333333333333333,
              "#9c179e"
             ],
             [
              0.4444444444444444,
              "#bd3786"
             ],
             [
              0.5555555555555556,
              "#d8576b"
             ],
             [
              0.6666666666666666,
              "#ed7953"
             ],
             [
              0.7777777777777778,
              "#fb9f3a"
             ],
             [
              0.8888888888888888,
              "#fdca26"
             ],
             [
              1,
              "#f0f921"
             ]
            ],
            "type": "heatmapgl"
           }
          ],
          "histogram": [
           {
            "marker": {
             "pattern": {
              "fillmode": "overlay",
              "size": 10,
              "solidity": 0.2
             }
            },
            "type": "histogram"
           }
          ],
          "histogram2d": [
           {
            "colorbar": {
             "outlinewidth": 0,
             "ticks": ""
            },
            "colorscale": [
             [
              0,
              "#0d0887"
             ],
             [
              0.1111111111111111,
              "#46039f"
             ],
             [
              0.2222222222222222,
              "#7201a8"
             ],
             [
              0.3333333333333333,
              "#9c179e"
             ],
             [
              0.4444444444444444,
              "#bd3786"
             ],
             [
              0.5555555555555556,
              "#d8576b"
             ],
             [
              0.6666666666666666,
              "#ed7953"
             ],
             [
              0.7777777777777778,
              "#fb9f3a"
             ],
             [
              0.8888888888888888,
              "#fdca26"
             ],
             [
              1,
              "#f0f921"
             ]
            ],
            "type": "histogram2d"
           }
          ],
          "histogram2dcontour": [
           {
            "colorbar": {
             "outlinewidth": 0,
             "ticks": ""
            },
            "colorscale": [
             [
              0,
              "#0d0887"
             ],
             [
              0.1111111111111111,
              "#46039f"
             ],
             [
              0.2222222222222222,
              "#7201a8"
             ],
             [
              0.3333333333333333,
              "#9c179e"
             ],
             [
              0.4444444444444444,
              "#bd3786"
             ],
             [
              0.5555555555555556,
              "#d8576b"
             ],
             [
              0.6666666666666666,
              "#ed7953"
             ],
             [
              0.7777777777777778,
              "#fb9f3a"
             ],
             [
              0.8888888888888888,
              "#fdca26"
             ],
             [
              1,
              "#f0f921"
             ]
            ],
            "type": "histogram2dcontour"
           }
          ],
          "mesh3d": [
           {
            "colorbar": {
             "outlinewidth": 0,
             "ticks": ""
            },
            "type": "mesh3d"
           }
          ],
          "parcoords": [
           {
            "line": {
             "colorbar": {
              "outlinewidth": 0,
              "ticks": ""
             }
            },
            "type": "parcoords"
           }
          ],
          "pie": [
           {
            "automargin": true,
            "type": "pie"
           }
          ],
          "scatter": [
           {
            "fillpattern": {
             "fillmode": "overlay",
             "size": 10,
             "solidity": 0.2
            },
            "type": "scatter"
           }
          ],
          "scatter3d": [
           {
            "line": {
             "colorbar": {
              "outlinewidth": 0,
              "ticks": ""
             }
            },
            "marker": {
             "colorbar": {
              "outlinewidth": 0,
              "ticks": ""
             }
            },
            "type": "scatter3d"
           }
          ],
          "scattercarpet": [
           {
            "marker": {
             "colorbar": {
              "outlinewidth": 0,
              "ticks": ""
             }
            },
            "type": "scattercarpet"
           }
          ],
          "scattergeo": [
           {
            "marker": {
             "colorbar": {
              "outlinewidth": 0,
              "ticks": ""
             }
            },
            "type": "scattergeo"
           }
          ],
          "scattergl": [
           {
            "marker": {
             "colorbar": {
              "outlinewidth": 0,
              "ticks": ""
             }
            },
            "type": "scattergl"
           }
          ],
          "scattermapbox": [
           {
            "marker": {
             "colorbar": {
              "outlinewidth": 0,
              "ticks": ""
             }
            },
            "type": "scattermapbox"
           }
          ],
          "scatterpolar": [
           {
            "marker": {
             "colorbar": {
              "outlinewidth": 0,
              "ticks": ""
             }
            },
            "type": "scatterpolar"
           }
          ],
          "scatterpolargl": [
           {
            "marker": {
             "colorbar": {
              "outlinewidth": 0,
              "ticks": ""
             }
            },
            "type": "scatterpolargl"
           }
          ],
          "scatterternary": [
           {
            "marker": {
             "colorbar": {
              "outlinewidth": 0,
              "ticks": ""
             }
            },
            "type": "scatterternary"
           }
          ],
          "surface": [
           {
            "colorbar": {
             "outlinewidth": 0,
             "ticks": ""
            },
            "colorscale": [
             [
              0,
              "#0d0887"
             ],
             [
              0.1111111111111111,
              "#46039f"
             ],
             [
              0.2222222222222222,
              "#7201a8"
             ],
             [
              0.3333333333333333,
              "#9c179e"
             ],
             [
              0.4444444444444444,
              "#bd3786"
             ],
             [
              0.5555555555555556,
              "#d8576b"
             ],
             [
              0.6666666666666666,
              "#ed7953"
             ],
             [
              0.7777777777777778,
              "#fb9f3a"
             ],
             [
              0.8888888888888888,
              "#fdca26"
             ],
             [
              1,
              "#f0f921"
             ]
            ],
            "type": "surface"
           }
          ],
          "table": [
           {
            "cells": {
             "fill": {
              "color": "#EBF0F8"
             },
             "line": {
              "color": "white"
             }
            },
            "header": {
             "fill": {
              "color": "#C8D4E3"
             },
             "line": {
              "color": "white"
             }
            },
            "type": "table"
           }
          ]
         },
         "layout": {
          "annotationdefaults": {
           "arrowcolor": "#2a3f5f",
           "arrowhead": 0,
           "arrowwidth": 1
          },
          "autotypenumbers": "strict",
          "coloraxis": {
           "colorbar": {
            "outlinewidth": 0,
            "ticks": ""
           }
          },
          "colorscale": {
           "diverging": [
            [
             0,
             "#8e0152"
            ],
            [
             0.1,
             "#c51b7d"
            ],
            [
             0.2,
             "#de77ae"
            ],
            [
             0.3,
             "#f1b6da"
            ],
            [
             0.4,
             "#fde0ef"
            ],
            [
             0.5,
             "#f7f7f7"
            ],
            [
             0.6,
             "#e6f5d0"
            ],
            [
             0.7,
             "#b8e186"
            ],
            [
             0.8,
             "#7fbc41"
            ],
            [
             0.9,
             "#4d9221"
            ],
            [
             1,
             "#276419"
            ]
           ],
           "sequential": [
            [
             0,
             "#0d0887"
            ],
            [
             0.1111111111111111,
             "#46039f"
            ],
            [
             0.2222222222222222,
             "#7201a8"
            ],
            [
             0.3333333333333333,
             "#9c179e"
            ],
            [
             0.4444444444444444,
             "#bd3786"
            ],
            [
             0.5555555555555556,
             "#d8576b"
            ],
            [
             0.6666666666666666,
             "#ed7953"
            ],
            [
             0.7777777777777778,
             "#fb9f3a"
            ],
            [
             0.8888888888888888,
             "#fdca26"
            ],
            [
             1,
             "#f0f921"
            ]
           ],
           "sequentialminus": [
            [
             0,
             "#0d0887"
            ],
            [
             0.1111111111111111,
             "#46039f"
            ],
            [
             0.2222222222222222,
             "#7201a8"
            ],
            [
             0.3333333333333333,
             "#9c179e"
            ],
            [
             0.4444444444444444,
             "#bd3786"
            ],
            [
             0.5555555555555556,
             "#d8576b"
            ],
            [
             0.6666666666666666,
             "#ed7953"
            ],
            [
             0.7777777777777778,
             "#fb9f3a"
            ],
            [
             0.8888888888888888,
             "#fdca26"
            ],
            [
             1,
             "#f0f921"
            ]
           ]
          },
          "colorway": [
           "#636efa",
           "#EF553B",
           "#00cc96",
           "#ab63fa",
           "#FFA15A",
           "#19d3f3",
           "#FF6692",
           "#B6E880",
           "#FF97FF",
           "#FECB52"
          ],
          "font": {
           "color": "#2a3f5f"
          },
          "geo": {
           "bgcolor": "white",
           "lakecolor": "white",
           "landcolor": "#E5ECF6",
           "showlakes": true,
           "showland": true,
           "subunitcolor": "white"
          },
          "hoverlabel": {
           "align": "left"
          },
          "hovermode": "closest",
          "mapbox": {
           "style": "light"
          },
          "paper_bgcolor": "white",
          "plot_bgcolor": "#E5ECF6",
          "polar": {
           "angularaxis": {
            "gridcolor": "white",
            "linecolor": "white",
            "ticks": ""
           },
           "bgcolor": "#E5ECF6",
           "radialaxis": {
            "gridcolor": "white",
            "linecolor": "white",
            "ticks": ""
           }
          },
          "scene": {
           "xaxis": {
            "backgroundcolor": "#E5ECF6",
            "gridcolor": "white",
            "gridwidth": 2,
            "linecolor": "white",
            "showbackground": true,
            "ticks": "",
            "zerolinecolor": "white"
           },
           "yaxis": {
            "backgroundcolor": "#E5ECF6",
            "gridcolor": "white",
            "gridwidth": 2,
            "linecolor": "white",
            "showbackground": true,
            "ticks": "",
            "zerolinecolor": "white"
           },
           "zaxis": {
            "backgroundcolor": "#E5ECF6",
            "gridcolor": "white",
            "gridwidth": 2,
            "linecolor": "white",
            "showbackground": true,
            "ticks": "",
            "zerolinecolor": "white"
           }
          },
          "shapedefaults": {
           "line": {
            "color": "#2a3f5f"
           }
          },
          "ternary": {
           "aaxis": {
            "gridcolor": "white",
            "linecolor": "white",
            "ticks": ""
           },
           "baxis": {
            "gridcolor": "white",
            "linecolor": "white",
            "ticks": ""
           },
           "bgcolor": "#E5ECF6",
           "caxis": {
            "gridcolor": "white",
            "linecolor": "white",
            "ticks": ""
           }
          },
          "title": {
           "x": 0.05
          },
          "xaxis": {
           "automargin": true,
           "gridcolor": "white",
           "linecolor": "white",
           "ticks": "",
           "title": {
            "standoff": 15
           },
           "zerolinecolor": "white",
           "zerolinewidth": 2
          },
          "yaxis": {
           "automargin": true,
           "gridcolor": "white",
           "linecolor": "white",
           "ticks": "",
           "title": {
            "standoff": 15
           },
           "zerolinecolor": "white",
           "zerolinewidth": 2
          }
         }
        }
       }
      },
      "text/html": [
       "<div>                            <div id=\"f07a37d3-19ff-4d26-8e00-9e777fca19bb\" class=\"plotly-graph-div\" style=\"height:525px; width:100%;\"></div>            <script type=\"text/javascript\">                require([\"plotly\"], function(Plotly) {                    window.PLOTLYENV=window.PLOTLYENV || {};                                    if (document.getElementById(\"f07a37d3-19ff-4d26-8e00-9e777fca19bb\")) {                    Plotly.newPlot(                        \"f07a37d3-19ff-4d26-8e00-9e777fca19bb\",                        [{\"coloraxis\":\"coloraxis\",\"geo\":\"geo\",\"hovertemplate\":\"<b>%{hovertext}</b><br><br>ISO=%{location}<br>prize=%{z}<extra></extra>\",\"hovertext\":[\"United States of America\",\"United Kingdom\",\"Germany\",\"France\",\"Sweden\",\"Japan\",\"Poland\",\"Russia\",\"Canada\",\"Switzerland\",\"Italy\",\"Austria\",\"Netherlands\",\"Denmark\",\"China\",\"Norway\",\"Australia\",\"Belgium\",\"India\",\"South Africa\",\"Hungary\",\"Spain\",\"Israel\",\"Egypt\",\"Czech Republic\",\"Finland\",\"Ireland\",\"Ukraine\",\"Romania\",\"Argentina\",\"Belarus\",\"Lithuania\",\"New Zealand\",\"Mexico\",\"Pakistan\",\"Turkey\",\"Luxembourg\",\"Liberia\",\"Saint Lucia\",\"Portugal\",\"Korea (South Korea)\",\"Algeria\",\"Iran\",\"East Timor\",\"Colombia\",\"Chile\",\"Bosnia and Herzegovina\",\"Guatemala\",\"Kenya\",\"Taiwan\",\"Slovenia\",\"Costa Rica\",\"Bulgaria\",\"Brazil\",\"Trinidad\",\"Croatia\",\"Bangladesh\",\"Azerbaijan\",\"Venezuela\",\"Vietnam\",\"Yemen\",\"Slovakia\",\"Democratic Republic of the Congo\",\"Cyprus\",\"Latvia\",\"Republic of Macedonia\",\"Ethiopia\",\"Peru\",\"Ghana\",\"Greece\",\"Nigeria\",\"Guadeloupe Island\",\"Myanmar\",\"Morocco\",\"Iceland\",\"Madagascar\",\"Indonesia\",\"Iraq\",\"Zimbabwe\"],\"locations\":[\"USA\",\"GBR\",\"DEU\",\"FRA\",\"SWE\",\"JPN\",\"POL\",\"RUS\",\"CAN\",\"CHE\",\"ITA\",\"AUT\",\"NLD\",\"DNK\",\"CHN\",\"NOR\",\"AUS\",\"BEL\",\"IND\",\"ZAF\",\"HUN\",\"ESP\",\"ISR\",\"EGY\",\"CZE\",\"FIN\",\"IRL\",\"UKR\",\"ROU\",\"ARG\",\"BLR\",\"LTU\",\"NZL\",\"MEX\",\"PAK\",\"TUR\",\"LUX\",\"LBR\",\"LCA\",\"PRT\",\"KOR\",\"DZA\",\"IRN\",\"DOM\",\"COL\",\"CHL\",\"BIH\",\"GTM\",\"KEN\",\"SYR\",\"SVN\",\"CRI\",\"BGR\",\"BRA\",\"TON\",\"HRV\",\"BGD\",\"AZE\",\"VEN\",\"VNM\",\"YEM\",\"SVK\",\"COD\",\"CYP\",\"LVA\",\"MKD\",\"ETH\",\"PER\",\"GHA\",\"GRC\",\"NGA\",\"GLP\",\"MMR\",\"MAR\",\"ISL\",\"MDG\",\"IDN\",\"IRQ\",\"ZWE\"],\"name\":\"\",\"z\":[281,105,84,57,29,27,27,26,20,19,19,18,18,12,12,12,10,9,9,9,9,7,6,6,6,5,5,5,4,4,4,3,3,3,3,3,2,2,2,2,2,2,2,2,2,2,2,2,1,1,1,1,1,1,1,1,1,1,1,1,1,1,1,1,1,1,1,1,1,1,1,1,1,1,1,1,1,1,1],\"type\":\"choropleth\"}],                        {\"template\":{\"data\":{\"histogram2dcontour\":[{\"type\":\"histogram2dcontour\",\"colorbar\":{\"outlinewidth\":0,\"ticks\":\"\"},\"colorscale\":[[0.0,\"#0d0887\"],[0.1111111111111111,\"#46039f\"],[0.2222222222222222,\"#7201a8\"],[0.3333333333333333,\"#9c179e\"],[0.4444444444444444,\"#bd3786\"],[0.5555555555555556,\"#d8576b\"],[0.6666666666666666,\"#ed7953\"],[0.7777777777777778,\"#fb9f3a\"],[0.8888888888888888,\"#fdca26\"],[1.0,\"#f0f921\"]]}],\"choropleth\":[{\"type\":\"choropleth\",\"colorbar\":{\"outlinewidth\":0,\"ticks\":\"\"}}],\"histogram2d\":[{\"type\":\"histogram2d\",\"colorbar\":{\"outlinewidth\":0,\"ticks\":\"\"},\"colorscale\":[[0.0,\"#0d0887\"],[0.1111111111111111,\"#46039f\"],[0.2222222222222222,\"#7201a8\"],[0.3333333333333333,\"#9c179e\"],[0.4444444444444444,\"#bd3786\"],[0.5555555555555556,\"#d8576b\"],[0.6666666666666666,\"#ed7953\"],[0.7777777777777778,\"#fb9f3a\"],[0.8888888888888888,\"#fdca26\"],[1.0,\"#f0f921\"]]}],\"heatmap\":[{\"type\":\"heatmap\",\"colorbar\":{\"outlinewidth\":0,\"ticks\":\"\"},\"colorscale\":[[0.0,\"#0d0887\"],[0.1111111111111111,\"#46039f\"],[0.2222222222222222,\"#7201a8\"],[0.3333333333333333,\"#9c179e\"],[0.4444444444444444,\"#bd3786\"],[0.5555555555555556,\"#d8576b\"],[0.6666666666666666,\"#ed7953\"],[0.7777777777777778,\"#fb9f3a\"],[0.8888888888888888,\"#fdca26\"],[1.0,\"#f0f921\"]]}],\"heatmapgl\":[{\"type\":\"heatmapgl\",\"colorbar\":{\"outlinewidth\":0,\"ticks\":\"\"},\"colorscale\":[[0.0,\"#0d0887\"],[0.1111111111111111,\"#46039f\"],[0.2222222222222222,\"#7201a8\"],[0.3333333333333333,\"#9c179e\"],[0.4444444444444444,\"#bd3786\"],[0.5555555555555556,\"#d8576b\"],[0.6666666666666666,\"#ed7953\"],[0.7777777777777778,\"#fb9f3a\"],[0.8888888888888888,\"#fdca26\"],[1.0,\"#f0f921\"]]}],\"contourcarpet\":[{\"type\":\"contourcarpet\",\"colorbar\":{\"outlinewidth\":0,\"ticks\":\"\"}}],\"contour\":[{\"type\":\"contour\",\"colorbar\":{\"outlinewidth\":0,\"ticks\":\"\"},\"colorscale\":[[0.0,\"#0d0887\"],[0.1111111111111111,\"#46039f\"],[0.2222222222222222,\"#7201a8\"],[0.3333333333333333,\"#9c179e\"],[0.4444444444444444,\"#bd3786\"],[0.5555555555555556,\"#d8576b\"],[0.6666666666666666,\"#ed7953\"],[0.7777777777777778,\"#fb9f3a\"],[0.8888888888888888,\"#fdca26\"],[1.0,\"#f0f921\"]]}],\"surface\":[{\"type\":\"surface\",\"colorbar\":{\"outlinewidth\":0,\"ticks\":\"\"},\"colorscale\":[[0.0,\"#0d0887\"],[0.1111111111111111,\"#46039f\"],[0.2222222222222222,\"#7201a8\"],[0.3333333333333333,\"#9c179e\"],[0.4444444444444444,\"#bd3786\"],[0.5555555555555556,\"#d8576b\"],[0.6666666666666666,\"#ed7953\"],[0.7777777777777778,\"#fb9f3a\"],[0.8888888888888888,\"#fdca26\"],[1.0,\"#f0f921\"]]}],\"mesh3d\":[{\"type\":\"mesh3d\",\"colorbar\":{\"outlinewidth\":0,\"ticks\":\"\"}}],\"scatter\":[{\"fillpattern\":{\"fillmode\":\"overlay\",\"size\":10,\"solidity\":0.2},\"type\":\"scatter\"}],\"parcoords\":[{\"type\":\"parcoords\",\"line\":{\"colorbar\":{\"outlinewidth\":0,\"ticks\":\"\"}}}],\"scatterpolargl\":[{\"type\":\"scatterpolargl\",\"marker\":{\"colorbar\":{\"outlinewidth\":0,\"ticks\":\"\"}}}],\"bar\":[{\"error_x\":{\"color\":\"#2a3f5f\"},\"error_y\":{\"color\":\"#2a3f5f\"},\"marker\":{\"line\":{\"color\":\"#E5ECF6\",\"width\":0.5},\"pattern\":{\"fillmode\":\"overlay\",\"size\":10,\"solidity\":0.2}},\"type\":\"bar\"}],\"scattergeo\":[{\"type\":\"scattergeo\",\"marker\":{\"colorbar\":{\"outlinewidth\":0,\"ticks\":\"\"}}}],\"scatterpolar\":[{\"type\":\"scatterpolar\",\"marker\":{\"colorbar\":{\"outlinewidth\":0,\"ticks\":\"\"}}}],\"histogram\":[{\"marker\":{\"pattern\":{\"fillmode\":\"overlay\",\"size\":10,\"solidity\":0.2}},\"type\":\"histogram\"}],\"scattergl\":[{\"type\":\"scattergl\",\"marker\":{\"colorbar\":{\"outlinewidth\":0,\"ticks\":\"\"}}}],\"scatter3d\":[{\"type\":\"scatter3d\",\"line\":{\"colorbar\":{\"outlinewidth\":0,\"ticks\":\"\"}},\"marker\":{\"colorbar\":{\"outlinewidth\":0,\"ticks\":\"\"}}}],\"scattermapbox\":[{\"type\":\"scattermapbox\",\"marker\":{\"colorbar\":{\"outlinewidth\":0,\"ticks\":\"\"}}}],\"scatterternary\":[{\"type\":\"scatterternary\",\"marker\":{\"colorbar\":{\"outlinewidth\":0,\"ticks\":\"\"}}}],\"scattercarpet\":[{\"type\":\"scattercarpet\",\"marker\":{\"colorbar\":{\"outlinewidth\":0,\"ticks\":\"\"}}}],\"carpet\":[{\"aaxis\":{\"endlinecolor\":\"#2a3f5f\",\"gridcolor\":\"white\",\"linecolor\":\"white\",\"minorgridcolor\":\"white\",\"startlinecolor\":\"#2a3f5f\"},\"baxis\":{\"endlinecolor\":\"#2a3f5f\",\"gridcolor\":\"white\",\"linecolor\":\"white\",\"minorgridcolor\":\"white\",\"startlinecolor\":\"#2a3f5f\"},\"type\":\"carpet\"}],\"table\":[{\"cells\":{\"fill\":{\"color\":\"#EBF0F8\"},\"line\":{\"color\":\"white\"}},\"header\":{\"fill\":{\"color\":\"#C8D4E3\"},\"line\":{\"color\":\"white\"}},\"type\":\"table\"}],\"barpolar\":[{\"marker\":{\"line\":{\"color\":\"#E5ECF6\",\"width\":0.5},\"pattern\":{\"fillmode\":\"overlay\",\"size\":10,\"solidity\":0.2}},\"type\":\"barpolar\"}],\"pie\":[{\"automargin\":true,\"type\":\"pie\"}]},\"layout\":{\"autotypenumbers\":\"strict\",\"colorway\":[\"#636efa\",\"#EF553B\",\"#00cc96\",\"#ab63fa\",\"#FFA15A\",\"#19d3f3\",\"#FF6692\",\"#B6E880\",\"#FF97FF\",\"#FECB52\"],\"font\":{\"color\":\"#2a3f5f\"},\"hovermode\":\"closest\",\"hoverlabel\":{\"align\":\"left\"},\"paper_bgcolor\":\"white\",\"plot_bgcolor\":\"#E5ECF6\",\"polar\":{\"bgcolor\":\"#E5ECF6\",\"angularaxis\":{\"gridcolor\":\"white\",\"linecolor\":\"white\",\"ticks\":\"\"},\"radialaxis\":{\"gridcolor\":\"white\",\"linecolor\":\"white\",\"ticks\":\"\"}},\"ternary\":{\"bgcolor\":\"#E5ECF6\",\"aaxis\":{\"gridcolor\":\"white\",\"linecolor\":\"white\",\"ticks\":\"\"},\"baxis\":{\"gridcolor\":\"white\",\"linecolor\":\"white\",\"ticks\":\"\"},\"caxis\":{\"gridcolor\":\"white\",\"linecolor\":\"white\",\"ticks\":\"\"}},\"coloraxis\":{\"colorbar\":{\"outlinewidth\":0,\"ticks\":\"\"}},\"colorscale\":{\"sequential\":[[0.0,\"#0d0887\"],[0.1111111111111111,\"#46039f\"],[0.2222222222222222,\"#7201a8\"],[0.3333333333333333,\"#9c179e\"],[0.4444444444444444,\"#bd3786\"],[0.5555555555555556,\"#d8576b\"],[0.6666666666666666,\"#ed7953\"],[0.7777777777777778,\"#fb9f3a\"],[0.8888888888888888,\"#fdca26\"],[1.0,\"#f0f921\"]],\"sequentialminus\":[[0.0,\"#0d0887\"],[0.1111111111111111,\"#46039f\"],[0.2222222222222222,\"#7201a8\"],[0.3333333333333333,\"#9c179e\"],[0.4444444444444444,\"#bd3786\"],[0.5555555555555556,\"#d8576b\"],[0.6666666666666666,\"#ed7953\"],[0.7777777777777778,\"#fb9f3a\"],[0.8888888888888888,\"#fdca26\"],[1.0,\"#f0f921\"]],\"diverging\":[[0,\"#8e0152\"],[0.1,\"#c51b7d\"],[0.2,\"#de77ae\"],[0.3,\"#f1b6da\"],[0.4,\"#fde0ef\"],[0.5,\"#f7f7f7\"],[0.6,\"#e6f5d0\"],[0.7,\"#b8e186\"],[0.8,\"#7fbc41\"],[0.9,\"#4d9221\"],[1,\"#276419\"]]},\"xaxis\":{\"gridcolor\":\"white\",\"linecolor\":\"white\",\"ticks\":\"\",\"title\":{\"standoff\":15},\"zerolinecolor\":\"white\",\"automargin\":true,\"zerolinewidth\":2},\"yaxis\":{\"gridcolor\":\"white\",\"linecolor\":\"white\",\"ticks\":\"\",\"title\":{\"standoff\":15},\"zerolinecolor\":\"white\",\"automargin\":true,\"zerolinewidth\":2},\"scene\":{\"xaxis\":{\"backgroundcolor\":\"#E5ECF6\",\"gridcolor\":\"white\",\"linecolor\":\"white\",\"showbackground\":true,\"ticks\":\"\",\"zerolinecolor\":\"white\",\"gridwidth\":2},\"yaxis\":{\"backgroundcolor\":\"#E5ECF6\",\"gridcolor\":\"white\",\"linecolor\":\"white\",\"showbackground\":true,\"ticks\":\"\",\"zerolinecolor\":\"white\",\"gridwidth\":2},\"zaxis\":{\"backgroundcolor\":\"#E5ECF6\",\"gridcolor\":\"white\",\"linecolor\":\"white\",\"showbackground\":true,\"ticks\":\"\",\"zerolinecolor\":\"white\",\"gridwidth\":2}},\"shapedefaults\":{\"line\":{\"color\":\"#2a3f5f\"}},\"annotationdefaults\":{\"arrowcolor\":\"#2a3f5f\",\"arrowhead\":0,\"arrowwidth\":1},\"geo\":{\"bgcolor\":\"white\",\"landcolor\":\"#E5ECF6\",\"subunitcolor\":\"white\",\"showland\":true,\"showlakes\":true,\"lakecolor\":\"white\"},\"title\":{\"x\":0.05},\"mapbox\":{\"style\":\"light\"}}},\"geo\":{\"domain\":{\"x\":[0.0,1.0],\"y\":[0.0,1.0]},\"center\":{}},\"coloraxis\":{\"colorbar\":{\"title\":{\"text\":\"prize\"}},\"colorscale\":[[0.0,\"rgb(253, 237, 176)\"],[0.09090909090909091,\"rgb(250, 205, 145)\"],[0.18181818181818182,\"rgb(246, 173, 119)\"],[0.2727272727272727,\"rgb(240, 142, 98)\"],[0.36363636363636365,\"rgb(231, 109, 84)\"],[0.45454545454545453,\"rgb(216, 80, 83)\"],[0.5454545454545454,\"rgb(195, 56, 90)\"],[0.6363636363636364,\"rgb(168, 40, 96)\"],[0.7272727272727273,\"rgb(138, 29, 99)\"],[0.8181818181818182,\"rgb(107, 24, 93)\"],[0.9090909090909091,\"rgb(76, 21, 80)\"],[1.0,\"rgb(47, 15, 61)\"]],\"showscale\":true},\"legend\":{\"tracegroupgap\":0},\"margin\":{\"t\":60}},                        {\"responsive\": true}                    ).then(function(){\n",
       "                            \n",
       "var gd = document.getElementById('f07a37d3-19ff-4d26-8e00-9e777fca19bb');\n",
       "var x = new MutationObserver(function (mutations, observer) {{\n",
       "        var display = window.getComputedStyle(gd).display;\n",
       "        if (!display || display === 'none') {{\n",
       "            console.log([gd, 'removed!']);\n",
       "            Plotly.purge(gd);\n",
       "            observer.disconnect();\n",
       "        }}\n",
       "}});\n",
       "\n",
       "// Listen for the removal of the full notebook cells\n",
       "var notebookContainer = gd.closest('#notebook-container');\n",
       "if (notebookContainer) {{\n",
       "    x.observe(notebookContainer, {childList: true});\n",
       "}}\n",
       "\n",
       "// Listen for the clearing of the current output cell\n",
       "var outputEl = gd.closest('.output');\n",
       "if (outputEl) {{\n",
       "    x.observe(outputEl, {childList: true});\n",
       "}}\n",
       "\n",
       "                        })                };                });            </script>        </div>"
      ]
     },
     "metadata": {},
     "output_type": "display_data"
    }
   ],
   "source": [
    "world_map = px.choropleth(\n",
    "    countries,\n",
    "    locations=\"ISO\",\n",
    "    color=\"prize\",\n",
    "    hover_name=\"birth_country_current\",\n",
    "    color_continuous_scale=px.colors.sequential.matter\n",
    ")\n",
    "\n",
    "world_map.update_layout(\n",
    "    coloraxis_showscale=True\n",
    ")\n",
    "\n",
    "world_map.show()"
   ]
  },
  {
   "cell_type": "markdown",
   "metadata": {
    "id": "hNB-HUw0o7MU"
   },
   "source": [
    "# In Which Categories are the Different Countries Winning Prizes? \n",
    "\n",
    "**Challenge**: See if you can divide up the plotly bar chart you created above to show the which categories made up the total number of prizes. Here's what you're aiming for:\n",
    "\n",
    "<img src=https://i.imgur.com/iGaIKCL.png>\n",
    "\n",
    "* In which category are Germany and Japan the weakest compared to the United States?\n",
    "* In which category does Germany have more prizes than the UK?\n",
    "* In which categories does France have more prizes than Germany?\n",
    "* Which category makes up most of Australia's nobel prizes?\n",
    "* Which category makes up half of the prizes in the Netherlands?\n",
    "* Does the United States have more prizes in Economics than all of France? What about in Physics or Medicine?\n",
    "\n",
    "\n",
    "The hard part is preparing the data for this chart! \n",
    "\n",
    "\n",
    "*Hint*: Take a two-step approach. The first step is grouping the data by country and category. Then you can create a DataFrame that looks something like this:\n",
    "\n",
    "<img src=https://i.imgur.com/VKjzKa1.png width=450>\n"
   ]
  },
  {
   "cell_type": "code",
   "execution_count": 162,
   "metadata": {
    "id": "_BuNdpmEF7wR"
   },
   "outputs": [],
   "source": [
    "cat_country = df_data.groupby([\"birth_country_current\",\"category\"], as_index=False).agg({\"prize\":pd.Series.count})\n",
    "cat_country.sort_values(by=\"prize\", ascending=False, inplace=True)"
   ]
  },
  {
   "cell_type": "code",
   "execution_count": 163,
   "metadata": {
    "id": "l5eYtGIXF8Mn"
   },
   "outputs": [],
   "source": [
    "# Merge together cat_country and top20_countries\n",
    "merged_df = pd.merge(cat_country, top20_countries, on=\"birth_country_current\")\n",
    "\n",
    "# Rename columns in merged dataframe\n",
    "merged_df.columns = ['birth_country_current', 'category', 'cat_prize', 'total_prize'] \n",
    "\n",
    "merged_df.sort_values(by=\"total_prize\", inplace=True)"
   ]
  },
  {
   "cell_type": "code",
   "execution_count": 164,
   "metadata": {
    "id": "AJO038bkF8YK"
   },
   "outputs": [
    {
     "data": {
      "application/vnd.plotly.v1+json": {
       "config": {
        "plotlyServerURL": "https://plot.ly"
       },
       "data": [
        {
         "alignmentgroup": "True",
         "hovertemplate": "category=Physics<br>total_prize=%{x}<br>birth_country_current=%{y}<extra></extra>",
         "legendgroup": "Physics",
         "marker": {
          "color": "#636efa",
          "pattern": {
           "shape": ""
          }
         },
         "name": "Physics",
         "offsetgroup": "Physics",
         "orientation": "h",
         "showlegend": true,
         "textposition": "auto",
         "type": "bar",
         "x": [
          9,
          9,
          9,
          10,
          12,
          12,
          12,
          18,
          18,
          19,
          19,
          20,
          26,
          27,
          27,
          29,
          57,
          84,
          105,
          281
         ],
         "xaxis": "x",
         "y": [
          "India",
          "Belgium",
          "Hungary",
          "Australia",
          "China",
          "Denmark",
          "Norway",
          "Austria",
          "Netherlands",
          "Switzerland",
          "Italy",
          "Canada",
          "Russia",
          "Poland",
          "Japan",
          "Sweden",
          "France",
          "Germany",
          "United Kingdom",
          "United States of America"
         ],
         "yaxis": "y"
        },
        {
         "alignmentgroup": "True",
         "hovertemplate": "category=Peace<br>total_prize=%{x}<br>birth_country_current=%{y}<extra></extra>",
         "legendgroup": "Peace",
         "marker": {
          "color": "#EF553B",
          "pattern": {
           "shape": ""
          }
         },
         "name": "Peace",
         "offsetgroup": "Peace",
         "orientation": "h",
         "showlegend": true,
         "textposition": "auto",
         "type": "bar",
         "x": [
          9,
          9,
          12,
          12,
          12,
          18,
          18,
          19,
          19,
          20,
          26,
          27,
          27,
          29,
          57,
          84,
          105,
          281
         ],
         "xaxis": "x",
         "y": [
          "India",
          "Belgium",
          "China",
          "Denmark",
          "Norway",
          "Austria",
          "Netherlands",
          "Italy",
          "Switzerland",
          "Canada",
          "Russia",
          "Japan",
          "Poland",
          "Sweden",
          "France",
          "Germany",
          "United Kingdom",
          "United States of America"
         ],
         "yaxis": "y"
        },
        {
         "alignmentgroup": "True",
         "hovertemplate": "category=Medicine<br>total_prize=%{x}<br>birth_country_current=%{y}<extra></extra>",
         "legendgroup": "Medicine",
         "marker": {
          "color": "#00cc96",
          "pattern": {
           "shape": ""
          }
         },
         "name": "Medicine",
         "offsetgroup": "Medicine",
         "orientation": "h",
         "showlegend": true,
         "textposition": "auto",
         "type": "bar",
         "x": [
          9,
          9,
          9,
          10,
          12,
          12,
          12,
          18,
          18,
          19,
          19,
          20,
          26,
          27,
          27,
          29,
          57,
          84,
          105,
          281
         ],
         "xaxis": "x",
         "y": [
          "Belgium",
          "Hungary",
          "India",
          "Australia",
          "Denmark",
          "China",
          "Norway",
          "Austria",
          "Netherlands",
          "Switzerland",
          "Italy",
          "Canada",
          "Russia",
          "Poland",
          "Japan",
          "Sweden",
          "France",
          "Germany",
          "United Kingdom",
          "United States of America"
         ],
         "yaxis": "y"
        },
        {
         "alignmentgroup": "True",
         "hovertemplate": "category=Chemistry<br>total_prize=%{x}<br>birth_country_current=%{y}<extra></extra>",
         "legendgroup": "Chemistry",
         "marker": {
          "color": "#ab63fa",
          "pattern": {
           "shape": ""
          }
         },
         "name": "Chemistry",
         "offsetgroup": "Chemistry",
         "orientation": "h",
         "showlegend": true,
         "textposition": "auto",
         "type": "bar",
         "x": [
          9,
          9,
          9,
          10,
          12,
          12,
          12,
          18,
          18,
          19,
          19,
          20,
          26,
          27,
          27,
          29,
          57,
          84,
          105,
          281
         ],
         "xaxis": "x",
         "y": [
          "Belgium",
          "Hungary",
          "India",
          "Australia",
          "China",
          "Denmark",
          "Norway",
          "Austria",
          "Netherlands",
          "Italy",
          "Switzerland",
          "Canada",
          "Russia",
          "Japan",
          "Poland",
          "Sweden",
          "France",
          "Germany",
          "United Kingdom",
          "United States of America"
         ],
         "yaxis": "y"
        },
        {
         "alignmentgroup": "True",
         "hovertemplate": "category=Literature<br>total_prize=%{x}<br>birth_country_current=%{y}<extra></extra>",
         "legendgroup": "Literature",
         "marker": {
          "color": "#FFA15A",
          "pattern": {
           "shape": ""
          }
         },
         "name": "Literature",
         "offsetgroup": "Literature",
         "orientation": "h",
         "showlegend": true,
         "textposition": "auto",
         "type": "bar",
         "x": [
          9,
          9,
          9,
          12,
          12,
          12,
          18,
          19,
          19,
          20,
          26,
          27,
          27,
          29,
          57,
          84,
          105,
          281
         ],
         "xaxis": "x",
         "y": [
          "Belgium",
          "Hungary",
          "India",
          "Norway",
          "China",
          "Denmark",
          "Austria",
          "Switzerland",
          "Italy",
          "Canada",
          "Russia",
          "Japan",
          "Poland",
          "Sweden",
          "France",
          "Germany",
          "United Kingdom",
          "United States of America"
         ],
         "yaxis": "y"
        },
        {
         "alignmentgroup": "True",
         "hovertemplate": "category=Economics<br>total_prize=%{x}<br>birth_country_current=%{y}<extra></extra>",
         "legendgroup": "Economics",
         "marker": {
          "color": "#19d3f3",
          "pattern": {
           "shape": ""
          }
         },
         "name": "Economics",
         "offsetgroup": "Economics",
         "orientation": "h",
         "showlegend": true,
         "textposition": "auto",
         "type": "bar",
         "x": [
          9,
          9,
          12,
          18,
          18,
          19,
          20,
          26,
          27,
          29,
          57,
          84,
          105,
          281
         ],
         "xaxis": "x",
         "y": [
          "Hungary",
          "India",
          "Norway",
          "Austria",
          "Netherlands",
          "Italy",
          "Canada",
          "Russia",
          "Poland",
          "Sweden",
          "France",
          "Germany",
          "United Kingdom",
          "United States of America"
         ],
         "yaxis": "y"
        }
       ],
       "layout": {
        "barmode": "relative",
        "coloraxis": {
         "showscale": false
        },
        "legend": {
         "title": {
          "text": "category"
         },
         "tracegroupgap": 0
        },
        "template": {
         "data": {
          "bar": [
           {
            "error_x": {
             "color": "#2a3f5f"
            },
            "error_y": {
             "color": "#2a3f5f"
            },
            "marker": {
             "line": {
              "color": "#E5ECF6",
              "width": 0.5
             },
             "pattern": {
              "fillmode": "overlay",
              "size": 10,
              "solidity": 0.2
             }
            },
            "type": "bar"
           }
          ],
          "barpolar": [
           {
            "marker": {
             "line": {
              "color": "#E5ECF6",
              "width": 0.5
             },
             "pattern": {
              "fillmode": "overlay",
              "size": 10,
              "solidity": 0.2
             }
            },
            "type": "barpolar"
           }
          ],
          "carpet": [
           {
            "aaxis": {
             "endlinecolor": "#2a3f5f",
             "gridcolor": "white",
             "linecolor": "white",
             "minorgridcolor": "white",
             "startlinecolor": "#2a3f5f"
            },
            "baxis": {
             "endlinecolor": "#2a3f5f",
             "gridcolor": "white",
             "linecolor": "white",
             "minorgridcolor": "white",
             "startlinecolor": "#2a3f5f"
            },
            "type": "carpet"
           }
          ],
          "choropleth": [
           {
            "colorbar": {
             "outlinewidth": 0,
             "ticks": ""
            },
            "type": "choropleth"
           }
          ],
          "contour": [
           {
            "colorbar": {
             "outlinewidth": 0,
             "ticks": ""
            },
            "colorscale": [
             [
              0,
              "#0d0887"
             ],
             [
              0.1111111111111111,
              "#46039f"
             ],
             [
              0.2222222222222222,
              "#7201a8"
             ],
             [
              0.3333333333333333,
              "#9c179e"
             ],
             [
              0.4444444444444444,
              "#bd3786"
             ],
             [
              0.5555555555555556,
              "#d8576b"
             ],
             [
              0.6666666666666666,
              "#ed7953"
             ],
             [
              0.7777777777777778,
              "#fb9f3a"
             ],
             [
              0.8888888888888888,
              "#fdca26"
             ],
             [
              1,
              "#f0f921"
             ]
            ],
            "type": "contour"
           }
          ],
          "contourcarpet": [
           {
            "colorbar": {
             "outlinewidth": 0,
             "ticks": ""
            },
            "type": "contourcarpet"
           }
          ],
          "heatmap": [
           {
            "colorbar": {
             "outlinewidth": 0,
             "ticks": ""
            },
            "colorscale": [
             [
              0,
              "#0d0887"
             ],
             [
              0.1111111111111111,
              "#46039f"
             ],
             [
              0.2222222222222222,
              "#7201a8"
             ],
             [
              0.3333333333333333,
              "#9c179e"
             ],
             [
              0.4444444444444444,
              "#bd3786"
             ],
             [
              0.5555555555555556,
              "#d8576b"
             ],
             [
              0.6666666666666666,
              "#ed7953"
             ],
             [
              0.7777777777777778,
              "#fb9f3a"
             ],
             [
              0.8888888888888888,
              "#fdca26"
             ],
             [
              1,
              "#f0f921"
             ]
            ],
            "type": "heatmap"
           }
          ],
          "heatmapgl": [
           {
            "colorbar": {
             "outlinewidth": 0,
             "ticks": ""
            },
            "colorscale": [
             [
              0,
              "#0d0887"
             ],
             [
              0.1111111111111111,
              "#46039f"
             ],
             [
              0.2222222222222222,
              "#7201a8"
             ],
             [
              0.3333333333333333,
              "#9c179e"
             ],
             [
              0.4444444444444444,
              "#bd3786"
             ],
             [
              0.5555555555555556,
              "#d8576b"
             ],
             [
              0.6666666666666666,
              "#ed7953"
             ],
             [
              0.7777777777777778,
              "#fb9f3a"
             ],
             [
              0.8888888888888888,
              "#fdca26"
             ],
             [
              1,
              "#f0f921"
             ]
            ],
            "type": "heatmapgl"
           }
          ],
          "histogram": [
           {
            "marker": {
             "pattern": {
              "fillmode": "overlay",
              "size": 10,
              "solidity": 0.2
             }
            },
            "type": "histogram"
           }
          ],
          "histogram2d": [
           {
            "colorbar": {
             "outlinewidth": 0,
             "ticks": ""
            },
            "colorscale": [
             [
              0,
              "#0d0887"
             ],
             [
              0.1111111111111111,
              "#46039f"
             ],
             [
              0.2222222222222222,
              "#7201a8"
             ],
             [
              0.3333333333333333,
              "#9c179e"
             ],
             [
              0.4444444444444444,
              "#bd3786"
             ],
             [
              0.5555555555555556,
              "#d8576b"
             ],
             [
              0.6666666666666666,
              "#ed7953"
             ],
             [
              0.7777777777777778,
              "#fb9f3a"
             ],
             [
              0.8888888888888888,
              "#fdca26"
             ],
             [
              1,
              "#f0f921"
             ]
            ],
            "type": "histogram2d"
           }
          ],
          "histogram2dcontour": [
           {
            "colorbar": {
             "outlinewidth": 0,
             "ticks": ""
            },
            "colorscale": [
             [
              0,
              "#0d0887"
             ],
             [
              0.1111111111111111,
              "#46039f"
             ],
             [
              0.2222222222222222,
              "#7201a8"
             ],
             [
              0.3333333333333333,
              "#9c179e"
             ],
             [
              0.4444444444444444,
              "#bd3786"
             ],
             [
              0.5555555555555556,
              "#d8576b"
             ],
             [
              0.6666666666666666,
              "#ed7953"
             ],
             [
              0.7777777777777778,
              "#fb9f3a"
             ],
             [
              0.8888888888888888,
              "#fdca26"
             ],
             [
              1,
              "#f0f921"
             ]
            ],
            "type": "histogram2dcontour"
           }
          ],
          "mesh3d": [
           {
            "colorbar": {
             "outlinewidth": 0,
             "ticks": ""
            },
            "type": "mesh3d"
           }
          ],
          "parcoords": [
           {
            "line": {
             "colorbar": {
              "outlinewidth": 0,
              "ticks": ""
             }
            },
            "type": "parcoords"
           }
          ],
          "pie": [
           {
            "automargin": true,
            "type": "pie"
           }
          ],
          "scatter": [
           {
            "fillpattern": {
             "fillmode": "overlay",
             "size": 10,
             "solidity": 0.2
            },
            "type": "scatter"
           }
          ],
          "scatter3d": [
           {
            "line": {
             "colorbar": {
              "outlinewidth": 0,
              "ticks": ""
             }
            },
            "marker": {
             "colorbar": {
              "outlinewidth": 0,
              "ticks": ""
             }
            },
            "type": "scatter3d"
           }
          ],
          "scattercarpet": [
           {
            "marker": {
             "colorbar": {
              "outlinewidth": 0,
              "ticks": ""
             }
            },
            "type": "scattercarpet"
           }
          ],
          "scattergeo": [
           {
            "marker": {
             "colorbar": {
              "outlinewidth": 0,
              "ticks": ""
             }
            },
            "type": "scattergeo"
           }
          ],
          "scattergl": [
           {
            "marker": {
             "colorbar": {
              "outlinewidth": 0,
              "ticks": ""
             }
            },
            "type": "scattergl"
           }
          ],
          "scattermapbox": [
           {
            "marker": {
             "colorbar": {
              "outlinewidth": 0,
              "ticks": ""
             }
            },
            "type": "scattermapbox"
           }
          ],
          "scatterpolar": [
           {
            "marker": {
             "colorbar": {
              "outlinewidth": 0,
              "ticks": ""
             }
            },
            "type": "scatterpolar"
           }
          ],
          "scatterpolargl": [
           {
            "marker": {
             "colorbar": {
              "outlinewidth": 0,
              "ticks": ""
             }
            },
            "type": "scatterpolargl"
           }
          ],
          "scatterternary": [
           {
            "marker": {
             "colorbar": {
              "outlinewidth": 0,
              "ticks": ""
             }
            },
            "type": "scatterternary"
           }
          ],
          "surface": [
           {
            "colorbar": {
             "outlinewidth": 0,
             "ticks": ""
            },
            "colorscale": [
             [
              0,
              "#0d0887"
             ],
             [
              0.1111111111111111,
              "#46039f"
             ],
             [
              0.2222222222222222,
              "#7201a8"
             ],
             [
              0.3333333333333333,
              "#9c179e"
             ],
             [
              0.4444444444444444,
              "#bd3786"
             ],
             [
              0.5555555555555556,
              "#d8576b"
             ],
             [
              0.6666666666666666,
              "#ed7953"
             ],
             [
              0.7777777777777778,
              "#fb9f3a"
             ],
             [
              0.8888888888888888,
              "#fdca26"
             ],
             [
              1,
              "#f0f921"
             ]
            ],
            "type": "surface"
           }
          ],
          "table": [
           {
            "cells": {
             "fill": {
              "color": "#EBF0F8"
             },
             "line": {
              "color": "white"
             }
            },
            "header": {
             "fill": {
              "color": "#C8D4E3"
             },
             "line": {
              "color": "white"
             }
            },
            "type": "table"
           }
          ]
         },
         "layout": {
          "annotationdefaults": {
           "arrowcolor": "#2a3f5f",
           "arrowhead": 0,
           "arrowwidth": 1
          },
          "autotypenumbers": "strict",
          "coloraxis": {
           "colorbar": {
            "outlinewidth": 0,
            "ticks": ""
           }
          },
          "colorscale": {
           "diverging": [
            [
             0,
             "#8e0152"
            ],
            [
             0.1,
             "#c51b7d"
            ],
            [
             0.2,
             "#de77ae"
            ],
            [
             0.3,
             "#f1b6da"
            ],
            [
             0.4,
             "#fde0ef"
            ],
            [
             0.5,
             "#f7f7f7"
            ],
            [
             0.6,
             "#e6f5d0"
            ],
            [
             0.7,
             "#b8e186"
            ],
            [
             0.8,
             "#7fbc41"
            ],
            [
             0.9,
             "#4d9221"
            ],
            [
             1,
             "#276419"
            ]
           ],
           "sequential": [
            [
             0,
             "#0d0887"
            ],
            [
             0.1111111111111111,
             "#46039f"
            ],
            [
             0.2222222222222222,
             "#7201a8"
            ],
            [
             0.3333333333333333,
             "#9c179e"
            ],
            [
             0.4444444444444444,
             "#bd3786"
            ],
            [
             0.5555555555555556,
             "#d8576b"
            ],
            [
             0.6666666666666666,
             "#ed7953"
            ],
            [
             0.7777777777777778,
             "#fb9f3a"
            ],
            [
             0.8888888888888888,
             "#fdca26"
            ],
            [
             1,
             "#f0f921"
            ]
           ],
           "sequentialminus": [
            [
             0,
             "#0d0887"
            ],
            [
             0.1111111111111111,
             "#46039f"
            ],
            [
             0.2222222222222222,
             "#7201a8"
            ],
            [
             0.3333333333333333,
             "#9c179e"
            ],
            [
             0.4444444444444444,
             "#bd3786"
            ],
            [
             0.5555555555555556,
             "#d8576b"
            ],
            [
             0.6666666666666666,
             "#ed7953"
            ],
            [
             0.7777777777777778,
             "#fb9f3a"
            ],
            [
             0.8888888888888888,
             "#fdca26"
            ],
            [
             1,
             "#f0f921"
            ]
           ]
          },
          "colorway": [
           "#636efa",
           "#EF553B",
           "#00cc96",
           "#ab63fa",
           "#FFA15A",
           "#19d3f3",
           "#FF6692",
           "#B6E880",
           "#FF97FF",
           "#FECB52"
          ],
          "font": {
           "color": "#2a3f5f"
          },
          "geo": {
           "bgcolor": "white",
           "lakecolor": "white",
           "landcolor": "#E5ECF6",
           "showlakes": true,
           "showland": true,
           "subunitcolor": "white"
          },
          "hoverlabel": {
           "align": "left"
          },
          "hovermode": "closest",
          "mapbox": {
           "style": "light"
          },
          "paper_bgcolor": "white",
          "plot_bgcolor": "#E5ECF6",
          "polar": {
           "angularaxis": {
            "gridcolor": "white",
            "linecolor": "white",
            "ticks": ""
           },
           "bgcolor": "#E5ECF6",
           "radialaxis": {
            "gridcolor": "white",
            "linecolor": "white",
            "ticks": ""
           }
          },
          "scene": {
           "xaxis": {
            "backgroundcolor": "#E5ECF6",
            "gridcolor": "white",
            "gridwidth": 2,
            "linecolor": "white",
            "showbackground": true,
            "ticks": "",
            "zerolinecolor": "white"
           },
           "yaxis": {
            "backgroundcolor": "#E5ECF6",
            "gridcolor": "white",
            "gridwidth": 2,
            "linecolor": "white",
            "showbackground": true,
            "ticks": "",
            "zerolinecolor": "white"
           },
           "zaxis": {
            "backgroundcolor": "#E5ECF6",
            "gridcolor": "white",
            "gridwidth": 2,
            "linecolor": "white",
            "showbackground": true,
            "ticks": "",
            "zerolinecolor": "white"
           }
          },
          "shapedefaults": {
           "line": {
            "color": "#2a3f5f"
           }
          },
          "ternary": {
           "aaxis": {
            "gridcolor": "white",
            "linecolor": "white",
            "ticks": ""
           },
           "baxis": {
            "gridcolor": "white",
            "linecolor": "white",
            "ticks": ""
           },
           "bgcolor": "#E5ECF6",
           "caxis": {
            "gridcolor": "white",
            "linecolor": "white",
            "ticks": ""
           }
          },
          "title": {
           "x": 0.05
          },
          "xaxis": {
           "automargin": true,
           "gridcolor": "white",
           "linecolor": "white",
           "ticks": "",
           "title": {
            "standoff": 15
           },
           "zerolinecolor": "white",
           "zerolinewidth": 2
          },
          "yaxis": {
           "automargin": true,
           "gridcolor": "white",
           "linecolor": "white",
           "ticks": "",
           "title": {
            "standoff": 15
           },
           "zerolinecolor": "white",
           "zerolinewidth": 2
          }
         }
        },
        "title": {
         "text": "Countries and Nobel Prize Categories"
        },
        "xaxis": {
         "anchor": "y",
         "domain": [
          0,
          1
         ],
         "title": {
          "text": "Number of Prizes"
         }
        },
        "yaxis": {
         "anchor": "x",
         "domain": [
          0,
          1
         ],
         "title": {
          "text": "Country"
         }
        }
       }
      },
      "text/html": [
       "<div>                            <div id=\"08cc8fe2-4db4-484f-abd8-1299499a0080\" class=\"plotly-graph-div\" style=\"height:525px; width:100%;\"></div>            <script type=\"text/javascript\">                require([\"plotly\"], function(Plotly) {                    window.PLOTLYENV=window.PLOTLYENV || {};                                    if (document.getElementById(\"08cc8fe2-4db4-484f-abd8-1299499a0080\")) {                    Plotly.newPlot(                        \"08cc8fe2-4db4-484f-abd8-1299499a0080\",                        [{\"alignmentgroup\":\"True\",\"hovertemplate\":\"category=Physics<br>total_prize=%{x}<br>birth_country_current=%{y}<extra></extra>\",\"legendgroup\":\"Physics\",\"marker\":{\"color\":\"#636efa\",\"pattern\":{\"shape\":\"\"}},\"name\":\"Physics\",\"offsetgroup\":\"Physics\",\"orientation\":\"h\",\"showlegend\":true,\"textposition\":\"auto\",\"x\":[9,9,9,10,12,12,12,18,18,19,19,20,26,27,27,29,57,84,105,281],\"xaxis\":\"x\",\"y\":[\"India\",\"Belgium\",\"Hungary\",\"Australia\",\"China\",\"Denmark\",\"Norway\",\"Austria\",\"Netherlands\",\"Switzerland\",\"Italy\",\"Canada\",\"Russia\",\"Poland\",\"Japan\",\"Sweden\",\"France\",\"Germany\",\"United Kingdom\",\"United States of America\"],\"yaxis\":\"y\",\"type\":\"bar\"},{\"alignmentgroup\":\"True\",\"hovertemplate\":\"category=Peace<br>total_prize=%{x}<br>birth_country_current=%{y}<extra></extra>\",\"legendgroup\":\"Peace\",\"marker\":{\"color\":\"#EF553B\",\"pattern\":{\"shape\":\"\"}},\"name\":\"Peace\",\"offsetgroup\":\"Peace\",\"orientation\":\"h\",\"showlegend\":true,\"textposition\":\"auto\",\"x\":[9,9,12,12,12,18,18,19,19,20,26,27,27,29,57,84,105,281],\"xaxis\":\"x\",\"y\":[\"India\",\"Belgium\",\"China\",\"Denmark\",\"Norway\",\"Austria\",\"Netherlands\",\"Italy\",\"Switzerland\",\"Canada\",\"Russia\",\"Japan\",\"Poland\",\"Sweden\",\"France\",\"Germany\",\"United Kingdom\",\"United States of America\"],\"yaxis\":\"y\",\"type\":\"bar\"},{\"alignmentgroup\":\"True\",\"hovertemplate\":\"category=Medicine<br>total_prize=%{x}<br>birth_country_current=%{y}<extra></extra>\",\"legendgroup\":\"Medicine\",\"marker\":{\"color\":\"#00cc96\",\"pattern\":{\"shape\":\"\"}},\"name\":\"Medicine\",\"offsetgroup\":\"Medicine\",\"orientation\":\"h\",\"showlegend\":true,\"textposition\":\"auto\",\"x\":[9,9,9,10,12,12,12,18,18,19,19,20,26,27,27,29,57,84,105,281],\"xaxis\":\"x\",\"y\":[\"Belgium\",\"Hungary\",\"India\",\"Australia\",\"Denmark\",\"China\",\"Norway\",\"Austria\",\"Netherlands\",\"Switzerland\",\"Italy\",\"Canada\",\"Russia\",\"Poland\",\"Japan\",\"Sweden\",\"France\",\"Germany\",\"United Kingdom\",\"United States of America\"],\"yaxis\":\"y\",\"type\":\"bar\"},{\"alignmentgroup\":\"True\",\"hovertemplate\":\"category=Chemistry<br>total_prize=%{x}<br>birth_country_current=%{y}<extra></extra>\",\"legendgroup\":\"Chemistry\",\"marker\":{\"color\":\"#ab63fa\",\"pattern\":{\"shape\":\"\"}},\"name\":\"Chemistry\",\"offsetgroup\":\"Chemistry\",\"orientation\":\"h\",\"showlegend\":true,\"textposition\":\"auto\",\"x\":[9,9,9,10,12,12,12,18,18,19,19,20,26,27,27,29,57,84,105,281],\"xaxis\":\"x\",\"y\":[\"Belgium\",\"Hungary\",\"India\",\"Australia\",\"China\",\"Denmark\",\"Norway\",\"Austria\",\"Netherlands\",\"Italy\",\"Switzerland\",\"Canada\",\"Russia\",\"Japan\",\"Poland\",\"Sweden\",\"France\",\"Germany\",\"United Kingdom\",\"United States of America\"],\"yaxis\":\"y\",\"type\":\"bar\"},{\"alignmentgroup\":\"True\",\"hovertemplate\":\"category=Literature<br>total_prize=%{x}<br>birth_country_current=%{y}<extra></extra>\",\"legendgroup\":\"Literature\",\"marker\":{\"color\":\"#FFA15A\",\"pattern\":{\"shape\":\"\"}},\"name\":\"Literature\",\"offsetgroup\":\"Literature\",\"orientation\":\"h\",\"showlegend\":true,\"textposition\":\"auto\",\"x\":[9,9,9,12,12,12,18,19,19,20,26,27,27,29,57,84,105,281],\"xaxis\":\"x\",\"y\":[\"Belgium\",\"Hungary\",\"India\",\"Norway\",\"China\",\"Denmark\",\"Austria\",\"Switzerland\",\"Italy\",\"Canada\",\"Russia\",\"Japan\",\"Poland\",\"Sweden\",\"France\",\"Germany\",\"United Kingdom\",\"United States of America\"],\"yaxis\":\"y\",\"type\":\"bar\"},{\"alignmentgroup\":\"True\",\"hovertemplate\":\"category=Economics<br>total_prize=%{x}<br>birth_country_current=%{y}<extra></extra>\",\"legendgroup\":\"Economics\",\"marker\":{\"color\":\"#19d3f3\",\"pattern\":{\"shape\":\"\"}},\"name\":\"Economics\",\"offsetgroup\":\"Economics\",\"orientation\":\"h\",\"showlegend\":true,\"textposition\":\"auto\",\"x\":[9,9,12,18,18,19,20,26,27,29,57,84,105,281],\"xaxis\":\"x\",\"y\":[\"Hungary\",\"India\",\"Norway\",\"Austria\",\"Netherlands\",\"Italy\",\"Canada\",\"Russia\",\"Poland\",\"Sweden\",\"France\",\"Germany\",\"United Kingdom\",\"United States of America\"],\"yaxis\":\"y\",\"type\":\"bar\"}],                        {\"template\":{\"data\":{\"histogram2dcontour\":[{\"type\":\"histogram2dcontour\",\"colorbar\":{\"outlinewidth\":0,\"ticks\":\"\"},\"colorscale\":[[0.0,\"#0d0887\"],[0.1111111111111111,\"#46039f\"],[0.2222222222222222,\"#7201a8\"],[0.3333333333333333,\"#9c179e\"],[0.4444444444444444,\"#bd3786\"],[0.5555555555555556,\"#d8576b\"],[0.6666666666666666,\"#ed7953\"],[0.7777777777777778,\"#fb9f3a\"],[0.8888888888888888,\"#fdca26\"],[1.0,\"#f0f921\"]]}],\"choropleth\":[{\"type\":\"choropleth\",\"colorbar\":{\"outlinewidth\":0,\"ticks\":\"\"}}],\"histogram2d\":[{\"type\":\"histogram2d\",\"colorbar\":{\"outlinewidth\":0,\"ticks\":\"\"},\"colorscale\":[[0.0,\"#0d0887\"],[0.1111111111111111,\"#46039f\"],[0.2222222222222222,\"#7201a8\"],[0.3333333333333333,\"#9c179e\"],[0.4444444444444444,\"#bd3786\"],[0.5555555555555556,\"#d8576b\"],[0.6666666666666666,\"#ed7953\"],[0.7777777777777778,\"#fb9f3a\"],[0.8888888888888888,\"#fdca26\"],[1.0,\"#f0f921\"]]}],\"heatmap\":[{\"type\":\"heatmap\",\"colorbar\":{\"outlinewidth\":0,\"ticks\":\"\"},\"colorscale\":[[0.0,\"#0d0887\"],[0.1111111111111111,\"#46039f\"],[0.2222222222222222,\"#7201a8\"],[0.3333333333333333,\"#9c179e\"],[0.4444444444444444,\"#bd3786\"],[0.5555555555555556,\"#d8576b\"],[0.6666666666666666,\"#ed7953\"],[0.7777777777777778,\"#fb9f3a\"],[0.8888888888888888,\"#fdca26\"],[1.0,\"#f0f921\"]]}],\"heatmapgl\":[{\"type\":\"heatmapgl\",\"colorbar\":{\"outlinewidth\":0,\"ticks\":\"\"},\"colorscale\":[[0.0,\"#0d0887\"],[0.1111111111111111,\"#46039f\"],[0.2222222222222222,\"#7201a8\"],[0.3333333333333333,\"#9c179e\"],[0.4444444444444444,\"#bd3786\"],[0.5555555555555556,\"#d8576b\"],[0.6666666666666666,\"#ed7953\"],[0.7777777777777778,\"#fb9f3a\"],[0.8888888888888888,\"#fdca26\"],[1.0,\"#f0f921\"]]}],\"contourcarpet\":[{\"type\":\"contourcarpet\",\"colorbar\":{\"outlinewidth\":0,\"ticks\":\"\"}}],\"contour\":[{\"type\":\"contour\",\"colorbar\":{\"outlinewidth\":0,\"ticks\":\"\"},\"colorscale\":[[0.0,\"#0d0887\"],[0.1111111111111111,\"#46039f\"],[0.2222222222222222,\"#7201a8\"],[0.3333333333333333,\"#9c179e\"],[0.4444444444444444,\"#bd3786\"],[0.5555555555555556,\"#d8576b\"],[0.6666666666666666,\"#ed7953\"],[0.7777777777777778,\"#fb9f3a\"],[0.8888888888888888,\"#fdca26\"],[1.0,\"#f0f921\"]]}],\"surface\":[{\"type\":\"surface\",\"colorbar\":{\"outlinewidth\":0,\"ticks\":\"\"},\"colorscale\":[[0.0,\"#0d0887\"],[0.1111111111111111,\"#46039f\"],[0.2222222222222222,\"#7201a8\"],[0.3333333333333333,\"#9c179e\"],[0.4444444444444444,\"#bd3786\"],[0.5555555555555556,\"#d8576b\"],[0.6666666666666666,\"#ed7953\"],[0.7777777777777778,\"#fb9f3a\"],[0.8888888888888888,\"#fdca26\"],[1.0,\"#f0f921\"]]}],\"mesh3d\":[{\"type\":\"mesh3d\",\"colorbar\":{\"outlinewidth\":0,\"ticks\":\"\"}}],\"scatter\":[{\"fillpattern\":{\"fillmode\":\"overlay\",\"size\":10,\"solidity\":0.2},\"type\":\"scatter\"}],\"parcoords\":[{\"type\":\"parcoords\",\"line\":{\"colorbar\":{\"outlinewidth\":0,\"ticks\":\"\"}}}],\"scatterpolargl\":[{\"type\":\"scatterpolargl\",\"marker\":{\"colorbar\":{\"outlinewidth\":0,\"ticks\":\"\"}}}],\"bar\":[{\"error_x\":{\"color\":\"#2a3f5f\"},\"error_y\":{\"color\":\"#2a3f5f\"},\"marker\":{\"line\":{\"color\":\"#E5ECF6\",\"width\":0.5},\"pattern\":{\"fillmode\":\"overlay\",\"size\":10,\"solidity\":0.2}},\"type\":\"bar\"}],\"scattergeo\":[{\"type\":\"scattergeo\",\"marker\":{\"colorbar\":{\"outlinewidth\":0,\"ticks\":\"\"}}}],\"scatterpolar\":[{\"type\":\"scatterpolar\",\"marker\":{\"colorbar\":{\"outlinewidth\":0,\"ticks\":\"\"}}}],\"histogram\":[{\"marker\":{\"pattern\":{\"fillmode\":\"overlay\",\"size\":10,\"solidity\":0.2}},\"type\":\"histogram\"}],\"scattergl\":[{\"type\":\"scattergl\",\"marker\":{\"colorbar\":{\"outlinewidth\":0,\"ticks\":\"\"}}}],\"scatter3d\":[{\"type\":\"scatter3d\",\"line\":{\"colorbar\":{\"outlinewidth\":0,\"ticks\":\"\"}},\"marker\":{\"colorbar\":{\"outlinewidth\":0,\"ticks\":\"\"}}}],\"scattermapbox\":[{\"type\":\"scattermapbox\",\"marker\":{\"colorbar\":{\"outlinewidth\":0,\"ticks\":\"\"}}}],\"scatterternary\":[{\"type\":\"scatterternary\",\"marker\":{\"colorbar\":{\"outlinewidth\":0,\"ticks\":\"\"}}}],\"scattercarpet\":[{\"type\":\"scattercarpet\",\"marker\":{\"colorbar\":{\"outlinewidth\":0,\"ticks\":\"\"}}}],\"carpet\":[{\"aaxis\":{\"endlinecolor\":\"#2a3f5f\",\"gridcolor\":\"white\",\"linecolor\":\"white\",\"minorgridcolor\":\"white\",\"startlinecolor\":\"#2a3f5f\"},\"baxis\":{\"endlinecolor\":\"#2a3f5f\",\"gridcolor\":\"white\",\"linecolor\":\"white\",\"minorgridcolor\":\"white\",\"startlinecolor\":\"#2a3f5f\"},\"type\":\"carpet\"}],\"table\":[{\"cells\":{\"fill\":{\"color\":\"#EBF0F8\"},\"line\":{\"color\":\"white\"}},\"header\":{\"fill\":{\"color\":\"#C8D4E3\"},\"line\":{\"color\":\"white\"}},\"type\":\"table\"}],\"barpolar\":[{\"marker\":{\"line\":{\"color\":\"#E5ECF6\",\"width\":0.5},\"pattern\":{\"fillmode\":\"overlay\",\"size\":10,\"solidity\":0.2}},\"type\":\"barpolar\"}],\"pie\":[{\"automargin\":true,\"type\":\"pie\"}]},\"layout\":{\"autotypenumbers\":\"strict\",\"colorway\":[\"#636efa\",\"#EF553B\",\"#00cc96\",\"#ab63fa\",\"#FFA15A\",\"#19d3f3\",\"#FF6692\",\"#B6E880\",\"#FF97FF\",\"#FECB52\"],\"font\":{\"color\":\"#2a3f5f\"},\"hovermode\":\"closest\",\"hoverlabel\":{\"align\":\"left\"},\"paper_bgcolor\":\"white\",\"plot_bgcolor\":\"#E5ECF6\",\"polar\":{\"bgcolor\":\"#E5ECF6\",\"angularaxis\":{\"gridcolor\":\"white\",\"linecolor\":\"white\",\"ticks\":\"\"},\"radialaxis\":{\"gridcolor\":\"white\",\"linecolor\":\"white\",\"ticks\":\"\"}},\"ternary\":{\"bgcolor\":\"#E5ECF6\",\"aaxis\":{\"gridcolor\":\"white\",\"linecolor\":\"white\",\"ticks\":\"\"},\"baxis\":{\"gridcolor\":\"white\",\"linecolor\":\"white\",\"ticks\":\"\"},\"caxis\":{\"gridcolor\":\"white\",\"linecolor\":\"white\",\"ticks\":\"\"}},\"coloraxis\":{\"colorbar\":{\"outlinewidth\":0,\"ticks\":\"\"}},\"colorscale\":{\"sequential\":[[0.0,\"#0d0887\"],[0.1111111111111111,\"#46039f\"],[0.2222222222222222,\"#7201a8\"],[0.3333333333333333,\"#9c179e\"],[0.4444444444444444,\"#bd3786\"],[0.5555555555555556,\"#d8576b\"],[0.6666666666666666,\"#ed7953\"],[0.7777777777777778,\"#fb9f3a\"],[0.8888888888888888,\"#fdca26\"],[1.0,\"#f0f921\"]],\"sequentialminus\":[[0.0,\"#0d0887\"],[0.1111111111111111,\"#46039f\"],[0.2222222222222222,\"#7201a8\"],[0.3333333333333333,\"#9c179e\"],[0.4444444444444444,\"#bd3786\"],[0.5555555555555556,\"#d8576b\"],[0.6666666666666666,\"#ed7953\"],[0.7777777777777778,\"#fb9f3a\"],[0.8888888888888888,\"#fdca26\"],[1.0,\"#f0f921\"]],\"diverging\":[[0,\"#8e0152\"],[0.1,\"#c51b7d\"],[0.2,\"#de77ae\"],[0.3,\"#f1b6da\"],[0.4,\"#fde0ef\"],[0.5,\"#f7f7f7\"],[0.6,\"#e6f5d0\"],[0.7,\"#b8e186\"],[0.8,\"#7fbc41\"],[0.9,\"#4d9221\"],[1,\"#276419\"]]},\"xaxis\":{\"gridcolor\":\"white\",\"linecolor\":\"white\",\"ticks\":\"\",\"title\":{\"standoff\":15},\"zerolinecolor\":\"white\",\"automargin\":true,\"zerolinewidth\":2},\"yaxis\":{\"gridcolor\":\"white\",\"linecolor\":\"white\",\"ticks\":\"\",\"title\":{\"standoff\":15},\"zerolinecolor\":\"white\",\"automargin\":true,\"zerolinewidth\":2},\"scene\":{\"xaxis\":{\"backgroundcolor\":\"#E5ECF6\",\"gridcolor\":\"white\",\"linecolor\":\"white\",\"showbackground\":true,\"ticks\":\"\",\"zerolinecolor\":\"white\",\"gridwidth\":2},\"yaxis\":{\"backgroundcolor\":\"#E5ECF6\",\"gridcolor\":\"white\",\"linecolor\":\"white\",\"showbackground\":true,\"ticks\":\"\",\"zerolinecolor\":\"white\",\"gridwidth\":2},\"zaxis\":{\"backgroundcolor\":\"#E5ECF6\",\"gridcolor\":\"white\",\"linecolor\":\"white\",\"showbackground\":true,\"ticks\":\"\",\"zerolinecolor\":\"white\",\"gridwidth\":2}},\"shapedefaults\":{\"line\":{\"color\":\"#2a3f5f\"}},\"annotationdefaults\":{\"arrowcolor\":\"#2a3f5f\",\"arrowhead\":0,\"arrowwidth\":1},\"geo\":{\"bgcolor\":\"white\",\"landcolor\":\"#E5ECF6\",\"subunitcolor\":\"white\",\"showland\":true,\"showlakes\":true,\"lakecolor\":\"white\"},\"title\":{\"x\":0.05},\"mapbox\":{\"style\":\"light\"}}},\"xaxis\":{\"anchor\":\"y\",\"domain\":[0.0,1.0],\"title\":{\"text\":\"Number of Prizes\"}},\"yaxis\":{\"anchor\":\"x\",\"domain\":[0.0,1.0],\"title\":{\"text\":\"Country\"}},\"legend\":{\"title\":{\"text\":\"category\"},\"tracegroupgap\":0},\"title\":{\"text\":\"Countries and Nobel Prize Categories\"},\"barmode\":\"relative\",\"coloraxis\":{\"showscale\":false}},                        {\"responsive\": true}                    ).then(function(){\n",
       "                            \n",
       "var gd = document.getElementById('08cc8fe2-4db4-484f-abd8-1299499a0080');\n",
       "var x = new MutationObserver(function (mutations, observer) {{\n",
       "        var display = window.getComputedStyle(gd).display;\n",
       "        if (!display || display === 'none') {{\n",
       "            console.log([gd, 'removed!']);\n",
       "            Plotly.purge(gd);\n",
       "            observer.disconnect();\n",
       "        }}\n",
       "}});\n",
       "\n",
       "// Listen for the removal of the full notebook cells\n",
       "var notebookContainer = gd.closest('#notebook-container');\n",
       "if (notebookContainer) {{\n",
       "    x.observe(notebookContainer, {childList: true});\n",
       "}}\n",
       "\n",
       "// Listen for the clearing of the current output cell\n",
       "var outputEl = gd.closest('.output');\n",
       "if (outputEl) {{\n",
       "    x.observe(outputEl, {childList: true});\n",
       "}}\n",
       "\n",
       "                        })                };                });            </script>        </div>"
      ]
     },
     "metadata": {},
     "output_type": "display_data"
    }
   ],
   "source": [
    "h_bar = px.bar(\n",
    "    merged_df,\n",
    "    x=merged_df[\"total_prize\"],\n",
    "    y=merged_df[\"birth_country_current\"],\n",
    "    color=merged_df[\"category\"],\n",
    "    title=\"Countries and Nobel Prize Categories\",\n",
    "    orientation=\"h\"\n",
    ")\n",
    "\n",
    "h_bar.update_layout(\n",
    "    xaxis_title=\"Number of Prizes\",\n",
    "    yaxis_title=\"Country\",\n",
    "    coloraxis_showscale=False\n",
    ")\n",
    "\n",
    "h_bar.show()"
   ]
  },
  {
   "cell_type": "markdown",
   "metadata": {
    "dc": {
     "key": "10"
    },
    "id": "Ic-LN14bo7Mb",
    "run_control": {
     "frozen": true
    },
    "tags": [
     "context"
    ]
   },
   "source": [
    "### Number of Prizes Won by Each Country Over Time\n",
    "\n",
    "* When did the United States eclipse every other country in terms of the number of prizes won? \n",
    "* Which country or countries were leading previously?\n",
    "* Calculate the cumulative number of prizes won by each country in every year. Again, use the `birth_country_current` of the winner to calculate this. \n",
    "* Create a [plotly line chart](https://plotly.com/python/line-charts/) where each country is a coloured line. "
   ]
  },
  {
   "cell_type": "code",
   "execution_count": 165,
   "metadata": {
    "id": "VA7NVxrwF-1d"
   },
   "outputs": [],
   "source": [
    "prizes_by_year = df_data.groupby(by=[\"birth_country_current\",\"year\"], as_index=False).count()\n",
    "prizes_by_year = prizes_by_year.sort_values(\"year\")[[\"year\",\"birth_country_current\",\"prize\"]]"
   ]
  },
  {
   "cell_type": "code",
   "execution_count": 166,
   "metadata": {
    "id": "_IWG-gi0F_O4"
   },
   "outputs": [
    {
     "data": {
      "text/html": [
       "<div>\n",
       "<style scoped>\n",
       "    .dataframe tbody tr th:only-of-type {\n",
       "        vertical-align: middle;\n",
       "    }\n",
       "\n",
       "    .dataframe tbody tr th {\n",
       "        vertical-align: top;\n",
       "    }\n",
       "\n",
       "    .dataframe thead th {\n",
       "        text-align: right;\n",
       "    }\n",
       "</style>\n",
       "<table border=\"1\" class=\"dataframe\">\n",
       "  <thead>\n",
       "    <tr style=\"text-align: right;\">\n",
       "      <th></th>\n",
       "      <th>birth_country_current</th>\n",
       "      <th>year</th>\n",
       "      <th>prize</th>\n",
       "    </tr>\n",
       "  </thead>\n",
       "  <tbody>\n",
       "    <tr>\n",
       "      <th>0</th>\n",
       "      <td>Algeria</td>\n",
       "      <td>1957</td>\n",
       "      <td>1</td>\n",
       "    </tr>\n",
       "    <tr>\n",
       "      <th>1</th>\n",
       "      <td>Algeria</td>\n",
       "      <td>1997</td>\n",
       "      <td>2</td>\n",
       "    </tr>\n",
       "    <tr>\n",
       "      <th>2</th>\n",
       "      <td>Argentina</td>\n",
       "      <td>1936</td>\n",
       "      <td>1</td>\n",
       "    </tr>\n",
       "    <tr>\n",
       "      <th>3</th>\n",
       "      <td>Argentina</td>\n",
       "      <td>1947</td>\n",
       "      <td>2</td>\n",
       "    </tr>\n",
       "    <tr>\n",
       "      <th>4</th>\n",
       "      <td>Argentina</td>\n",
       "      <td>1980</td>\n",
       "      <td>3</td>\n",
       "    </tr>\n",
       "  </tbody>\n",
       "</table>\n",
       "</div>"
      ],
      "text/plain": [
       "  birth_country_current  year  prize\n",
       "0               Algeria  1957      1\n",
       "1               Algeria  1997      2\n",
       "2             Argentina  1936      1\n",
       "3             Argentina  1947      2\n",
       "4             Argentina  1980      3"
      ]
     },
     "execution_count": 166,
     "metadata": {},
     "output_type": "execute_result"
    }
   ],
   "source": [
    "cumulative_prizes = prizes_by_year.groupby(by=[\"birth_country_current\",\"year\"]).sum().groupby(level=[0]).cumsum()\n",
    "cumulative_prizes.reset_index(inplace=True)\n",
    "\n",
    "cumulative_prizes.head()"
   ]
  },
  {
   "cell_type": "code",
   "execution_count": 167,
   "metadata": {
    "id": "4wj1M8NpF_dq"
   },
   "outputs": [
    {
     "data": {
      "application/vnd.plotly.v1+json": {
       "config": {
        "plotlyServerURL": "https://plot.ly"
       },
       "data": [
        {
         "hovertemplate": "<b>%{hovertext}</b><br><br>birth_country_current=Algeria<br>year=%{x}<br>prize=%{y}<extra></extra>",
         "hovertext": [
          "Algeria",
          "Algeria"
         ],
         "legendgroup": "Algeria",
         "line": {
          "color": "#636efa",
          "dash": "solid"
         },
         "marker": {
          "symbol": "circle"
         },
         "mode": "lines",
         "name": "Algeria",
         "orientation": "v",
         "showlegend": true,
         "type": "scatter",
         "x": [
          1957,
          1997
         ],
         "xaxis": "x",
         "y": [
          1,
          2
         ],
         "yaxis": "y"
        },
        {
         "hovertemplate": "<b>%{hovertext}</b><br><br>birth_country_current=Argentina<br>year=%{x}<br>prize=%{y}<extra></extra>",
         "hovertext": [
          "Argentina",
          "Argentina",
          "Argentina",
          "Argentina"
         ],
         "legendgroup": "Argentina",
         "line": {
          "color": "#EF553B",
          "dash": "solid"
         },
         "marker": {
          "symbol": "circle"
         },
         "mode": "lines",
         "name": "Argentina",
         "orientation": "v",
         "showlegend": true,
         "type": "scatter",
         "x": [
          1936,
          1947,
          1980,
          1984
         ],
         "xaxis": "x",
         "y": [
          1,
          2,
          3,
          4
         ],
         "yaxis": "y"
        },
        {
         "hovertemplate": "<b>%{hovertext}</b><br><br>birth_country_current=Australia<br>year=%{x}<br>prize=%{y}<extra></extra>",
         "hovertext": [
          "Australia",
          "Australia",
          "Australia",
          "Australia",
          "Australia",
          "Australia",
          "Australia",
          "Australia",
          "Australia"
         ],
         "legendgroup": "Australia",
         "line": {
          "color": "#00cc96",
          "dash": "solid"
         },
         "marker": {
          "symbol": "circle"
         },
         "mode": "lines",
         "name": "Australia",
         "orientation": "v",
         "showlegend": true,
         "type": "scatter",
         "x": [
          1915,
          1945,
          1960,
          1963,
          1964,
          1975,
          1996,
          2005,
          2009
         ],
         "xaxis": "x",
         "y": [
          1,
          2,
          3,
          4,
          5,
          6,
          7,
          9,
          10
         ],
         "yaxis": "y"
        },
        {
         "hovertemplate": "<b>%{hovertext}</b><br><br>birth_country_current=Austria<br>year=%{x}<br>prize=%{y}<extra></extra>",
         "hovertext": [
          "Austria",
          "Austria",
          "Austria",
          "Austria",
          "Austria",
          "Austria",
          "Austria",
          "Austria",
          "Austria",
          "Austria",
          "Austria",
          "Austria",
          "Austria",
          "Austria",
          "Austria",
          "Austria",
          "Austria"
         ],
         "legendgroup": "Austria",
         "line": {
          "color": "#ab63fa",
          "dash": "solid"
         },
         "marker": {
          "symbol": "circle"
         },
         "mode": "lines",
         "name": "Austria",
         "orientation": "v",
         "showlegend": true,
         "type": "scatter",
         "x": [
          1911,
          1914,
          1925,
          1927,
          1930,
          1933,
          1936,
          1938,
          1945,
          1962,
          1973,
          1974,
          1998,
          2000,
          2004,
          2013,
          2019
         ],
         "xaxis": "x",
         "y": [
          1,
          2,
          3,
          4,
          5,
          6,
          7,
          8,
          9,
          10,
          12,
          13,
          14,
          15,
          16,
          17,
          18
         ],
         "yaxis": "y"
        },
        {
         "hovertemplate": "<b>%{hovertext}</b><br><br>birth_country_current=Azerbaijan<br>year=%{x}<br>prize=%{y}<extra></extra>",
         "hovertext": [
          "Azerbaijan"
         ],
         "legendgroup": "Azerbaijan",
         "line": {
          "color": "#FFA15A",
          "dash": "solid"
         },
         "marker": {
          "symbol": "circle"
         },
         "mode": "lines",
         "name": "Azerbaijan",
         "orientation": "v",
         "showlegend": true,
         "type": "scatter",
         "x": [
          1962
         ],
         "xaxis": "x",
         "y": [
          1
         ],
         "yaxis": "y"
        },
        {
         "hovertemplate": "<b>%{hovertext}</b><br><br>birth_country_current=Bangladesh<br>year=%{x}<br>prize=%{y}<extra></extra>",
         "hovertext": [
          "Bangladesh"
         ],
         "legendgroup": "Bangladesh",
         "line": {
          "color": "#19d3f3",
          "dash": "solid"
         },
         "marker": {
          "symbol": "circle"
         },
         "mode": "lines",
         "name": "Bangladesh",
         "orientation": "v",
         "showlegend": true,
         "type": "scatter",
         "x": [
          2006
         ],
         "xaxis": "x",
         "y": [
          1
         ],
         "yaxis": "y"
        },
        {
         "hovertemplate": "<b>%{hovertext}</b><br><br>birth_country_current=Belarus<br>year=%{x}<br>prize=%{y}<extra></extra>",
         "hovertext": [
          "Belarus",
          "Belarus",
          "Belarus",
          "Belarus"
         ],
         "legendgroup": "Belarus",
         "line": {
          "color": "#FF6692",
          "dash": "solid"
         },
         "marker": {
          "symbol": "circle"
         },
         "mode": "lines",
         "name": "Belarus",
         "orientation": "v",
         "showlegend": true,
         "type": "scatter",
         "x": [
          1971,
          1978,
          1994,
          2000
         ],
         "xaxis": "x",
         "y": [
          1,
          2,
          3,
          4
         ],
         "yaxis": "y"
        },
        {
         "hovertemplate": "<b>%{hovertext}</b><br><br>birth_country_current=Belgium<br>year=%{x}<br>prize=%{y}<extra></extra>",
         "hovertext": [
          "Belgium",
          "Belgium",
          "Belgium",
          "Belgium",
          "Belgium",
          "Belgium",
          "Belgium",
          "Belgium",
          "Belgium"
         ],
         "legendgroup": "Belgium",
         "line": {
          "color": "#B6E880",
          "dash": "solid"
         },
         "marker": {
          "symbol": "circle"
         },
         "mode": "lines",
         "name": "Belgium",
         "orientation": "v",
         "showlegend": true,
         "type": "scatter",
         "x": [
          1909,
          1911,
          1913,
          1919,
          1938,
          1958,
          1974,
          2005,
          2013
         ],
         "xaxis": "x",
         "y": [
          1,
          2,
          3,
          4,
          5,
          6,
          7,
          8,
          9
         ],
         "yaxis": "y"
        },
        {
         "hovertemplate": "<b>%{hovertext}</b><br><br>birth_country_current=Bosnia and Herzegovina<br>year=%{x}<br>prize=%{y}<extra></extra>",
         "hovertext": [
          "Bosnia and Herzegovina",
          "Bosnia and Herzegovina"
         ],
         "legendgroup": "Bosnia and Herzegovina",
         "line": {
          "color": "#FF97FF",
          "dash": "solid"
         },
         "marker": {
          "symbol": "circle"
         },
         "mode": "lines",
         "name": "Bosnia and Herzegovina",
         "orientation": "v",
         "showlegend": true,
         "type": "scatter",
         "x": [
          1961,
          1975
         ],
         "xaxis": "x",
         "y": [
          1,
          2
         ],
         "yaxis": "y"
        },
        {
         "hovertemplate": "<b>%{hovertext}</b><br><br>birth_country_current=Brazil<br>year=%{x}<br>prize=%{y}<extra></extra>",
         "hovertext": [
          "Brazil"
         ],
         "legendgroup": "Brazil",
         "line": {
          "color": "#FECB52",
          "dash": "solid"
         },
         "marker": {
          "symbol": "circle"
         },
         "mode": "lines",
         "name": "Brazil",
         "orientation": "v",
         "showlegend": true,
         "type": "scatter",
         "x": [
          1960
         ],
         "xaxis": "x",
         "y": [
          1
         ],
         "yaxis": "y"
        },
        {
         "hovertemplate": "<b>%{hovertext}</b><br><br>birth_country_current=Bulgaria<br>year=%{x}<br>prize=%{y}<extra></extra>",
         "hovertext": [
          "Bulgaria"
         ],
         "legendgroup": "Bulgaria",
         "line": {
          "color": "#636efa",
          "dash": "solid"
         },
         "marker": {
          "symbol": "circle"
         },
         "mode": "lines",
         "name": "Bulgaria",
         "orientation": "v",
         "showlegend": true,
         "type": "scatter",
         "x": [
          1981
         ],
         "xaxis": "x",
         "y": [
          1
         ],
         "yaxis": "y"
        },
        {
         "hovertemplate": "<b>%{hovertext}</b><br><br>birth_country_current=Canada<br>year=%{x}<br>prize=%{y}<extra></extra>",
         "hovertext": [
          "Canada",
          "Canada",
          "Canada",
          "Canada",
          "Canada",
          "Canada",
          "Canada",
          "Canada",
          "Canada",
          "Canada",
          "Canada",
          "Canada",
          "Canada",
          "Canada",
          "Canada",
          "Canada",
          "Canada",
          "Canada",
          "Canada",
          "Canada"
         ],
         "legendgroup": "Canada",
         "line": {
          "color": "#EF553B",
          "dash": "solid"
         },
         "marker": {
          "symbol": "circle"
         },
         "mode": "lines",
         "name": "Canada",
         "orientation": "v",
         "showlegend": true,
         "type": "scatter",
         "x": [
          1923,
          1949,
          1957,
          1966,
          1976,
          1981,
          1983,
          1989,
          1990,
          1992,
          1994,
          1996,
          1997,
          1999,
          2009,
          2011,
          2013,
          2015,
          2018,
          2019
         ],
         "xaxis": "x",
         "y": [
          1,
          2,
          3,
          4,
          5,
          6,
          7,
          8,
          9,
          10,
          11,
          12,
          13,
          14,
          15,
          16,
          17,
          18,
          19,
          20
         ],
         "yaxis": "y"
        },
        {
         "hovertemplate": "<b>%{hovertext}</b><br><br>birth_country_current=Chile<br>year=%{x}<br>prize=%{y}<extra></extra>",
         "hovertext": [
          "Chile",
          "Chile"
         ],
         "legendgroup": "Chile",
         "line": {
          "color": "#00cc96",
          "dash": "solid"
         },
         "marker": {
          "symbol": "circle"
         },
         "mode": "lines",
         "name": "Chile",
         "orientation": "v",
         "showlegend": true,
         "type": "scatter",
         "x": [
          1945,
          1971
         ],
         "xaxis": "x",
         "y": [
          1,
          2
         ],
         "yaxis": "y"
        },
        {
         "hovertemplate": "<b>%{hovertext}</b><br><br>birth_country_current=China<br>year=%{x}<br>prize=%{y}<extra></extra>",
         "hovertext": [
          "China",
          "China",
          "China",
          "China",
          "China",
          "China",
          "China",
          "China",
          "China",
          "China"
         ],
         "legendgroup": "China",
         "line": {
          "color": "#ab63fa",
          "dash": "solid"
         },
         "marker": {
          "symbol": "circle"
         },
         "mode": "lines",
         "name": "China",
         "orientation": "v",
         "showlegend": true,
         "type": "scatter",
         "x": [
          1956,
          1957,
          1989,
          1992,
          1998,
          2000,
          2009,
          2010,
          2012,
          2015
         ],
         "xaxis": "x",
         "y": [
          1,
          3,
          4,
          5,
          6,
          7,
          8,
          10,
          11,
          12
         ],
         "yaxis": "y"
        },
        {
         "hovertemplate": "<b>%{hovertext}</b><br><br>birth_country_current=Colombia<br>year=%{x}<br>prize=%{y}<extra></extra>",
         "hovertext": [
          "Colombia",
          "Colombia"
         ],
         "legendgroup": "Colombia",
         "line": {
          "color": "#FFA15A",
          "dash": "solid"
         },
         "marker": {
          "symbol": "circle"
         },
         "mode": "lines",
         "name": "Colombia",
         "orientation": "v",
         "showlegend": true,
         "type": "scatter",
         "x": [
          1982,
          2016
         ],
         "xaxis": "x",
         "y": [
          1,
          2
         ],
         "yaxis": "y"
        },
        {
         "hovertemplate": "<b>%{hovertext}</b><br><br>birth_country_current=Costa Rica<br>year=%{x}<br>prize=%{y}<extra></extra>",
         "hovertext": [
          "Costa Rica"
         ],
         "legendgroup": "Costa Rica",
         "line": {
          "color": "#19d3f3",
          "dash": "solid"
         },
         "marker": {
          "symbol": "circle"
         },
         "mode": "lines",
         "name": "Costa Rica",
         "orientation": "v",
         "showlegend": true,
         "type": "scatter",
         "x": [
          1987
         ],
         "xaxis": "x",
         "y": [
          1
         ],
         "yaxis": "y"
        },
        {
         "hovertemplate": "<b>%{hovertext}</b><br><br>birth_country_current=Croatia<br>year=%{x}<br>prize=%{y}<extra></extra>",
         "hovertext": [
          "Croatia"
         ],
         "legendgroup": "Croatia",
         "line": {
          "color": "#FF6692",
          "dash": "solid"
         },
         "marker": {
          "symbol": "circle"
         },
         "mode": "lines",
         "name": "Croatia",
         "orientation": "v",
         "showlegend": true,
         "type": "scatter",
         "x": [
          1939
         ],
         "xaxis": "x",
         "y": [
          1
         ],
         "yaxis": "y"
        },
        {
         "hovertemplate": "<b>%{hovertext}</b><br><br>birth_country_current=Cyprus<br>year=%{x}<br>prize=%{y}<extra></extra>",
         "hovertext": [
          "Cyprus"
         ],
         "legendgroup": "Cyprus",
         "line": {
          "color": "#B6E880",
          "dash": "solid"
         },
         "marker": {
          "symbol": "circle"
         },
         "mode": "lines",
         "name": "Cyprus",
         "orientation": "v",
         "showlegend": true,
         "type": "scatter",
         "x": [
          2010
         ],
         "xaxis": "x",
         "y": [
          1
         ],
         "yaxis": "y"
        },
        {
         "hovertemplate": "<b>%{hovertext}</b><br><br>birth_country_current=Czech Republic<br>year=%{x}<br>prize=%{y}<extra></extra>",
         "hovertext": [
          "Czech Republic",
          "Czech Republic",
          "Czech Republic",
          "Czech Republic",
          "Czech Republic"
         ],
         "legendgroup": "Czech Republic",
         "line": {
          "color": "#FF97FF",
          "dash": "solid"
         },
         "marker": {
          "symbol": "circle"
         },
         "mode": "lines",
         "name": "Czech Republic",
         "orientation": "v",
         "showlegend": true,
         "type": "scatter",
         "x": [
          1905,
          1947,
          1959,
          1984,
          2007
         ],
         "xaxis": "x",
         "y": [
          1,
          3,
          4,
          5,
          6
         ],
         "yaxis": "y"
        },
        {
         "hovertemplate": "<b>%{hovertext}</b><br><br>birth_country_current=Democratic Republic of the Congo<br>year=%{x}<br>prize=%{y}<extra></extra>",
         "hovertext": [
          "Democratic Republic of the Congo"
         ],
         "legendgroup": "Democratic Republic of the Congo",
         "line": {
          "color": "#FECB52",
          "dash": "solid"
         },
         "marker": {
          "symbol": "circle"
         },
         "mode": "lines",
         "name": "Democratic Republic of the Congo",
         "orientation": "v",
         "showlegend": true,
         "type": "scatter",
         "x": [
          2018
         ],
         "xaxis": "x",
         "y": [
          1
         ],
         "yaxis": "y"
        },
        {
         "hovertemplate": "<b>%{hovertext}</b><br><br>birth_country_current=Denmark<br>year=%{x}<br>prize=%{y}<extra></extra>",
         "hovertext": [
          "Denmark",
          "Denmark",
          "Denmark",
          "Denmark",
          "Denmark",
          "Denmark",
          "Denmark",
          "Denmark",
          "Denmark",
          "Denmark",
          "Denmark"
         ],
         "legendgroup": "Denmark",
         "line": {
          "color": "#636efa",
          "dash": "solid"
         },
         "marker": {
          "symbol": "circle"
         },
         "mode": "lines",
         "name": "Denmark",
         "orientation": "v",
         "showlegend": true,
         "type": "scatter",
         "x": [
          1903,
          1908,
          1917,
          1920,
          1922,
          1926,
          1928,
          1943,
          1944,
          1975,
          1997
         ],
         "xaxis": "x",
         "y": [
          1,
          2,
          4,
          5,
          6,
          7,
          8,
          9,
          10,
          11,
          12
         ],
         "yaxis": "y"
        },
        {
         "hovertemplate": "<b>%{hovertext}</b><br><br>birth_country_current=East Timor<br>year=%{x}<br>prize=%{y}<extra></extra>",
         "hovertext": [
          "East Timor"
         ],
         "legendgroup": "East Timor",
         "line": {
          "color": "#EF553B",
          "dash": "solid"
         },
         "marker": {
          "symbol": "circle"
         },
         "mode": "lines",
         "name": "East Timor",
         "orientation": "v",
         "showlegend": true,
         "type": "scatter",
         "x": [
          1996
         ],
         "xaxis": "x",
         "y": [
          2
         ],
         "yaxis": "y"
        },
        {
         "hovertemplate": "<b>%{hovertext}</b><br><br>birth_country_current=Egypt<br>year=%{x}<br>prize=%{y}<extra></extra>",
         "hovertext": [
          "Egypt",
          "Egypt",
          "Egypt",
          "Egypt",
          "Egypt",
          "Egypt"
         ],
         "legendgroup": "Egypt",
         "line": {
          "color": "#00cc96",
          "dash": "solid"
         },
         "marker": {
          "symbol": "circle"
         },
         "mode": "lines",
         "name": "Egypt",
         "orientation": "v",
         "showlegend": true,
         "type": "scatter",
         "x": [
          1964,
          1978,
          1988,
          1994,
          1999,
          2005
         ],
         "xaxis": "x",
         "y": [
          1,
          2,
          3,
          4,
          5,
          6
         ],
         "yaxis": "y"
        },
        {
         "hovertemplate": "<b>%{hovertext}</b><br><br>birth_country_current=Ethiopia<br>year=%{x}<br>prize=%{y}<extra></extra>",
         "hovertext": [
          "Ethiopia"
         ],
         "legendgroup": "Ethiopia",
         "line": {
          "color": "#ab63fa",
          "dash": "solid"
         },
         "marker": {
          "symbol": "circle"
         },
         "mode": "lines",
         "name": "Ethiopia",
         "orientation": "v",
         "showlegend": true,
         "type": "scatter",
         "x": [
          2019
         ],
         "xaxis": "x",
         "y": [
          1
         ],
         "yaxis": "y"
        },
        {
         "hovertemplate": "<b>%{hovertext}</b><br><br>birth_country_current=Finland<br>year=%{x}<br>prize=%{y}<extra></extra>",
         "hovertext": [
          "Finland",
          "Finland",
          "Finland",
          "Finland",
          "Finland"
         ],
         "legendgroup": "Finland",
         "line": {
          "color": "#FFA15A",
          "dash": "solid"
         },
         "marker": {
          "symbol": "circle"
         },
         "mode": "lines",
         "name": "Finland",
         "orientation": "v",
         "showlegend": true,
         "type": "scatter",
         "x": [
          1939,
          1945,
          1967,
          2008,
          2016
         ],
         "xaxis": "x",
         "y": [
          1,
          2,
          3,
          4,
          5
         ],
         "yaxis": "y"
        },
        {
         "hovertemplate": "<b>%{hovertext}</b><br><br>birth_country_current=France<br>year=%{x}<br>prize=%{y}<extra></extra>",
         "hovertext": [
          "France",
          "France",
          "France",
          "France",
          "France",
          "France",
          "France",
          "France",
          "France",
          "France",
          "France",
          "France",
          "France",
          "France",
          "France",
          "France",
          "France",
          "France",
          "France",
          "France",
          "France",
          "France",
          "France",
          "France",
          "France",
          "France",
          "France",
          "France",
          "France",
          "France",
          "France",
          "France",
          "France",
          "France",
          "France",
          "France",
          "France",
          "France",
          "France",
          "France",
          "France"
         ],
         "legendgroup": "France",
         "line": {
          "color": "#19d3f3",
          "dash": "solid"
         },
         "marker": {
          "symbol": "circle"
         },
         "mode": "lines",
         "name": "France",
         "orientation": "v",
         "showlegend": true,
         "type": "scatter",
         "x": [
          1901,
          1903,
          1904,
          1906,
          1907,
          1909,
          1912,
          1913,
          1915,
          1920,
          1921,
          1926,
          1927,
          1928,
          1929,
          1935,
          1937,
          1947,
          1951,
          1952,
          1956,
          1964,
          1965,
          1966,
          1967,
          1968,
          1970,
          1974,
          1977,
          1980,
          1983,
          1987,
          1988,
          1991,
          2007,
          2008,
          2014,
          2016,
          2018,
          2019,
          2020
         ],
         "xaxis": "x",
         "y": [
          2,
          4,
          5,
          6,
          8,
          9,
          12,
          14,
          15,
          16,
          17,
          19,
          21,
          22,
          23,
          25,
          26,
          27,
          28,
          30,
          31,
          32,
          35,
          36,
          37,
          38,
          40,
          41,
          42,
          43,
          44,
          45,
          46,
          47,
          48,
          51,
          53,
          54,
          55,
          56,
          57
         ],
         "yaxis": "y"
        },
        {
         "hovertemplate": "<b>%{hovertext}</b><br><br>birth_country_current=Germany<br>year=%{x}<br>prize=%{y}<extra></extra>",
         "hovertext": [
          "Germany",
          "Germany",
          "Germany",
          "Germany",
          "Germany",
          "Germany",
          "Germany",
          "Germany",
          "Germany",
          "Germany",
          "Germany",
          "Germany",
          "Germany",
          "Germany",
          "Germany",
          "Germany",
          "Germany",
          "Germany",
          "Germany",
          "Germany",
          "Germany",
          "Germany",
          "Germany",
          "Germany",
          "Germany",
          "Germany",
          "Germany",
          "Germany",
          "Germany",
          "Germany",
          "Germany",
          "Germany",
          "Germany",
          "Germany",
          "Germany",
          "Germany",
          "Germany",
          "Germany",
          "Germany",
          "Germany",
          "Germany",
          "Germany",
          "Germany",
          "Germany",
          "Germany",
          "Germany",
          "Germany",
          "Germany",
          "Germany",
          "Germany",
          "Germany",
          "Germany",
          "Germany",
          "Germany",
          "Germany",
          "Germany",
          "Germany",
          "Germany",
          "Germany",
          "Germany",
          "Germany",
          "Germany",
          "Germany"
         ],
         "legendgroup": "Germany",
         "line": {
          "color": "#FF6692",
          "dash": "solid"
         },
         "marker": {
          "symbol": "circle"
         },
         "mode": "lines",
         "name": "Germany",
         "orientation": "v",
         "showlegend": true,
         "type": "scatter",
         "x": [
          1901,
          1902,
          1905,
          1907,
          1908,
          1909,
          1910,
          1912,
          1914,
          1915,
          1918,
          1919,
          1920,
          1921,
          1922,
          1925,
          1926,
          1927,
          1928,
          1929,
          1930,
          1931,
          1932,
          1935,
          1936,
          1939,
          1944,
          1945,
          1946,
          1950,
          1953,
          1954,
          1955,
          1956,
          1961,
          1963,
          1964,
          1966,
          1967,
          1969,
          1970,
          1971,
          1972,
          1973,
          1978,
          1979,
          1984,
          1986,
          1987,
          1988,
          1989,
          1991,
          1995,
          1998,
          2000,
          2001,
          2005,
          2007,
          2008,
          2013,
          2017,
          2019,
          2020
         ],
         "xaxis": "x",
         "y": [
          1,
          3,
          5,
          6,
          7,
          8,
          10,
          11,
          12,
          13,
          14,
          15,
          16,
          17,
          18,
          20,
          21,
          23,
          24,
          26,
          27,
          29,
          30,
          32,
          33,
          34,
          35,
          36,
          37,
          38,
          40,
          41,
          42,
          43,
          44,
          46,
          47,
          48,
          49,
          50,
          51,
          53,
          54,
          56,
          57,
          58,
          59,
          62,
          63,
          67,
          69,
          71,
          72,
          73,
          74,
          75,
          77,
          78,
          79,
          80,
          82,
          83,
          84
         ],
         "yaxis": "y"
        },
        {
         "hovertemplate": "<b>%{hovertext}</b><br><br>birth_country_current=Ghana<br>year=%{x}<br>prize=%{y}<extra></extra>",
         "hovertext": [
          "Ghana"
         ],
         "legendgroup": "Ghana",
         "line": {
          "color": "#B6E880",
          "dash": "solid"
         },
         "marker": {
          "symbol": "circle"
         },
         "mode": "lines",
         "name": "Ghana",
         "orientation": "v",
         "showlegend": true,
         "type": "scatter",
         "x": [
          2001
         ],
         "xaxis": "x",
         "y": [
          1
         ],
         "yaxis": "y"
        },
        {
         "hovertemplate": "<b>%{hovertext}</b><br><br>birth_country_current=Greece<br>year=%{x}<br>prize=%{y}<extra></extra>",
         "hovertext": [
          "Greece"
         ],
         "legendgroup": "Greece",
         "line": {
          "color": "#FF97FF",
          "dash": "solid"
         },
         "marker": {
          "symbol": "circle"
         },
         "mode": "lines",
         "name": "Greece",
         "orientation": "v",
         "showlegend": true,
         "type": "scatter",
         "x": [
          1979
         ],
         "xaxis": "x",
         "y": [
          1
         ],
         "yaxis": "y"
        },
        {
         "hovertemplate": "<b>%{hovertext}</b><br><br>birth_country_current=Guadeloupe Island<br>year=%{x}<br>prize=%{y}<extra></extra>",
         "hovertext": [
          "Guadeloupe Island"
         ],
         "legendgroup": "Guadeloupe Island",
         "line": {
          "color": "#FECB52",
          "dash": "solid"
         },
         "marker": {
          "symbol": "circle"
         },
         "mode": "lines",
         "name": "Guadeloupe Island",
         "orientation": "v",
         "showlegend": true,
         "type": "scatter",
         "x": [
          1960
         ],
         "xaxis": "x",
         "y": [
          1
         ],
         "yaxis": "y"
        },
        {
         "hovertemplate": "<b>%{hovertext}</b><br><br>birth_country_current=Guatemala<br>year=%{x}<br>prize=%{y}<extra></extra>",
         "hovertext": [
          "Guatemala",
          "Guatemala"
         ],
         "legendgroup": "Guatemala",
         "line": {
          "color": "#636efa",
          "dash": "solid"
         },
         "marker": {
          "symbol": "circle"
         },
         "mode": "lines",
         "name": "Guatemala",
         "orientation": "v",
         "showlegend": true,
         "type": "scatter",
         "x": [
          1967,
          1992
         ],
         "xaxis": "x",
         "y": [
          1,
          2
         ],
         "yaxis": "y"
        },
        {
         "hovertemplate": "<b>%{hovertext}</b><br><br>birth_country_current=Hungary<br>year=%{x}<br>prize=%{y}<extra></extra>",
         "hovertext": [
          "Hungary",
          "Hungary",
          "Hungary",
          "Hungary",
          "Hungary",
          "Hungary",
          "Hungary",
          "Hungary"
         ],
         "legendgroup": "Hungary",
         "line": {
          "color": "#EF553B",
          "dash": "solid"
         },
         "marker": {
          "symbol": "circle"
         },
         "mode": "lines",
         "name": "Hungary",
         "orientation": "v",
         "showlegend": true,
         "type": "scatter",
         "x": [
          1937,
          1943,
          1961,
          1963,
          1971,
          1994,
          2002,
          2004
         ],
         "xaxis": "x",
         "y": [
          1,
          2,
          3,
          4,
          5,
          7,
          8,
          9
         ],
         "yaxis": "y"
        },
        {
         "hovertemplate": "<b>%{hovertext}</b><br><br>birth_country_current=Iceland<br>year=%{x}<br>prize=%{y}<extra></extra>",
         "hovertext": [
          "Iceland"
         ],
         "legendgroup": "Iceland",
         "line": {
          "color": "#00cc96",
          "dash": "solid"
         },
         "marker": {
          "symbol": "circle"
         },
         "mode": "lines",
         "name": "Iceland",
         "orientation": "v",
         "showlegend": true,
         "type": "scatter",
         "x": [
          1955
         ],
         "xaxis": "x",
         "y": [
          1
         ],
         "yaxis": "y"
        },
        {
         "hovertemplate": "<b>%{hovertext}</b><br><br>birth_country_current=India<br>year=%{x}<br>prize=%{y}<extra></extra>",
         "hovertext": [
          "India",
          "India",
          "India",
          "India",
          "India",
          "India",
          "India",
          "India",
          "India"
         ],
         "legendgroup": "India",
         "line": {
          "color": "#ab63fa",
          "dash": "solid"
         },
         "marker": {
          "symbol": "circle"
         },
         "mode": "lines",
         "name": "India",
         "orientation": "v",
         "showlegend": true,
         "type": "scatter",
         "x": [
          1902,
          1907,
          1913,
          1930,
          1968,
          1998,
          2009,
          2014,
          2019
         ],
         "xaxis": "x",
         "y": [
          1,
          2,
          3,
          4,
          5,
          6,
          7,
          8,
          9
         ],
         "yaxis": "y"
        },
        {
         "hovertemplate": "<b>%{hovertext}</b><br><br>birth_country_current=Indonesia<br>year=%{x}<br>prize=%{y}<extra></extra>",
         "hovertext": [
          "Indonesia"
         ],
         "legendgroup": "Indonesia",
         "line": {
          "color": "#FFA15A",
          "dash": "solid"
         },
         "marker": {
          "symbol": "circle"
         },
         "mode": "lines",
         "name": "Indonesia",
         "orientation": "v",
         "showlegend": true,
         "type": "scatter",
         "x": [
          1924
         ],
         "xaxis": "x",
         "y": [
          1
         ],
         "yaxis": "y"
        },
        {
         "hovertemplate": "<b>%{hovertext}</b><br><br>birth_country_current=Iran<br>year=%{x}<br>prize=%{y}<extra></extra>",
         "hovertext": [
          "Iran",
          "Iran"
         ],
         "legendgroup": "Iran",
         "line": {
          "color": "#19d3f3",
          "dash": "solid"
         },
         "marker": {
          "symbol": "circle"
         },
         "mode": "lines",
         "name": "Iran",
         "orientation": "v",
         "showlegend": true,
         "type": "scatter",
         "x": [
          2003,
          2007
         ],
         "xaxis": "x",
         "y": [
          1,
          2
         ],
         "yaxis": "y"
        },
        {
         "hovertemplate": "<b>%{hovertext}</b><br><br>birth_country_current=Iraq<br>year=%{x}<br>prize=%{y}<extra></extra>",
         "hovertext": [
          "Iraq"
         ],
         "legendgroup": "Iraq",
         "line": {
          "color": "#FF6692",
          "dash": "solid"
         },
         "marker": {
          "symbol": "circle"
         },
         "mode": "lines",
         "name": "Iraq",
         "orientation": "v",
         "showlegend": true,
         "type": "scatter",
         "x": [
          2018
         ],
         "xaxis": "x",
         "y": [
          1
         ],
         "yaxis": "y"
        },
        {
         "hovertemplate": "<b>%{hovertext}</b><br><br>birth_country_current=Ireland<br>year=%{x}<br>prize=%{y}<extra></extra>",
         "hovertext": [
          "Ireland",
          "Ireland",
          "Ireland",
          "Ireland",
          "Ireland"
         ],
         "legendgroup": "Ireland",
         "line": {
          "color": "#B6E880",
          "dash": "solid"
         },
         "marker": {
          "symbol": "circle"
         },
         "mode": "lines",
         "name": "Ireland",
         "orientation": "v",
         "showlegend": true,
         "type": "scatter",
         "x": [
          1923,
          1925,
          1951,
          1969,
          2015
         ],
         "xaxis": "x",
         "y": [
          1,
          2,
          3,
          4,
          5
         ],
         "yaxis": "y"
        },
        {
         "hovertemplate": "<b>%{hovertext}</b><br><br>birth_country_current=Israel<br>year=%{x}<br>prize=%{y}<extra></extra>",
         "hovertext": [
          "Israel",
          "Israel",
          "Israel",
          "Israel",
          "Israel",
          "Israel"
         ],
         "legendgroup": "Israel",
         "line": {
          "color": "#FF97FF",
          "dash": "solid"
         },
         "marker": {
          "symbol": "circle"
         },
         "mode": "lines",
         "name": "Israel",
         "orientation": "v",
         "showlegend": true,
         "type": "scatter",
         "x": [
          1994,
          2002,
          2004,
          2009,
          2011,
          2013
         ],
         "xaxis": "x",
         "y": [
          1,
          2,
          3,
          4,
          5,
          6
         ],
         "yaxis": "y"
        },
        {
         "hovertemplate": "<b>%{hovertext}</b><br><br>birth_country_current=Italy<br>year=%{x}<br>prize=%{y}<extra></extra>",
         "hovertext": [
          "Italy",
          "Italy",
          "Italy",
          "Italy",
          "Italy",
          "Italy",
          "Italy",
          "Italy",
          "Italy",
          "Italy",
          "Italy",
          "Italy",
          "Italy",
          "Italy",
          "Italy",
          "Italy"
         ],
         "legendgroup": "Italy",
         "line": {
          "color": "#FECB52",
          "dash": "solid"
         },
         "marker": {
          "symbol": "circle"
         },
         "mode": "lines",
         "name": "Italy",
         "orientation": "v",
         "showlegend": true,
         "type": "scatter",
         "x": [
          1906,
          1907,
          1909,
          1926,
          1934,
          1938,
          1959,
          1963,
          1969,
          1975,
          1984,
          1985,
          1986,
          1997,
          2002,
          2007
         ],
         "xaxis": "x",
         "y": [
          2,
          3,
          4,
          5,
          6,
          7,
          9,
          10,
          11,
          13,
          14,
          15,
          16,
          17,
          18,
          19
         ],
         "yaxis": "y"
        },
        {
         "hovertemplate": "<b>%{hovertext}</b><br><br>birth_country_current=Japan<br>year=%{x}<br>prize=%{y}<extra></extra>",
         "hovertext": [
          "Japan",
          "Japan",
          "Japan",
          "Japan",
          "Japan",
          "Japan",
          "Japan",
          "Japan",
          "Japan",
          "Japan",
          "Japan",
          "Japan",
          "Japan",
          "Japan",
          "Japan",
          "Japan",
          "Japan",
          "Japan",
          "Japan",
          "Japan"
         ],
         "legendgroup": "Japan",
         "line": {
          "color": "#636efa",
          "dash": "solid"
         },
         "marker": {
          "symbol": "circle"
         },
         "mode": "lines",
         "name": "Japan",
         "orientation": "v",
         "showlegend": true,
         "type": "scatter",
         "x": [
          1949,
          1965,
          1968,
          1973,
          1974,
          1981,
          1987,
          1994,
          2000,
          2001,
          2002,
          2008,
          2010,
          2012,
          2014,
          2015,
          2016,
          2017,
          2018,
          2019
         ],
         "xaxis": "x",
         "y": [
          1,
          2,
          3,
          4,
          5,
          6,
          7,
          8,
          9,
          10,
          12,
          16,
          17,
          18,
          21,
          23,
          24,
          25,
          26,
          27
         ],
         "yaxis": "y"
        },
        {
         "hovertemplate": "<b>%{hovertext}</b><br><br>birth_country_current=Kenya<br>year=%{x}<br>prize=%{y}<extra></extra>",
         "hovertext": [
          "Kenya"
         ],
         "legendgroup": "Kenya",
         "line": {
          "color": "#EF553B",
          "dash": "solid"
         },
         "marker": {
          "symbol": "circle"
         },
         "mode": "lines",
         "name": "Kenya",
         "orientation": "v",
         "showlegend": true,
         "type": "scatter",
         "x": [
          2004
         ],
         "xaxis": "x",
         "y": [
          1
         ],
         "yaxis": "y"
        },
        {
         "hovertemplate": "<b>%{hovertext}</b><br><br>birth_country_current=Korea (South Korea)<br>year=%{x}<br>prize=%{y}<extra></extra>",
         "hovertext": [
          "Korea (South Korea)",
          "Korea (South Korea)"
         ],
         "legendgroup": "Korea (South Korea)",
         "line": {
          "color": "#00cc96",
          "dash": "solid"
         },
         "marker": {
          "symbol": "circle"
         },
         "mode": "lines",
         "name": "Korea (South Korea)",
         "orientation": "v",
         "showlegend": true,
         "type": "scatter",
         "x": [
          1987,
          2000
         ],
         "xaxis": "x",
         "y": [
          1,
          2
         ],
         "yaxis": "y"
        },
        {
         "hovertemplate": "<b>%{hovertext}</b><br><br>birth_country_current=Latvia<br>year=%{x}<br>prize=%{y}<extra></extra>",
         "hovertext": [
          "Latvia"
         ],
         "legendgroup": "Latvia",
         "line": {
          "color": "#ab63fa",
          "dash": "solid"
         },
         "marker": {
          "symbol": "circle"
         },
         "mode": "lines",
         "name": "Latvia",
         "orientation": "v",
         "showlegend": true,
         "type": "scatter",
         "x": [
          1909
         ],
         "xaxis": "x",
         "y": [
          1
         ],
         "yaxis": "y"
        },
        {
         "hovertemplate": "<b>%{hovertext}</b><br><br>birth_country_current=Liberia<br>year=%{x}<br>prize=%{y}<extra></extra>",
         "hovertext": [
          "Liberia"
         ],
         "legendgroup": "Liberia",
         "line": {
          "color": "#FFA15A",
          "dash": "solid"
         },
         "marker": {
          "symbol": "circle"
         },
         "mode": "lines",
         "name": "Liberia",
         "orientation": "v",
         "showlegend": true,
         "type": "scatter",
         "x": [
          2011
         ],
         "xaxis": "x",
         "y": [
          2
         ],
         "yaxis": "y"
        },
        {
         "hovertemplate": "<b>%{hovertext}</b><br><br>birth_country_current=Lithuania<br>year=%{x}<br>prize=%{y}<extra></extra>",
         "hovertext": [
          "Lithuania",
          "Lithuania",
          "Lithuania"
         ],
         "legendgroup": "Lithuania",
         "line": {
          "color": "#19d3f3",
          "dash": "solid"
         },
         "marker": {
          "symbol": "circle"
         },
         "mode": "lines",
         "name": "Lithuania",
         "orientation": "v",
         "showlegend": true,
         "type": "scatter",
         "x": [
          1977,
          1980,
          1982
         ],
         "xaxis": "x",
         "y": [
          1,
          2,
          3
         ],
         "yaxis": "y"
        },
        {
         "hovertemplate": "<b>%{hovertext}</b><br><br>birth_country_current=Luxembourg<br>year=%{x}<br>prize=%{y}<extra></extra>",
         "hovertext": [
          "Luxembourg",
          "Luxembourg"
         ],
         "legendgroup": "Luxembourg",
         "line": {
          "color": "#FF6692",
          "dash": "solid"
         },
         "marker": {
          "symbol": "circle"
         },
         "mode": "lines",
         "name": "Luxembourg",
         "orientation": "v",
         "showlegend": true,
         "type": "scatter",
         "x": [
          1908,
          2011
         ],
         "xaxis": "x",
         "y": [
          1,
          2
         ],
         "yaxis": "y"
        },
        {
         "hovertemplate": "<b>%{hovertext}</b><br><br>birth_country_current=Madagascar<br>year=%{x}<br>prize=%{y}<extra></extra>",
         "hovertext": [
          "Madagascar"
         ],
         "legendgroup": "Madagascar",
         "line": {
          "color": "#B6E880",
          "dash": "solid"
         },
         "marker": {
          "symbol": "circle"
         },
         "mode": "lines",
         "name": "Madagascar",
         "orientation": "v",
         "showlegend": true,
         "type": "scatter",
         "x": [
          1985
         ],
         "xaxis": "x",
         "y": [
          1
         ],
         "yaxis": "y"
        },
        {
         "hovertemplate": "<b>%{hovertext}</b><br><br>birth_country_current=Mexico<br>year=%{x}<br>prize=%{y}<extra></extra>",
         "hovertext": [
          "Mexico",
          "Mexico",
          "Mexico"
         ],
         "legendgroup": "Mexico",
         "line": {
          "color": "#FF97FF",
          "dash": "solid"
         },
         "marker": {
          "symbol": "circle"
         },
         "mode": "lines",
         "name": "Mexico",
         "orientation": "v",
         "showlegend": true,
         "type": "scatter",
         "x": [
          1982,
          1990,
          1995
         ],
         "xaxis": "x",
         "y": [
          1,
          2,
          3
         ],
         "yaxis": "y"
        },
        {
         "hovertemplate": "<b>%{hovertext}</b><br><br>birth_country_current=Morocco<br>year=%{x}<br>prize=%{y}<extra></extra>",
         "hovertext": [
          "Morocco"
         ],
         "legendgroup": "Morocco",
         "line": {
          "color": "#FECB52",
          "dash": "solid"
         },
         "marker": {
          "symbol": "circle"
         },
         "mode": "lines",
         "name": "Morocco",
         "orientation": "v",
         "showlegend": true,
         "type": "scatter",
         "x": [
          2012
         ],
         "xaxis": "x",
         "y": [
          1
         ],
         "yaxis": "y"
        },
        {
         "hovertemplate": "<b>%{hovertext}</b><br><br>birth_country_current=Myanmar<br>year=%{x}<br>prize=%{y}<extra></extra>",
         "hovertext": [
          "Myanmar"
         ],
         "legendgroup": "Myanmar",
         "line": {
          "color": "#636efa",
          "dash": "solid"
         },
         "marker": {
          "symbol": "circle"
         },
         "mode": "lines",
         "name": "Myanmar",
         "orientation": "v",
         "showlegend": true,
         "type": "scatter",
         "x": [
          1991
         ],
         "xaxis": "x",
         "y": [
          1
         ],
         "yaxis": "y"
        },
        {
         "hovertemplate": "<b>%{hovertext}</b><br><br>birth_country_current=Netherlands<br>year=%{x}<br>prize=%{y}<extra></extra>",
         "hovertext": [
          "Netherlands",
          "Netherlands",
          "Netherlands",
          "Netherlands",
          "Netherlands",
          "Netherlands",
          "Netherlands",
          "Netherlands",
          "Netherlands",
          "Netherlands",
          "Netherlands",
          "Netherlands",
          "Netherlands",
          "Netherlands",
          "Netherlands",
          "Netherlands"
         ],
         "legendgroup": "Netherlands",
         "line": {
          "color": "#EF553B",
          "dash": "solid"
         },
         "marker": {
          "symbol": "circle"
         },
         "mode": "lines",
         "name": "Netherlands",
         "orientation": "v",
         "showlegend": true,
         "type": "scatter",
         "x": [
          1901,
          1902,
          1910,
          1911,
          1913,
          1929,
          1936,
          1953,
          1969,
          1973,
          1975,
          1981,
          1984,
          1995,
          1999,
          2016
         ],
         "xaxis": "x",
         "y": [
          1,
          3,
          4,
          5,
          6,
          7,
          8,
          9,
          10,
          11,
          12,
          13,
          14,
          15,
          17,
          18
         ],
         "yaxis": "y"
        },
        {
         "hovertemplate": "<b>%{hovertext}</b><br><br>birth_country_current=New Zealand<br>year=%{x}<br>prize=%{y}<extra></extra>",
         "hovertext": [
          "New Zealand",
          "New Zealand",
          "New Zealand"
         ],
         "legendgroup": "New Zealand",
         "line": {
          "color": "#00cc96",
          "dash": "solid"
         },
         "marker": {
          "symbol": "circle"
         },
         "mode": "lines",
         "name": "New Zealand",
         "orientation": "v",
         "showlegend": true,
         "type": "scatter",
         "x": [
          1908,
          1962,
          2000
         ],
         "xaxis": "x",
         "y": [
          1,
          2,
          3
         ],
         "yaxis": "y"
        },
        {
         "hovertemplate": "<b>%{hovertext}</b><br><br>birth_country_current=Nigeria<br>year=%{x}<br>prize=%{y}<extra></extra>",
         "hovertext": [
          "Nigeria"
         ],
         "legendgroup": "Nigeria",
         "line": {
          "color": "#ab63fa",
          "dash": "solid"
         },
         "marker": {
          "symbol": "circle"
         },
         "mode": "lines",
         "name": "Nigeria",
         "orientation": "v",
         "showlegend": true,
         "type": "scatter",
         "x": [
          1986
         ],
         "xaxis": "x",
         "y": [
          1
         ],
         "yaxis": "y"
        },
        {
         "hovertemplate": "<b>%{hovertext}</b><br><br>birth_country_current=Norway<br>year=%{x}<br>prize=%{y}<extra></extra>",
         "hovertext": [
          "Norway",
          "Norway",
          "Norway",
          "Norway",
          "Norway",
          "Norway",
          "Norway",
          "Norway",
          "Norway",
          "Norway"
         ],
         "legendgroup": "Norway",
         "line": {
          "color": "#FFA15A",
          "dash": "solid"
         },
         "marker": {
          "symbol": "circle"
         },
         "mode": "lines",
         "name": "Norway",
         "orientation": "v",
         "showlegend": true,
         "type": "scatter",
         "x": [
          1903,
          1920,
          1921,
          1922,
          1968,
          1969,
          1973,
          1989,
          2004,
          2014
         ],
         "xaxis": "x",
         "y": [
          1,
          2,
          3,
          4,
          5,
          7,
          8,
          9,
          10,
          12
         ],
         "yaxis": "y"
        },
        {
         "hovertemplate": "<b>%{hovertext}</b><br><br>birth_country_current=Pakistan<br>year=%{x}<br>prize=%{y}<extra></extra>",
         "hovertext": [
          "Pakistan",
          "Pakistan",
          "Pakistan"
         ],
         "legendgroup": "Pakistan",
         "line": {
          "color": "#19d3f3",
          "dash": "solid"
         },
         "marker": {
          "symbol": "circle"
         },
         "mode": "lines",
         "name": "Pakistan",
         "orientation": "v",
         "showlegend": true,
         "type": "scatter",
         "x": [
          1979,
          1983,
          2014
         ],
         "xaxis": "x",
         "y": [
          1,
          2,
          3
         ],
         "yaxis": "y"
        },
        {
         "hovertemplate": "<b>%{hovertext}</b><br><br>birth_country_current=Peru<br>year=%{x}<br>prize=%{y}<extra></extra>",
         "hovertext": [
          "Peru"
         ],
         "legendgroup": "Peru",
         "line": {
          "color": "#FF6692",
          "dash": "solid"
         },
         "marker": {
          "symbol": "circle"
         },
         "mode": "lines",
         "name": "Peru",
         "orientation": "v",
         "showlegend": true,
         "type": "scatter",
         "x": [
          2010
         ],
         "xaxis": "x",
         "y": [
          1
         ],
         "yaxis": "y"
        },
        {
         "hovertemplate": "<b>%{hovertext}</b><br><br>birth_country_current=Poland<br>year=%{x}<br>prize=%{y}<extra></extra>",
         "hovertext": [
          "Poland",
          "Poland",
          "Poland",
          "Poland",
          "Poland",
          "Poland",
          "Poland",
          "Poland",
          "Poland",
          "Poland",
          "Poland",
          "Poland",
          "Poland",
          "Poland",
          "Poland",
          "Poland",
          "Poland",
          "Poland",
          "Poland",
          "Poland",
          "Poland",
          "Poland",
          "Poland",
          "Poland",
          "Poland"
         ],
         "legendgroup": "Poland",
         "line": {
          "color": "#B6E880",
          "dash": "solid"
         },
         "marker": {
          "symbol": "circle"
         },
         "mode": "lines",
         "name": "Poland",
         "orientation": "v",
         "showlegend": true,
         "type": "scatter",
         "x": [
          1901,
          1903,
          1905,
          1907,
          1908,
          1911,
          1918,
          1924,
          1931,
          1939,
          1943,
          1944,
          1950,
          1954,
          1963,
          1964,
          1978,
          1983,
          1985,
          1992,
          1994,
          1995,
          1996,
          1999,
          2018
         ],
         "xaxis": "x",
         "y": [
          1,
          2,
          3,
          4,
          5,
          6,
          7,
          8,
          9,
          10,
          11,
          12,
          14,
          15,
          16,
          17,
          18,
          19,
          20,
          21,
          22,
          23,
          24,
          26,
          27
         ],
         "yaxis": "y"
        },
        {
         "hovertemplate": "<b>%{hovertext}</b><br><br>birth_country_current=Portugal<br>year=%{x}<br>prize=%{y}<extra></extra>",
         "hovertext": [
          "Portugal",
          "Portugal"
         ],
         "legendgroup": "Portugal",
         "line": {
          "color": "#FF97FF",
          "dash": "solid"
         },
         "marker": {
          "symbol": "circle"
         },
         "mode": "lines",
         "name": "Portugal",
         "orientation": "v",
         "showlegend": true,
         "type": "scatter",
         "x": [
          1949,
          1998
         ],
         "xaxis": "x",
         "y": [
          1,
          2
         ],
         "yaxis": "y"
        },
        {
         "hovertemplate": "<b>%{hovertext}</b><br><br>birth_country_current=Republic of Macedonia<br>year=%{x}<br>prize=%{y}<extra></extra>",
         "hovertext": [
          "Republic of Macedonia"
         ],
         "legendgroup": "Republic of Macedonia",
         "line": {
          "color": "#FECB52",
          "dash": "solid"
         },
         "marker": {
          "symbol": "circle"
         },
         "mode": "lines",
         "name": "Republic of Macedonia",
         "orientation": "v",
         "showlegend": true,
         "type": "scatter",
         "x": [
          1979
         ],
         "xaxis": "x",
         "y": [
          1
         ],
         "yaxis": "y"
        },
        {
         "hovertemplate": "<b>%{hovertext}</b><br><br>birth_country_current=Romania<br>year=%{x}<br>prize=%{y}<extra></extra>",
         "hovertext": [
          "Romania",
          "Romania",
          "Romania",
          "Romania"
         ],
         "legendgroup": "Romania",
         "line": {
          "color": "#636efa",
          "dash": "solid"
         },
         "marker": {
          "symbol": "circle"
         },
         "mode": "lines",
         "name": "Romania",
         "orientation": "v",
         "showlegend": true,
         "type": "scatter",
         "x": [
          1974,
          1986,
          2009,
          2014
         ],
         "xaxis": "x",
         "y": [
          1,
          2,
          3,
          4
         ],
         "yaxis": "y"
        },
        {
         "hovertemplate": "<b>%{hovertext}</b><br><br>birth_country_current=Russia<br>year=%{x}<br>prize=%{y}<extra></extra>",
         "hovertext": [
          "Russia",
          "Russia",
          "Russia",
          "Russia",
          "Russia",
          "Russia",
          "Russia",
          "Russia",
          "Russia",
          "Russia",
          "Russia",
          "Russia",
          "Russia",
          "Russia",
          "Russia",
          "Russia",
          "Russia",
          "Russia",
          "Russia",
          "Russia"
         ],
         "legendgroup": "Russia",
         "line": {
          "color": "#EF553B",
          "dash": "solid"
         },
         "marker": {
          "symbol": "circle"
         },
         "mode": "lines",
         "name": "Russia",
         "orientation": "v",
         "showlegend": true,
         "type": "scatter",
         "x": [
          1904,
          1910,
          1911,
          1933,
          1937,
          1953,
          1956,
          1958,
          1964,
          1965,
          1970,
          1973,
          1975,
          1977,
          1978,
          1987,
          1990,
          2003,
          2007,
          2010
         ],
         "xaxis": "x",
         "y": [
          1,
          2,
          3,
          4,
          5,
          6,
          7,
          11,
          12,
          13,
          14,
          15,
          17,
          18,
          19,
          20,
          21,
          23,
          24,
          26
         ],
         "yaxis": "y"
        },
        {
         "hovertemplate": "<b>%{hovertext}</b><br><br>birth_country_current=Saint Lucia<br>year=%{x}<br>prize=%{y}<extra></extra>",
         "hovertext": [
          "Saint Lucia",
          "Saint Lucia"
         ],
         "legendgroup": "Saint Lucia",
         "line": {
          "color": "#00cc96",
          "dash": "solid"
         },
         "marker": {
          "symbol": "circle"
         },
         "mode": "lines",
         "name": "Saint Lucia",
         "orientation": "v",
         "showlegend": true,
         "type": "scatter",
         "x": [
          1979,
          1992
         ],
         "xaxis": "x",
         "y": [
          1,
          2
         ],
         "yaxis": "y"
        },
        {
         "hovertemplate": "<b>%{hovertext}</b><br><br>birth_country_current=Slovakia<br>year=%{x}<br>prize=%{y}<extra></extra>",
         "hovertext": [
          "Slovakia"
         ],
         "legendgroup": "Slovakia",
         "line": {
          "color": "#ab63fa",
          "dash": "solid"
         },
         "marker": {
          "symbol": "circle"
         },
         "mode": "lines",
         "name": "Slovakia",
         "orientation": "v",
         "showlegend": true,
         "type": "scatter",
         "x": [
          1905
         ],
         "xaxis": "x",
         "y": [
          1
         ],
         "yaxis": "y"
        },
        {
         "hovertemplate": "<b>%{hovertext}</b><br><br>birth_country_current=Slovenia<br>year=%{x}<br>prize=%{y}<extra></extra>",
         "hovertext": [
          "Slovenia"
         ],
         "legendgroup": "Slovenia",
         "line": {
          "color": "#FFA15A",
          "dash": "solid"
         },
         "marker": {
          "symbol": "circle"
         },
         "mode": "lines",
         "name": "Slovenia",
         "orientation": "v",
         "showlegend": true,
         "type": "scatter",
         "x": [
          1923
         ],
         "xaxis": "x",
         "y": [
          1
         ],
         "yaxis": "y"
        },
        {
         "hovertemplate": "<b>%{hovertext}</b><br><br>birth_country_current=South Africa<br>year=%{x}<br>prize=%{y}<extra></extra>",
         "hovertext": [
          "South Africa",
          "South Africa",
          "South Africa",
          "South Africa",
          "South Africa",
          "South Africa",
          "South Africa",
          "South Africa"
         ],
         "legendgroup": "South Africa",
         "line": {
          "color": "#19d3f3",
          "dash": "solid"
         },
         "marker": {
          "symbol": "circle"
         },
         "mode": "lines",
         "name": "South Africa",
         "orientation": "v",
         "showlegend": true,
         "type": "scatter",
         "x": [
          1951,
          1979,
          1984,
          1991,
          1993,
          2002,
          2003,
          2013
         ],
         "xaxis": "x",
         "y": [
          1,
          2,
          3,
          4,
          6,
          7,
          8,
          9
         ],
         "yaxis": "y"
        },
        {
         "hovertemplate": "<b>%{hovertext}</b><br><br>birth_country_current=Spain<br>year=%{x}<br>prize=%{y}<extra></extra>",
         "hovertext": [
          "Spain",
          "Spain",
          "Spain",
          "Spain",
          "Spain",
          "Spain",
          "Spain"
         ],
         "legendgroup": "Spain",
         "line": {
          "color": "#FF6692",
          "dash": "solid"
         },
         "marker": {
          "symbol": "circle"
         },
         "mode": "lines",
         "name": "Spain",
         "orientation": "v",
         "showlegend": true,
         "type": "scatter",
         "x": [
          1904,
          1906,
          1922,
          1956,
          1959,
          1977,
          1989
         ],
         "xaxis": "x",
         "y": [
          1,
          2,
          3,
          4,
          5,
          6,
          7
         ],
         "yaxis": "y"
        },
        {
         "hovertemplate": "<b>%{hovertext}</b><br><br>birth_country_current=Sweden<br>year=%{x}<br>prize=%{y}<extra></extra>",
         "hovertext": [
          "Sweden",
          "Sweden",
          "Sweden",
          "Sweden",
          "Sweden",
          "Sweden",
          "Sweden",
          "Sweden",
          "Sweden",
          "Sweden",
          "Sweden",
          "Sweden",
          "Sweden",
          "Sweden",
          "Sweden",
          "Sweden",
          "Sweden",
          "Sweden",
          "Sweden",
          "Sweden",
          "Sweden",
          "Sweden",
          "Sweden"
         ],
         "legendgroup": "Sweden",
         "line": {
          "color": "#B6E880",
          "dash": "solid"
         },
         "marker": {
          "symbol": "circle"
         },
         "mode": "lines",
         "name": "Sweden",
         "orientation": "v",
         "showlegend": true,
         "type": "scatter",
         "x": [
          1903,
          1908,
          1909,
          1911,
          1912,
          1916,
          1921,
          1924,
          1926,
          1930,
          1931,
          1948,
          1951,
          1955,
          1961,
          1970,
          1974,
          1977,
          1981,
          1982,
          2000,
          2011,
          2015
         ],
         "xaxis": "x",
         "y": [
          1,
          2,
          3,
          4,
          5,
          6,
          7,
          8,
          9,
          10,
          11,
          12,
          13,
          14,
          15,
          17,
          20,
          21,
          23,
          26,
          27,
          28,
          29
         ],
         "yaxis": "y"
        },
        {
         "hovertemplate": "<b>%{hovertext}</b><br><br>birth_country_current=Switzerland<br>year=%{x}<br>prize=%{y}<extra></extra>",
         "hovertext": [
          "Switzerland",
          "Switzerland",
          "Switzerland",
          "Switzerland",
          "Switzerland",
          "Switzerland",
          "Switzerland",
          "Switzerland",
          "Switzerland",
          "Switzerland",
          "Switzerland",
          "Switzerland",
          "Switzerland",
          "Switzerland",
          "Switzerland",
          "Switzerland",
          "Switzerland"
         ],
         "legendgroup": "Switzerland",
         "line": {
          "color": "#FF97FF",
          "dash": "solid"
         },
         "marker": {
          "symbol": "circle"
         },
         "mode": "lines",
         "name": "Switzerland",
         "orientation": "v",
         "showlegend": true,
         "type": "scatter",
         "x": [
          1901,
          1902,
          1909,
          1919,
          1920,
          1948,
          1949,
          1952,
          1957,
          1978,
          1986,
          1987,
          1991,
          1996,
          2002,
          2017,
          2019
         ],
         "xaxis": "x",
         "y": [
          1,
          3,
          4,
          5,
          6,
          7,
          8,
          9,
          10,
          11,
          12,
          13,
          14,
          15,
          16,
          17,
          19
         ],
         "yaxis": "y"
        },
        {
         "hovertemplate": "<b>%{hovertext}</b><br><br>birth_country_current=Taiwan<br>year=%{x}<br>prize=%{y}<extra></extra>",
         "hovertext": [
          "Taiwan"
         ],
         "legendgroup": "Taiwan",
         "line": {
          "color": "#FECB52",
          "dash": "solid"
         },
         "marker": {
          "symbol": "circle"
         },
         "mode": "lines",
         "name": "Taiwan",
         "orientation": "v",
         "showlegend": true,
         "type": "scatter",
         "x": [
          1986
         ],
         "xaxis": "x",
         "y": [
          1
         ],
         "yaxis": "y"
        },
        {
         "hovertemplate": "<b>%{hovertext}</b><br><br>birth_country_current=Trinidad<br>year=%{x}<br>prize=%{y}<extra></extra>",
         "hovertext": [
          "Trinidad"
         ],
         "legendgroup": "Trinidad",
         "line": {
          "color": "#636efa",
          "dash": "solid"
         },
         "marker": {
          "symbol": "circle"
         },
         "mode": "lines",
         "name": "Trinidad",
         "orientation": "v",
         "showlegend": true,
         "type": "scatter",
         "x": [
          2001
         ],
         "xaxis": "x",
         "y": [
          1
         ],
         "yaxis": "y"
        },
        {
         "hovertemplate": "<b>%{hovertext}</b><br><br>birth_country_current=Turkey<br>year=%{x}<br>prize=%{y}<extra></extra>",
         "hovertext": [
          "Turkey",
          "Turkey",
          "Turkey"
         ],
         "legendgroup": "Turkey",
         "line": {
          "color": "#EF553B",
          "dash": "solid"
         },
         "marker": {
          "symbol": "circle"
         },
         "mode": "lines",
         "name": "Turkey",
         "orientation": "v",
         "showlegend": true,
         "type": "scatter",
         "x": [
          1963,
          2006,
          2015
         ],
         "xaxis": "x",
         "y": [
          1,
          2,
          3
         ],
         "yaxis": "y"
        },
        {
         "hovertemplate": "<b>%{hovertext}</b><br><br>birth_country_current=Ukraine<br>year=%{x}<br>prize=%{y}<extra></extra>",
         "hovertext": [
          "Ukraine",
          "Ukraine",
          "Ukraine",
          "Ukraine",
          "Ukraine"
         ],
         "legendgroup": "Ukraine",
         "line": {
          "color": "#00cc96",
          "dash": "solid"
         },
         "marker": {
          "symbol": "circle"
         },
         "mode": "lines",
         "name": "Ukraine",
         "orientation": "v",
         "showlegend": true,
         "type": "scatter",
         "x": [
          1908,
          1952,
          1966,
          1981,
          2015
         ],
         "xaxis": "x",
         "y": [
          1,
          2,
          3,
          4,
          5
         ],
         "yaxis": "y"
        },
        {
         "hovertemplate": "<b>%{hovertext}</b><br><br>birth_country_current=United Kingdom<br>year=%{x}<br>prize=%{y}<extra></extra>",
         "hovertext": [
          "United Kingdom",
          "United Kingdom",
          "United Kingdom",
          "United Kingdom",
          "United Kingdom",
          "United Kingdom",
          "United Kingdom",
          "United Kingdom",
          "United Kingdom",
          "United Kingdom",
          "United Kingdom",
          "United Kingdom",
          "United Kingdom",
          "United Kingdom",
          "United Kingdom",
          "United Kingdom",
          "United Kingdom",
          "United Kingdom",
          "United Kingdom",
          "United Kingdom",
          "United Kingdom",
          "United Kingdom",
          "United Kingdom",
          "United Kingdom",
          "United Kingdom",
          "United Kingdom",
          "United Kingdom",
          "United Kingdom",
          "United Kingdom",
          "United Kingdom",
          "United Kingdom",
          "United Kingdom",
          "United Kingdom",
          "United Kingdom",
          "United Kingdom",
          "United Kingdom",
          "United Kingdom",
          "United Kingdom",
          "United Kingdom",
          "United Kingdom",
          "United Kingdom",
          "United Kingdom",
          "United Kingdom",
          "United Kingdom",
          "United Kingdom",
          "United Kingdom",
          "United Kingdom",
          "United Kingdom",
          "United Kingdom",
          "United Kingdom",
          "United Kingdom",
          "United Kingdom",
          "United Kingdom",
          "United Kingdom",
          "United Kingdom",
          "United Kingdom",
          "United Kingdom",
          "United Kingdom",
          "United Kingdom",
          "United Kingdom",
          "United Kingdom",
          "United Kingdom",
          "United Kingdom",
          "United Kingdom",
          "United Kingdom",
          "United Kingdom",
          "United Kingdom"
         ],
         "legendgroup": "United Kingdom",
         "line": {
          "color": "#ab63fa",
          "dash": "solid"
         },
         "marker": {
          "symbol": "circle"
         },
         "mode": "lines",
         "name": "United Kingdom",
         "orientation": "v",
         "showlegend": true,
         "type": "scatter",
         "x": [
          1903,
          1904,
          1906,
          1915,
          1917,
          1921,
          1922,
          1923,
          1925,
          1927,
          1928,
          1929,
          1932,
          1933,
          1934,
          1935,
          1936,
          1937,
          1945,
          1947,
          1948,
          1949,
          1950,
          1951,
          1952,
          1953,
          1956,
          1957,
          1958,
          1959,
          1962,
          1963,
          1967,
          1969,
          1972,
          1973,
          1974,
          1976,
          1977,
          1978,
          1979,
          1980,
          1982,
          1983,
          1984,
          1988,
          1991,
          1993,
          1995,
          1996,
          1997,
          1998,
          2001,
          2002,
          2003,
          2005,
          2007,
          2009,
          2010,
          2012,
          2013,
          2015,
          2016,
          2017,
          2018,
          2019,
          2020
         ],
         "xaxis": "x",
         "y": [
          1,
          3,
          4,
          5,
          6,
          7,
          9,
          10,
          11,
          12,
          13,
          15,
          18,
          20,
          21,
          22,
          23,
          26,
          27,
          29,
          30,
          31,
          33,
          34,
          36,
          37,
          39,
          40,
          41,
          42,
          44,
          46,
          48,
          49,
          51,
          54,
          57,
          59,
          61,
          62,
          64,
          65,
          66,
          67,
          69,
          70,
          71,
          73,
          74,
          76,
          77,
          80,
          82,
          83,
          86,
          87,
          89,
          90,
          91,
          92,
          93,
          94,
          99,
          100,
          101,
          103,
          105
         ],
         "yaxis": "y"
        },
        {
         "hovertemplate": "<b>%{hovertext}</b><br><br>birth_country_current=United States of America<br>year=%{x}<br>prize=%{y}<extra></extra>",
         "hovertext": [
          "United States of America",
          "United States of America",
          "United States of America",
          "United States of America",
          "United States of America",
          "United States of America",
          "United States of America",
          "United States of America",
          "United States of America",
          "United States of America",
          "United States of America",
          "United States of America",
          "United States of America",
          "United States of America",
          "United States of America",
          "United States of America",
          "United States of America",
          "United States of America",
          "United States of America",
          "United States of America",
          "United States of America",
          "United States of America",
          "United States of America",
          "United States of America",
          "United States of America",
          "United States of America",
          "United States of America",
          "United States of America",
          "United States of America",
          "United States of America",
          "United States of America",
          "United States of America",
          "United States of America",
          "United States of America",
          "United States of America",
          "United States of America",
          "United States of America",
          "United States of America",
          "United States of America",
          "United States of America",
          "United States of America",
          "United States of America",
          "United States of America",
          "United States of America",
          "United States of America",
          "United States of America",
          "United States of America",
          "United States of America",
          "United States of America",
          "United States of America",
          "United States of America",
          "United States of America",
          "United States of America",
          "United States of America",
          "United States of America",
          "United States of America",
          "United States of America",
          "United States of America",
          "United States of America",
          "United States of America",
          "United States of America",
          "United States of America",
          "United States of America",
          "United States of America",
          "United States of America",
          "United States of America",
          "United States of America",
          "United States of America",
          "United States of America",
          "United States of America",
          "United States of America",
          "United States of America",
          "United States of America",
          "United States of America",
          "United States of America",
          "United States of America",
          "United States of America",
          "United States of America",
          "United States of America",
          "United States of America",
          "United States of America",
          "United States of America",
          "United States of America",
          "United States of America",
          "United States of America",
          "United States of America",
          "United States of America",
          "United States of America",
          "United States of America"
         ],
         "legendgroup": "United States of America",
         "line": {
          "color": "#FFA15A",
          "dash": "solid"
         },
         "marker": {
          "symbol": "circle"
         },
         "mode": "lines",
         "name": "United States of America",
         "orientation": "v",
         "showlegend": true,
         "type": "scatter",
         "x": [
          1906,
          1912,
          1914,
          1919,
          1923,
          1925,
          1927,
          1929,
          1930,
          1931,
          1932,
          1933,
          1934,
          1936,
          1937,
          1938,
          1939,
          1943,
          1944,
          1945,
          1946,
          1948,
          1949,
          1950,
          1951,
          1952,
          1953,
          1954,
          1955,
          1956,
          1958,
          1959,
          1960,
          1961,
          1962,
          1964,
          1965,
          1966,
          1967,
          1968,
          1969,
          1970,
          1971,
          1972,
          1974,
          1975,
          1976,
          1977,
          1978,
          1979,
          1980,
          1981,
          1982,
          1983,
          1984,
          1985,
          1986,
          1987,
          1988,
          1989,
          1990,
          1992,
          1993,
          1994,
          1995,
          1996,
          1997,
          1998,
          2000,
          2001,
          2002,
          2003,
          2004,
          2005,
          2006,
          2007,
          2008,
          2009,
          2010,
          2011,
          2012,
          2013,
          2014,
          2015,
          2016,
          2017,
          2018,
          2019,
          2020
         ],
         "xaxis": "x",
         "y": [
          1,
          2,
          3,
          4,
          5,
          6,
          7,
          8,
          9,
          11,
          12,
          13,
          17,
          19,
          20,
          21,
          22,
          23,
          25,
          26,
          33,
          34,
          35,
          38,
          40,
          41,
          42,
          47,
          49,
          51,
          54,
          56,
          58,
          60,
          63,
          65,
          68,
          70,
          72,
          75,
          77,
          80,
          81,
          89,
          90,
          94,
          100,
          103,
          107,
          110,
          116,
          119,
          121,
          123,
          124,
          128,
          131,
          133,
          137,
          141,
          149,
          151,
          158,
          162,
          168,
          173,
          179,
          183,
          188,
          196,
          201,
          205,
          212,
          217,
          223,
          226,
          229,
          235,
          238,
          244,
          249,
          254,
          257,
          258,
          259,
          265,
          271,
          274,
          281
         ],
         "yaxis": "y"
        },
        {
         "hovertemplate": "<b>%{hovertext}</b><br><br>birth_country_current=Venezuela<br>year=%{x}<br>prize=%{y}<extra></extra>",
         "hovertext": [
          "Venezuela"
         ],
         "legendgroup": "Venezuela",
         "line": {
          "color": "#19d3f3",
          "dash": "solid"
         },
         "marker": {
          "symbol": "circle"
         },
         "mode": "lines",
         "name": "Venezuela",
         "orientation": "v",
         "showlegend": true,
         "type": "scatter",
         "x": [
          1980
         ],
         "xaxis": "x",
         "y": [
          1
         ],
         "yaxis": "y"
        },
        {
         "hovertemplate": "<b>%{hovertext}</b><br><br>birth_country_current=Vietnam<br>year=%{x}<br>prize=%{y}<extra></extra>",
         "hovertext": [
          "Vietnam"
         ],
         "legendgroup": "Vietnam",
         "line": {
          "color": "#FF6692",
          "dash": "solid"
         },
         "marker": {
          "symbol": "circle"
         },
         "mode": "lines",
         "name": "Vietnam",
         "orientation": "v",
         "showlegend": true,
         "type": "scatter",
         "x": [
          1973
         ],
         "xaxis": "x",
         "y": [
          1
         ],
         "yaxis": "y"
        },
        {
         "hovertemplate": "<b>%{hovertext}</b><br><br>birth_country_current=Yemen<br>year=%{x}<br>prize=%{y}<extra></extra>",
         "hovertext": [
          "Yemen"
         ],
         "legendgroup": "Yemen",
         "line": {
          "color": "#B6E880",
          "dash": "solid"
         },
         "marker": {
          "symbol": "circle"
         },
         "mode": "lines",
         "name": "Yemen",
         "orientation": "v",
         "showlegend": true,
         "type": "scatter",
         "x": [
          2011
         ],
         "xaxis": "x",
         "y": [
          1
         ],
         "yaxis": "y"
        },
        {
         "hovertemplate": "<b>%{hovertext}</b><br><br>birth_country_current=Zimbabwe<br>year=%{x}<br>prize=%{y}<extra></extra>",
         "hovertext": [
          "Zimbabwe"
         ],
         "legendgroup": "Zimbabwe",
         "line": {
          "color": "#FF97FF",
          "dash": "solid"
         },
         "marker": {
          "symbol": "circle"
         },
         "mode": "lines",
         "name": "Zimbabwe",
         "orientation": "v",
         "showlegend": true,
         "type": "scatter",
         "x": [
          1960
         ],
         "xaxis": "x",
         "y": [
          1
         ],
         "yaxis": "y"
        }
       ],
       "layout": {
        "legend": {
         "title": {
          "text": "birth_country_current"
         },
         "tracegroupgap": 0
        },
        "margin": {
         "t": 60
        },
        "template": {
         "data": {
          "bar": [
           {
            "error_x": {
             "color": "#2a3f5f"
            },
            "error_y": {
             "color": "#2a3f5f"
            },
            "marker": {
             "line": {
              "color": "#E5ECF6",
              "width": 0.5
             },
             "pattern": {
              "fillmode": "overlay",
              "size": 10,
              "solidity": 0.2
             }
            },
            "type": "bar"
           }
          ],
          "barpolar": [
           {
            "marker": {
             "line": {
              "color": "#E5ECF6",
              "width": 0.5
             },
             "pattern": {
              "fillmode": "overlay",
              "size": 10,
              "solidity": 0.2
             }
            },
            "type": "barpolar"
           }
          ],
          "carpet": [
           {
            "aaxis": {
             "endlinecolor": "#2a3f5f",
             "gridcolor": "white",
             "linecolor": "white",
             "minorgridcolor": "white",
             "startlinecolor": "#2a3f5f"
            },
            "baxis": {
             "endlinecolor": "#2a3f5f",
             "gridcolor": "white",
             "linecolor": "white",
             "minorgridcolor": "white",
             "startlinecolor": "#2a3f5f"
            },
            "type": "carpet"
           }
          ],
          "choropleth": [
           {
            "colorbar": {
             "outlinewidth": 0,
             "ticks": ""
            },
            "type": "choropleth"
           }
          ],
          "contour": [
           {
            "colorbar": {
             "outlinewidth": 0,
             "ticks": ""
            },
            "colorscale": [
             [
              0,
              "#0d0887"
             ],
             [
              0.1111111111111111,
              "#46039f"
             ],
             [
              0.2222222222222222,
              "#7201a8"
             ],
             [
              0.3333333333333333,
              "#9c179e"
             ],
             [
              0.4444444444444444,
              "#bd3786"
             ],
             [
              0.5555555555555556,
              "#d8576b"
             ],
             [
              0.6666666666666666,
              "#ed7953"
             ],
             [
              0.7777777777777778,
              "#fb9f3a"
             ],
             [
              0.8888888888888888,
              "#fdca26"
             ],
             [
              1,
              "#f0f921"
             ]
            ],
            "type": "contour"
           }
          ],
          "contourcarpet": [
           {
            "colorbar": {
             "outlinewidth": 0,
             "ticks": ""
            },
            "type": "contourcarpet"
           }
          ],
          "heatmap": [
           {
            "colorbar": {
             "outlinewidth": 0,
             "ticks": ""
            },
            "colorscale": [
             [
              0,
              "#0d0887"
             ],
             [
              0.1111111111111111,
              "#46039f"
             ],
             [
              0.2222222222222222,
              "#7201a8"
             ],
             [
              0.3333333333333333,
              "#9c179e"
             ],
             [
              0.4444444444444444,
              "#bd3786"
             ],
             [
              0.5555555555555556,
              "#d8576b"
             ],
             [
              0.6666666666666666,
              "#ed7953"
             ],
             [
              0.7777777777777778,
              "#fb9f3a"
             ],
             [
              0.8888888888888888,
              "#fdca26"
             ],
             [
              1,
              "#f0f921"
             ]
            ],
            "type": "heatmap"
           }
          ],
          "heatmapgl": [
           {
            "colorbar": {
             "outlinewidth": 0,
             "ticks": ""
            },
            "colorscale": [
             [
              0,
              "#0d0887"
             ],
             [
              0.1111111111111111,
              "#46039f"
             ],
             [
              0.2222222222222222,
              "#7201a8"
             ],
             [
              0.3333333333333333,
              "#9c179e"
             ],
             [
              0.4444444444444444,
              "#bd3786"
             ],
             [
              0.5555555555555556,
              "#d8576b"
             ],
             [
              0.6666666666666666,
              "#ed7953"
             ],
             [
              0.7777777777777778,
              "#fb9f3a"
             ],
             [
              0.8888888888888888,
              "#fdca26"
             ],
             [
              1,
              "#f0f921"
             ]
            ],
            "type": "heatmapgl"
           }
          ],
          "histogram": [
           {
            "marker": {
             "pattern": {
              "fillmode": "overlay",
              "size": 10,
              "solidity": 0.2
             }
            },
            "type": "histogram"
           }
          ],
          "histogram2d": [
           {
            "colorbar": {
             "outlinewidth": 0,
             "ticks": ""
            },
            "colorscale": [
             [
              0,
              "#0d0887"
             ],
             [
              0.1111111111111111,
              "#46039f"
             ],
             [
              0.2222222222222222,
              "#7201a8"
             ],
             [
              0.3333333333333333,
              "#9c179e"
             ],
             [
              0.4444444444444444,
              "#bd3786"
             ],
             [
              0.5555555555555556,
              "#d8576b"
             ],
             [
              0.6666666666666666,
              "#ed7953"
             ],
             [
              0.7777777777777778,
              "#fb9f3a"
             ],
             [
              0.8888888888888888,
              "#fdca26"
             ],
             [
              1,
              "#f0f921"
             ]
            ],
            "type": "histogram2d"
           }
          ],
          "histogram2dcontour": [
           {
            "colorbar": {
             "outlinewidth": 0,
             "ticks": ""
            },
            "colorscale": [
             [
              0,
              "#0d0887"
             ],
             [
              0.1111111111111111,
              "#46039f"
             ],
             [
              0.2222222222222222,
              "#7201a8"
             ],
             [
              0.3333333333333333,
              "#9c179e"
             ],
             [
              0.4444444444444444,
              "#bd3786"
             ],
             [
              0.5555555555555556,
              "#d8576b"
             ],
             [
              0.6666666666666666,
              "#ed7953"
             ],
             [
              0.7777777777777778,
              "#fb9f3a"
             ],
             [
              0.8888888888888888,
              "#fdca26"
             ],
             [
              1,
              "#f0f921"
             ]
            ],
            "type": "histogram2dcontour"
           }
          ],
          "mesh3d": [
           {
            "colorbar": {
             "outlinewidth": 0,
             "ticks": ""
            },
            "type": "mesh3d"
           }
          ],
          "parcoords": [
           {
            "line": {
             "colorbar": {
              "outlinewidth": 0,
              "ticks": ""
             }
            },
            "type": "parcoords"
           }
          ],
          "pie": [
           {
            "automargin": true,
            "type": "pie"
           }
          ],
          "scatter": [
           {
            "fillpattern": {
             "fillmode": "overlay",
             "size": 10,
             "solidity": 0.2
            },
            "type": "scatter"
           }
          ],
          "scatter3d": [
           {
            "line": {
             "colorbar": {
              "outlinewidth": 0,
              "ticks": ""
             }
            },
            "marker": {
             "colorbar": {
              "outlinewidth": 0,
              "ticks": ""
             }
            },
            "type": "scatter3d"
           }
          ],
          "scattercarpet": [
           {
            "marker": {
             "colorbar": {
              "outlinewidth": 0,
              "ticks": ""
             }
            },
            "type": "scattercarpet"
           }
          ],
          "scattergeo": [
           {
            "marker": {
             "colorbar": {
              "outlinewidth": 0,
              "ticks": ""
             }
            },
            "type": "scattergeo"
           }
          ],
          "scattergl": [
           {
            "marker": {
             "colorbar": {
              "outlinewidth": 0,
              "ticks": ""
             }
            },
            "type": "scattergl"
           }
          ],
          "scattermapbox": [
           {
            "marker": {
             "colorbar": {
              "outlinewidth": 0,
              "ticks": ""
             }
            },
            "type": "scattermapbox"
           }
          ],
          "scatterpolar": [
           {
            "marker": {
             "colorbar": {
              "outlinewidth": 0,
              "ticks": ""
             }
            },
            "type": "scatterpolar"
           }
          ],
          "scatterpolargl": [
           {
            "marker": {
             "colorbar": {
              "outlinewidth": 0,
              "ticks": ""
             }
            },
            "type": "scatterpolargl"
           }
          ],
          "scatterternary": [
           {
            "marker": {
             "colorbar": {
              "outlinewidth": 0,
              "ticks": ""
             }
            },
            "type": "scatterternary"
           }
          ],
          "surface": [
           {
            "colorbar": {
             "outlinewidth": 0,
             "ticks": ""
            },
            "colorscale": [
             [
              0,
              "#0d0887"
             ],
             [
              0.1111111111111111,
              "#46039f"
             ],
             [
              0.2222222222222222,
              "#7201a8"
             ],
             [
              0.3333333333333333,
              "#9c179e"
             ],
             [
              0.4444444444444444,
              "#bd3786"
             ],
             [
              0.5555555555555556,
              "#d8576b"
             ],
             [
              0.6666666666666666,
              "#ed7953"
             ],
             [
              0.7777777777777778,
              "#fb9f3a"
             ],
             [
              0.8888888888888888,
              "#fdca26"
             ],
             [
              1,
              "#f0f921"
             ]
            ],
            "type": "surface"
           }
          ],
          "table": [
           {
            "cells": {
             "fill": {
              "color": "#EBF0F8"
             },
             "line": {
              "color": "white"
             }
            },
            "header": {
             "fill": {
              "color": "#C8D4E3"
             },
             "line": {
              "color": "white"
             }
            },
            "type": "table"
           }
          ]
         },
         "layout": {
          "annotationdefaults": {
           "arrowcolor": "#2a3f5f",
           "arrowhead": 0,
           "arrowwidth": 1
          },
          "autotypenumbers": "strict",
          "coloraxis": {
           "colorbar": {
            "outlinewidth": 0,
            "ticks": ""
           }
          },
          "colorscale": {
           "diverging": [
            [
             0,
             "#8e0152"
            ],
            [
             0.1,
             "#c51b7d"
            ],
            [
             0.2,
             "#de77ae"
            ],
            [
             0.3,
             "#f1b6da"
            ],
            [
             0.4,
             "#fde0ef"
            ],
            [
             0.5,
             "#f7f7f7"
            ],
            [
             0.6,
             "#e6f5d0"
            ],
            [
             0.7,
             "#b8e186"
            ],
            [
             0.8,
             "#7fbc41"
            ],
            [
             0.9,
             "#4d9221"
            ],
            [
             1,
             "#276419"
            ]
           ],
           "sequential": [
            [
             0,
             "#0d0887"
            ],
            [
             0.1111111111111111,
             "#46039f"
            ],
            [
             0.2222222222222222,
             "#7201a8"
            ],
            [
             0.3333333333333333,
             "#9c179e"
            ],
            [
             0.4444444444444444,
             "#bd3786"
            ],
            [
             0.5555555555555556,
             "#d8576b"
            ],
            [
             0.6666666666666666,
             "#ed7953"
            ],
            [
             0.7777777777777778,
             "#fb9f3a"
            ],
            [
             0.8888888888888888,
             "#fdca26"
            ],
            [
             1,
             "#f0f921"
            ]
           ],
           "sequentialminus": [
            [
             0,
             "#0d0887"
            ],
            [
             0.1111111111111111,
             "#46039f"
            ],
            [
             0.2222222222222222,
             "#7201a8"
            ],
            [
             0.3333333333333333,
             "#9c179e"
            ],
            [
             0.4444444444444444,
             "#bd3786"
            ],
            [
             0.5555555555555556,
             "#d8576b"
            ],
            [
             0.6666666666666666,
             "#ed7953"
            ],
            [
             0.7777777777777778,
             "#fb9f3a"
            ],
            [
             0.8888888888888888,
             "#fdca26"
            ],
            [
             1,
             "#f0f921"
            ]
           ]
          },
          "colorway": [
           "#636efa",
           "#EF553B",
           "#00cc96",
           "#ab63fa",
           "#FFA15A",
           "#19d3f3",
           "#FF6692",
           "#B6E880",
           "#FF97FF",
           "#FECB52"
          ],
          "font": {
           "color": "#2a3f5f"
          },
          "geo": {
           "bgcolor": "white",
           "lakecolor": "white",
           "landcolor": "#E5ECF6",
           "showlakes": true,
           "showland": true,
           "subunitcolor": "white"
          },
          "hoverlabel": {
           "align": "left"
          },
          "hovermode": "closest",
          "mapbox": {
           "style": "light"
          },
          "paper_bgcolor": "white",
          "plot_bgcolor": "#E5ECF6",
          "polar": {
           "angularaxis": {
            "gridcolor": "white",
            "linecolor": "white",
            "ticks": ""
           },
           "bgcolor": "#E5ECF6",
           "radialaxis": {
            "gridcolor": "white",
            "linecolor": "white",
            "ticks": ""
           }
          },
          "scene": {
           "xaxis": {
            "backgroundcolor": "#E5ECF6",
            "gridcolor": "white",
            "gridwidth": 2,
            "linecolor": "white",
            "showbackground": true,
            "ticks": "",
            "zerolinecolor": "white"
           },
           "yaxis": {
            "backgroundcolor": "#E5ECF6",
            "gridcolor": "white",
            "gridwidth": 2,
            "linecolor": "white",
            "showbackground": true,
            "ticks": "",
            "zerolinecolor": "white"
           },
           "zaxis": {
            "backgroundcolor": "#E5ECF6",
            "gridcolor": "white",
            "gridwidth": 2,
            "linecolor": "white",
            "showbackground": true,
            "ticks": "",
            "zerolinecolor": "white"
           }
          },
          "shapedefaults": {
           "line": {
            "color": "#2a3f5f"
           }
          },
          "ternary": {
           "aaxis": {
            "gridcolor": "white",
            "linecolor": "white",
            "ticks": ""
           },
           "baxis": {
            "gridcolor": "white",
            "linecolor": "white",
            "ticks": ""
           },
           "bgcolor": "#E5ECF6",
           "caxis": {
            "gridcolor": "white",
            "linecolor": "white",
            "ticks": ""
           }
          },
          "title": {
           "x": 0.05
          },
          "xaxis": {
           "automargin": true,
           "gridcolor": "white",
           "linecolor": "white",
           "ticks": "",
           "title": {
            "standoff": 15
           },
           "zerolinecolor": "white",
           "zerolinewidth": 2
          },
          "yaxis": {
           "automargin": true,
           "gridcolor": "white",
           "linecolor": "white",
           "ticks": "",
           "title": {
            "standoff": 15
           },
           "zerolinecolor": "white",
           "zerolinewidth": 2
          }
         }
        },
        "xaxis": {
         "anchor": "y",
         "domain": [
          0,
          1
         ],
         "title": {
          "text": "Year"
         }
        },
        "yaxis": {
         "anchor": "x",
         "domain": [
          0,
          1
         ],
         "title": {
          "text": "Number of Prizes"
         }
        }
       }
      },
      "text/html": [
       "<div>                            <div id=\"a0fd3663-c4cc-48b4-a589-20609ee912a7\" class=\"plotly-graph-div\" style=\"height:525px; width:100%;\"></div>            <script type=\"text/javascript\">                require([\"plotly\"], function(Plotly) {                    window.PLOTLYENV=window.PLOTLYENV || {};                                    if (document.getElementById(\"a0fd3663-c4cc-48b4-a589-20609ee912a7\")) {                    Plotly.newPlot(                        \"a0fd3663-c4cc-48b4-a589-20609ee912a7\",                        [{\"hovertemplate\":\"<b>%{hovertext}</b><br><br>birth_country_current=Algeria<br>year=%{x}<br>prize=%{y}<extra></extra>\",\"hovertext\":[\"Algeria\",\"Algeria\"],\"legendgroup\":\"Algeria\",\"line\":{\"color\":\"#636efa\",\"dash\":\"solid\"},\"marker\":{\"symbol\":\"circle\"},\"mode\":\"lines\",\"name\":\"Algeria\",\"orientation\":\"v\",\"showlegend\":true,\"x\":[1957,1997],\"xaxis\":\"x\",\"y\":[1,2],\"yaxis\":\"y\",\"type\":\"scatter\"},{\"hovertemplate\":\"<b>%{hovertext}</b><br><br>birth_country_current=Argentina<br>year=%{x}<br>prize=%{y}<extra></extra>\",\"hovertext\":[\"Argentina\",\"Argentina\",\"Argentina\",\"Argentina\"],\"legendgroup\":\"Argentina\",\"line\":{\"color\":\"#EF553B\",\"dash\":\"solid\"},\"marker\":{\"symbol\":\"circle\"},\"mode\":\"lines\",\"name\":\"Argentina\",\"orientation\":\"v\",\"showlegend\":true,\"x\":[1936,1947,1980,1984],\"xaxis\":\"x\",\"y\":[1,2,3,4],\"yaxis\":\"y\",\"type\":\"scatter\"},{\"hovertemplate\":\"<b>%{hovertext}</b><br><br>birth_country_current=Australia<br>year=%{x}<br>prize=%{y}<extra></extra>\",\"hovertext\":[\"Australia\",\"Australia\",\"Australia\",\"Australia\",\"Australia\",\"Australia\",\"Australia\",\"Australia\",\"Australia\"],\"legendgroup\":\"Australia\",\"line\":{\"color\":\"#00cc96\",\"dash\":\"solid\"},\"marker\":{\"symbol\":\"circle\"},\"mode\":\"lines\",\"name\":\"Australia\",\"orientation\":\"v\",\"showlegend\":true,\"x\":[1915,1945,1960,1963,1964,1975,1996,2005,2009],\"xaxis\":\"x\",\"y\":[1,2,3,4,5,6,7,9,10],\"yaxis\":\"y\",\"type\":\"scatter\"},{\"hovertemplate\":\"<b>%{hovertext}</b><br><br>birth_country_current=Austria<br>year=%{x}<br>prize=%{y}<extra></extra>\",\"hovertext\":[\"Austria\",\"Austria\",\"Austria\",\"Austria\",\"Austria\",\"Austria\",\"Austria\",\"Austria\",\"Austria\",\"Austria\",\"Austria\",\"Austria\",\"Austria\",\"Austria\",\"Austria\",\"Austria\",\"Austria\"],\"legendgroup\":\"Austria\",\"line\":{\"color\":\"#ab63fa\",\"dash\":\"solid\"},\"marker\":{\"symbol\":\"circle\"},\"mode\":\"lines\",\"name\":\"Austria\",\"orientation\":\"v\",\"showlegend\":true,\"x\":[1911,1914,1925,1927,1930,1933,1936,1938,1945,1962,1973,1974,1998,2000,2004,2013,2019],\"xaxis\":\"x\",\"y\":[1,2,3,4,5,6,7,8,9,10,12,13,14,15,16,17,18],\"yaxis\":\"y\",\"type\":\"scatter\"},{\"hovertemplate\":\"<b>%{hovertext}</b><br><br>birth_country_current=Azerbaijan<br>year=%{x}<br>prize=%{y}<extra></extra>\",\"hovertext\":[\"Azerbaijan\"],\"legendgroup\":\"Azerbaijan\",\"line\":{\"color\":\"#FFA15A\",\"dash\":\"solid\"},\"marker\":{\"symbol\":\"circle\"},\"mode\":\"lines\",\"name\":\"Azerbaijan\",\"orientation\":\"v\",\"showlegend\":true,\"x\":[1962],\"xaxis\":\"x\",\"y\":[1],\"yaxis\":\"y\",\"type\":\"scatter\"},{\"hovertemplate\":\"<b>%{hovertext}</b><br><br>birth_country_current=Bangladesh<br>year=%{x}<br>prize=%{y}<extra></extra>\",\"hovertext\":[\"Bangladesh\"],\"legendgroup\":\"Bangladesh\",\"line\":{\"color\":\"#19d3f3\",\"dash\":\"solid\"},\"marker\":{\"symbol\":\"circle\"},\"mode\":\"lines\",\"name\":\"Bangladesh\",\"orientation\":\"v\",\"showlegend\":true,\"x\":[2006],\"xaxis\":\"x\",\"y\":[1],\"yaxis\":\"y\",\"type\":\"scatter\"},{\"hovertemplate\":\"<b>%{hovertext}</b><br><br>birth_country_current=Belarus<br>year=%{x}<br>prize=%{y}<extra></extra>\",\"hovertext\":[\"Belarus\",\"Belarus\",\"Belarus\",\"Belarus\"],\"legendgroup\":\"Belarus\",\"line\":{\"color\":\"#FF6692\",\"dash\":\"solid\"},\"marker\":{\"symbol\":\"circle\"},\"mode\":\"lines\",\"name\":\"Belarus\",\"orientation\":\"v\",\"showlegend\":true,\"x\":[1971,1978,1994,2000],\"xaxis\":\"x\",\"y\":[1,2,3,4],\"yaxis\":\"y\",\"type\":\"scatter\"},{\"hovertemplate\":\"<b>%{hovertext}</b><br><br>birth_country_current=Belgium<br>year=%{x}<br>prize=%{y}<extra></extra>\",\"hovertext\":[\"Belgium\",\"Belgium\",\"Belgium\",\"Belgium\",\"Belgium\",\"Belgium\",\"Belgium\",\"Belgium\",\"Belgium\"],\"legendgroup\":\"Belgium\",\"line\":{\"color\":\"#B6E880\",\"dash\":\"solid\"},\"marker\":{\"symbol\":\"circle\"},\"mode\":\"lines\",\"name\":\"Belgium\",\"orientation\":\"v\",\"showlegend\":true,\"x\":[1909,1911,1913,1919,1938,1958,1974,2005,2013],\"xaxis\":\"x\",\"y\":[1,2,3,4,5,6,7,8,9],\"yaxis\":\"y\",\"type\":\"scatter\"},{\"hovertemplate\":\"<b>%{hovertext}</b><br><br>birth_country_current=Bosnia and Herzegovina<br>year=%{x}<br>prize=%{y}<extra></extra>\",\"hovertext\":[\"Bosnia and Herzegovina\",\"Bosnia and Herzegovina\"],\"legendgroup\":\"Bosnia and Herzegovina\",\"line\":{\"color\":\"#FF97FF\",\"dash\":\"solid\"},\"marker\":{\"symbol\":\"circle\"},\"mode\":\"lines\",\"name\":\"Bosnia and Herzegovina\",\"orientation\":\"v\",\"showlegend\":true,\"x\":[1961,1975],\"xaxis\":\"x\",\"y\":[1,2],\"yaxis\":\"y\",\"type\":\"scatter\"},{\"hovertemplate\":\"<b>%{hovertext}</b><br><br>birth_country_current=Brazil<br>year=%{x}<br>prize=%{y}<extra></extra>\",\"hovertext\":[\"Brazil\"],\"legendgroup\":\"Brazil\",\"line\":{\"color\":\"#FECB52\",\"dash\":\"solid\"},\"marker\":{\"symbol\":\"circle\"},\"mode\":\"lines\",\"name\":\"Brazil\",\"orientation\":\"v\",\"showlegend\":true,\"x\":[1960],\"xaxis\":\"x\",\"y\":[1],\"yaxis\":\"y\",\"type\":\"scatter\"},{\"hovertemplate\":\"<b>%{hovertext}</b><br><br>birth_country_current=Bulgaria<br>year=%{x}<br>prize=%{y}<extra></extra>\",\"hovertext\":[\"Bulgaria\"],\"legendgroup\":\"Bulgaria\",\"line\":{\"color\":\"#636efa\",\"dash\":\"solid\"},\"marker\":{\"symbol\":\"circle\"},\"mode\":\"lines\",\"name\":\"Bulgaria\",\"orientation\":\"v\",\"showlegend\":true,\"x\":[1981],\"xaxis\":\"x\",\"y\":[1],\"yaxis\":\"y\",\"type\":\"scatter\"},{\"hovertemplate\":\"<b>%{hovertext}</b><br><br>birth_country_current=Canada<br>year=%{x}<br>prize=%{y}<extra></extra>\",\"hovertext\":[\"Canada\",\"Canada\",\"Canada\",\"Canada\",\"Canada\",\"Canada\",\"Canada\",\"Canada\",\"Canada\",\"Canada\",\"Canada\",\"Canada\",\"Canada\",\"Canada\",\"Canada\",\"Canada\",\"Canada\",\"Canada\",\"Canada\",\"Canada\"],\"legendgroup\":\"Canada\",\"line\":{\"color\":\"#EF553B\",\"dash\":\"solid\"},\"marker\":{\"symbol\":\"circle\"},\"mode\":\"lines\",\"name\":\"Canada\",\"orientation\":\"v\",\"showlegend\":true,\"x\":[1923,1949,1957,1966,1976,1981,1983,1989,1990,1992,1994,1996,1997,1999,2009,2011,2013,2015,2018,2019],\"xaxis\":\"x\",\"y\":[1,2,3,4,5,6,7,8,9,10,11,12,13,14,15,16,17,18,19,20],\"yaxis\":\"y\",\"type\":\"scatter\"},{\"hovertemplate\":\"<b>%{hovertext}</b><br><br>birth_country_current=Chile<br>year=%{x}<br>prize=%{y}<extra></extra>\",\"hovertext\":[\"Chile\",\"Chile\"],\"legendgroup\":\"Chile\",\"line\":{\"color\":\"#00cc96\",\"dash\":\"solid\"},\"marker\":{\"symbol\":\"circle\"},\"mode\":\"lines\",\"name\":\"Chile\",\"orientation\":\"v\",\"showlegend\":true,\"x\":[1945,1971],\"xaxis\":\"x\",\"y\":[1,2],\"yaxis\":\"y\",\"type\":\"scatter\"},{\"hovertemplate\":\"<b>%{hovertext}</b><br><br>birth_country_current=China<br>year=%{x}<br>prize=%{y}<extra></extra>\",\"hovertext\":[\"China\",\"China\",\"China\",\"China\",\"China\",\"China\",\"China\",\"China\",\"China\",\"China\"],\"legendgroup\":\"China\",\"line\":{\"color\":\"#ab63fa\",\"dash\":\"solid\"},\"marker\":{\"symbol\":\"circle\"},\"mode\":\"lines\",\"name\":\"China\",\"orientation\":\"v\",\"showlegend\":true,\"x\":[1956,1957,1989,1992,1998,2000,2009,2010,2012,2015],\"xaxis\":\"x\",\"y\":[1,3,4,5,6,7,8,10,11,12],\"yaxis\":\"y\",\"type\":\"scatter\"},{\"hovertemplate\":\"<b>%{hovertext}</b><br><br>birth_country_current=Colombia<br>year=%{x}<br>prize=%{y}<extra></extra>\",\"hovertext\":[\"Colombia\",\"Colombia\"],\"legendgroup\":\"Colombia\",\"line\":{\"color\":\"#FFA15A\",\"dash\":\"solid\"},\"marker\":{\"symbol\":\"circle\"},\"mode\":\"lines\",\"name\":\"Colombia\",\"orientation\":\"v\",\"showlegend\":true,\"x\":[1982,2016],\"xaxis\":\"x\",\"y\":[1,2],\"yaxis\":\"y\",\"type\":\"scatter\"},{\"hovertemplate\":\"<b>%{hovertext}</b><br><br>birth_country_current=Costa Rica<br>year=%{x}<br>prize=%{y}<extra></extra>\",\"hovertext\":[\"Costa Rica\"],\"legendgroup\":\"Costa Rica\",\"line\":{\"color\":\"#19d3f3\",\"dash\":\"solid\"},\"marker\":{\"symbol\":\"circle\"},\"mode\":\"lines\",\"name\":\"Costa Rica\",\"orientation\":\"v\",\"showlegend\":true,\"x\":[1987],\"xaxis\":\"x\",\"y\":[1],\"yaxis\":\"y\",\"type\":\"scatter\"},{\"hovertemplate\":\"<b>%{hovertext}</b><br><br>birth_country_current=Croatia<br>year=%{x}<br>prize=%{y}<extra></extra>\",\"hovertext\":[\"Croatia\"],\"legendgroup\":\"Croatia\",\"line\":{\"color\":\"#FF6692\",\"dash\":\"solid\"},\"marker\":{\"symbol\":\"circle\"},\"mode\":\"lines\",\"name\":\"Croatia\",\"orientation\":\"v\",\"showlegend\":true,\"x\":[1939],\"xaxis\":\"x\",\"y\":[1],\"yaxis\":\"y\",\"type\":\"scatter\"},{\"hovertemplate\":\"<b>%{hovertext}</b><br><br>birth_country_current=Cyprus<br>year=%{x}<br>prize=%{y}<extra></extra>\",\"hovertext\":[\"Cyprus\"],\"legendgroup\":\"Cyprus\",\"line\":{\"color\":\"#B6E880\",\"dash\":\"solid\"},\"marker\":{\"symbol\":\"circle\"},\"mode\":\"lines\",\"name\":\"Cyprus\",\"orientation\":\"v\",\"showlegend\":true,\"x\":[2010],\"xaxis\":\"x\",\"y\":[1],\"yaxis\":\"y\",\"type\":\"scatter\"},{\"hovertemplate\":\"<b>%{hovertext}</b><br><br>birth_country_current=Czech Republic<br>year=%{x}<br>prize=%{y}<extra></extra>\",\"hovertext\":[\"Czech Republic\",\"Czech Republic\",\"Czech Republic\",\"Czech Republic\",\"Czech Republic\"],\"legendgroup\":\"Czech Republic\",\"line\":{\"color\":\"#FF97FF\",\"dash\":\"solid\"},\"marker\":{\"symbol\":\"circle\"},\"mode\":\"lines\",\"name\":\"Czech Republic\",\"orientation\":\"v\",\"showlegend\":true,\"x\":[1905,1947,1959,1984,2007],\"xaxis\":\"x\",\"y\":[1,3,4,5,6],\"yaxis\":\"y\",\"type\":\"scatter\"},{\"hovertemplate\":\"<b>%{hovertext}</b><br><br>birth_country_current=Democratic Republic of the Congo<br>year=%{x}<br>prize=%{y}<extra></extra>\",\"hovertext\":[\"Democratic Republic of the Congo\"],\"legendgroup\":\"Democratic Republic of the Congo\",\"line\":{\"color\":\"#FECB52\",\"dash\":\"solid\"},\"marker\":{\"symbol\":\"circle\"},\"mode\":\"lines\",\"name\":\"Democratic Republic of the Congo\",\"orientation\":\"v\",\"showlegend\":true,\"x\":[2018],\"xaxis\":\"x\",\"y\":[1],\"yaxis\":\"y\",\"type\":\"scatter\"},{\"hovertemplate\":\"<b>%{hovertext}</b><br><br>birth_country_current=Denmark<br>year=%{x}<br>prize=%{y}<extra></extra>\",\"hovertext\":[\"Denmark\",\"Denmark\",\"Denmark\",\"Denmark\",\"Denmark\",\"Denmark\",\"Denmark\",\"Denmark\",\"Denmark\",\"Denmark\",\"Denmark\"],\"legendgroup\":\"Denmark\",\"line\":{\"color\":\"#636efa\",\"dash\":\"solid\"},\"marker\":{\"symbol\":\"circle\"},\"mode\":\"lines\",\"name\":\"Denmark\",\"orientation\":\"v\",\"showlegend\":true,\"x\":[1903,1908,1917,1920,1922,1926,1928,1943,1944,1975,1997],\"xaxis\":\"x\",\"y\":[1,2,4,5,6,7,8,9,10,11,12],\"yaxis\":\"y\",\"type\":\"scatter\"},{\"hovertemplate\":\"<b>%{hovertext}</b><br><br>birth_country_current=East Timor<br>year=%{x}<br>prize=%{y}<extra></extra>\",\"hovertext\":[\"East Timor\"],\"legendgroup\":\"East Timor\",\"line\":{\"color\":\"#EF553B\",\"dash\":\"solid\"},\"marker\":{\"symbol\":\"circle\"},\"mode\":\"lines\",\"name\":\"East Timor\",\"orientation\":\"v\",\"showlegend\":true,\"x\":[1996],\"xaxis\":\"x\",\"y\":[2],\"yaxis\":\"y\",\"type\":\"scatter\"},{\"hovertemplate\":\"<b>%{hovertext}</b><br><br>birth_country_current=Egypt<br>year=%{x}<br>prize=%{y}<extra></extra>\",\"hovertext\":[\"Egypt\",\"Egypt\",\"Egypt\",\"Egypt\",\"Egypt\",\"Egypt\"],\"legendgroup\":\"Egypt\",\"line\":{\"color\":\"#00cc96\",\"dash\":\"solid\"},\"marker\":{\"symbol\":\"circle\"},\"mode\":\"lines\",\"name\":\"Egypt\",\"orientation\":\"v\",\"showlegend\":true,\"x\":[1964,1978,1988,1994,1999,2005],\"xaxis\":\"x\",\"y\":[1,2,3,4,5,6],\"yaxis\":\"y\",\"type\":\"scatter\"},{\"hovertemplate\":\"<b>%{hovertext}</b><br><br>birth_country_current=Ethiopia<br>year=%{x}<br>prize=%{y}<extra></extra>\",\"hovertext\":[\"Ethiopia\"],\"legendgroup\":\"Ethiopia\",\"line\":{\"color\":\"#ab63fa\",\"dash\":\"solid\"},\"marker\":{\"symbol\":\"circle\"},\"mode\":\"lines\",\"name\":\"Ethiopia\",\"orientation\":\"v\",\"showlegend\":true,\"x\":[2019],\"xaxis\":\"x\",\"y\":[1],\"yaxis\":\"y\",\"type\":\"scatter\"},{\"hovertemplate\":\"<b>%{hovertext}</b><br><br>birth_country_current=Finland<br>year=%{x}<br>prize=%{y}<extra></extra>\",\"hovertext\":[\"Finland\",\"Finland\",\"Finland\",\"Finland\",\"Finland\"],\"legendgroup\":\"Finland\",\"line\":{\"color\":\"#FFA15A\",\"dash\":\"solid\"},\"marker\":{\"symbol\":\"circle\"},\"mode\":\"lines\",\"name\":\"Finland\",\"orientation\":\"v\",\"showlegend\":true,\"x\":[1939,1945,1967,2008,2016],\"xaxis\":\"x\",\"y\":[1,2,3,4,5],\"yaxis\":\"y\",\"type\":\"scatter\"},{\"hovertemplate\":\"<b>%{hovertext}</b><br><br>birth_country_current=France<br>year=%{x}<br>prize=%{y}<extra></extra>\",\"hovertext\":[\"France\",\"France\",\"France\",\"France\",\"France\",\"France\",\"France\",\"France\",\"France\",\"France\",\"France\",\"France\",\"France\",\"France\",\"France\",\"France\",\"France\",\"France\",\"France\",\"France\",\"France\",\"France\",\"France\",\"France\",\"France\",\"France\",\"France\",\"France\",\"France\",\"France\",\"France\",\"France\",\"France\",\"France\",\"France\",\"France\",\"France\",\"France\",\"France\",\"France\",\"France\"],\"legendgroup\":\"France\",\"line\":{\"color\":\"#19d3f3\",\"dash\":\"solid\"},\"marker\":{\"symbol\":\"circle\"},\"mode\":\"lines\",\"name\":\"France\",\"orientation\":\"v\",\"showlegend\":true,\"x\":[1901,1903,1904,1906,1907,1909,1912,1913,1915,1920,1921,1926,1927,1928,1929,1935,1937,1947,1951,1952,1956,1964,1965,1966,1967,1968,1970,1974,1977,1980,1983,1987,1988,1991,2007,2008,2014,2016,2018,2019,2020],\"xaxis\":\"x\",\"y\":[2,4,5,6,8,9,12,14,15,16,17,19,21,22,23,25,26,27,28,30,31,32,35,36,37,38,40,41,42,43,44,45,46,47,48,51,53,54,55,56,57],\"yaxis\":\"y\",\"type\":\"scatter\"},{\"hovertemplate\":\"<b>%{hovertext}</b><br><br>birth_country_current=Germany<br>year=%{x}<br>prize=%{y}<extra></extra>\",\"hovertext\":[\"Germany\",\"Germany\",\"Germany\",\"Germany\",\"Germany\",\"Germany\",\"Germany\",\"Germany\",\"Germany\",\"Germany\",\"Germany\",\"Germany\",\"Germany\",\"Germany\",\"Germany\",\"Germany\",\"Germany\",\"Germany\",\"Germany\",\"Germany\",\"Germany\",\"Germany\",\"Germany\",\"Germany\",\"Germany\",\"Germany\",\"Germany\",\"Germany\",\"Germany\",\"Germany\",\"Germany\",\"Germany\",\"Germany\",\"Germany\",\"Germany\",\"Germany\",\"Germany\",\"Germany\",\"Germany\",\"Germany\",\"Germany\",\"Germany\",\"Germany\",\"Germany\",\"Germany\",\"Germany\",\"Germany\",\"Germany\",\"Germany\",\"Germany\",\"Germany\",\"Germany\",\"Germany\",\"Germany\",\"Germany\",\"Germany\",\"Germany\",\"Germany\",\"Germany\",\"Germany\",\"Germany\",\"Germany\",\"Germany\"],\"legendgroup\":\"Germany\",\"line\":{\"color\":\"#FF6692\",\"dash\":\"solid\"},\"marker\":{\"symbol\":\"circle\"},\"mode\":\"lines\",\"name\":\"Germany\",\"orientation\":\"v\",\"showlegend\":true,\"x\":[1901,1902,1905,1907,1908,1909,1910,1912,1914,1915,1918,1919,1920,1921,1922,1925,1926,1927,1928,1929,1930,1931,1932,1935,1936,1939,1944,1945,1946,1950,1953,1954,1955,1956,1961,1963,1964,1966,1967,1969,1970,1971,1972,1973,1978,1979,1984,1986,1987,1988,1989,1991,1995,1998,2000,2001,2005,2007,2008,2013,2017,2019,2020],\"xaxis\":\"x\",\"y\":[1,3,5,6,7,8,10,11,12,13,14,15,16,17,18,20,21,23,24,26,27,29,30,32,33,34,35,36,37,38,40,41,42,43,44,46,47,48,49,50,51,53,54,56,57,58,59,62,63,67,69,71,72,73,74,75,77,78,79,80,82,83,84],\"yaxis\":\"y\",\"type\":\"scatter\"},{\"hovertemplate\":\"<b>%{hovertext}</b><br><br>birth_country_current=Ghana<br>year=%{x}<br>prize=%{y}<extra></extra>\",\"hovertext\":[\"Ghana\"],\"legendgroup\":\"Ghana\",\"line\":{\"color\":\"#B6E880\",\"dash\":\"solid\"},\"marker\":{\"symbol\":\"circle\"},\"mode\":\"lines\",\"name\":\"Ghana\",\"orientation\":\"v\",\"showlegend\":true,\"x\":[2001],\"xaxis\":\"x\",\"y\":[1],\"yaxis\":\"y\",\"type\":\"scatter\"},{\"hovertemplate\":\"<b>%{hovertext}</b><br><br>birth_country_current=Greece<br>year=%{x}<br>prize=%{y}<extra></extra>\",\"hovertext\":[\"Greece\"],\"legendgroup\":\"Greece\",\"line\":{\"color\":\"#FF97FF\",\"dash\":\"solid\"},\"marker\":{\"symbol\":\"circle\"},\"mode\":\"lines\",\"name\":\"Greece\",\"orientation\":\"v\",\"showlegend\":true,\"x\":[1979],\"xaxis\":\"x\",\"y\":[1],\"yaxis\":\"y\",\"type\":\"scatter\"},{\"hovertemplate\":\"<b>%{hovertext}</b><br><br>birth_country_current=Guadeloupe Island<br>year=%{x}<br>prize=%{y}<extra></extra>\",\"hovertext\":[\"Guadeloupe Island\"],\"legendgroup\":\"Guadeloupe Island\",\"line\":{\"color\":\"#FECB52\",\"dash\":\"solid\"},\"marker\":{\"symbol\":\"circle\"},\"mode\":\"lines\",\"name\":\"Guadeloupe Island\",\"orientation\":\"v\",\"showlegend\":true,\"x\":[1960],\"xaxis\":\"x\",\"y\":[1],\"yaxis\":\"y\",\"type\":\"scatter\"},{\"hovertemplate\":\"<b>%{hovertext}</b><br><br>birth_country_current=Guatemala<br>year=%{x}<br>prize=%{y}<extra></extra>\",\"hovertext\":[\"Guatemala\",\"Guatemala\"],\"legendgroup\":\"Guatemala\",\"line\":{\"color\":\"#636efa\",\"dash\":\"solid\"},\"marker\":{\"symbol\":\"circle\"},\"mode\":\"lines\",\"name\":\"Guatemala\",\"orientation\":\"v\",\"showlegend\":true,\"x\":[1967,1992],\"xaxis\":\"x\",\"y\":[1,2],\"yaxis\":\"y\",\"type\":\"scatter\"},{\"hovertemplate\":\"<b>%{hovertext}</b><br><br>birth_country_current=Hungary<br>year=%{x}<br>prize=%{y}<extra></extra>\",\"hovertext\":[\"Hungary\",\"Hungary\",\"Hungary\",\"Hungary\",\"Hungary\",\"Hungary\",\"Hungary\",\"Hungary\"],\"legendgroup\":\"Hungary\",\"line\":{\"color\":\"#EF553B\",\"dash\":\"solid\"},\"marker\":{\"symbol\":\"circle\"},\"mode\":\"lines\",\"name\":\"Hungary\",\"orientation\":\"v\",\"showlegend\":true,\"x\":[1937,1943,1961,1963,1971,1994,2002,2004],\"xaxis\":\"x\",\"y\":[1,2,3,4,5,7,8,9],\"yaxis\":\"y\",\"type\":\"scatter\"},{\"hovertemplate\":\"<b>%{hovertext}</b><br><br>birth_country_current=Iceland<br>year=%{x}<br>prize=%{y}<extra></extra>\",\"hovertext\":[\"Iceland\"],\"legendgroup\":\"Iceland\",\"line\":{\"color\":\"#00cc96\",\"dash\":\"solid\"},\"marker\":{\"symbol\":\"circle\"},\"mode\":\"lines\",\"name\":\"Iceland\",\"orientation\":\"v\",\"showlegend\":true,\"x\":[1955],\"xaxis\":\"x\",\"y\":[1],\"yaxis\":\"y\",\"type\":\"scatter\"},{\"hovertemplate\":\"<b>%{hovertext}</b><br><br>birth_country_current=India<br>year=%{x}<br>prize=%{y}<extra></extra>\",\"hovertext\":[\"India\",\"India\",\"India\",\"India\",\"India\",\"India\",\"India\",\"India\",\"India\"],\"legendgroup\":\"India\",\"line\":{\"color\":\"#ab63fa\",\"dash\":\"solid\"},\"marker\":{\"symbol\":\"circle\"},\"mode\":\"lines\",\"name\":\"India\",\"orientation\":\"v\",\"showlegend\":true,\"x\":[1902,1907,1913,1930,1968,1998,2009,2014,2019],\"xaxis\":\"x\",\"y\":[1,2,3,4,5,6,7,8,9],\"yaxis\":\"y\",\"type\":\"scatter\"},{\"hovertemplate\":\"<b>%{hovertext}</b><br><br>birth_country_current=Indonesia<br>year=%{x}<br>prize=%{y}<extra></extra>\",\"hovertext\":[\"Indonesia\"],\"legendgroup\":\"Indonesia\",\"line\":{\"color\":\"#FFA15A\",\"dash\":\"solid\"},\"marker\":{\"symbol\":\"circle\"},\"mode\":\"lines\",\"name\":\"Indonesia\",\"orientation\":\"v\",\"showlegend\":true,\"x\":[1924],\"xaxis\":\"x\",\"y\":[1],\"yaxis\":\"y\",\"type\":\"scatter\"},{\"hovertemplate\":\"<b>%{hovertext}</b><br><br>birth_country_current=Iran<br>year=%{x}<br>prize=%{y}<extra></extra>\",\"hovertext\":[\"Iran\",\"Iran\"],\"legendgroup\":\"Iran\",\"line\":{\"color\":\"#19d3f3\",\"dash\":\"solid\"},\"marker\":{\"symbol\":\"circle\"},\"mode\":\"lines\",\"name\":\"Iran\",\"orientation\":\"v\",\"showlegend\":true,\"x\":[2003,2007],\"xaxis\":\"x\",\"y\":[1,2],\"yaxis\":\"y\",\"type\":\"scatter\"},{\"hovertemplate\":\"<b>%{hovertext}</b><br><br>birth_country_current=Iraq<br>year=%{x}<br>prize=%{y}<extra></extra>\",\"hovertext\":[\"Iraq\"],\"legendgroup\":\"Iraq\",\"line\":{\"color\":\"#FF6692\",\"dash\":\"solid\"},\"marker\":{\"symbol\":\"circle\"},\"mode\":\"lines\",\"name\":\"Iraq\",\"orientation\":\"v\",\"showlegend\":true,\"x\":[2018],\"xaxis\":\"x\",\"y\":[1],\"yaxis\":\"y\",\"type\":\"scatter\"},{\"hovertemplate\":\"<b>%{hovertext}</b><br><br>birth_country_current=Ireland<br>year=%{x}<br>prize=%{y}<extra></extra>\",\"hovertext\":[\"Ireland\",\"Ireland\",\"Ireland\",\"Ireland\",\"Ireland\"],\"legendgroup\":\"Ireland\",\"line\":{\"color\":\"#B6E880\",\"dash\":\"solid\"},\"marker\":{\"symbol\":\"circle\"},\"mode\":\"lines\",\"name\":\"Ireland\",\"orientation\":\"v\",\"showlegend\":true,\"x\":[1923,1925,1951,1969,2015],\"xaxis\":\"x\",\"y\":[1,2,3,4,5],\"yaxis\":\"y\",\"type\":\"scatter\"},{\"hovertemplate\":\"<b>%{hovertext}</b><br><br>birth_country_current=Israel<br>year=%{x}<br>prize=%{y}<extra></extra>\",\"hovertext\":[\"Israel\",\"Israel\",\"Israel\",\"Israel\",\"Israel\",\"Israel\"],\"legendgroup\":\"Israel\",\"line\":{\"color\":\"#FF97FF\",\"dash\":\"solid\"},\"marker\":{\"symbol\":\"circle\"},\"mode\":\"lines\",\"name\":\"Israel\",\"orientation\":\"v\",\"showlegend\":true,\"x\":[1994,2002,2004,2009,2011,2013],\"xaxis\":\"x\",\"y\":[1,2,3,4,5,6],\"yaxis\":\"y\",\"type\":\"scatter\"},{\"hovertemplate\":\"<b>%{hovertext}</b><br><br>birth_country_current=Italy<br>year=%{x}<br>prize=%{y}<extra></extra>\",\"hovertext\":[\"Italy\",\"Italy\",\"Italy\",\"Italy\",\"Italy\",\"Italy\",\"Italy\",\"Italy\",\"Italy\",\"Italy\",\"Italy\",\"Italy\",\"Italy\",\"Italy\",\"Italy\",\"Italy\"],\"legendgroup\":\"Italy\",\"line\":{\"color\":\"#FECB52\",\"dash\":\"solid\"},\"marker\":{\"symbol\":\"circle\"},\"mode\":\"lines\",\"name\":\"Italy\",\"orientation\":\"v\",\"showlegend\":true,\"x\":[1906,1907,1909,1926,1934,1938,1959,1963,1969,1975,1984,1985,1986,1997,2002,2007],\"xaxis\":\"x\",\"y\":[2,3,4,5,6,7,9,10,11,13,14,15,16,17,18,19],\"yaxis\":\"y\",\"type\":\"scatter\"},{\"hovertemplate\":\"<b>%{hovertext}</b><br><br>birth_country_current=Japan<br>year=%{x}<br>prize=%{y}<extra></extra>\",\"hovertext\":[\"Japan\",\"Japan\",\"Japan\",\"Japan\",\"Japan\",\"Japan\",\"Japan\",\"Japan\",\"Japan\",\"Japan\",\"Japan\",\"Japan\",\"Japan\",\"Japan\",\"Japan\",\"Japan\",\"Japan\",\"Japan\",\"Japan\",\"Japan\"],\"legendgroup\":\"Japan\",\"line\":{\"color\":\"#636efa\",\"dash\":\"solid\"},\"marker\":{\"symbol\":\"circle\"},\"mode\":\"lines\",\"name\":\"Japan\",\"orientation\":\"v\",\"showlegend\":true,\"x\":[1949,1965,1968,1973,1974,1981,1987,1994,2000,2001,2002,2008,2010,2012,2014,2015,2016,2017,2018,2019],\"xaxis\":\"x\",\"y\":[1,2,3,4,5,6,7,8,9,10,12,16,17,18,21,23,24,25,26,27],\"yaxis\":\"y\",\"type\":\"scatter\"},{\"hovertemplate\":\"<b>%{hovertext}</b><br><br>birth_country_current=Kenya<br>year=%{x}<br>prize=%{y}<extra></extra>\",\"hovertext\":[\"Kenya\"],\"legendgroup\":\"Kenya\",\"line\":{\"color\":\"#EF553B\",\"dash\":\"solid\"},\"marker\":{\"symbol\":\"circle\"},\"mode\":\"lines\",\"name\":\"Kenya\",\"orientation\":\"v\",\"showlegend\":true,\"x\":[2004],\"xaxis\":\"x\",\"y\":[1],\"yaxis\":\"y\",\"type\":\"scatter\"},{\"hovertemplate\":\"<b>%{hovertext}</b><br><br>birth_country_current=Korea (South Korea)<br>year=%{x}<br>prize=%{y}<extra></extra>\",\"hovertext\":[\"Korea (South Korea)\",\"Korea (South Korea)\"],\"legendgroup\":\"Korea (South Korea)\",\"line\":{\"color\":\"#00cc96\",\"dash\":\"solid\"},\"marker\":{\"symbol\":\"circle\"},\"mode\":\"lines\",\"name\":\"Korea (South Korea)\",\"orientation\":\"v\",\"showlegend\":true,\"x\":[1987,2000],\"xaxis\":\"x\",\"y\":[1,2],\"yaxis\":\"y\",\"type\":\"scatter\"},{\"hovertemplate\":\"<b>%{hovertext}</b><br><br>birth_country_current=Latvia<br>year=%{x}<br>prize=%{y}<extra></extra>\",\"hovertext\":[\"Latvia\"],\"legendgroup\":\"Latvia\",\"line\":{\"color\":\"#ab63fa\",\"dash\":\"solid\"},\"marker\":{\"symbol\":\"circle\"},\"mode\":\"lines\",\"name\":\"Latvia\",\"orientation\":\"v\",\"showlegend\":true,\"x\":[1909],\"xaxis\":\"x\",\"y\":[1],\"yaxis\":\"y\",\"type\":\"scatter\"},{\"hovertemplate\":\"<b>%{hovertext}</b><br><br>birth_country_current=Liberia<br>year=%{x}<br>prize=%{y}<extra></extra>\",\"hovertext\":[\"Liberia\"],\"legendgroup\":\"Liberia\",\"line\":{\"color\":\"#FFA15A\",\"dash\":\"solid\"},\"marker\":{\"symbol\":\"circle\"},\"mode\":\"lines\",\"name\":\"Liberia\",\"orientation\":\"v\",\"showlegend\":true,\"x\":[2011],\"xaxis\":\"x\",\"y\":[2],\"yaxis\":\"y\",\"type\":\"scatter\"},{\"hovertemplate\":\"<b>%{hovertext}</b><br><br>birth_country_current=Lithuania<br>year=%{x}<br>prize=%{y}<extra></extra>\",\"hovertext\":[\"Lithuania\",\"Lithuania\",\"Lithuania\"],\"legendgroup\":\"Lithuania\",\"line\":{\"color\":\"#19d3f3\",\"dash\":\"solid\"},\"marker\":{\"symbol\":\"circle\"},\"mode\":\"lines\",\"name\":\"Lithuania\",\"orientation\":\"v\",\"showlegend\":true,\"x\":[1977,1980,1982],\"xaxis\":\"x\",\"y\":[1,2,3],\"yaxis\":\"y\",\"type\":\"scatter\"},{\"hovertemplate\":\"<b>%{hovertext}</b><br><br>birth_country_current=Luxembourg<br>year=%{x}<br>prize=%{y}<extra></extra>\",\"hovertext\":[\"Luxembourg\",\"Luxembourg\"],\"legendgroup\":\"Luxembourg\",\"line\":{\"color\":\"#FF6692\",\"dash\":\"solid\"},\"marker\":{\"symbol\":\"circle\"},\"mode\":\"lines\",\"name\":\"Luxembourg\",\"orientation\":\"v\",\"showlegend\":true,\"x\":[1908,2011],\"xaxis\":\"x\",\"y\":[1,2],\"yaxis\":\"y\",\"type\":\"scatter\"},{\"hovertemplate\":\"<b>%{hovertext}</b><br><br>birth_country_current=Madagascar<br>year=%{x}<br>prize=%{y}<extra></extra>\",\"hovertext\":[\"Madagascar\"],\"legendgroup\":\"Madagascar\",\"line\":{\"color\":\"#B6E880\",\"dash\":\"solid\"},\"marker\":{\"symbol\":\"circle\"},\"mode\":\"lines\",\"name\":\"Madagascar\",\"orientation\":\"v\",\"showlegend\":true,\"x\":[1985],\"xaxis\":\"x\",\"y\":[1],\"yaxis\":\"y\",\"type\":\"scatter\"},{\"hovertemplate\":\"<b>%{hovertext}</b><br><br>birth_country_current=Mexico<br>year=%{x}<br>prize=%{y}<extra></extra>\",\"hovertext\":[\"Mexico\",\"Mexico\",\"Mexico\"],\"legendgroup\":\"Mexico\",\"line\":{\"color\":\"#FF97FF\",\"dash\":\"solid\"},\"marker\":{\"symbol\":\"circle\"},\"mode\":\"lines\",\"name\":\"Mexico\",\"orientation\":\"v\",\"showlegend\":true,\"x\":[1982,1990,1995],\"xaxis\":\"x\",\"y\":[1,2,3],\"yaxis\":\"y\",\"type\":\"scatter\"},{\"hovertemplate\":\"<b>%{hovertext}</b><br><br>birth_country_current=Morocco<br>year=%{x}<br>prize=%{y}<extra></extra>\",\"hovertext\":[\"Morocco\"],\"legendgroup\":\"Morocco\",\"line\":{\"color\":\"#FECB52\",\"dash\":\"solid\"},\"marker\":{\"symbol\":\"circle\"},\"mode\":\"lines\",\"name\":\"Morocco\",\"orientation\":\"v\",\"showlegend\":true,\"x\":[2012],\"xaxis\":\"x\",\"y\":[1],\"yaxis\":\"y\",\"type\":\"scatter\"},{\"hovertemplate\":\"<b>%{hovertext}</b><br><br>birth_country_current=Myanmar<br>year=%{x}<br>prize=%{y}<extra></extra>\",\"hovertext\":[\"Myanmar\"],\"legendgroup\":\"Myanmar\",\"line\":{\"color\":\"#636efa\",\"dash\":\"solid\"},\"marker\":{\"symbol\":\"circle\"},\"mode\":\"lines\",\"name\":\"Myanmar\",\"orientation\":\"v\",\"showlegend\":true,\"x\":[1991],\"xaxis\":\"x\",\"y\":[1],\"yaxis\":\"y\",\"type\":\"scatter\"},{\"hovertemplate\":\"<b>%{hovertext}</b><br><br>birth_country_current=Netherlands<br>year=%{x}<br>prize=%{y}<extra></extra>\",\"hovertext\":[\"Netherlands\",\"Netherlands\",\"Netherlands\",\"Netherlands\",\"Netherlands\",\"Netherlands\",\"Netherlands\",\"Netherlands\",\"Netherlands\",\"Netherlands\",\"Netherlands\",\"Netherlands\",\"Netherlands\",\"Netherlands\",\"Netherlands\",\"Netherlands\"],\"legendgroup\":\"Netherlands\",\"line\":{\"color\":\"#EF553B\",\"dash\":\"solid\"},\"marker\":{\"symbol\":\"circle\"},\"mode\":\"lines\",\"name\":\"Netherlands\",\"orientation\":\"v\",\"showlegend\":true,\"x\":[1901,1902,1910,1911,1913,1929,1936,1953,1969,1973,1975,1981,1984,1995,1999,2016],\"xaxis\":\"x\",\"y\":[1,3,4,5,6,7,8,9,10,11,12,13,14,15,17,18],\"yaxis\":\"y\",\"type\":\"scatter\"},{\"hovertemplate\":\"<b>%{hovertext}</b><br><br>birth_country_current=New Zealand<br>year=%{x}<br>prize=%{y}<extra></extra>\",\"hovertext\":[\"New Zealand\",\"New Zealand\",\"New Zealand\"],\"legendgroup\":\"New Zealand\",\"line\":{\"color\":\"#00cc96\",\"dash\":\"solid\"},\"marker\":{\"symbol\":\"circle\"},\"mode\":\"lines\",\"name\":\"New Zealand\",\"orientation\":\"v\",\"showlegend\":true,\"x\":[1908,1962,2000],\"xaxis\":\"x\",\"y\":[1,2,3],\"yaxis\":\"y\",\"type\":\"scatter\"},{\"hovertemplate\":\"<b>%{hovertext}</b><br><br>birth_country_current=Nigeria<br>year=%{x}<br>prize=%{y}<extra></extra>\",\"hovertext\":[\"Nigeria\"],\"legendgroup\":\"Nigeria\",\"line\":{\"color\":\"#ab63fa\",\"dash\":\"solid\"},\"marker\":{\"symbol\":\"circle\"},\"mode\":\"lines\",\"name\":\"Nigeria\",\"orientation\":\"v\",\"showlegend\":true,\"x\":[1986],\"xaxis\":\"x\",\"y\":[1],\"yaxis\":\"y\",\"type\":\"scatter\"},{\"hovertemplate\":\"<b>%{hovertext}</b><br><br>birth_country_current=Norway<br>year=%{x}<br>prize=%{y}<extra></extra>\",\"hovertext\":[\"Norway\",\"Norway\",\"Norway\",\"Norway\",\"Norway\",\"Norway\",\"Norway\",\"Norway\",\"Norway\",\"Norway\"],\"legendgroup\":\"Norway\",\"line\":{\"color\":\"#FFA15A\",\"dash\":\"solid\"},\"marker\":{\"symbol\":\"circle\"},\"mode\":\"lines\",\"name\":\"Norway\",\"orientation\":\"v\",\"showlegend\":true,\"x\":[1903,1920,1921,1922,1968,1969,1973,1989,2004,2014],\"xaxis\":\"x\",\"y\":[1,2,3,4,5,7,8,9,10,12],\"yaxis\":\"y\",\"type\":\"scatter\"},{\"hovertemplate\":\"<b>%{hovertext}</b><br><br>birth_country_current=Pakistan<br>year=%{x}<br>prize=%{y}<extra></extra>\",\"hovertext\":[\"Pakistan\",\"Pakistan\",\"Pakistan\"],\"legendgroup\":\"Pakistan\",\"line\":{\"color\":\"#19d3f3\",\"dash\":\"solid\"},\"marker\":{\"symbol\":\"circle\"},\"mode\":\"lines\",\"name\":\"Pakistan\",\"orientation\":\"v\",\"showlegend\":true,\"x\":[1979,1983,2014],\"xaxis\":\"x\",\"y\":[1,2,3],\"yaxis\":\"y\",\"type\":\"scatter\"},{\"hovertemplate\":\"<b>%{hovertext}</b><br><br>birth_country_current=Peru<br>year=%{x}<br>prize=%{y}<extra></extra>\",\"hovertext\":[\"Peru\"],\"legendgroup\":\"Peru\",\"line\":{\"color\":\"#FF6692\",\"dash\":\"solid\"},\"marker\":{\"symbol\":\"circle\"},\"mode\":\"lines\",\"name\":\"Peru\",\"orientation\":\"v\",\"showlegend\":true,\"x\":[2010],\"xaxis\":\"x\",\"y\":[1],\"yaxis\":\"y\",\"type\":\"scatter\"},{\"hovertemplate\":\"<b>%{hovertext}</b><br><br>birth_country_current=Poland<br>year=%{x}<br>prize=%{y}<extra></extra>\",\"hovertext\":[\"Poland\",\"Poland\",\"Poland\",\"Poland\",\"Poland\",\"Poland\",\"Poland\",\"Poland\",\"Poland\",\"Poland\",\"Poland\",\"Poland\",\"Poland\",\"Poland\",\"Poland\",\"Poland\",\"Poland\",\"Poland\",\"Poland\",\"Poland\",\"Poland\",\"Poland\",\"Poland\",\"Poland\",\"Poland\"],\"legendgroup\":\"Poland\",\"line\":{\"color\":\"#B6E880\",\"dash\":\"solid\"},\"marker\":{\"symbol\":\"circle\"},\"mode\":\"lines\",\"name\":\"Poland\",\"orientation\":\"v\",\"showlegend\":true,\"x\":[1901,1903,1905,1907,1908,1911,1918,1924,1931,1939,1943,1944,1950,1954,1963,1964,1978,1983,1985,1992,1994,1995,1996,1999,2018],\"xaxis\":\"x\",\"y\":[1,2,3,4,5,6,7,8,9,10,11,12,14,15,16,17,18,19,20,21,22,23,24,26,27],\"yaxis\":\"y\",\"type\":\"scatter\"},{\"hovertemplate\":\"<b>%{hovertext}</b><br><br>birth_country_current=Portugal<br>year=%{x}<br>prize=%{y}<extra></extra>\",\"hovertext\":[\"Portugal\",\"Portugal\"],\"legendgroup\":\"Portugal\",\"line\":{\"color\":\"#FF97FF\",\"dash\":\"solid\"},\"marker\":{\"symbol\":\"circle\"},\"mode\":\"lines\",\"name\":\"Portugal\",\"orientation\":\"v\",\"showlegend\":true,\"x\":[1949,1998],\"xaxis\":\"x\",\"y\":[1,2],\"yaxis\":\"y\",\"type\":\"scatter\"},{\"hovertemplate\":\"<b>%{hovertext}</b><br><br>birth_country_current=Republic of Macedonia<br>year=%{x}<br>prize=%{y}<extra></extra>\",\"hovertext\":[\"Republic of Macedonia\"],\"legendgroup\":\"Republic of Macedonia\",\"line\":{\"color\":\"#FECB52\",\"dash\":\"solid\"},\"marker\":{\"symbol\":\"circle\"},\"mode\":\"lines\",\"name\":\"Republic of Macedonia\",\"orientation\":\"v\",\"showlegend\":true,\"x\":[1979],\"xaxis\":\"x\",\"y\":[1],\"yaxis\":\"y\",\"type\":\"scatter\"},{\"hovertemplate\":\"<b>%{hovertext}</b><br><br>birth_country_current=Romania<br>year=%{x}<br>prize=%{y}<extra></extra>\",\"hovertext\":[\"Romania\",\"Romania\",\"Romania\",\"Romania\"],\"legendgroup\":\"Romania\",\"line\":{\"color\":\"#636efa\",\"dash\":\"solid\"},\"marker\":{\"symbol\":\"circle\"},\"mode\":\"lines\",\"name\":\"Romania\",\"orientation\":\"v\",\"showlegend\":true,\"x\":[1974,1986,2009,2014],\"xaxis\":\"x\",\"y\":[1,2,3,4],\"yaxis\":\"y\",\"type\":\"scatter\"},{\"hovertemplate\":\"<b>%{hovertext}</b><br><br>birth_country_current=Russia<br>year=%{x}<br>prize=%{y}<extra></extra>\",\"hovertext\":[\"Russia\",\"Russia\",\"Russia\",\"Russia\",\"Russia\",\"Russia\",\"Russia\",\"Russia\",\"Russia\",\"Russia\",\"Russia\",\"Russia\",\"Russia\",\"Russia\",\"Russia\",\"Russia\",\"Russia\",\"Russia\",\"Russia\",\"Russia\"],\"legendgroup\":\"Russia\",\"line\":{\"color\":\"#EF553B\",\"dash\":\"solid\"},\"marker\":{\"symbol\":\"circle\"},\"mode\":\"lines\",\"name\":\"Russia\",\"orientation\":\"v\",\"showlegend\":true,\"x\":[1904,1910,1911,1933,1937,1953,1956,1958,1964,1965,1970,1973,1975,1977,1978,1987,1990,2003,2007,2010],\"xaxis\":\"x\",\"y\":[1,2,3,4,5,6,7,11,12,13,14,15,17,18,19,20,21,23,24,26],\"yaxis\":\"y\",\"type\":\"scatter\"},{\"hovertemplate\":\"<b>%{hovertext}</b><br><br>birth_country_current=Saint Lucia<br>year=%{x}<br>prize=%{y}<extra></extra>\",\"hovertext\":[\"Saint Lucia\",\"Saint Lucia\"],\"legendgroup\":\"Saint Lucia\",\"line\":{\"color\":\"#00cc96\",\"dash\":\"solid\"},\"marker\":{\"symbol\":\"circle\"},\"mode\":\"lines\",\"name\":\"Saint Lucia\",\"orientation\":\"v\",\"showlegend\":true,\"x\":[1979,1992],\"xaxis\":\"x\",\"y\":[1,2],\"yaxis\":\"y\",\"type\":\"scatter\"},{\"hovertemplate\":\"<b>%{hovertext}</b><br><br>birth_country_current=Slovakia<br>year=%{x}<br>prize=%{y}<extra></extra>\",\"hovertext\":[\"Slovakia\"],\"legendgroup\":\"Slovakia\",\"line\":{\"color\":\"#ab63fa\",\"dash\":\"solid\"},\"marker\":{\"symbol\":\"circle\"},\"mode\":\"lines\",\"name\":\"Slovakia\",\"orientation\":\"v\",\"showlegend\":true,\"x\":[1905],\"xaxis\":\"x\",\"y\":[1],\"yaxis\":\"y\",\"type\":\"scatter\"},{\"hovertemplate\":\"<b>%{hovertext}</b><br><br>birth_country_current=Slovenia<br>year=%{x}<br>prize=%{y}<extra></extra>\",\"hovertext\":[\"Slovenia\"],\"legendgroup\":\"Slovenia\",\"line\":{\"color\":\"#FFA15A\",\"dash\":\"solid\"},\"marker\":{\"symbol\":\"circle\"},\"mode\":\"lines\",\"name\":\"Slovenia\",\"orientation\":\"v\",\"showlegend\":true,\"x\":[1923],\"xaxis\":\"x\",\"y\":[1],\"yaxis\":\"y\",\"type\":\"scatter\"},{\"hovertemplate\":\"<b>%{hovertext}</b><br><br>birth_country_current=South Africa<br>year=%{x}<br>prize=%{y}<extra></extra>\",\"hovertext\":[\"South Africa\",\"South Africa\",\"South Africa\",\"South Africa\",\"South Africa\",\"South Africa\",\"South Africa\",\"South Africa\"],\"legendgroup\":\"South Africa\",\"line\":{\"color\":\"#19d3f3\",\"dash\":\"solid\"},\"marker\":{\"symbol\":\"circle\"},\"mode\":\"lines\",\"name\":\"South Africa\",\"orientation\":\"v\",\"showlegend\":true,\"x\":[1951,1979,1984,1991,1993,2002,2003,2013],\"xaxis\":\"x\",\"y\":[1,2,3,4,6,7,8,9],\"yaxis\":\"y\",\"type\":\"scatter\"},{\"hovertemplate\":\"<b>%{hovertext}</b><br><br>birth_country_current=Spain<br>year=%{x}<br>prize=%{y}<extra></extra>\",\"hovertext\":[\"Spain\",\"Spain\",\"Spain\",\"Spain\",\"Spain\",\"Spain\",\"Spain\"],\"legendgroup\":\"Spain\",\"line\":{\"color\":\"#FF6692\",\"dash\":\"solid\"},\"marker\":{\"symbol\":\"circle\"},\"mode\":\"lines\",\"name\":\"Spain\",\"orientation\":\"v\",\"showlegend\":true,\"x\":[1904,1906,1922,1956,1959,1977,1989],\"xaxis\":\"x\",\"y\":[1,2,3,4,5,6,7],\"yaxis\":\"y\",\"type\":\"scatter\"},{\"hovertemplate\":\"<b>%{hovertext}</b><br><br>birth_country_current=Sweden<br>year=%{x}<br>prize=%{y}<extra></extra>\",\"hovertext\":[\"Sweden\",\"Sweden\",\"Sweden\",\"Sweden\",\"Sweden\",\"Sweden\",\"Sweden\",\"Sweden\",\"Sweden\",\"Sweden\",\"Sweden\",\"Sweden\",\"Sweden\",\"Sweden\",\"Sweden\",\"Sweden\",\"Sweden\",\"Sweden\",\"Sweden\",\"Sweden\",\"Sweden\",\"Sweden\",\"Sweden\"],\"legendgroup\":\"Sweden\",\"line\":{\"color\":\"#B6E880\",\"dash\":\"solid\"},\"marker\":{\"symbol\":\"circle\"},\"mode\":\"lines\",\"name\":\"Sweden\",\"orientation\":\"v\",\"showlegend\":true,\"x\":[1903,1908,1909,1911,1912,1916,1921,1924,1926,1930,1931,1948,1951,1955,1961,1970,1974,1977,1981,1982,2000,2011,2015],\"xaxis\":\"x\",\"y\":[1,2,3,4,5,6,7,8,9,10,11,12,13,14,15,17,20,21,23,26,27,28,29],\"yaxis\":\"y\",\"type\":\"scatter\"},{\"hovertemplate\":\"<b>%{hovertext}</b><br><br>birth_country_current=Switzerland<br>year=%{x}<br>prize=%{y}<extra></extra>\",\"hovertext\":[\"Switzerland\",\"Switzerland\",\"Switzerland\",\"Switzerland\",\"Switzerland\",\"Switzerland\",\"Switzerland\",\"Switzerland\",\"Switzerland\",\"Switzerland\",\"Switzerland\",\"Switzerland\",\"Switzerland\",\"Switzerland\",\"Switzerland\",\"Switzerland\",\"Switzerland\"],\"legendgroup\":\"Switzerland\",\"line\":{\"color\":\"#FF97FF\",\"dash\":\"solid\"},\"marker\":{\"symbol\":\"circle\"},\"mode\":\"lines\",\"name\":\"Switzerland\",\"orientation\":\"v\",\"showlegend\":true,\"x\":[1901,1902,1909,1919,1920,1948,1949,1952,1957,1978,1986,1987,1991,1996,2002,2017,2019],\"xaxis\":\"x\",\"y\":[1,3,4,5,6,7,8,9,10,11,12,13,14,15,16,17,19],\"yaxis\":\"y\",\"type\":\"scatter\"},{\"hovertemplate\":\"<b>%{hovertext}</b><br><br>birth_country_current=Taiwan<br>year=%{x}<br>prize=%{y}<extra></extra>\",\"hovertext\":[\"Taiwan\"],\"legendgroup\":\"Taiwan\",\"line\":{\"color\":\"#FECB52\",\"dash\":\"solid\"},\"marker\":{\"symbol\":\"circle\"},\"mode\":\"lines\",\"name\":\"Taiwan\",\"orientation\":\"v\",\"showlegend\":true,\"x\":[1986],\"xaxis\":\"x\",\"y\":[1],\"yaxis\":\"y\",\"type\":\"scatter\"},{\"hovertemplate\":\"<b>%{hovertext}</b><br><br>birth_country_current=Trinidad<br>year=%{x}<br>prize=%{y}<extra></extra>\",\"hovertext\":[\"Trinidad\"],\"legendgroup\":\"Trinidad\",\"line\":{\"color\":\"#636efa\",\"dash\":\"solid\"},\"marker\":{\"symbol\":\"circle\"},\"mode\":\"lines\",\"name\":\"Trinidad\",\"orientation\":\"v\",\"showlegend\":true,\"x\":[2001],\"xaxis\":\"x\",\"y\":[1],\"yaxis\":\"y\",\"type\":\"scatter\"},{\"hovertemplate\":\"<b>%{hovertext}</b><br><br>birth_country_current=Turkey<br>year=%{x}<br>prize=%{y}<extra></extra>\",\"hovertext\":[\"Turkey\",\"Turkey\",\"Turkey\"],\"legendgroup\":\"Turkey\",\"line\":{\"color\":\"#EF553B\",\"dash\":\"solid\"},\"marker\":{\"symbol\":\"circle\"},\"mode\":\"lines\",\"name\":\"Turkey\",\"orientation\":\"v\",\"showlegend\":true,\"x\":[1963,2006,2015],\"xaxis\":\"x\",\"y\":[1,2,3],\"yaxis\":\"y\",\"type\":\"scatter\"},{\"hovertemplate\":\"<b>%{hovertext}</b><br><br>birth_country_current=Ukraine<br>year=%{x}<br>prize=%{y}<extra></extra>\",\"hovertext\":[\"Ukraine\",\"Ukraine\",\"Ukraine\",\"Ukraine\",\"Ukraine\"],\"legendgroup\":\"Ukraine\",\"line\":{\"color\":\"#00cc96\",\"dash\":\"solid\"},\"marker\":{\"symbol\":\"circle\"},\"mode\":\"lines\",\"name\":\"Ukraine\",\"orientation\":\"v\",\"showlegend\":true,\"x\":[1908,1952,1966,1981,2015],\"xaxis\":\"x\",\"y\":[1,2,3,4,5],\"yaxis\":\"y\",\"type\":\"scatter\"},{\"hovertemplate\":\"<b>%{hovertext}</b><br><br>birth_country_current=United Kingdom<br>year=%{x}<br>prize=%{y}<extra></extra>\",\"hovertext\":[\"United Kingdom\",\"United Kingdom\",\"United Kingdom\",\"United Kingdom\",\"United Kingdom\",\"United Kingdom\",\"United Kingdom\",\"United Kingdom\",\"United Kingdom\",\"United Kingdom\",\"United Kingdom\",\"United Kingdom\",\"United Kingdom\",\"United Kingdom\",\"United Kingdom\",\"United Kingdom\",\"United Kingdom\",\"United Kingdom\",\"United Kingdom\",\"United Kingdom\",\"United Kingdom\",\"United Kingdom\",\"United Kingdom\",\"United Kingdom\",\"United Kingdom\",\"United Kingdom\",\"United Kingdom\",\"United Kingdom\",\"United Kingdom\",\"United Kingdom\",\"United Kingdom\",\"United Kingdom\",\"United Kingdom\",\"United Kingdom\",\"United Kingdom\",\"United Kingdom\",\"United Kingdom\",\"United Kingdom\",\"United Kingdom\",\"United Kingdom\",\"United Kingdom\",\"United Kingdom\",\"United Kingdom\",\"United Kingdom\",\"United Kingdom\",\"United Kingdom\",\"United Kingdom\",\"United Kingdom\",\"United Kingdom\",\"United Kingdom\",\"United Kingdom\",\"United Kingdom\",\"United Kingdom\",\"United Kingdom\",\"United Kingdom\",\"United Kingdom\",\"United Kingdom\",\"United Kingdom\",\"United Kingdom\",\"United Kingdom\",\"United Kingdom\",\"United Kingdom\",\"United Kingdom\",\"United Kingdom\",\"United Kingdom\",\"United Kingdom\",\"United Kingdom\"],\"legendgroup\":\"United Kingdom\",\"line\":{\"color\":\"#ab63fa\",\"dash\":\"solid\"},\"marker\":{\"symbol\":\"circle\"},\"mode\":\"lines\",\"name\":\"United Kingdom\",\"orientation\":\"v\",\"showlegend\":true,\"x\":[1903,1904,1906,1915,1917,1921,1922,1923,1925,1927,1928,1929,1932,1933,1934,1935,1936,1937,1945,1947,1948,1949,1950,1951,1952,1953,1956,1957,1958,1959,1962,1963,1967,1969,1972,1973,1974,1976,1977,1978,1979,1980,1982,1983,1984,1988,1991,1993,1995,1996,1997,1998,2001,2002,2003,2005,2007,2009,2010,2012,2013,2015,2016,2017,2018,2019,2020],\"xaxis\":\"x\",\"y\":[1,3,4,5,6,7,9,10,11,12,13,15,18,20,21,22,23,26,27,29,30,31,33,34,36,37,39,40,41,42,44,46,48,49,51,54,57,59,61,62,64,65,66,67,69,70,71,73,74,76,77,80,82,83,86,87,89,90,91,92,93,94,99,100,101,103,105],\"yaxis\":\"y\",\"type\":\"scatter\"},{\"hovertemplate\":\"<b>%{hovertext}</b><br><br>birth_country_current=United States of America<br>year=%{x}<br>prize=%{y}<extra></extra>\",\"hovertext\":[\"United States of America\",\"United States of America\",\"United States of America\",\"United States of America\",\"United States of America\",\"United States of America\",\"United States of America\",\"United States of America\",\"United States of America\",\"United States of America\",\"United States of America\",\"United States of America\",\"United States of America\",\"United States of America\",\"United States of America\",\"United States of America\",\"United States of America\",\"United States of America\",\"United States of America\",\"United States of America\",\"United States of America\",\"United States of America\",\"United States of America\",\"United States of America\",\"United States of America\",\"United States of America\",\"United States of America\",\"United States of America\",\"United States of America\",\"United States of America\",\"United States of America\",\"United States of America\",\"United States of America\",\"United States of America\",\"United States of America\",\"United States of America\",\"United States of America\",\"United States of America\",\"United States of America\",\"United States of America\",\"United States of America\",\"United States of America\",\"United States of America\",\"United States of America\",\"United States of America\",\"United States of America\",\"United States of America\",\"United States of America\",\"United States of America\",\"United States of America\",\"United States of America\",\"United States of America\",\"United States of America\",\"United States of America\",\"United States of America\",\"United States of America\",\"United States of America\",\"United States of America\",\"United States of America\",\"United States of America\",\"United States of America\",\"United States of America\",\"United States of America\",\"United States of America\",\"United States of America\",\"United States of America\",\"United States of America\",\"United States of America\",\"United States of America\",\"United States of America\",\"United States of America\",\"United States of America\",\"United States of America\",\"United States of America\",\"United States of America\",\"United States of America\",\"United States of America\",\"United States of America\",\"United States of America\",\"United States of America\",\"United States of America\",\"United States of America\",\"United States of America\",\"United States of America\",\"United States of America\",\"United States of America\",\"United States of America\",\"United States of America\",\"United States of America\"],\"legendgroup\":\"United States of America\",\"line\":{\"color\":\"#FFA15A\",\"dash\":\"solid\"},\"marker\":{\"symbol\":\"circle\"},\"mode\":\"lines\",\"name\":\"United States of America\",\"orientation\":\"v\",\"showlegend\":true,\"x\":[1906,1912,1914,1919,1923,1925,1927,1929,1930,1931,1932,1933,1934,1936,1937,1938,1939,1943,1944,1945,1946,1948,1949,1950,1951,1952,1953,1954,1955,1956,1958,1959,1960,1961,1962,1964,1965,1966,1967,1968,1969,1970,1971,1972,1974,1975,1976,1977,1978,1979,1980,1981,1982,1983,1984,1985,1986,1987,1988,1989,1990,1992,1993,1994,1995,1996,1997,1998,2000,2001,2002,2003,2004,2005,2006,2007,2008,2009,2010,2011,2012,2013,2014,2015,2016,2017,2018,2019,2020],\"xaxis\":\"x\",\"y\":[1,2,3,4,5,6,7,8,9,11,12,13,17,19,20,21,22,23,25,26,33,34,35,38,40,41,42,47,49,51,54,56,58,60,63,65,68,70,72,75,77,80,81,89,90,94,100,103,107,110,116,119,121,123,124,128,131,133,137,141,149,151,158,162,168,173,179,183,188,196,201,205,212,217,223,226,229,235,238,244,249,254,257,258,259,265,271,274,281],\"yaxis\":\"y\",\"type\":\"scatter\"},{\"hovertemplate\":\"<b>%{hovertext}</b><br><br>birth_country_current=Venezuela<br>year=%{x}<br>prize=%{y}<extra></extra>\",\"hovertext\":[\"Venezuela\"],\"legendgroup\":\"Venezuela\",\"line\":{\"color\":\"#19d3f3\",\"dash\":\"solid\"},\"marker\":{\"symbol\":\"circle\"},\"mode\":\"lines\",\"name\":\"Venezuela\",\"orientation\":\"v\",\"showlegend\":true,\"x\":[1980],\"xaxis\":\"x\",\"y\":[1],\"yaxis\":\"y\",\"type\":\"scatter\"},{\"hovertemplate\":\"<b>%{hovertext}</b><br><br>birth_country_current=Vietnam<br>year=%{x}<br>prize=%{y}<extra></extra>\",\"hovertext\":[\"Vietnam\"],\"legendgroup\":\"Vietnam\",\"line\":{\"color\":\"#FF6692\",\"dash\":\"solid\"},\"marker\":{\"symbol\":\"circle\"},\"mode\":\"lines\",\"name\":\"Vietnam\",\"orientation\":\"v\",\"showlegend\":true,\"x\":[1973],\"xaxis\":\"x\",\"y\":[1],\"yaxis\":\"y\",\"type\":\"scatter\"},{\"hovertemplate\":\"<b>%{hovertext}</b><br><br>birth_country_current=Yemen<br>year=%{x}<br>prize=%{y}<extra></extra>\",\"hovertext\":[\"Yemen\"],\"legendgroup\":\"Yemen\",\"line\":{\"color\":\"#B6E880\",\"dash\":\"solid\"},\"marker\":{\"symbol\":\"circle\"},\"mode\":\"lines\",\"name\":\"Yemen\",\"orientation\":\"v\",\"showlegend\":true,\"x\":[2011],\"xaxis\":\"x\",\"y\":[1],\"yaxis\":\"y\",\"type\":\"scatter\"},{\"hovertemplate\":\"<b>%{hovertext}</b><br><br>birth_country_current=Zimbabwe<br>year=%{x}<br>prize=%{y}<extra></extra>\",\"hovertext\":[\"Zimbabwe\"],\"legendgroup\":\"Zimbabwe\",\"line\":{\"color\":\"#FF97FF\",\"dash\":\"solid\"},\"marker\":{\"symbol\":\"circle\"},\"mode\":\"lines\",\"name\":\"Zimbabwe\",\"orientation\":\"v\",\"showlegend\":true,\"x\":[1960],\"xaxis\":\"x\",\"y\":[1],\"yaxis\":\"y\",\"type\":\"scatter\"}],                        {\"template\":{\"data\":{\"histogram2dcontour\":[{\"type\":\"histogram2dcontour\",\"colorbar\":{\"outlinewidth\":0,\"ticks\":\"\"},\"colorscale\":[[0.0,\"#0d0887\"],[0.1111111111111111,\"#46039f\"],[0.2222222222222222,\"#7201a8\"],[0.3333333333333333,\"#9c179e\"],[0.4444444444444444,\"#bd3786\"],[0.5555555555555556,\"#d8576b\"],[0.6666666666666666,\"#ed7953\"],[0.7777777777777778,\"#fb9f3a\"],[0.8888888888888888,\"#fdca26\"],[1.0,\"#f0f921\"]]}],\"choropleth\":[{\"type\":\"choropleth\",\"colorbar\":{\"outlinewidth\":0,\"ticks\":\"\"}}],\"histogram2d\":[{\"type\":\"histogram2d\",\"colorbar\":{\"outlinewidth\":0,\"ticks\":\"\"},\"colorscale\":[[0.0,\"#0d0887\"],[0.1111111111111111,\"#46039f\"],[0.2222222222222222,\"#7201a8\"],[0.3333333333333333,\"#9c179e\"],[0.4444444444444444,\"#bd3786\"],[0.5555555555555556,\"#d8576b\"],[0.6666666666666666,\"#ed7953\"],[0.7777777777777778,\"#fb9f3a\"],[0.8888888888888888,\"#fdca26\"],[1.0,\"#f0f921\"]]}],\"heatmap\":[{\"type\":\"heatmap\",\"colorbar\":{\"outlinewidth\":0,\"ticks\":\"\"},\"colorscale\":[[0.0,\"#0d0887\"],[0.1111111111111111,\"#46039f\"],[0.2222222222222222,\"#7201a8\"],[0.3333333333333333,\"#9c179e\"],[0.4444444444444444,\"#bd3786\"],[0.5555555555555556,\"#d8576b\"],[0.6666666666666666,\"#ed7953\"],[0.7777777777777778,\"#fb9f3a\"],[0.8888888888888888,\"#fdca26\"],[1.0,\"#f0f921\"]]}],\"heatmapgl\":[{\"type\":\"heatmapgl\",\"colorbar\":{\"outlinewidth\":0,\"ticks\":\"\"},\"colorscale\":[[0.0,\"#0d0887\"],[0.1111111111111111,\"#46039f\"],[0.2222222222222222,\"#7201a8\"],[0.3333333333333333,\"#9c179e\"],[0.4444444444444444,\"#bd3786\"],[0.5555555555555556,\"#d8576b\"],[0.6666666666666666,\"#ed7953\"],[0.7777777777777778,\"#fb9f3a\"],[0.8888888888888888,\"#fdca26\"],[1.0,\"#f0f921\"]]}],\"contourcarpet\":[{\"type\":\"contourcarpet\",\"colorbar\":{\"outlinewidth\":0,\"ticks\":\"\"}}],\"contour\":[{\"type\":\"contour\",\"colorbar\":{\"outlinewidth\":0,\"ticks\":\"\"},\"colorscale\":[[0.0,\"#0d0887\"],[0.1111111111111111,\"#46039f\"],[0.2222222222222222,\"#7201a8\"],[0.3333333333333333,\"#9c179e\"],[0.4444444444444444,\"#bd3786\"],[0.5555555555555556,\"#d8576b\"],[0.6666666666666666,\"#ed7953\"],[0.7777777777777778,\"#fb9f3a\"],[0.8888888888888888,\"#fdca26\"],[1.0,\"#f0f921\"]]}],\"surface\":[{\"type\":\"surface\",\"colorbar\":{\"outlinewidth\":0,\"ticks\":\"\"},\"colorscale\":[[0.0,\"#0d0887\"],[0.1111111111111111,\"#46039f\"],[0.2222222222222222,\"#7201a8\"],[0.3333333333333333,\"#9c179e\"],[0.4444444444444444,\"#bd3786\"],[0.5555555555555556,\"#d8576b\"],[0.6666666666666666,\"#ed7953\"],[0.7777777777777778,\"#fb9f3a\"],[0.8888888888888888,\"#fdca26\"],[1.0,\"#f0f921\"]]}],\"mesh3d\":[{\"type\":\"mesh3d\",\"colorbar\":{\"outlinewidth\":0,\"ticks\":\"\"}}],\"scatter\":[{\"fillpattern\":{\"fillmode\":\"overlay\",\"size\":10,\"solidity\":0.2},\"type\":\"scatter\"}],\"parcoords\":[{\"type\":\"parcoords\",\"line\":{\"colorbar\":{\"outlinewidth\":0,\"ticks\":\"\"}}}],\"scatterpolargl\":[{\"type\":\"scatterpolargl\",\"marker\":{\"colorbar\":{\"outlinewidth\":0,\"ticks\":\"\"}}}],\"bar\":[{\"error_x\":{\"color\":\"#2a3f5f\"},\"error_y\":{\"color\":\"#2a3f5f\"},\"marker\":{\"line\":{\"color\":\"#E5ECF6\",\"width\":0.5},\"pattern\":{\"fillmode\":\"overlay\",\"size\":10,\"solidity\":0.2}},\"type\":\"bar\"}],\"scattergeo\":[{\"type\":\"scattergeo\",\"marker\":{\"colorbar\":{\"outlinewidth\":0,\"ticks\":\"\"}}}],\"scatterpolar\":[{\"type\":\"scatterpolar\",\"marker\":{\"colorbar\":{\"outlinewidth\":0,\"ticks\":\"\"}}}],\"histogram\":[{\"marker\":{\"pattern\":{\"fillmode\":\"overlay\",\"size\":10,\"solidity\":0.2}},\"type\":\"histogram\"}],\"scattergl\":[{\"type\":\"scattergl\",\"marker\":{\"colorbar\":{\"outlinewidth\":0,\"ticks\":\"\"}}}],\"scatter3d\":[{\"type\":\"scatter3d\",\"line\":{\"colorbar\":{\"outlinewidth\":0,\"ticks\":\"\"}},\"marker\":{\"colorbar\":{\"outlinewidth\":0,\"ticks\":\"\"}}}],\"scattermapbox\":[{\"type\":\"scattermapbox\",\"marker\":{\"colorbar\":{\"outlinewidth\":0,\"ticks\":\"\"}}}],\"scatterternary\":[{\"type\":\"scatterternary\",\"marker\":{\"colorbar\":{\"outlinewidth\":0,\"ticks\":\"\"}}}],\"scattercarpet\":[{\"type\":\"scattercarpet\",\"marker\":{\"colorbar\":{\"outlinewidth\":0,\"ticks\":\"\"}}}],\"carpet\":[{\"aaxis\":{\"endlinecolor\":\"#2a3f5f\",\"gridcolor\":\"white\",\"linecolor\":\"white\",\"minorgridcolor\":\"white\",\"startlinecolor\":\"#2a3f5f\"},\"baxis\":{\"endlinecolor\":\"#2a3f5f\",\"gridcolor\":\"white\",\"linecolor\":\"white\",\"minorgridcolor\":\"white\",\"startlinecolor\":\"#2a3f5f\"},\"type\":\"carpet\"}],\"table\":[{\"cells\":{\"fill\":{\"color\":\"#EBF0F8\"},\"line\":{\"color\":\"white\"}},\"header\":{\"fill\":{\"color\":\"#C8D4E3\"},\"line\":{\"color\":\"white\"}},\"type\":\"table\"}],\"barpolar\":[{\"marker\":{\"line\":{\"color\":\"#E5ECF6\",\"width\":0.5},\"pattern\":{\"fillmode\":\"overlay\",\"size\":10,\"solidity\":0.2}},\"type\":\"barpolar\"}],\"pie\":[{\"automargin\":true,\"type\":\"pie\"}]},\"layout\":{\"autotypenumbers\":\"strict\",\"colorway\":[\"#636efa\",\"#EF553B\",\"#00cc96\",\"#ab63fa\",\"#FFA15A\",\"#19d3f3\",\"#FF6692\",\"#B6E880\",\"#FF97FF\",\"#FECB52\"],\"font\":{\"color\":\"#2a3f5f\"},\"hovermode\":\"closest\",\"hoverlabel\":{\"align\":\"left\"},\"paper_bgcolor\":\"white\",\"plot_bgcolor\":\"#E5ECF6\",\"polar\":{\"bgcolor\":\"#E5ECF6\",\"angularaxis\":{\"gridcolor\":\"white\",\"linecolor\":\"white\",\"ticks\":\"\"},\"radialaxis\":{\"gridcolor\":\"white\",\"linecolor\":\"white\",\"ticks\":\"\"}},\"ternary\":{\"bgcolor\":\"#E5ECF6\",\"aaxis\":{\"gridcolor\":\"white\",\"linecolor\":\"white\",\"ticks\":\"\"},\"baxis\":{\"gridcolor\":\"white\",\"linecolor\":\"white\",\"ticks\":\"\"},\"caxis\":{\"gridcolor\":\"white\",\"linecolor\":\"white\",\"ticks\":\"\"}},\"coloraxis\":{\"colorbar\":{\"outlinewidth\":0,\"ticks\":\"\"}},\"colorscale\":{\"sequential\":[[0.0,\"#0d0887\"],[0.1111111111111111,\"#46039f\"],[0.2222222222222222,\"#7201a8\"],[0.3333333333333333,\"#9c179e\"],[0.4444444444444444,\"#bd3786\"],[0.5555555555555556,\"#d8576b\"],[0.6666666666666666,\"#ed7953\"],[0.7777777777777778,\"#fb9f3a\"],[0.8888888888888888,\"#fdca26\"],[1.0,\"#f0f921\"]],\"sequentialminus\":[[0.0,\"#0d0887\"],[0.1111111111111111,\"#46039f\"],[0.2222222222222222,\"#7201a8\"],[0.3333333333333333,\"#9c179e\"],[0.4444444444444444,\"#bd3786\"],[0.5555555555555556,\"#d8576b\"],[0.6666666666666666,\"#ed7953\"],[0.7777777777777778,\"#fb9f3a\"],[0.8888888888888888,\"#fdca26\"],[1.0,\"#f0f921\"]],\"diverging\":[[0,\"#8e0152\"],[0.1,\"#c51b7d\"],[0.2,\"#de77ae\"],[0.3,\"#f1b6da\"],[0.4,\"#fde0ef\"],[0.5,\"#f7f7f7\"],[0.6,\"#e6f5d0\"],[0.7,\"#b8e186\"],[0.8,\"#7fbc41\"],[0.9,\"#4d9221\"],[1,\"#276419\"]]},\"xaxis\":{\"gridcolor\":\"white\",\"linecolor\":\"white\",\"ticks\":\"\",\"title\":{\"standoff\":15},\"zerolinecolor\":\"white\",\"automargin\":true,\"zerolinewidth\":2},\"yaxis\":{\"gridcolor\":\"white\",\"linecolor\":\"white\",\"ticks\":\"\",\"title\":{\"standoff\":15},\"zerolinecolor\":\"white\",\"automargin\":true,\"zerolinewidth\":2},\"scene\":{\"xaxis\":{\"backgroundcolor\":\"#E5ECF6\",\"gridcolor\":\"white\",\"linecolor\":\"white\",\"showbackground\":true,\"ticks\":\"\",\"zerolinecolor\":\"white\",\"gridwidth\":2},\"yaxis\":{\"backgroundcolor\":\"#E5ECF6\",\"gridcolor\":\"white\",\"linecolor\":\"white\",\"showbackground\":true,\"ticks\":\"\",\"zerolinecolor\":\"white\",\"gridwidth\":2},\"zaxis\":{\"backgroundcolor\":\"#E5ECF6\",\"gridcolor\":\"white\",\"linecolor\":\"white\",\"showbackground\":true,\"ticks\":\"\",\"zerolinecolor\":\"white\",\"gridwidth\":2}},\"shapedefaults\":{\"line\":{\"color\":\"#2a3f5f\"}},\"annotationdefaults\":{\"arrowcolor\":\"#2a3f5f\",\"arrowhead\":0,\"arrowwidth\":1},\"geo\":{\"bgcolor\":\"white\",\"landcolor\":\"#E5ECF6\",\"subunitcolor\":\"white\",\"showland\":true,\"showlakes\":true,\"lakecolor\":\"white\"},\"title\":{\"x\":0.05},\"mapbox\":{\"style\":\"light\"}}},\"xaxis\":{\"anchor\":\"y\",\"domain\":[0.0,1.0],\"title\":{\"text\":\"Year\"}},\"yaxis\":{\"anchor\":\"x\",\"domain\":[0.0,1.0],\"title\":{\"text\":\"Number of Prizes\"}},\"legend\":{\"title\":{\"text\":\"birth_country_current\"},\"tracegroupgap\":0},\"margin\":{\"t\":60}},                        {\"responsive\": true}                    ).then(function(){\n",
       "                            \n",
       "var gd = document.getElementById('a0fd3663-c4cc-48b4-a589-20609ee912a7');\n",
       "var x = new MutationObserver(function (mutations, observer) {{\n",
       "        var display = window.getComputedStyle(gd).display;\n",
       "        if (!display || display === 'none') {{\n",
       "            console.log([gd, 'removed!']);\n",
       "            Plotly.purge(gd);\n",
       "            observer.disconnect();\n",
       "        }}\n",
       "}});\n",
       "\n",
       "// Listen for the removal of the full notebook cells\n",
       "var notebookContainer = gd.closest('#notebook-container');\n",
       "if (notebookContainer) {{\n",
       "    x.observe(notebookContainer, {childList: true});\n",
       "}}\n",
       "\n",
       "// Listen for the clearing of the current output cell\n",
       "var outputEl = gd.closest('.output');\n",
       "if (outputEl) {{\n",
       "    x.observe(outputEl, {childList: true});\n",
       "}}\n",
       "\n",
       "                        })                };                });            </script>        </div>"
      ]
     },
     "metadata": {},
     "output_type": "display_data"
    }
   ],
   "source": [
    "line_chart = px.line(\n",
    "    cumulative_prizes,\n",
    "    x=\"year\",\n",
    "    y=\"prize\",\n",
    "    color=\"birth_country_current\",\n",
    "    hover_name=\"birth_country_current\"\n",
    ")\n",
    "\n",
    "line_chart.update_layout(\n",
    "    xaxis_title=\"Year\",\n",
    "    yaxis_title=\"Number of Prizes\"\n",
    ")\n",
    "\n",
    "line_chart.show()"
   ]
  },
  {
   "cell_type": "markdown",
   "metadata": {
    "id": "J7WUUZpUo7Mj"
   },
   "source": [
    "# What are the Top Research Organisations?\n",
    "\n",
    "**Challenge**: Create a bar chart showing the organisations affiliated with the Nobel laureates. It should looks something like this:\n",
    "\n",
    "<img src=https://i.imgur.com/zZihj2p.png width=600>\n",
    "\n",
    "* Which organisations make up the top 20?\n",
    "* How many Nobel prize winners are affiliated with the University of Chicago and Harvard University?"
   ]
  },
  {
   "cell_type": "code",
   "execution_count": 168,
   "metadata": {
    "id": "2jdCXcqcGCxL"
   },
   "outputs": [],
   "source": [
    "top20_organizations = df_data.groupby(\"organization_name\", as_index=False).agg({\"prize\":pd.Series.count}).sort_values(by=\"prize\")\n",
    "top20_organizations = top20_organizations[-20:]"
   ]
  },
  {
   "cell_type": "code",
   "execution_count": 169,
   "metadata": {
    "id": "Db3Zll65GDQd"
   },
   "outputs": [
    {
     "data": {
      "application/vnd.plotly.v1+json": {
       "config": {
        "plotlyServerURL": "https://plot.ly"
       },
       "data": [
        {
         "alignmentgroup": "True",
         "hovertemplate": "prize=%{marker.color}<br>organization_name=%{y}<extra></extra>",
         "legendgroup": "",
         "marker": {
          "color": [
           7,
           7,
           7,
           7,
           8,
           8,
           9,
           10,
           12,
           13,
           13,
           15,
           17,
           17,
           18,
           20,
           21,
           23,
           29,
           40
          ],
          "coloraxis": "coloraxis",
          "pattern": {
           "shape": ""
          }
         },
         "name": "",
         "offsetgroup": "",
         "orientation": "h",
         "showlegend": false,
         "textposition": "auto",
         "type": "bar",
         "x": [
          7,
          7,
          7,
          7,
          8,
          8,
          9,
          10,
          12,
          13,
          13,
          15,
          17,
          17,
          18,
          20,
          21,
          23,
          29,
          40
         ],
         "xaxis": "x",
         "y": [
          "Institut Pasteur",
          "London University",
          "Harvard Medical School",
          "University College London",
          "Cornell University",
          "Bell Laboratories",
          "Yale University",
          "MRC Laboratory of Molecular Biology",
          "University of Oxford",
          "Rockefeller University",
          "Max-Planck-Institut",
          "Princeton University",
          "Columbia University",
          "California Institute of Technology (Caltech)",
          "University of Cambridge",
          "University of Chicago",
          "Massachusetts Institute of Technology (MIT)",
          "Stanford University",
          "Harvard University",
          "University of California"
         ],
         "yaxis": "y"
        }
       ],
       "layout": {
        "barmode": "relative",
        "coloraxis": {
         "colorbar": {
          "title": {
           "text": "prize"
          }
         },
         "colorscale": [
          [
           0,
           "rgb(41, 24, 107)"
          ],
          [
           0.09090909090909091,
           "rgb(42, 35, 160)"
          ],
          [
           0.18181818181818182,
           "rgb(15, 71, 153)"
          ],
          [
           0.2727272727272727,
           "rgb(18, 95, 142)"
          ],
          [
           0.36363636363636365,
           "rgb(38, 116, 137)"
          ],
          [
           0.45454545454545453,
           "rgb(53, 136, 136)"
          ],
          [
           0.5454545454545454,
           "rgb(65, 157, 133)"
          ],
          [
           0.6363636363636364,
           "rgb(81, 178, 124)"
          ],
          [
           0.7272727272727273,
           "rgb(111, 198, 107)"
          ],
          [
           0.8181818181818182,
           "rgb(160, 214, 91)"
          ],
          [
           0.9090909090909091,
           "rgb(212, 225, 112)"
          ],
          [
           1,
           "rgb(253, 238, 153)"
          ]
         ],
         "showscale": false
        },
        "legend": {
         "tracegroupgap": 0
        },
        "template": {
         "data": {
          "bar": [
           {
            "error_x": {
             "color": "#2a3f5f"
            },
            "error_y": {
             "color": "#2a3f5f"
            },
            "marker": {
             "line": {
              "color": "#E5ECF6",
              "width": 0.5
             },
             "pattern": {
              "fillmode": "overlay",
              "size": 10,
              "solidity": 0.2
             }
            },
            "type": "bar"
           }
          ],
          "barpolar": [
           {
            "marker": {
             "line": {
              "color": "#E5ECF6",
              "width": 0.5
             },
             "pattern": {
              "fillmode": "overlay",
              "size": 10,
              "solidity": 0.2
             }
            },
            "type": "barpolar"
           }
          ],
          "carpet": [
           {
            "aaxis": {
             "endlinecolor": "#2a3f5f",
             "gridcolor": "white",
             "linecolor": "white",
             "minorgridcolor": "white",
             "startlinecolor": "#2a3f5f"
            },
            "baxis": {
             "endlinecolor": "#2a3f5f",
             "gridcolor": "white",
             "linecolor": "white",
             "minorgridcolor": "white",
             "startlinecolor": "#2a3f5f"
            },
            "type": "carpet"
           }
          ],
          "choropleth": [
           {
            "colorbar": {
             "outlinewidth": 0,
             "ticks": ""
            },
            "type": "choropleth"
           }
          ],
          "contour": [
           {
            "colorbar": {
             "outlinewidth": 0,
             "ticks": ""
            },
            "colorscale": [
             [
              0,
              "#0d0887"
             ],
             [
              0.1111111111111111,
              "#46039f"
             ],
             [
              0.2222222222222222,
              "#7201a8"
             ],
             [
              0.3333333333333333,
              "#9c179e"
             ],
             [
              0.4444444444444444,
              "#bd3786"
             ],
             [
              0.5555555555555556,
              "#d8576b"
             ],
             [
              0.6666666666666666,
              "#ed7953"
             ],
             [
              0.7777777777777778,
              "#fb9f3a"
             ],
             [
              0.8888888888888888,
              "#fdca26"
             ],
             [
              1,
              "#f0f921"
             ]
            ],
            "type": "contour"
           }
          ],
          "contourcarpet": [
           {
            "colorbar": {
             "outlinewidth": 0,
             "ticks": ""
            },
            "type": "contourcarpet"
           }
          ],
          "heatmap": [
           {
            "colorbar": {
             "outlinewidth": 0,
             "ticks": ""
            },
            "colorscale": [
             [
              0,
              "#0d0887"
             ],
             [
              0.1111111111111111,
              "#46039f"
             ],
             [
              0.2222222222222222,
              "#7201a8"
             ],
             [
              0.3333333333333333,
              "#9c179e"
             ],
             [
              0.4444444444444444,
              "#bd3786"
             ],
             [
              0.5555555555555556,
              "#d8576b"
             ],
             [
              0.6666666666666666,
              "#ed7953"
             ],
             [
              0.7777777777777778,
              "#fb9f3a"
             ],
             [
              0.8888888888888888,
              "#fdca26"
             ],
             [
              1,
              "#f0f921"
             ]
            ],
            "type": "heatmap"
           }
          ],
          "heatmapgl": [
           {
            "colorbar": {
             "outlinewidth": 0,
             "ticks": ""
            },
            "colorscale": [
             [
              0,
              "#0d0887"
             ],
             [
              0.1111111111111111,
              "#46039f"
             ],
             [
              0.2222222222222222,
              "#7201a8"
             ],
             [
              0.3333333333333333,
              "#9c179e"
             ],
             [
              0.4444444444444444,
              "#bd3786"
             ],
             [
              0.5555555555555556,
              "#d8576b"
             ],
             [
              0.6666666666666666,
              "#ed7953"
             ],
             [
              0.7777777777777778,
              "#fb9f3a"
             ],
             [
              0.8888888888888888,
              "#fdca26"
             ],
             [
              1,
              "#f0f921"
             ]
            ],
            "type": "heatmapgl"
           }
          ],
          "histogram": [
           {
            "marker": {
             "pattern": {
              "fillmode": "overlay",
              "size": 10,
              "solidity": 0.2
             }
            },
            "type": "histogram"
           }
          ],
          "histogram2d": [
           {
            "colorbar": {
             "outlinewidth": 0,
             "ticks": ""
            },
            "colorscale": [
             [
              0,
              "#0d0887"
             ],
             [
              0.1111111111111111,
              "#46039f"
             ],
             [
              0.2222222222222222,
              "#7201a8"
             ],
             [
              0.3333333333333333,
              "#9c179e"
             ],
             [
              0.4444444444444444,
              "#bd3786"
             ],
             [
              0.5555555555555556,
              "#d8576b"
             ],
             [
              0.6666666666666666,
              "#ed7953"
             ],
             [
              0.7777777777777778,
              "#fb9f3a"
             ],
             [
              0.8888888888888888,
              "#fdca26"
             ],
             [
              1,
              "#f0f921"
             ]
            ],
            "type": "histogram2d"
           }
          ],
          "histogram2dcontour": [
           {
            "colorbar": {
             "outlinewidth": 0,
             "ticks": ""
            },
            "colorscale": [
             [
              0,
              "#0d0887"
             ],
             [
              0.1111111111111111,
              "#46039f"
             ],
             [
              0.2222222222222222,
              "#7201a8"
             ],
             [
              0.3333333333333333,
              "#9c179e"
             ],
             [
              0.4444444444444444,
              "#bd3786"
             ],
             [
              0.5555555555555556,
              "#d8576b"
             ],
             [
              0.6666666666666666,
              "#ed7953"
             ],
             [
              0.7777777777777778,
              "#fb9f3a"
             ],
             [
              0.8888888888888888,
              "#fdca26"
             ],
             [
              1,
              "#f0f921"
             ]
            ],
            "type": "histogram2dcontour"
           }
          ],
          "mesh3d": [
           {
            "colorbar": {
             "outlinewidth": 0,
             "ticks": ""
            },
            "type": "mesh3d"
           }
          ],
          "parcoords": [
           {
            "line": {
             "colorbar": {
              "outlinewidth": 0,
              "ticks": ""
             }
            },
            "type": "parcoords"
           }
          ],
          "pie": [
           {
            "automargin": true,
            "type": "pie"
           }
          ],
          "scatter": [
           {
            "fillpattern": {
             "fillmode": "overlay",
             "size": 10,
             "solidity": 0.2
            },
            "type": "scatter"
           }
          ],
          "scatter3d": [
           {
            "line": {
             "colorbar": {
              "outlinewidth": 0,
              "ticks": ""
             }
            },
            "marker": {
             "colorbar": {
              "outlinewidth": 0,
              "ticks": ""
             }
            },
            "type": "scatter3d"
           }
          ],
          "scattercarpet": [
           {
            "marker": {
             "colorbar": {
              "outlinewidth": 0,
              "ticks": ""
             }
            },
            "type": "scattercarpet"
           }
          ],
          "scattergeo": [
           {
            "marker": {
             "colorbar": {
              "outlinewidth": 0,
              "ticks": ""
             }
            },
            "type": "scattergeo"
           }
          ],
          "scattergl": [
           {
            "marker": {
             "colorbar": {
              "outlinewidth": 0,
              "ticks": ""
             }
            },
            "type": "scattergl"
           }
          ],
          "scattermapbox": [
           {
            "marker": {
             "colorbar": {
              "outlinewidth": 0,
              "ticks": ""
             }
            },
            "type": "scattermapbox"
           }
          ],
          "scatterpolar": [
           {
            "marker": {
             "colorbar": {
              "outlinewidth": 0,
              "ticks": ""
             }
            },
            "type": "scatterpolar"
           }
          ],
          "scatterpolargl": [
           {
            "marker": {
             "colorbar": {
              "outlinewidth": 0,
              "ticks": ""
             }
            },
            "type": "scatterpolargl"
           }
          ],
          "scatterternary": [
           {
            "marker": {
             "colorbar": {
              "outlinewidth": 0,
              "ticks": ""
             }
            },
            "type": "scatterternary"
           }
          ],
          "surface": [
           {
            "colorbar": {
             "outlinewidth": 0,
             "ticks": ""
            },
            "colorscale": [
             [
              0,
              "#0d0887"
             ],
             [
              0.1111111111111111,
              "#46039f"
             ],
             [
              0.2222222222222222,
              "#7201a8"
             ],
             [
              0.3333333333333333,
              "#9c179e"
             ],
             [
              0.4444444444444444,
              "#bd3786"
             ],
             [
              0.5555555555555556,
              "#d8576b"
             ],
             [
              0.6666666666666666,
              "#ed7953"
             ],
             [
              0.7777777777777778,
              "#fb9f3a"
             ],
             [
              0.8888888888888888,
              "#fdca26"
             ],
             [
              1,
              "#f0f921"
             ]
            ],
            "type": "surface"
           }
          ],
          "table": [
           {
            "cells": {
             "fill": {
              "color": "#EBF0F8"
             },
             "line": {
              "color": "white"
             }
            },
            "header": {
             "fill": {
              "color": "#C8D4E3"
             },
             "line": {
              "color": "white"
             }
            },
            "type": "table"
           }
          ]
         },
         "layout": {
          "annotationdefaults": {
           "arrowcolor": "#2a3f5f",
           "arrowhead": 0,
           "arrowwidth": 1
          },
          "autotypenumbers": "strict",
          "coloraxis": {
           "colorbar": {
            "outlinewidth": 0,
            "ticks": ""
           }
          },
          "colorscale": {
           "diverging": [
            [
             0,
             "#8e0152"
            ],
            [
             0.1,
             "#c51b7d"
            ],
            [
             0.2,
             "#de77ae"
            ],
            [
             0.3,
             "#f1b6da"
            ],
            [
             0.4,
             "#fde0ef"
            ],
            [
             0.5,
             "#f7f7f7"
            ],
            [
             0.6,
             "#e6f5d0"
            ],
            [
             0.7,
             "#b8e186"
            ],
            [
             0.8,
             "#7fbc41"
            ],
            [
             0.9,
             "#4d9221"
            ],
            [
             1,
             "#276419"
            ]
           ],
           "sequential": [
            [
             0,
             "#0d0887"
            ],
            [
             0.1111111111111111,
             "#46039f"
            ],
            [
             0.2222222222222222,
             "#7201a8"
            ],
            [
             0.3333333333333333,
             "#9c179e"
            ],
            [
             0.4444444444444444,
             "#bd3786"
            ],
            [
             0.5555555555555556,
             "#d8576b"
            ],
            [
             0.6666666666666666,
             "#ed7953"
            ],
            [
             0.7777777777777778,
             "#fb9f3a"
            ],
            [
             0.8888888888888888,
             "#fdca26"
            ],
            [
             1,
             "#f0f921"
            ]
           ],
           "sequentialminus": [
            [
             0,
             "#0d0887"
            ],
            [
             0.1111111111111111,
             "#46039f"
            ],
            [
             0.2222222222222222,
             "#7201a8"
            ],
            [
             0.3333333333333333,
             "#9c179e"
            ],
            [
             0.4444444444444444,
             "#bd3786"
            ],
            [
             0.5555555555555556,
             "#d8576b"
            ],
            [
             0.6666666666666666,
             "#ed7953"
            ],
            [
             0.7777777777777778,
             "#fb9f3a"
            ],
            [
             0.8888888888888888,
             "#fdca26"
            ],
            [
             1,
             "#f0f921"
            ]
           ]
          },
          "colorway": [
           "#636efa",
           "#EF553B",
           "#00cc96",
           "#ab63fa",
           "#FFA15A",
           "#19d3f3",
           "#FF6692",
           "#B6E880",
           "#FF97FF",
           "#FECB52"
          ],
          "font": {
           "color": "#2a3f5f"
          },
          "geo": {
           "bgcolor": "white",
           "lakecolor": "white",
           "landcolor": "#E5ECF6",
           "showlakes": true,
           "showland": true,
           "subunitcolor": "white"
          },
          "hoverlabel": {
           "align": "left"
          },
          "hovermode": "closest",
          "mapbox": {
           "style": "light"
          },
          "paper_bgcolor": "white",
          "plot_bgcolor": "#E5ECF6",
          "polar": {
           "angularaxis": {
            "gridcolor": "white",
            "linecolor": "white",
            "ticks": ""
           },
           "bgcolor": "#E5ECF6",
           "radialaxis": {
            "gridcolor": "white",
            "linecolor": "white",
            "ticks": ""
           }
          },
          "scene": {
           "xaxis": {
            "backgroundcolor": "#E5ECF6",
            "gridcolor": "white",
            "gridwidth": 2,
            "linecolor": "white",
            "showbackground": true,
            "ticks": "",
            "zerolinecolor": "white"
           },
           "yaxis": {
            "backgroundcolor": "#E5ECF6",
            "gridcolor": "white",
            "gridwidth": 2,
            "linecolor": "white",
            "showbackground": true,
            "ticks": "",
            "zerolinecolor": "white"
           },
           "zaxis": {
            "backgroundcolor": "#E5ECF6",
            "gridcolor": "white",
            "gridwidth": 2,
            "linecolor": "white",
            "showbackground": true,
            "ticks": "",
            "zerolinecolor": "white"
           }
          },
          "shapedefaults": {
           "line": {
            "color": "#2a3f5f"
           }
          },
          "ternary": {
           "aaxis": {
            "gridcolor": "white",
            "linecolor": "white",
            "ticks": ""
           },
           "baxis": {
            "gridcolor": "white",
            "linecolor": "white",
            "ticks": ""
           },
           "bgcolor": "#E5ECF6",
           "caxis": {
            "gridcolor": "white",
            "linecolor": "white",
            "ticks": ""
           }
          },
          "title": {
           "x": 0.05
          },
          "xaxis": {
           "automargin": true,
           "gridcolor": "white",
           "linecolor": "white",
           "ticks": "",
           "title": {
            "standoff": 15
           },
           "zerolinecolor": "white",
           "zerolinewidth": 2
          },
          "yaxis": {
           "automargin": true,
           "gridcolor": "white",
           "linecolor": "white",
           "ticks": "",
           "title": {
            "standoff": 15
           },
           "zerolinecolor": "white",
           "zerolinewidth": 2
          }
         }
        },
        "title": {
         "text": "Top 20 Organizations with the Most Nobel Prizes"
        },
        "xaxis": {
         "anchor": "y",
         "domain": [
          0,
          1
         ],
         "title": {
          "text": "Number of Prizes"
         }
        },
        "yaxis": {
         "anchor": "x",
         "domain": [
          0,
          1
         ],
         "title": {
          "text": "Organization"
         }
        }
       }
      },
      "text/html": [
       "<div>                            <div id=\"d6c8fc25-fa15-4325-9a8b-b8bb85516d62\" class=\"plotly-graph-div\" style=\"height:525px; width:100%;\"></div>            <script type=\"text/javascript\">                require([\"plotly\"], function(Plotly) {                    window.PLOTLYENV=window.PLOTLYENV || {};                                    if (document.getElementById(\"d6c8fc25-fa15-4325-9a8b-b8bb85516d62\")) {                    Plotly.newPlot(                        \"d6c8fc25-fa15-4325-9a8b-b8bb85516d62\",                        [{\"alignmentgroup\":\"True\",\"hovertemplate\":\"prize=%{marker.color}<br>organization_name=%{y}<extra></extra>\",\"legendgroup\":\"\",\"marker\":{\"color\":[7,7,7,7,8,8,9,10,12,13,13,15,17,17,18,20,21,23,29,40],\"coloraxis\":\"coloraxis\",\"pattern\":{\"shape\":\"\"}},\"name\":\"\",\"offsetgroup\":\"\",\"orientation\":\"h\",\"showlegend\":false,\"textposition\":\"auto\",\"x\":[7,7,7,7,8,8,9,10,12,13,13,15,17,17,18,20,21,23,29,40],\"xaxis\":\"x\",\"y\":[\"Institut Pasteur\",\"London University\",\"Harvard Medical School\",\"University College London\",\"Cornell University\",\"Bell Laboratories\",\"Yale University\",\"MRC Laboratory of Molecular Biology\",\"University of Oxford\",\"Rockefeller University\",\"Max-Planck-Institut\",\"Princeton University\",\"Columbia University\",\"California Institute of Technology (Caltech)\",\"University of Cambridge\",\"University of Chicago\",\"Massachusetts Institute of Technology (MIT)\",\"Stanford University\",\"Harvard University\",\"University of California\"],\"yaxis\":\"y\",\"type\":\"bar\"}],                        {\"template\":{\"data\":{\"histogram2dcontour\":[{\"type\":\"histogram2dcontour\",\"colorbar\":{\"outlinewidth\":0,\"ticks\":\"\"},\"colorscale\":[[0.0,\"#0d0887\"],[0.1111111111111111,\"#46039f\"],[0.2222222222222222,\"#7201a8\"],[0.3333333333333333,\"#9c179e\"],[0.4444444444444444,\"#bd3786\"],[0.5555555555555556,\"#d8576b\"],[0.6666666666666666,\"#ed7953\"],[0.7777777777777778,\"#fb9f3a\"],[0.8888888888888888,\"#fdca26\"],[1.0,\"#f0f921\"]]}],\"choropleth\":[{\"type\":\"choropleth\",\"colorbar\":{\"outlinewidth\":0,\"ticks\":\"\"}}],\"histogram2d\":[{\"type\":\"histogram2d\",\"colorbar\":{\"outlinewidth\":0,\"ticks\":\"\"},\"colorscale\":[[0.0,\"#0d0887\"],[0.1111111111111111,\"#46039f\"],[0.2222222222222222,\"#7201a8\"],[0.3333333333333333,\"#9c179e\"],[0.4444444444444444,\"#bd3786\"],[0.5555555555555556,\"#d8576b\"],[0.6666666666666666,\"#ed7953\"],[0.7777777777777778,\"#fb9f3a\"],[0.8888888888888888,\"#fdca26\"],[1.0,\"#f0f921\"]]}],\"heatmap\":[{\"type\":\"heatmap\",\"colorbar\":{\"outlinewidth\":0,\"ticks\":\"\"},\"colorscale\":[[0.0,\"#0d0887\"],[0.1111111111111111,\"#46039f\"],[0.2222222222222222,\"#7201a8\"],[0.3333333333333333,\"#9c179e\"],[0.4444444444444444,\"#bd3786\"],[0.5555555555555556,\"#d8576b\"],[0.6666666666666666,\"#ed7953\"],[0.7777777777777778,\"#fb9f3a\"],[0.8888888888888888,\"#fdca26\"],[1.0,\"#f0f921\"]]}],\"heatmapgl\":[{\"type\":\"heatmapgl\",\"colorbar\":{\"outlinewidth\":0,\"ticks\":\"\"},\"colorscale\":[[0.0,\"#0d0887\"],[0.1111111111111111,\"#46039f\"],[0.2222222222222222,\"#7201a8\"],[0.3333333333333333,\"#9c179e\"],[0.4444444444444444,\"#bd3786\"],[0.5555555555555556,\"#d8576b\"],[0.6666666666666666,\"#ed7953\"],[0.7777777777777778,\"#fb9f3a\"],[0.8888888888888888,\"#fdca26\"],[1.0,\"#f0f921\"]]}],\"contourcarpet\":[{\"type\":\"contourcarpet\",\"colorbar\":{\"outlinewidth\":0,\"ticks\":\"\"}}],\"contour\":[{\"type\":\"contour\",\"colorbar\":{\"outlinewidth\":0,\"ticks\":\"\"},\"colorscale\":[[0.0,\"#0d0887\"],[0.1111111111111111,\"#46039f\"],[0.2222222222222222,\"#7201a8\"],[0.3333333333333333,\"#9c179e\"],[0.4444444444444444,\"#bd3786\"],[0.5555555555555556,\"#d8576b\"],[0.6666666666666666,\"#ed7953\"],[0.7777777777777778,\"#fb9f3a\"],[0.8888888888888888,\"#fdca26\"],[1.0,\"#f0f921\"]]}],\"surface\":[{\"type\":\"surface\",\"colorbar\":{\"outlinewidth\":0,\"ticks\":\"\"},\"colorscale\":[[0.0,\"#0d0887\"],[0.1111111111111111,\"#46039f\"],[0.2222222222222222,\"#7201a8\"],[0.3333333333333333,\"#9c179e\"],[0.4444444444444444,\"#bd3786\"],[0.5555555555555556,\"#d8576b\"],[0.6666666666666666,\"#ed7953\"],[0.7777777777777778,\"#fb9f3a\"],[0.8888888888888888,\"#fdca26\"],[1.0,\"#f0f921\"]]}],\"mesh3d\":[{\"type\":\"mesh3d\",\"colorbar\":{\"outlinewidth\":0,\"ticks\":\"\"}}],\"scatter\":[{\"fillpattern\":{\"fillmode\":\"overlay\",\"size\":10,\"solidity\":0.2},\"type\":\"scatter\"}],\"parcoords\":[{\"type\":\"parcoords\",\"line\":{\"colorbar\":{\"outlinewidth\":0,\"ticks\":\"\"}}}],\"scatterpolargl\":[{\"type\":\"scatterpolargl\",\"marker\":{\"colorbar\":{\"outlinewidth\":0,\"ticks\":\"\"}}}],\"bar\":[{\"error_x\":{\"color\":\"#2a3f5f\"},\"error_y\":{\"color\":\"#2a3f5f\"},\"marker\":{\"line\":{\"color\":\"#E5ECF6\",\"width\":0.5},\"pattern\":{\"fillmode\":\"overlay\",\"size\":10,\"solidity\":0.2}},\"type\":\"bar\"}],\"scattergeo\":[{\"type\":\"scattergeo\",\"marker\":{\"colorbar\":{\"outlinewidth\":0,\"ticks\":\"\"}}}],\"scatterpolar\":[{\"type\":\"scatterpolar\",\"marker\":{\"colorbar\":{\"outlinewidth\":0,\"ticks\":\"\"}}}],\"histogram\":[{\"marker\":{\"pattern\":{\"fillmode\":\"overlay\",\"size\":10,\"solidity\":0.2}},\"type\":\"histogram\"}],\"scattergl\":[{\"type\":\"scattergl\",\"marker\":{\"colorbar\":{\"outlinewidth\":0,\"ticks\":\"\"}}}],\"scatter3d\":[{\"type\":\"scatter3d\",\"line\":{\"colorbar\":{\"outlinewidth\":0,\"ticks\":\"\"}},\"marker\":{\"colorbar\":{\"outlinewidth\":0,\"ticks\":\"\"}}}],\"scattermapbox\":[{\"type\":\"scattermapbox\",\"marker\":{\"colorbar\":{\"outlinewidth\":0,\"ticks\":\"\"}}}],\"scatterternary\":[{\"type\":\"scatterternary\",\"marker\":{\"colorbar\":{\"outlinewidth\":0,\"ticks\":\"\"}}}],\"scattercarpet\":[{\"type\":\"scattercarpet\",\"marker\":{\"colorbar\":{\"outlinewidth\":0,\"ticks\":\"\"}}}],\"carpet\":[{\"aaxis\":{\"endlinecolor\":\"#2a3f5f\",\"gridcolor\":\"white\",\"linecolor\":\"white\",\"minorgridcolor\":\"white\",\"startlinecolor\":\"#2a3f5f\"},\"baxis\":{\"endlinecolor\":\"#2a3f5f\",\"gridcolor\":\"white\",\"linecolor\":\"white\",\"minorgridcolor\":\"white\",\"startlinecolor\":\"#2a3f5f\"},\"type\":\"carpet\"}],\"table\":[{\"cells\":{\"fill\":{\"color\":\"#EBF0F8\"},\"line\":{\"color\":\"white\"}},\"header\":{\"fill\":{\"color\":\"#C8D4E3\"},\"line\":{\"color\":\"white\"}},\"type\":\"table\"}],\"barpolar\":[{\"marker\":{\"line\":{\"color\":\"#E5ECF6\",\"width\":0.5},\"pattern\":{\"fillmode\":\"overlay\",\"size\":10,\"solidity\":0.2}},\"type\":\"barpolar\"}],\"pie\":[{\"automargin\":true,\"type\":\"pie\"}]},\"layout\":{\"autotypenumbers\":\"strict\",\"colorway\":[\"#636efa\",\"#EF553B\",\"#00cc96\",\"#ab63fa\",\"#FFA15A\",\"#19d3f3\",\"#FF6692\",\"#B6E880\",\"#FF97FF\",\"#FECB52\"],\"font\":{\"color\":\"#2a3f5f\"},\"hovermode\":\"closest\",\"hoverlabel\":{\"align\":\"left\"},\"paper_bgcolor\":\"white\",\"plot_bgcolor\":\"#E5ECF6\",\"polar\":{\"bgcolor\":\"#E5ECF6\",\"angularaxis\":{\"gridcolor\":\"white\",\"linecolor\":\"white\",\"ticks\":\"\"},\"radialaxis\":{\"gridcolor\":\"white\",\"linecolor\":\"white\",\"ticks\":\"\"}},\"ternary\":{\"bgcolor\":\"#E5ECF6\",\"aaxis\":{\"gridcolor\":\"white\",\"linecolor\":\"white\",\"ticks\":\"\"},\"baxis\":{\"gridcolor\":\"white\",\"linecolor\":\"white\",\"ticks\":\"\"},\"caxis\":{\"gridcolor\":\"white\",\"linecolor\":\"white\",\"ticks\":\"\"}},\"coloraxis\":{\"colorbar\":{\"outlinewidth\":0,\"ticks\":\"\"}},\"colorscale\":{\"sequential\":[[0.0,\"#0d0887\"],[0.1111111111111111,\"#46039f\"],[0.2222222222222222,\"#7201a8\"],[0.3333333333333333,\"#9c179e\"],[0.4444444444444444,\"#bd3786\"],[0.5555555555555556,\"#d8576b\"],[0.6666666666666666,\"#ed7953\"],[0.7777777777777778,\"#fb9f3a\"],[0.8888888888888888,\"#fdca26\"],[1.0,\"#f0f921\"]],\"sequentialminus\":[[0.0,\"#0d0887\"],[0.1111111111111111,\"#46039f\"],[0.2222222222222222,\"#7201a8\"],[0.3333333333333333,\"#9c179e\"],[0.4444444444444444,\"#bd3786\"],[0.5555555555555556,\"#d8576b\"],[0.6666666666666666,\"#ed7953\"],[0.7777777777777778,\"#fb9f3a\"],[0.8888888888888888,\"#fdca26\"],[1.0,\"#f0f921\"]],\"diverging\":[[0,\"#8e0152\"],[0.1,\"#c51b7d\"],[0.2,\"#de77ae\"],[0.3,\"#f1b6da\"],[0.4,\"#fde0ef\"],[0.5,\"#f7f7f7\"],[0.6,\"#e6f5d0\"],[0.7,\"#b8e186\"],[0.8,\"#7fbc41\"],[0.9,\"#4d9221\"],[1,\"#276419\"]]},\"xaxis\":{\"gridcolor\":\"white\",\"linecolor\":\"white\",\"ticks\":\"\",\"title\":{\"standoff\":15},\"zerolinecolor\":\"white\",\"automargin\":true,\"zerolinewidth\":2},\"yaxis\":{\"gridcolor\":\"white\",\"linecolor\":\"white\",\"ticks\":\"\",\"title\":{\"standoff\":15},\"zerolinecolor\":\"white\",\"automargin\":true,\"zerolinewidth\":2},\"scene\":{\"xaxis\":{\"backgroundcolor\":\"#E5ECF6\",\"gridcolor\":\"white\",\"linecolor\":\"white\",\"showbackground\":true,\"ticks\":\"\",\"zerolinecolor\":\"white\",\"gridwidth\":2},\"yaxis\":{\"backgroundcolor\":\"#E5ECF6\",\"gridcolor\":\"white\",\"linecolor\":\"white\",\"showbackground\":true,\"ticks\":\"\",\"zerolinecolor\":\"white\",\"gridwidth\":2},\"zaxis\":{\"backgroundcolor\":\"#E5ECF6\",\"gridcolor\":\"white\",\"linecolor\":\"white\",\"showbackground\":true,\"ticks\":\"\",\"zerolinecolor\":\"white\",\"gridwidth\":2}},\"shapedefaults\":{\"line\":{\"color\":\"#2a3f5f\"}},\"annotationdefaults\":{\"arrowcolor\":\"#2a3f5f\",\"arrowhead\":0,\"arrowwidth\":1},\"geo\":{\"bgcolor\":\"white\",\"landcolor\":\"#E5ECF6\",\"subunitcolor\":\"white\",\"showland\":true,\"showlakes\":true,\"lakecolor\":\"white\"},\"title\":{\"x\":0.05},\"mapbox\":{\"style\":\"light\"}}},\"xaxis\":{\"anchor\":\"y\",\"domain\":[0.0,1.0],\"title\":{\"text\":\"Number of Prizes\"}},\"yaxis\":{\"anchor\":\"x\",\"domain\":[0.0,1.0],\"title\":{\"text\":\"Organization\"}},\"coloraxis\":{\"colorbar\":{\"title\":{\"text\":\"prize\"}},\"colorscale\":[[0.0,\"rgb(41, 24, 107)\"],[0.09090909090909091,\"rgb(42, 35, 160)\"],[0.18181818181818182,\"rgb(15, 71, 153)\"],[0.2727272727272727,\"rgb(18, 95, 142)\"],[0.36363636363636365,\"rgb(38, 116, 137)\"],[0.45454545454545453,\"rgb(53, 136, 136)\"],[0.5454545454545454,\"rgb(65, 157, 133)\"],[0.6363636363636364,\"rgb(81, 178, 124)\"],[0.7272727272727273,\"rgb(111, 198, 107)\"],[0.8181818181818182,\"rgb(160, 214, 91)\"],[0.9090909090909091,\"rgb(212, 225, 112)\"],[1.0,\"rgb(253, 238, 153)\"]],\"showscale\":false},\"legend\":{\"tracegroupgap\":0},\"title\":{\"text\":\"Top 20 Organizations with the Most Nobel Prizes\"},\"barmode\":\"relative\"},                        {\"responsive\": true}                    ).then(function(){\n",
       "                            \n",
       "var gd = document.getElementById('d6c8fc25-fa15-4325-9a8b-b8bb85516d62');\n",
       "var x = new MutationObserver(function (mutations, observer) {{\n",
       "        var display = window.getComputedStyle(gd).display;\n",
       "        if (!display || display === 'none') {{\n",
       "            console.log([gd, 'removed!']);\n",
       "            Plotly.purge(gd);\n",
       "            observer.disconnect();\n",
       "        }}\n",
       "}});\n",
       "\n",
       "// Listen for the removal of the full notebook cells\n",
       "var notebookContainer = gd.closest('#notebook-container');\n",
       "if (notebookContainer) {{\n",
       "    x.observe(notebookContainer, {childList: true});\n",
       "}}\n",
       "\n",
       "// Listen for the clearing of the current output cell\n",
       "var outputEl = gd.closest('.output');\n",
       "if (outputEl) {{\n",
       "    x.observe(outputEl, {childList: true});\n",
       "}}\n",
       "\n",
       "                        })                };                });            </script>        </div>"
      ]
     },
     "metadata": {},
     "output_type": "display_data"
    }
   ],
   "source": [
    "h_bar = px.bar(\n",
    "    top20_organizations,\n",
    "    x=top20_organizations[\"prize\"],\n",
    "    y=top20_organizations[\"organization_name\"],\n",
    "    title=\"Top 20 Organizations with the Most Nobel Prizes\",\n",
    "    orientation=\"h\",\n",
    "    color=top20_organizations[\"prize\"],\n",
    "    color_continuous_scale=px.colors.sequential.haline\n",
    ")\n",
    "\n",
    "h_bar.update_layout(\n",
    "    xaxis_title=\"Number of Prizes\",\n",
    "    yaxis_title=\"Organization\",\n",
    "    coloraxis_showscale=False\n",
    ")\n",
    "\n",
    "h_bar.show()"
   ]
  },
  {
   "cell_type": "markdown",
   "metadata": {
    "id": "d9AXIRyNo7Mp"
   },
   "source": [
    "# Which Cities Make the Most Discoveries? \n",
    "\n",
    "Where do major discoveries take place?  \n",
    "\n",
    "**Challenge**: \n",
    "* Create another plotly bar chart graphing the top 20 organisation cities of the research institutions associated with a Nobel laureate. \n",
    "* Where is the number one hotspot for discoveries in the world?\n",
    "* Which city in Europe has had the most discoveries?"
   ]
  },
  {
   "cell_type": "code",
   "execution_count": 170,
   "metadata": {
    "id": "sHYI5FLAGFRh"
   },
   "outputs": [],
   "source": [
    "top20_cities = df_data.groupby(\"organization_city\", as_index=False).agg({\"prize\":pd.Series.count}).sort_values(by=\"prize\")\n",
    "top20_cities = top20_cities[-20:]"
   ]
  },
  {
   "cell_type": "code",
   "execution_count": 171,
   "metadata": {
    "id": "rsI7xC0sGFOb"
   },
   "outputs": [
    {
     "data": {
      "application/vnd.plotly.v1+json": {
       "config": {
        "plotlyServerURL": "https://plot.ly"
       },
       "data": [
        {
         "alignmentgroup": "True",
         "hovertemplate": "prize=%{marker.color}<br>organization_city=%{y}<extra></extra>",
         "legendgroup": "",
         "marker": {
          "color": [
           8,
           8,
           9,
           9,
           9,
           9,
           10,
           10,
           12,
           12,
           17,
           19,
           20,
           21,
           24,
           25,
           27,
           31,
           45,
           50
          ],
          "coloraxis": "coloraxis",
          "pattern": {
           "shape": ""
          }
         },
         "name": "",
         "offsetgroup": "",
         "orientation": "h",
         "showlegend": false,
         "textposition": "auto",
         "type": "bar",
         "x": [
          8,
          8,
          9,
          9,
          9,
          9,
          10,
          10,
          12,
          12,
          17,
          19,
          20,
          21,
          24,
          25,
          27,
          31,
          45,
          50
         ],
         "xaxis": "x",
         "y": [
          "Göttingen",
          "Zurich",
          "Heidelberg",
          "New Haven, CT",
          "Munich",
          "Boston, MA",
          "Moscow",
          "Stockholm",
          "Oxford",
          "Berlin",
          "Pasadena, CA",
          "Princeton, NJ",
          "Chicago, IL",
          "Berkeley, CA",
          "Stanford, CA",
          "Paris",
          "London",
          "Cambridge",
          "New York, NY",
          "Cambridge, MA"
         ],
         "yaxis": "y"
        }
       ],
       "layout": {
        "barmode": "relative",
        "coloraxis": {
         "colorbar": {
          "title": {
           "text": "prize"
          }
         },
         "colorscale": [
          [
           0,
           "rgb(41, 24, 107)"
          ],
          [
           0.09090909090909091,
           "rgb(42, 35, 160)"
          ],
          [
           0.18181818181818182,
           "rgb(15, 71, 153)"
          ],
          [
           0.2727272727272727,
           "rgb(18, 95, 142)"
          ],
          [
           0.36363636363636365,
           "rgb(38, 116, 137)"
          ],
          [
           0.45454545454545453,
           "rgb(53, 136, 136)"
          ],
          [
           0.5454545454545454,
           "rgb(65, 157, 133)"
          ],
          [
           0.6363636363636364,
           "rgb(81, 178, 124)"
          ],
          [
           0.7272727272727273,
           "rgb(111, 198, 107)"
          ],
          [
           0.8181818181818182,
           "rgb(160, 214, 91)"
          ],
          [
           0.9090909090909091,
           "rgb(212, 225, 112)"
          ],
          [
           1,
           "rgb(253, 238, 153)"
          ]
         ],
         "showscale": false
        },
        "legend": {
         "tracegroupgap": 0
        },
        "template": {
         "data": {
          "bar": [
           {
            "error_x": {
             "color": "#2a3f5f"
            },
            "error_y": {
             "color": "#2a3f5f"
            },
            "marker": {
             "line": {
              "color": "#E5ECF6",
              "width": 0.5
             },
             "pattern": {
              "fillmode": "overlay",
              "size": 10,
              "solidity": 0.2
             }
            },
            "type": "bar"
           }
          ],
          "barpolar": [
           {
            "marker": {
             "line": {
              "color": "#E5ECF6",
              "width": 0.5
             },
             "pattern": {
              "fillmode": "overlay",
              "size": 10,
              "solidity": 0.2
             }
            },
            "type": "barpolar"
           }
          ],
          "carpet": [
           {
            "aaxis": {
             "endlinecolor": "#2a3f5f",
             "gridcolor": "white",
             "linecolor": "white",
             "minorgridcolor": "white",
             "startlinecolor": "#2a3f5f"
            },
            "baxis": {
             "endlinecolor": "#2a3f5f",
             "gridcolor": "white",
             "linecolor": "white",
             "minorgridcolor": "white",
             "startlinecolor": "#2a3f5f"
            },
            "type": "carpet"
           }
          ],
          "choropleth": [
           {
            "colorbar": {
             "outlinewidth": 0,
             "ticks": ""
            },
            "type": "choropleth"
           }
          ],
          "contour": [
           {
            "colorbar": {
             "outlinewidth": 0,
             "ticks": ""
            },
            "colorscale": [
             [
              0,
              "#0d0887"
             ],
             [
              0.1111111111111111,
              "#46039f"
             ],
             [
              0.2222222222222222,
              "#7201a8"
             ],
             [
              0.3333333333333333,
              "#9c179e"
             ],
             [
              0.4444444444444444,
              "#bd3786"
             ],
             [
              0.5555555555555556,
              "#d8576b"
             ],
             [
              0.6666666666666666,
              "#ed7953"
             ],
             [
              0.7777777777777778,
              "#fb9f3a"
             ],
             [
              0.8888888888888888,
              "#fdca26"
             ],
             [
              1,
              "#f0f921"
             ]
            ],
            "type": "contour"
           }
          ],
          "contourcarpet": [
           {
            "colorbar": {
             "outlinewidth": 0,
             "ticks": ""
            },
            "type": "contourcarpet"
           }
          ],
          "heatmap": [
           {
            "colorbar": {
             "outlinewidth": 0,
             "ticks": ""
            },
            "colorscale": [
             [
              0,
              "#0d0887"
             ],
             [
              0.1111111111111111,
              "#46039f"
             ],
             [
              0.2222222222222222,
              "#7201a8"
             ],
             [
              0.3333333333333333,
              "#9c179e"
             ],
             [
              0.4444444444444444,
              "#bd3786"
             ],
             [
              0.5555555555555556,
              "#d8576b"
             ],
             [
              0.6666666666666666,
              "#ed7953"
             ],
             [
              0.7777777777777778,
              "#fb9f3a"
             ],
             [
              0.8888888888888888,
              "#fdca26"
             ],
             [
              1,
              "#f0f921"
             ]
            ],
            "type": "heatmap"
           }
          ],
          "heatmapgl": [
           {
            "colorbar": {
             "outlinewidth": 0,
             "ticks": ""
            },
            "colorscale": [
             [
              0,
              "#0d0887"
             ],
             [
              0.1111111111111111,
              "#46039f"
             ],
             [
              0.2222222222222222,
              "#7201a8"
             ],
             [
              0.3333333333333333,
              "#9c179e"
             ],
             [
              0.4444444444444444,
              "#bd3786"
             ],
             [
              0.5555555555555556,
              "#d8576b"
             ],
             [
              0.6666666666666666,
              "#ed7953"
             ],
             [
              0.7777777777777778,
              "#fb9f3a"
             ],
             [
              0.8888888888888888,
              "#fdca26"
             ],
             [
              1,
              "#f0f921"
             ]
            ],
            "type": "heatmapgl"
           }
          ],
          "histogram": [
           {
            "marker": {
             "pattern": {
              "fillmode": "overlay",
              "size": 10,
              "solidity": 0.2
             }
            },
            "type": "histogram"
           }
          ],
          "histogram2d": [
           {
            "colorbar": {
             "outlinewidth": 0,
             "ticks": ""
            },
            "colorscale": [
             [
              0,
              "#0d0887"
             ],
             [
              0.1111111111111111,
              "#46039f"
             ],
             [
              0.2222222222222222,
              "#7201a8"
             ],
             [
              0.3333333333333333,
              "#9c179e"
             ],
             [
              0.4444444444444444,
              "#bd3786"
             ],
             [
              0.5555555555555556,
              "#d8576b"
             ],
             [
              0.6666666666666666,
              "#ed7953"
             ],
             [
              0.7777777777777778,
              "#fb9f3a"
             ],
             [
              0.8888888888888888,
              "#fdca26"
             ],
             [
              1,
              "#f0f921"
             ]
            ],
            "type": "histogram2d"
           }
          ],
          "histogram2dcontour": [
           {
            "colorbar": {
             "outlinewidth": 0,
             "ticks": ""
            },
            "colorscale": [
             [
              0,
              "#0d0887"
             ],
             [
              0.1111111111111111,
              "#46039f"
             ],
             [
              0.2222222222222222,
              "#7201a8"
             ],
             [
              0.3333333333333333,
              "#9c179e"
             ],
             [
              0.4444444444444444,
              "#bd3786"
             ],
             [
              0.5555555555555556,
              "#d8576b"
             ],
             [
              0.6666666666666666,
              "#ed7953"
             ],
             [
              0.7777777777777778,
              "#fb9f3a"
             ],
             [
              0.8888888888888888,
              "#fdca26"
             ],
             [
              1,
              "#f0f921"
             ]
            ],
            "type": "histogram2dcontour"
           }
          ],
          "mesh3d": [
           {
            "colorbar": {
             "outlinewidth": 0,
             "ticks": ""
            },
            "type": "mesh3d"
           }
          ],
          "parcoords": [
           {
            "line": {
             "colorbar": {
              "outlinewidth": 0,
              "ticks": ""
             }
            },
            "type": "parcoords"
           }
          ],
          "pie": [
           {
            "automargin": true,
            "type": "pie"
           }
          ],
          "scatter": [
           {
            "fillpattern": {
             "fillmode": "overlay",
             "size": 10,
             "solidity": 0.2
            },
            "type": "scatter"
           }
          ],
          "scatter3d": [
           {
            "line": {
             "colorbar": {
              "outlinewidth": 0,
              "ticks": ""
             }
            },
            "marker": {
             "colorbar": {
              "outlinewidth": 0,
              "ticks": ""
             }
            },
            "type": "scatter3d"
           }
          ],
          "scattercarpet": [
           {
            "marker": {
             "colorbar": {
              "outlinewidth": 0,
              "ticks": ""
             }
            },
            "type": "scattercarpet"
           }
          ],
          "scattergeo": [
           {
            "marker": {
             "colorbar": {
              "outlinewidth": 0,
              "ticks": ""
             }
            },
            "type": "scattergeo"
           }
          ],
          "scattergl": [
           {
            "marker": {
             "colorbar": {
              "outlinewidth": 0,
              "ticks": ""
             }
            },
            "type": "scattergl"
           }
          ],
          "scattermapbox": [
           {
            "marker": {
             "colorbar": {
              "outlinewidth": 0,
              "ticks": ""
             }
            },
            "type": "scattermapbox"
           }
          ],
          "scatterpolar": [
           {
            "marker": {
             "colorbar": {
              "outlinewidth": 0,
              "ticks": ""
             }
            },
            "type": "scatterpolar"
           }
          ],
          "scatterpolargl": [
           {
            "marker": {
             "colorbar": {
              "outlinewidth": 0,
              "ticks": ""
             }
            },
            "type": "scatterpolargl"
           }
          ],
          "scatterternary": [
           {
            "marker": {
             "colorbar": {
              "outlinewidth": 0,
              "ticks": ""
             }
            },
            "type": "scatterternary"
           }
          ],
          "surface": [
           {
            "colorbar": {
             "outlinewidth": 0,
             "ticks": ""
            },
            "colorscale": [
             [
              0,
              "#0d0887"
             ],
             [
              0.1111111111111111,
              "#46039f"
             ],
             [
              0.2222222222222222,
              "#7201a8"
             ],
             [
              0.3333333333333333,
              "#9c179e"
             ],
             [
              0.4444444444444444,
              "#bd3786"
             ],
             [
              0.5555555555555556,
              "#d8576b"
             ],
             [
              0.6666666666666666,
              "#ed7953"
             ],
             [
              0.7777777777777778,
              "#fb9f3a"
             ],
             [
              0.8888888888888888,
              "#fdca26"
             ],
             [
              1,
              "#f0f921"
             ]
            ],
            "type": "surface"
           }
          ],
          "table": [
           {
            "cells": {
             "fill": {
              "color": "#EBF0F8"
             },
             "line": {
              "color": "white"
             }
            },
            "header": {
             "fill": {
              "color": "#C8D4E3"
             },
             "line": {
              "color": "white"
             }
            },
            "type": "table"
           }
          ]
         },
         "layout": {
          "annotationdefaults": {
           "arrowcolor": "#2a3f5f",
           "arrowhead": 0,
           "arrowwidth": 1
          },
          "autotypenumbers": "strict",
          "coloraxis": {
           "colorbar": {
            "outlinewidth": 0,
            "ticks": ""
           }
          },
          "colorscale": {
           "diverging": [
            [
             0,
             "#8e0152"
            ],
            [
             0.1,
             "#c51b7d"
            ],
            [
             0.2,
             "#de77ae"
            ],
            [
             0.3,
             "#f1b6da"
            ],
            [
             0.4,
             "#fde0ef"
            ],
            [
             0.5,
             "#f7f7f7"
            ],
            [
             0.6,
             "#e6f5d0"
            ],
            [
             0.7,
             "#b8e186"
            ],
            [
             0.8,
             "#7fbc41"
            ],
            [
             0.9,
             "#4d9221"
            ],
            [
             1,
             "#276419"
            ]
           ],
           "sequential": [
            [
             0,
             "#0d0887"
            ],
            [
             0.1111111111111111,
             "#46039f"
            ],
            [
             0.2222222222222222,
             "#7201a8"
            ],
            [
             0.3333333333333333,
             "#9c179e"
            ],
            [
             0.4444444444444444,
             "#bd3786"
            ],
            [
             0.5555555555555556,
             "#d8576b"
            ],
            [
             0.6666666666666666,
             "#ed7953"
            ],
            [
             0.7777777777777778,
             "#fb9f3a"
            ],
            [
             0.8888888888888888,
             "#fdca26"
            ],
            [
             1,
             "#f0f921"
            ]
           ],
           "sequentialminus": [
            [
             0,
             "#0d0887"
            ],
            [
             0.1111111111111111,
             "#46039f"
            ],
            [
             0.2222222222222222,
             "#7201a8"
            ],
            [
             0.3333333333333333,
             "#9c179e"
            ],
            [
             0.4444444444444444,
             "#bd3786"
            ],
            [
             0.5555555555555556,
             "#d8576b"
            ],
            [
             0.6666666666666666,
             "#ed7953"
            ],
            [
             0.7777777777777778,
             "#fb9f3a"
            ],
            [
             0.8888888888888888,
             "#fdca26"
            ],
            [
             1,
             "#f0f921"
            ]
           ]
          },
          "colorway": [
           "#636efa",
           "#EF553B",
           "#00cc96",
           "#ab63fa",
           "#FFA15A",
           "#19d3f3",
           "#FF6692",
           "#B6E880",
           "#FF97FF",
           "#FECB52"
          ],
          "font": {
           "color": "#2a3f5f"
          },
          "geo": {
           "bgcolor": "white",
           "lakecolor": "white",
           "landcolor": "#E5ECF6",
           "showlakes": true,
           "showland": true,
           "subunitcolor": "white"
          },
          "hoverlabel": {
           "align": "left"
          },
          "hovermode": "closest",
          "mapbox": {
           "style": "light"
          },
          "paper_bgcolor": "white",
          "plot_bgcolor": "#E5ECF6",
          "polar": {
           "angularaxis": {
            "gridcolor": "white",
            "linecolor": "white",
            "ticks": ""
           },
           "bgcolor": "#E5ECF6",
           "radialaxis": {
            "gridcolor": "white",
            "linecolor": "white",
            "ticks": ""
           }
          },
          "scene": {
           "xaxis": {
            "backgroundcolor": "#E5ECF6",
            "gridcolor": "white",
            "gridwidth": 2,
            "linecolor": "white",
            "showbackground": true,
            "ticks": "",
            "zerolinecolor": "white"
           },
           "yaxis": {
            "backgroundcolor": "#E5ECF6",
            "gridcolor": "white",
            "gridwidth": 2,
            "linecolor": "white",
            "showbackground": true,
            "ticks": "",
            "zerolinecolor": "white"
           },
           "zaxis": {
            "backgroundcolor": "#E5ECF6",
            "gridcolor": "white",
            "gridwidth": 2,
            "linecolor": "white",
            "showbackground": true,
            "ticks": "",
            "zerolinecolor": "white"
           }
          },
          "shapedefaults": {
           "line": {
            "color": "#2a3f5f"
           }
          },
          "ternary": {
           "aaxis": {
            "gridcolor": "white",
            "linecolor": "white",
            "ticks": ""
           },
           "baxis": {
            "gridcolor": "white",
            "linecolor": "white",
            "ticks": ""
           },
           "bgcolor": "#E5ECF6",
           "caxis": {
            "gridcolor": "white",
            "linecolor": "white",
            "ticks": ""
           }
          },
          "title": {
           "x": 0.05
          },
          "xaxis": {
           "automargin": true,
           "gridcolor": "white",
           "linecolor": "white",
           "ticks": "",
           "title": {
            "standoff": 15
           },
           "zerolinecolor": "white",
           "zerolinewidth": 2
          },
          "yaxis": {
           "automargin": true,
           "gridcolor": "white",
           "linecolor": "white",
           "ticks": "",
           "title": {
            "standoff": 15
           },
           "zerolinecolor": "white",
           "zerolinewidth": 2
          }
         }
        },
        "title": {
         "text": "Top 20 Cities with the Most Nobel Prizes"
        },
        "xaxis": {
         "anchor": "y",
         "domain": [
          0,
          1
         ],
         "title": {
          "text": "Number of Prizes"
         }
        },
        "yaxis": {
         "anchor": "x",
         "domain": [
          0,
          1
         ],
         "title": {
          "text": "City"
         }
        }
       }
      },
      "text/html": [
       "<div>                            <div id=\"b1b727a4-1295-469c-a05a-3dabe4f518b0\" class=\"plotly-graph-div\" style=\"height:525px; width:100%;\"></div>            <script type=\"text/javascript\">                require([\"plotly\"], function(Plotly) {                    window.PLOTLYENV=window.PLOTLYENV || {};                                    if (document.getElementById(\"b1b727a4-1295-469c-a05a-3dabe4f518b0\")) {                    Plotly.newPlot(                        \"b1b727a4-1295-469c-a05a-3dabe4f518b0\",                        [{\"alignmentgroup\":\"True\",\"hovertemplate\":\"prize=%{marker.color}<br>organization_city=%{y}<extra></extra>\",\"legendgroup\":\"\",\"marker\":{\"color\":[8,8,9,9,9,9,10,10,12,12,17,19,20,21,24,25,27,31,45,50],\"coloraxis\":\"coloraxis\",\"pattern\":{\"shape\":\"\"}},\"name\":\"\",\"offsetgroup\":\"\",\"orientation\":\"h\",\"showlegend\":false,\"textposition\":\"auto\",\"x\":[8,8,9,9,9,9,10,10,12,12,17,19,20,21,24,25,27,31,45,50],\"xaxis\":\"x\",\"y\":[\"G\\u00f6ttingen\",\"Zurich\",\"Heidelberg\",\"New Haven, CT\",\"Munich\",\"Boston, MA\",\"Moscow\",\"Stockholm\",\"Oxford\",\"Berlin\",\"Pasadena, CA\",\"Princeton, NJ\",\"Chicago, IL\",\"Berkeley, CA\",\"Stanford, CA\",\"Paris\",\"London\",\"Cambridge\",\"New York, NY\",\"Cambridge, MA\"],\"yaxis\":\"y\",\"type\":\"bar\"}],                        {\"template\":{\"data\":{\"histogram2dcontour\":[{\"type\":\"histogram2dcontour\",\"colorbar\":{\"outlinewidth\":0,\"ticks\":\"\"},\"colorscale\":[[0.0,\"#0d0887\"],[0.1111111111111111,\"#46039f\"],[0.2222222222222222,\"#7201a8\"],[0.3333333333333333,\"#9c179e\"],[0.4444444444444444,\"#bd3786\"],[0.5555555555555556,\"#d8576b\"],[0.6666666666666666,\"#ed7953\"],[0.7777777777777778,\"#fb9f3a\"],[0.8888888888888888,\"#fdca26\"],[1.0,\"#f0f921\"]]}],\"choropleth\":[{\"type\":\"choropleth\",\"colorbar\":{\"outlinewidth\":0,\"ticks\":\"\"}}],\"histogram2d\":[{\"type\":\"histogram2d\",\"colorbar\":{\"outlinewidth\":0,\"ticks\":\"\"},\"colorscale\":[[0.0,\"#0d0887\"],[0.1111111111111111,\"#46039f\"],[0.2222222222222222,\"#7201a8\"],[0.3333333333333333,\"#9c179e\"],[0.4444444444444444,\"#bd3786\"],[0.5555555555555556,\"#d8576b\"],[0.6666666666666666,\"#ed7953\"],[0.7777777777777778,\"#fb9f3a\"],[0.8888888888888888,\"#fdca26\"],[1.0,\"#f0f921\"]]}],\"heatmap\":[{\"type\":\"heatmap\",\"colorbar\":{\"outlinewidth\":0,\"ticks\":\"\"},\"colorscale\":[[0.0,\"#0d0887\"],[0.1111111111111111,\"#46039f\"],[0.2222222222222222,\"#7201a8\"],[0.3333333333333333,\"#9c179e\"],[0.4444444444444444,\"#bd3786\"],[0.5555555555555556,\"#d8576b\"],[0.6666666666666666,\"#ed7953\"],[0.7777777777777778,\"#fb9f3a\"],[0.8888888888888888,\"#fdca26\"],[1.0,\"#f0f921\"]]}],\"heatmapgl\":[{\"type\":\"heatmapgl\",\"colorbar\":{\"outlinewidth\":0,\"ticks\":\"\"},\"colorscale\":[[0.0,\"#0d0887\"],[0.1111111111111111,\"#46039f\"],[0.2222222222222222,\"#7201a8\"],[0.3333333333333333,\"#9c179e\"],[0.4444444444444444,\"#bd3786\"],[0.5555555555555556,\"#d8576b\"],[0.6666666666666666,\"#ed7953\"],[0.7777777777777778,\"#fb9f3a\"],[0.8888888888888888,\"#fdca26\"],[1.0,\"#f0f921\"]]}],\"contourcarpet\":[{\"type\":\"contourcarpet\",\"colorbar\":{\"outlinewidth\":0,\"ticks\":\"\"}}],\"contour\":[{\"type\":\"contour\",\"colorbar\":{\"outlinewidth\":0,\"ticks\":\"\"},\"colorscale\":[[0.0,\"#0d0887\"],[0.1111111111111111,\"#46039f\"],[0.2222222222222222,\"#7201a8\"],[0.3333333333333333,\"#9c179e\"],[0.4444444444444444,\"#bd3786\"],[0.5555555555555556,\"#d8576b\"],[0.6666666666666666,\"#ed7953\"],[0.7777777777777778,\"#fb9f3a\"],[0.8888888888888888,\"#fdca26\"],[1.0,\"#f0f921\"]]}],\"surface\":[{\"type\":\"surface\",\"colorbar\":{\"outlinewidth\":0,\"ticks\":\"\"},\"colorscale\":[[0.0,\"#0d0887\"],[0.1111111111111111,\"#46039f\"],[0.2222222222222222,\"#7201a8\"],[0.3333333333333333,\"#9c179e\"],[0.4444444444444444,\"#bd3786\"],[0.5555555555555556,\"#d8576b\"],[0.6666666666666666,\"#ed7953\"],[0.7777777777777778,\"#fb9f3a\"],[0.8888888888888888,\"#fdca26\"],[1.0,\"#f0f921\"]]}],\"mesh3d\":[{\"type\":\"mesh3d\",\"colorbar\":{\"outlinewidth\":0,\"ticks\":\"\"}}],\"scatter\":[{\"fillpattern\":{\"fillmode\":\"overlay\",\"size\":10,\"solidity\":0.2},\"type\":\"scatter\"}],\"parcoords\":[{\"type\":\"parcoords\",\"line\":{\"colorbar\":{\"outlinewidth\":0,\"ticks\":\"\"}}}],\"scatterpolargl\":[{\"type\":\"scatterpolargl\",\"marker\":{\"colorbar\":{\"outlinewidth\":0,\"ticks\":\"\"}}}],\"bar\":[{\"error_x\":{\"color\":\"#2a3f5f\"},\"error_y\":{\"color\":\"#2a3f5f\"},\"marker\":{\"line\":{\"color\":\"#E5ECF6\",\"width\":0.5},\"pattern\":{\"fillmode\":\"overlay\",\"size\":10,\"solidity\":0.2}},\"type\":\"bar\"}],\"scattergeo\":[{\"type\":\"scattergeo\",\"marker\":{\"colorbar\":{\"outlinewidth\":0,\"ticks\":\"\"}}}],\"scatterpolar\":[{\"type\":\"scatterpolar\",\"marker\":{\"colorbar\":{\"outlinewidth\":0,\"ticks\":\"\"}}}],\"histogram\":[{\"marker\":{\"pattern\":{\"fillmode\":\"overlay\",\"size\":10,\"solidity\":0.2}},\"type\":\"histogram\"}],\"scattergl\":[{\"type\":\"scattergl\",\"marker\":{\"colorbar\":{\"outlinewidth\":0,\"ticks\":\"\"}}}],\"scatter3d\":[{\"type\":\"scatter3d\",\"line\":{\"colorbar\":{\"outlinewidth\":0,\"ticks\":\"\"}},\"marker\":{\"colorbar\":{\"outlinewidth\":0,\"ticks\":\"\"}}}],\"scattermapbox\":[{\"type\":\"scattermapbox\",\"marker\":{\"colorbar\":{\"outlinewidth\":0,\"ticks\":\"\"}}}],\"scatterternary\":[{\"type\":\"scatterternary\",\"marker\":{\"colorbar\":{\"outlinewidth\":0,\"ticks\":\"\"}}}],\"scattercarpet\":[{\"type\":\"scattercarpet\",\"marker\":{\"colorbar\":{\"outlinewidth\":0,\"ticks\":\"\"}}}],\"carpet\":[{\"aaxis\":{\"endlinecolor\":\"#2a3f5f\",\"gridcolor\":\"white\",\"linecolor\":\"white\",\"minorgridcolor\":\"white\",\"startlinecolor\":\"#2a3f5f\"},\"baxis\":{\"endlinecolor\":\"#2a3f5f\",\"gridcolor\":\"white\",\"linecolor\":\"white\",\"minorgridcolor\":\"white\",\"startlinecolor\":\"#2a3f5f\"},\"type\":\"carpet\"}],\"table\":[{\"cells\":{\"fill\":{\"color\":\"#EBF0F8\"},\"line\":{\"color\":\"white\"}},\"header\":{\"fill\":{\"color\":\"#C8D4E3\"},\"line\":{\"color\":\"white\"}},\"type\":\"table\"}],\"barpolar\":[{\"marker\":{\"line\":{\"color\":\"#E5ECF6\",\"width\":0.5},\"pattern\":{\"fillmode\":\"overlay\",\"size\":10,\"solidity\":0.2}},\"type\":\"barpolar\"}],\"pie\":[{\"automargin\":true,\"type\":\"pie\"}]},\"layout\":{\"autotypenumbers\":\"strict\",\"colorway\":[\"#636efa\",\"#EF553B\",\"#00cc96\",\"#ab63fa\",\"#FFA15A\",\"#19d3f3\",\"#FF6692\",\"#B6E880\",\"#FF97FF\",\"#FECB52\"],\"font\":{\"color\":\"#2a3f5f\"},\"hovermode\":\"closest\",\"hoverlabel\":{\"align\":\"left\"},\"paper_bgcolor\":\"white\",\"plot_bgcolor\":\"#E5ECF6\",\"polar\":{\"bgcolor\":\"#E5ECF6\",\"angularaxis\":{\"gridcolor\":\"white\",\"linecolor\":\"white\",\"ticks\":\"\"},\"radialaxis\":{\"gridcolor\":\"white\",\"linecolor\":\"white\",\"ticks\":\"\"}},\"ternary\":{\"bgcolor\":\"#E5ECF6\",\"aaxis\":{\"gridcolor\":\"white\",\"linecolor\":\"white\",\"ticks\":\"\"},\"baxis\":{\"gridcolor\":\"white\",\"linecolor\":\"white\",\"ticks\":\"\"},\"caxis\":{\"gridcolor\":\"white\",\"linecolor\":\"white\",\"ticks\":\"\"}},\"coloraxis\":{\"colorbar\":{\"outlinewidth\":0,\"ticks\":\"\"}},\"colorscale\":{\"sequential\":[[0.0,\"#0d0887\"],[0.1111111111111111,\"#46039f\"],[0.2222222222222222,\"#7201a8\"],[0.3333333333333333,\"#9c179e\"],[0.4444444444444444,\"#bd3786\"],[0.5555555555555556,\"#d8576b\"],[0.6666666666666666,\"#ed7953\"],[0.7777777777777778,\"#fb9f3a\"],[0.8888888888888888,\"#fdca26\"],[1.0,\"#f0f921\"]],\"sequentialminus\":[[0.0,\"#0d0887\"],[0.1111111111111111,\"#46039f\"],[0.2222222222222222,\"#7201a8\"],[0.3333333333333333,\"#9c179e\"],[0.4444444444444444,\"#bd3786\"],[0.5555555555555556,\"#d8576b\"],[0.6666666666666666,\"#ed7953\"],[0.7777777777777778,\"#fb9f3a\"],[0.8888888888888888,\"#fdca26\"],[1.0,\"#f0f921\"]],\"diverging\":[[0,\"#8e0152\"],[0.1,\"#c51b7d\"],[0.2,\"#de77ae\"],[0.3,\"#f1b6da\"],[0.4,\"#fde0ef\"],[0.5,\"#f7f7f7\"],[0.6,\"#e6f5d0\"],[0.7,\"#b8e186\"],[0.8,\"#7fbc41\"],[0.9,\"#4d9221\"],[1,\"#276419\"]]},\"xaxis\":{\"gridcolor\":\"white\",\"linecolor\":\"white\",\"ticks\":\"\",\"title\":{\"standoff\":15},\"zerolinecolor\":\"white\",\"automargin\":true,\"zerolinewidth\":2},\"yaxis\":{\"gridcolor\":\"white\",\"linecolor\":\"white\",\"ticks\":\"\",\"title\":{\"standoff\":15},\"zerolinecolor\":\"white\",\"automargin\":true,\"zerolinewidth\":2},\"scene\":{\"xaxis\":{\"backgroundcolor\":\"#E5ECF6\",\"gridcolor\":\"white\",\"linecolor\":\"white\",\"showbackground\":true,\"ticks\":\"\",\"zerolinecolor\":\"white\",\"gridwidth\":2},\"yaxis\":{\"backgroundcolor\":\"#E5ECF6\",\"gridcolor\":\"white\",\"linecolor\":\"white\",\"showbackground\":true,\"ticks\":\"\",\"zerolinecolor\":\"white\",\"gridwidth\":2},\"zaxis\":{\"backgroundcolor\":\"#E5ECF6\",\"gridcolor\":\"white\",\"linecolor\":\"white\",\"showbackground\":true,\"ticks\":\"\",\"zerolinecolor\":\"white\",\"gridwidth\":2}},\"shapedefaults\":{\"line\":{\"color\":\"#2a3f5f\"}},\"annotationdefaults\":{\"arrowcolor\":\"#2a3f5f\",\"arrowhead\":0,\"arrowwidth\":1},\"geo\":{\"bgcolor\":\"white\",\"landcolor\":\"#E5ECF6\",\"subunitcolor\":\"white\",\"showland\":true,\"showlakes\":true,\"lakecolor\":\"white\"},\"title\":{\"x\":0.05},\"mapbox\":{\"style\":\"light\"}}},\"xaxis\":{\"anchor\":\"y\",\"domain\":[0.0,1.0],\"title\":{\"text\":\"Number of Prizes\"}},\"yaxis\":{\"anchor\":\"x\",\"domain\":[0.0,1.0],\"title\":{\"text\":\"City\"}},\"coloraxis\":{\"colorbar\":{\"title\":{\"text\":\"prize\"}},\"colorscale\":[[0.0,\"rgb(41, 24, 107)\"],[0.09090909090909091,\"rgb(42, 35, 160)\"],[0.18181818181818182,\"rgb(15, 71, 153)\"],[0.2727272727272727,\"rgb(18, 95, 142)\"],[0.36363636363636365,\"rgb(38, 116, 137)\"],[0.45454545454545453,\"rgb(53, 136, 136)\"],[0.5454545454545454,\"rgb(65, 157, 133)\"],[0.6363636363636364,\"rgb(81, 178, 124)\"],[0.7272727272727273,\"rgb(111, 198, 107)\"],[0.8181818181818182,\"rgb(160, 214, 91)\"],[0.9090909090909091,\"rgb(212, 225, 112)\"],[1.0,\"rgb(253, 238, 153)\"]],\"showscale\":false},\"legend\":{\"tracegroupgap\":0},\"title\":{\"text\":\"Top 20 Cities with the Most Nobel Prizes\"},\"barmode\":\"relative\"},                        {\"responsive\": true}                    ).then(function(){\n",
       "                            \n",
       "var gd = document.getElementById('b1b727a4-1295-469c-a05a-3dabe4f518b0');\n",
       "var x = new MutationObserver(function (mutations, observer) {{\n",
       "        var display = window.getComputedStyle(gd).display;\n",
       "        if (!display || display === 'none') {{\n",
       "            console.log([gd, 'removed!']);\n",
       "            Plotly.purge(gd);\n",
       "            observer.disconnect();\n",
       "        }}\n",
       "}});\n",
       "\n",
       "// Listen for the removal of the full notebook cells\n",
       "var notebookContainer = gd.closest('#notebook-container');\n",
       "if (notebookContainer) {{\n",
       "    x.observe(notebookContainer, {childList: true});\n",
       "}}\n",
       "\n",
       "// Listen for the clearing of the current output cell\n",
       "var outputEl = gd.closest('.output');\n",
       "if (outputEl) {{\n",
       "    x.observe(outputEl, {childList: true});\n",
       "}}\n",
       "\n",
       "                        })                };                });            </script>        </div>"
      ]
     },
     "metadata": {},
     "output_type": "display_data"
    }
   ],
   "source": [
    "h_bar = px.bar(\n",
    "    top20_cities,\n",
    "    x=top20_cities[\"prize\"],\n",
    "    y=top20_cities[\"organization_city\"],\n",
    "    title=\"Top 20 Cities with the Most Nobel Prizes\",\n",
    "    orientation=\"h\",\n",
    "    color=top20_cities[\"prize\"],\n",
    "    color_continuous_scale=px.colors.sequential.haline\n",
    ")\n",
    "\n",
    "h_bar.update_layout(\n",
    "    xaxis_title=\"Number of Prizes\",\n",
    "    yaxis_title=\"City\",\n",
    "    coloraxis_showscale=False\n",
    ")\n",
    "\n",
    "h_bar.show()"
   ]
  },
  {
   "cell_type": "markdown",
   "metadata": {
    "id": "R6UQrcixo7Mm"
   },
   "source": [
    "# Where are Nobel Laureates Born? Chart the Laureate Birth Cities \n",
    "\n",
    "**Challenge**: \n",
    "* Create a plotly bar chart graphing the top 20 birth cities of Nobel laureates. \n",
    "* Use a named colour scale called `Plasma` for the chart.\n",
    "* What percentage of the United States prizes came from Nobel laureates born in New York? \n",
    "* How many Nobel laureates were born in London, Paris and Vienna? \n",
    "* Out of the top 5 cities, how many are in the United States?\n"
   ]
  },
  {
   "cell_type": "code",
   "execution_count": 172,
   "metadata": {
    "id": "JukPm21GGG9i"
   },
   "outputs": [],
   "source": [
    "top20_birth_cities = df_data.groupby(\"birth_city\", as_index=False).agg({\"prize\":pd.Series.count}).sort_values(by=\"prize\")\n",
    "top20_birth_cities = top20_birth_cities[-20:]"
   ]
  },
  {
   "cell_type": "code",
   "execution_count": 175,
   "metadata": {
    "id": "t14pn2kxGG2C"
   },
   "outputs": [
    {
     "data": {
      "application/vnd.plotly.v1+json": {
       "config": {
        "plotlyServerURL": "https://plot.ly"
       },
       "data": [
        {
         "alignmentgroup": "True",
         "hovertemplate": "prize=%{marker.color}<br>birth_city=%{y}<extra></extra>",
         "legendgroup": "",
         "marker": {
          "color": [
           3,
           4,
           4,
           4,
           5,
           5,
           6,
           6,
           7,
           7,
           8,
           8,
           8,
           8,
           11,
           12,
           14,
           19,
           26,
           53
          ],
          "coloraxis": "coloraxis",
          "pattern": {
           "shape": ""
          }
         },
         "name": "",
         "offsetgroup": "",
         "orientation": "h",
         "showlegend": false,
         "textposition": "auto",
         "type": "bar",
         "x": [
          3,
          4,
          4,
          4,
          5,
          5,
          6,
          6,
          7,
          7,
          8,
          8,
          8,
          8,
          11,
          12,
          14,
          19,
          26,
          53
         ],
         "xaxis": "x",
         "y": [
          "Milwaukee, WI",
          "Cairo",
          "Montreal",
          "Pittsburgh, PA",
          "Frankfurt-on-the-Main",
          "Prague",
          "Stockholm",
          "Hamburg",
          "Munich",
          "Moscow",
          "Washington, DC",
          "Boston, MA",
          "Brooklyn, NY",
          "Budapest",
          "Berlin",
          "Chicago, IL",
          "Vienna",
          "London",
          "Paris",
          "New York, NY"
         ],
         "yaxis": "y"
        }
       ],
       "layout": {
        "barmode": "relative",
        "coloraxis": {
         "colorbar": {
          "title": {
           "text": "prize"
          }
         },
         "colorscale": [
          [
           0,
           "#0d0887"
          ],
          [
           0.1111111111111111,
           "#46039f"
          ],
          [
           0.2222222222222222,
           "#7201a8"
          ],
          [
           0.3333333333333333,
           "#9c179e"
          ],
          [
           0.4444444444444444,
           "#bd3786"
          ],
          [
           0.5555555555555556,
           "#d8576b"
          ],
          [
           0.6666666666666666,
           "#ed7953"
          ],
          [
           0.7777777777777778,
           "#fb9f3a"
          ],
          [
           0.8888888888888888,
           "#fdca26"
          ],
          [
           1,
           "#f0f921"
          ]
         ],
         "showscale": false
        },
        "legend": {
         "tracegroupgap": 0
        },
        "template": {
         "data": {
          "bar": [
           {
            "error_x": {
             "color": "#2a3f5f"
            },
            "error_y": {
             "color": "#2a3f5f"
            },
            "marker": {
             "line": {
              "color": "#E5ECF6",
              "width": 0.5
             },
             "pattern": {
              "fillmode": "overlay",
              "size": 10,
              "solidity": 0.2
             }
            },
            "type": "bar"
           }
          ],
          "barpolar": [
           {
            "marker": {
             "line": {
              "color": "#E5ECF6",
              "width": 0.5
             },
             "pattern": {
              "fillmode": "overlay",
              "size": 10,
              "solidity": 0.2
             }
            },
            "type": "barpolar"
           }
          ],
          "carpet": [
           {
            "aaxis": {
             "endlinecolor": "#2a3f5f",
             "gridcolor": "white",
             "linecolor": "white",
             "minorgridcolor": "white",
             "startlinecolor": "#2a3f5f"
            },
            "baxis": {
             "endlinecolor": "#2a3f5f",
             "gridcolor": "white",
             "linecolor": "white",
             "minorgridcolor": "white",
             "startlinecolor": "#2a3f5f"
            },
            "type": "carpet"
           }
          ],
          "choropleth": [
           {
            "colorbar": {
             "outlinewidth": 0,
             "ticks": ""
            },
            "type": "choropleth"
           }
          ],
          "contour": [
           {
            "colorbar": {
             "outlinewidth": 0,
             "ticks": ""
            },
            "colorscale": [
             [
              0,
              "#0d0887"
             ],
             [
              0.1111111111111111,
              "#46039f"
             ],
             [
              0.2222222222222222,
              "#7201a8"
             ],
             [
              0.3333333333333333,
              "#9c179e"
             ],
             [
              0.4444444444444444,
              "#bd3786"
             ],
             [
              0.5555555555555556,
              "#d8576b"
             ],
             [
              0.6666666666666666,
              "#ed7953"
             ],
             [
              0.7777777777777778,
              "#fb9f3a"
             ],
             [
              0.8888888888888888,
              "#fdca26"
             ],
             [
              1,
              "#f0f921"
             ]
            ],
            "type": "contour"
           }
          ],
          "contourcarpet": [
           {
            "colorbar": {
             "outlinewidth": 0,
             "ticks": ""
            },
            "type": "contourcarpet"
           }
          ],
          "heatmap": [
           {
            "colorbar": {
             "outlinewidth": 0,
             "ticks": ""
            },
            "colorscale": [
             [
              0,
              "#0d0887"
             ],
             [
              0.1111111111111111,
              "#46039f"
             ],
             [
              0.2222222222222222,
              "#7201a8"
             ],
             [
              0.3333333333333333,
              "#9c179e"
             ],
             [
              0.4444444444444444,
              "#bd3786"
             ],
             [
              0.5555555555555556,
              "#d8576b"
             ],
             [
              0.6666666666666666,
              "#ed7953"
             ],
             [
              0.7777777777777778,
              "#fb9f3a"
             ],
             [
              0.8888888888888888,
              "#fdca26"
             ],
             [
              1,
              "#f0f921"
             ]
            ],
            "type": "heatmap"
           }
          ],
          "heatmapgl": [
           {
            "colorbar": {
             "outlinewidth": 0,
             "ticks": ""
            },
            "colorscale": [
             [
              0,
              "#0d0887"
             ],
             [
              0.1111111111111111,
              "#46039f"
             ],
             [
              0.2222222222222222,
              "#7201a8"
             ],
             [
              0.3333333333333333,
              "#9c179e"
             ],
             [
              0.4444444444444444,
              "#bd3786"
             ],
             [
              0.5555555555555556,
              "#d8576b"
             ],
             [
              0.6666666666666666,
              "#ed7953"
             ],
             [
              0.7777777777777778,
              "#fb9f3a"
             ],
             [
              0.8888888888888888,
              "#fdca26"
             ],
             [
              1,
              "#f0f921"
             ]
            ],
            "type": "heatmapgl"
           }
          ],
          "histogram": [
           {
            "marker": {
             "pattern": {
              "fillmode": "overlay",
              "size": 10,
              "solidity": 0.2
             }
            },
            "type": "histogram"
           }
          ],
          "histogram2d": [
           {
            "colorbar": {
             "outlinewidth": 0,
             "ticks": ""
            },
            "colorscale": [
             [
              0,
              "#0d0887"
             ],
             [
              0.1111111111111111,
              "#46039f"
             ],
             [
              0.2222222222222222,
              "#7201a8"
             ],
             [
              0.3333333333333333,
              "#9c179e"
             ],
             [
              0.4444444444444444,
              "#bd3786"
             ],
             [
              0.5555555555555556,
              "#d8576b"
             ],
             [
              0.6666666666666666,
              "#ed7953"
             ],
             [
              0.7777777777777778,
              "#fb9f3a"
             ],
             [
              0.8888888888888888,
              "#fdca26"
             ],
             [
              1,
              "#f0f921"
             ]
            ],
            "type": "histogram2d"
           }
          ],
          "histogram2dcontour": [
           {
            "colorbar": {
             "outlinewidth": 0,
             "ticks": ""
            },
            "colorscale": [
             [
              0,
              "#0d0887"
             ],
             [
              0.1111111111111111,
              "#46039f"
             ],
             [
              0.2222222222222222,
              "#7201a8"
             ],
             [
              0.3333333333333333,
              "#9c179e"
             ],
             [
              0.4444444444444444,
              "#bd3786"
             ],
             [
              0.5555555555555556,
              "#d8576b"
             ],
             [
              0.6666666666666666,
              "#ed7953"
             ],
             [
              0.7777777777777778,
              "#fb9f3a"
             ],
             [
              0.8888888888888888,
              "#fdca26"
             ],
             [
              1,
              "#f0f921"
             ]
            ],
            "type": "histogram2dcontour"
           }
          ],
          "mesh3d": [
           {
            "colorbar": {
             "outlinewidth": 0,
             "ticks": ""
            },
            "type": "mesh3d"
           }
          ],
          "parcoords": [
           {
            "line": {
             "colorbar": {
              "outlinewidth": 0,
              "ticks": ""
             }
            },
            "type": "parcoords"
           }
          ],
          "pie": [
           {
            "automargin": true,
            "type": "pie"
           }
          ],
          "scatter": [
           {
            "fillpattern": {
             "fillmode": "overlay",
             "size": 10,
             "solidity": 0.2
            },
            "type": "scatter"
           }
          ],
          "scatter3d": [
           {
            "line": {
             "colorbar": {
              "outlinewidth": 0,
              "ticks": ""
             }
            },
            "marker": {
             "colorbar": {
              "outlinewidth": 0,
              "ticks": ""
             }
            },
            "type": "scatter3d"
           }
          ],
          "scattercarpet": [
           {
            "marker": {
             "colorbar": {
              "outlinewidth": 0,
              "ticks": ""
             }
            },
            "type": "scattercarpet"
           }
          ],
          "scattergeo": [
           {
            "marker": {
             "colorbar": {
              "outlinewidth": 0,
              "ticks": ""
             }
            },
            "type": "scattergeo"
           }
          ],
          "scattergl": [
           {
            "marker": {
             "colorbar": {
              "outlinewidth": 0,
              "ticks": ""
             }
            },
            "type": "scattergl"
           }
          ],
          "scattermapbox": [
           {
            "marker": {
             "colorbar": {
              "outlinewidth": 0,
              "ticks": ""
             }
            },
            "type": "scattermapbox"
           }
          ],
          "scatterpolar": [
           {
            "marker": {
             "colorbar": {
              "outlinewidth": 0,
              "ticks": ""
             }
            },
            "type": "scatterpolar"
           }
          ],
          "scatterpolargl": [
           {
            "marker": {
             "colorbar": {
              "outlinewidth": 0,
              "ticks": ""
             }
            },
            "type": "scatterpolargl"
           }
          ],
          "scatterternary": [
           {
            "marker": {
             "colorbar": {
              "outlinewidth": 0,
              "ticks": ""
             }
            },
            "type": "scatterternary"
           }
          ],
          "surface": [
           {
            "colorbar": {
             "outlinewidth": 0,
             "ticks": ""
            },
            "colorscale": [
             [
              0,
              "#0d0887"
             ],
             [
              0.1111111111111111,
              "#46039f"
             ],
             [
              0.2222222222222222,
              "#7201a8"
             ],
             [
              0.3333333333333333,
              "#9c179e"
             ],
             [
              0.4444444444444444,
              "#bd3786"
             ],
             [
              0.5555555555555556,
              "#d8576b"
             ],
             [
              0.6666666666666666,
              "#ed7953"
             ],
             [
              0.7777777777777778,
              "#fb9f3a"
             ],
             [
              0.8888888888888888,
              "#fdca26"
             ],
             [
              1,
              "#f0f921"
             ]
            ],
            "type": "surface"
           }
          ],
          "table": [
           {
            "cells": {
             "fill": {
              "color": "#EBF0F8"
             },
             "line": {
              "color": "white"
             }
            },
            "header": {
             "fill": {
              "color": "#C8D4E3"
             },
             "line": {
              "color": "white"
             }
            },
            "type": "table"
           }
          ]
         },
         "layout": {
          "annotationdefaults": {
           "arrowcolor": "#2a3f5f",
           "arrowhead": 0,
           "arrowwidth": 1
          },
          "autotypenumbers": "strict",
          "coloraxis": {
           "colorbar": {
            "outlinewidth": 0,
            "ticks": ""
           }
          },
          "colorscale": {
           "diverging": [
            [
             0,
             "#8e0152"
            ],
            [
             0.1,
             "#c51b7d"
            ],
            [
             0.2,
             "#de77ae"
            ],
            [
             0.3,
             "#f1b6da"
            ],
            [
             0.4,
             "#fde0ef"
            ],
            [
             0.5,
             "#f7f7f7"
            ],
            [
             0.6,
             "#e6f5d0"
            ],
            [
             0.7,
             "#b8e186"
            ],
            [
             0.8,
             "#7fbc41"
            ],
            [
             0.9,
             "#4d9221"
            ],
            [
             1,
             "#276419"
            ]
           ],
           "sequential": [
            [
             0,
             "#0d0887"
            ],
            [
             0.1111111111111111,
             "#46039f"
            ],
            [
             0.2222222222222222,
             "#7201a8"
            ],
            [
             0.3333333333333333,
             "#9c179e"
            ],
            [
             0.4444444444444444,
             "#bd3786"
            ],
            [
             0.5555555555555556,
             "#d8576b"
            ],
            [
             0.6666666666666666,
             "#ed7953"
            ],
            [
             0.7777777777777778,
             "#fb9f3a"
            ],
            [
             0.8888888888888888,
             "#fdca26"
            ],
            [
             1,
             "#f0f921"
            ]
           ],
           "sequentialminus": [
            [
             0,
             "#0d0887"
            ],
            [
             0.1111111111111111,
             "#46039f"
            ],
            [
             0.2222222222222222,
             "#7201a8"
            ],
            [
             0.3333333333333333,
             "#9c179e"
            ],
            [
             0.4444444444444444,
             "#bd3786"
            ],
            [
             0.5555555555555556,
             "#d8576b"
            ],
            [
             0.6666666666666666,
             "#ed7953"
            ],
            [
             0.7777777777777778,
             "#fb9f3a"
            ],
            [
             0.8888888888888888,
             "#fdca26"
            ],
            [
             1,
             "#f0f921"
            ]
           ]
          },
          "colorway": [
           "#636efa",
           "#EF553B",
           "#00cc96",
           "#ab63fa",
           "#FFA15A",
           "#19d3f3",
           "#FF6692",
           "#B6E880",
           "#FF97FF",
           "#FECB52"
          ],
          "font": {
           "color": "#2a3f5f"
          },
          "geo": {
           "bgcolor": "white",
           "lakecolor": "white",
           "landcolor": "#E5ECF6",
           "showlakes": true,
           "showland": true,
           "subunitcolor": "white"
          },
          "hoverlabel": {
           "align": "left"
          },
          "hovermode": "closest",
          "mapbox": {
           "style": "light"
          },
          "paper_bgcolor": "white",
          "plot_bgcolor": "#E5ECF6",
          "polar": {
           "angularaxis": {
            "gridcolor": "white",
            "linecolor": "white",
            "ticks": ""
           },
           "bgcolor": "#E5ECF6",
           "radialaxis": {
            "gridcolor": "white",
            "linecolor": "white",
            "ticks": ""
           }
          },
          "scene": {
           "xaxis": {
            "backgroundcolor": "#E5ECF6",
            "gridcolor": "white",
            "gridwidth": 2,
            "linecolor": "white",
            "showbackground": true,
            "ticks": "",
            "zerolinecolor": "white"
           },
           "yaxis": {
            "backgroundcolor": "#E5ECF6",
            "gridcolor": "white",
            "gridwidth": 2,
            "linecolor": "white",
            "showbackground": true,
            "ticks": "",
            "zerolinecolor": "white"
           },
           "zaxis": {
            "backgroundcolor": "#E5ECF6",
            "gridcolor": "white",
            "gridwidth": 2,
            "linecolor": "white",
            "showbackground": true,
            "ticks": "",
            "zerolinecolor": "white"
           }
          },
          "shapedefaults": {
           "line": {
            "color": "#2a3f5f"
           }
          },
          "ternary": {
           "aaxis": {
            "gridcolor": "white",
            "linecolor": "white",
            "ticks": ""
           },
           "baxis": {
            "gridcolor": "white",
            "linecolor": "white",
            "ticks": ""
           },
           "bgcolor": "#E5ECF6",
           "caxis": {
            "gridcolor": "white",
            "linecolor": "white",
            "ticks": ""
           }
          },
          "title": {
           "x": 0.05
          },
          "xaxis": {
           "automargin": true,
           "gridcolor": "white",
           "linecolor": "white",
           "ticks": "",
           "title": {
            "standoff": 15
           },
           "zerolinecolor": "white",
           "zerolinewidth": 2
          },
          "yaxis": {
           "automargin": true,
           "gridcolor": "white",
           "linecolor": "white",
           "ticks": "",
           "title": {
            "standoff": 15
           },
           "zerolinecolor": "white",
           "zerolinewidth": 2
          }
         }
        },
        "title": {
         "text": "Top 20 Birth Cities with the Most Nobel Prizes"
        },
        "xaxis": {
         "anchor": "y",
         "domain": [
          0,
          1
         ],
         "title": {
          "text": "Number of Prizes"
         }
        },
        "yaxis": {
         "anchor": "x",
         "domain": [
          0,
          1
         ],
         "title": {
          "text": "Birth City"
         }
        }
       }
      },
      "text/html": [
       "<div>                            <div id=\"00c42502-e0d2-46bc-b124-dffc6b8655f5\" class=\"plotly-graph-div\" style=\"height:525px; width:100%;\"></div>            <script type=\"text/javascript\">                require([\"plotly\"], function(Plotly) {                    window.PLOTLYENV=window.PLOTLYENV || {};                                    if (document.getElementById(\"00c42502-e0d2-46bc-b124-dffc6b8655f5\")) {                    Plotly.newPlot(                        \"00c42502-e0d2-46bc-b124-dffc6b8655f5\",                        [{\"alignmentgroup\":\"True\",\"hovertemplate\":\"prize=%{marker.color}<br>birth_city=%{y}<extra></extra>\",\"legendgroup\":\"\",\"marker\":{\"color\":[3,4,4,4,5,5,6,6,7,7,8,8,8,8,11,12,14,19,26,53],\"coloraxis\":\"coloraxis\",\"pattern\":{\"shape\":\"\"}},\"name\":\"\",\"offsetgroup\":\"\",\"orientation\":\"h\",\"showlegend\":false,\"textposition\":\"auto\",\"x\":[3,4,4,4,5,5,6,6,7,7,8,8,8,8,11,12,14,19,26,53],\"xaxis\":\"x\",\"y\":[\"Milwaukee, WI\",\"Cairo\",\"Montreal\",\"Pittsburgh, PA\",\"Frankfurt-on-the-Main\",\"Prague\",\"Stockholm\",\"Hamburg\",\"Munich\",\"Moscow\",\"Washington, DC\",\"Boston, MA\",\"Brooklyn, NY\",\"Budapest\",\"Berlin\",\"Chicago, IL\",\"Vienna\",\"London\",\"Paris\",\"New York, NY\"],\"yaxis\":\"y\",\"type\":\"bar\"}],                        {\"template\":{\"data\":{\"histogram2dcontour\":[{\"type\":\"histogram2dcontour\",\"colorbar\":{\"outlinewidth\":0,\"ticks\":\"\"},\"colorscale\":[[0.0,\"#0d0887\"],[0.1111111111111111,\"#46039f\"],[0.2222222222222222,\"#7201a8\"],[0.3333333333333333,\"#9c179e\"],[0.4444444444444444,\"#bd3786\"],[0.5555555555555556,\"#d8576b\"],[0.6666666666666666,\"#ed7953\"],[0.7777777777777778,\"#fb9f3a\"],[0.8888888888888888,\"#fdca26\"],[1.0,\"#f0f921\"]]}],\"choropleth\":[{\"type\":\"choropleth\",\"colorbar\":{\"outlinewidth\":0,\"ticks\":\"\"}}],\"histogram2d\":[{\"type\":\"histogram2d\",\"colorbar\":{\"outlinewidth\":0,\"ticks\":\"\"},\"colorscale\":[[0.0,\"#0d0887\"],[0.1111111111111111,\"#46039f\"],[0.2222222222222222,\"#7201a8\"],[0.3333333333333333,\"#9c179e\"],[0.4444444444444444,\"#bd3786\"],[0.5555555555555556,\"#d8576b\"],[0.6666666666666666,\"#ed7953\"],[0.7777777777777778,\"#fb9f3a\"],[0.8888888888888888,\"#fdca26\"],[1.0,\"#f0f921\"]]}],\"heatmap\":[{\"type\":\"heatmap\",\"colorbar\":{\"outlinewidth\":0,\"ticks\":\"\"},\"colorscale\":[[0.0,\"#0d0887\"],[0.1111111111111111,\"#46039f\"],[0.2222222222222222,\"#7201a8\"],[0.3333333333333333,\"#9c179e\"],[0.4444444444444444,\"#bd3786\"],[0.5555555555555556,\"#d8576b\"],[0.6666666666666666,\"#ed7953\"],[0.7777777777777778,\"#fb9f3a\"],[0.8888888888888888,\"#fdca26\"],[1.0,\"#f0f921\"]]}],\"heatmapgl\":[{\"type\":\"heatmapgl\",\"colorbar\":{\"outlinewidth\":0,\"ticks\":\"\"},\"colorscale\":[[0.0,\"#0d0887\"],[0.1111111111111111,\"#46039f\"],[0.2222222222222222,\"#7201a8\"],[0.3333333333333333,\"#9c179e\"],[0.4444444444444444,\"#bd3786\"],[0.5555555555555556,\"#d8576b\"],[0.6666666666666666,\"#ed7953\"],[0.7777777777777778,\"#fb9f3a\"],[0.8888888888888888,\"#fdca26\"],[1.0,\"#f0f921\"]]}],\"contourcarpet\":[{\"type\":\"contourcarpet\",\"colorbar\":{\"outlinewidth\":0,\"ticks\":\"\"}}],\"contour\":[{\"type\":\"contour\",\"colorbar\":{\"outlinewidth\":0,\"ticks\":\"\"},\"colorscale\":[[0.0,\"#0d0887\"],[0.1111111111111111,\"#46039f\"],[0.2222222222222222,\"#7201a8\"],[0.3333333333333333,\"#9c179e\"],[0.4444444444444444,\"#bd3786\"],[0.5555555555555556,\"#d8576b\"],[0.6666666666666666,\"#ed7953\"],[0.7777777777777778,\"#fb9f3a\"],[0.8888888888888888,\"#fdca26\"],[1.0,\"#f0f921\"]]}],\"surface\":[{\"type\":\"surface\",\"colorbar\":{\"outlinewidth\":0,\"ticks\":\"\"},\"colorscale\":[[0.0,\"#0d0887\"],[0.1111111111111111,\"#46039f\"],[0.2222222222222222,\"#7201a8\"],[0.3333333333333333,\"#9c179e\"],[0.4444444444444444,\"#bd3786\"],[0.5555555555555556,\"#d8576b\"],[0.6666666666666666,\"#ed7953\"],[0.7777777777777778,\"#fb9f3a\"],[0.8888888888888888,\"#fdca26\"],[1.0,\"#f0f921\"]]}],\"mesh3d\":[{\"type\":\"mesh3d\",\"colorbar\":{\"outlinewidth\":0,\"ticks\":\"\"}}],\"scatter\":[{\"fillpattern\":{\"fillmode\":\"overlay\",\"size\":10,\"solidity\":0.2},\"type\":\"scatter\"}],\"parcoords\":[{\"type\":\"parcoords\",\"line\":{\"colorbar\":{\"outlinewidth\":0,\"ticks\":\"\"}}}],\"scatterpolargl\":[{\"type\":\"scatterpolargl\",\"marker\":{\"colorbar\":{\"outlinewidth\":0,\"ticks\":\"\"}}}],\"bar\":[{\"error_x\":{\"color\":\"#2a3f5f\"},\"error_y\":{\"color\":\"#2a3f5f\"},\"marker\":{\"line\":{\"color\":\"#E5ECF6\",\"width\":0.5},\"pattern\":{\"fillmode\":\"overlay\",\"size\":10,\"solidity\":0.2}},\"type\":\"bar\"}],\"scattergeo\":[{\"type\":\"scattergeo\",\"marker\":{\"colorbar\":{\"outlinewidth\":0,\"ticks\":\"\"}}}],\"scatterpolar\":[{\"type\":\"scatterpolar\",\"marker\":{\"colorbar\":{\"outlinewidth\":0,\"ticks\":\"\"}}}],\"histogram\":[{\"marker\":{\"pattern\":{\"fillmode\":\"overlay\",\"size\":10,\"solidity\":0.2}},\"type\":\"histogram\"}],\"scattergl\":[{\"type\":\"scattergl\",\"marker\":{\"colorbar\":{\"outlinewidth\":0,\"ticks\":\"\"}}}],\"scatter3d\":[{\"type\":\"scatter3d\",\"line\":{\"colorbar\":{\"outlinewidth\":0,\"ticks\":\"\"}},\"marker\":{\"colorbar\":{\"outlinewidth\":0,\"ticks\":\"\"}}}],\"scattermapbox\":[{\"type\":\"scattermapbox\",\"marker\":{\"colorbar\":{\"outlinewidth\":0,\"ticks\":\"\"}}}],\"scatterternary\":[{\"type\":\"scatterternary\",\"marker\":{\"colorbar\":{\"outlinewidth\":0,\"ticks\":\"\"}}}],\"scattercarpet\":[{\"type\":\"scattercarpet\",\"marker\":{\"colorbar\":{\"outlinewidth\":0,\"ticks\":\"\"}}}],\"carpet\":[{\"aaxis\":{\"endlinecolor\":\"#2a3f5f\",\"gridcolor\":\"white\",\"linecolor\":\"white\",\"minorgridcolor\":\"white\",\"startlinecolor\":\"#2a3f5f\"},\"baxis\":{\"endlinecolor\":\"#2a3f5f\",\"gridcolor\":\"white\",\"linecolor\":\"white\",\"minorgridcolor\":\"white\",\"startlinecolor\":\"#2a3f5f\"},\"type\":\"carpet\"}],\"table\":[{\"cells\":{\"fill\":{\"color\":\"#EBF0F8\"},\"line\":{\"color\":\"white\"}},\"header\":{\"fill\":{\"color\":\"#C8D4E3\"},\"line\":{\"color\":\"white\"}},\"type\":\"table\"}],\"barpolar\":[{\"marker\":{\"line\":{\"color\":\"#E5ECF6\",\"width\":0.5},\"pattern\":{\"fillmode\":\"overlay\",\"size\":10,\"solidity\":0.2}},\"type\":\"barpolar\"}],\"pie\":[{\"automargin\":true,\"type\":\"pie\"}]},\"layout\":{\"autotypenumbers\":\"strict\",\"colorway\":[\"#636efa\",\"#EF553B\",\"#00cc96\",\"#ab63fa\",\"#FFA15A\",\"#19d3f3\",\"#FF6692\",\"#B6E880\",\"#FF97FF\",\"#FECB52\"],\"font\":{\"color\":\"#2a3f5f\"},\"hovermode\":\"closest\",\"hoverlabel\":{\"align\":\"left\"},\"paper_bgcolor\":\"white\",\"plot_bgcolor\":\"#E5ECF6\",\"polar\":{\"bgcolor\":\"#E5ECF6\",\"angularaxis\":{\"gridcolor\":\"white\",\"linecolor\":\"white\",\"ticks\":\"\"},\"radialaxis\":{\"gridcolor\":\"white\",\"linecolor\":\"white\",\"ticks\":\"\"}},\"ternary\":{\"bgcolor\":\"#E5ECF6\",\"aaxis\":{\"gridcolor\":\"white\",\"linecolor\":\"white\",\"ticks\":\"\"},\"baxis\":{\"gridcolor\":\"white\",\"linecolor\":\"white\",\"ticks\":\"\"},\"caxis\":{\"gridcolor\":\"white\",\"linecolor\":\"white\",\"ticks\":\"\"}},\"coloraxis\":{\"colorbar\":{\"outlinewidth\":0,\"ticks\":\"\"}},\"colorscale\":{\"sequential\":[[0.0,\"#0d0887\"],[0.1111111111111111,\"#46039f\"],[0.2222222222222222,\"#7201a8\"],[0.3333333333333333,\"#9c179e\"],[0.4444444444444444,\"#bd3786\"],[0.5555555555555556,\"#d8576b\"],[0.6666666666666666,\"#ed7953\"],[0.7777777777777778,\"#fb9f3a\"],[0.8888888888888888,\"#fdca26\"],[1.0,\"#f0f921\"]],\"sequentialminus\":[[0.0,\"#0d0887\"],[0.1111111111111111,\"#46039f\"],[0.2222222222222222,\"#7201a8\"],[0.3333333333333333,\"#9c179e\"],[0.4444444444444444,\"#bd3786\"],[0.5555555555555556,\"#d8576b\"],[0.6666666666666666,\"#ed7953\"],[0.7777777777777778,\"#fb9f3a\"],[0.8888888888888888,\"#fdca26\"],[1.0,\"#f0f921\"]],\"diverging\":[[0,\"#8e0152\"],[0.1,\"#c51b7d\"],[0.2,\"#de77ae\"],[0.3,\"#f1b6da\"],[0.4,\"#fde0ef\"],[0.5,\"#f7f7f7\"],[0.6,\"#e6f5d0\"],[0.7,\"#b8e186\"],[0.8,\"#7fbc41\"],[0.9,\"#4d9221\"],[1,\"#276419\"]]},\"xaxis\":{\"gridcolor\":\"white\",\"linecolor\":\"white\",\"ticks\":\"\",\"title\":{\"standoff\":15},\"zerolinecolor\":\"white\",\"automargin\":true,\"zerolinewidth\":2},\"yaxis\":{\"gridcolor\":\"white\",\"linecolor\":\"white\",\"ticks\":\"\",\"title\":{\"standoff\":15},\"zerolinecolor\":\"white\",\"automargin\":true,\"zerolinewidth\":2},\"scene\":{\"xaxis\":{\"backgroundcolor\":\"#E5ECF6\",\"gridcolor\":\"white\",\"linecolor\":\"white\",\"showbackground\":true,\"ticks\":\"\",\"zerolinecolor\":\"white\",\"gridwidth\":2},\"yaxis\":{\"backgroundcolor\":\"#E5ECF6\",\"gridcolor\":\"white\",\"linecolor\":\"white\",\"showbackground\":true,\"ticks\":\"\",\"zerolinecolor\":\"white\",\"gridwidth\":2},\"zaxis\":{\"backgroundcolor\":\"#E5ECF6\",\"gridcolor\":\"white\",\"linecolor\":\"white\",\"showbackground\":true,\"ticks\":\"\",\"zerolinecolor\":\"white\",\"gridwidth\":2}},\"shapedefaults\":{\"line\":{\"color\":\"#2a3f5f\"}},\"annotationdefaults\":{\"arrowcolor\":\"#2a3f5f\",\"arrowhead\":0,\"arrowwidth\":1},\"geo\":{\"bgcolor\":\"white\",\"landcolor\":\"#E5ECF6\",\"subunitcolor\":\"white\",\"showland\":true,\"showlakes\":true,\"lakecolor\":\"white\"},\"title\":{\"x\":0.05},\"mapbox\":{\"style\":\"light\"}}},\"xaxis\":{\"anchor\":\"y\",\"domain\":[0.0,1.0],\"title\":{\"text\":\"Number of Prizes\"}},\"yaxis\":{\"anchor\":\"x\",\"domain\":[0.0,1.0],\"title\":{\"text\":\"Birth City\"}},\"coloraxis\":{\"colorbar\":{\"title\":{\"text\":\"prize\"}},\"colorscale\":[[0.0,\"#0d0887\"],[0.1111111111111111,\"#46039f\"],[0.2222222222222222,\"#7201a8\"],[0.3333333333333333,\"#9c179e\"],[0.4444444444444444,\"#bd3786\"],[0.5555555555555556,\"#d8576b\"],[0.6666666666666666,\"#ed7953\"],[0.7777777777777778,\"#fb9f3a\"],[0.8888888888888888,\"#fdca26\"],[1.0,\"#f0f921\"]],\"showscale\":false},\"legend\":{\"tracegroupgap\":0},\"title\":{\"text\":\"Top 20 Birth Cities with the Most Nobel Prizes\"},\"barmode\":\"relative\"},                        {\"responsive\": true}                    ).then(function(){\n",
       "                            \n",
       "var gd = document.getElementById('00c42502-e0d2-46bc-b124-dffc6b8655f5');\n",
       "var x = new MutationObserver(function (mutations, observer) {{\n",
       "        var display = window.getComputedStyle(gd).display;\n",
       "        if (!display || display === 'none') {{\n",
       "            console.log([gd, 'removed!']);\n",
       "            Plotly.purge(gd);\n",
       "            observer.disconnect();\n",
       "        }}\n",
       "}});\n",
       "\n",
       "// Listen for the removal of the full notebook cells\n",
       "var notebookContainer = gd.closest('#notebook-container');\n",
       "if (notebookContainer) {{\n",
       "    x.observe(notebookContainer, {childList: true});\n",
       "}}\n",
       "\n",
       "// Listen for the clearing of the current output cell\n",
       "var outputEl = gd.closest('.output');\n",
       "if (outputEl) {{\n",
       "    x.observe(outputEl, {childList: true});\n",
       "}}\n",
       "\n",
       "                        })                };                });            </script>        </div>"
      ]
     },
     "metadata": {},
     "output_type": "display_data"
    }
   ],
   "source": [
    "h_bar = px.bar(\n",
    "    top20_birth_cities,\n",
    "    x=top20_birth_cities[\"prize\"],\n",
    "    y=top20_birth_cities[\"birth_city\"],\n",
    "    title=\"Top 20 Birth Cities with the Most Nobel Prizes\",\n",
    "    orientation=\"h\",\n",
    "    color=top20_birth_cities[\"prize\"],\n",
    "    color_continuous_scale=\"Plasma\"\n",
    ")\n",
    "\n",
    "h_bar.update_layout(\n",
    "    xaxis_title=\"Number of Prizes\",\n",
    "    yaxis_title=\"Birth City\",\n",
    "    coloraxis_showscale=False\n",
    ")\n",
    "\n",
    "h_bar.show()"
   ]
  },
  {
   "cell_type": "markdown",
   "metadata": {
    "id": "YN6KxT5oo7Mq"
   },
   "source": [
    "# Plotly Sunburst Chart: Combine Country, City, and Organisation\n",
    "\n",
    "**Challenge**: \n",
    "\n",
    "* Create a DataFrame that groups the number of prizes by organisation. \n",
    "* Then use the [plotly documentation to create a sunburst chart](https://plotly.com/python/sunburst-charts/)\n",
    "* Click around in your chart, what do you notice about Germany and France? \n",
    "\n",
    "\n",
    "Here's what you're aiming for:\n",
    "\n",
    "<img src=https://i.imgur.com/cemX4m5.png width=300>\n",
    "\n"
   ]
  },
  {
   "cell_type": "code",
   "execution_count": 178,
   "metadata": {
    "id": "jGOx7MxCGI20"
   },
   "outputs": [
    {
     "data": {
      "text/html": [
       "<div>\n",
       "<style scoped>\n",
       "    .dataframe tbody tr th:only-of-type {\n",
       "        vertical-align: middle;\n",
       "    }\n",
       "\n",
       "    .dataframe tbody tr th {\n",
       "        vertical-align: top;\n",
       "    }\n",
       "\n",
       "    .dataframe thead th {\n",
       "        text-align: right;\n",
       "    }\n",
       "</style>\n",
       "<table border=\"1\" class=\"dataframe\">\n",
       "  <thead>\n",
       "    <tr style=\"text-align: right;\">\n",
       "      <th></th>\n",
       "      <th>organization_country</th>\n",
       "      <th>organization_city</th>\n",
       "      <th>organization_name</th>\n",
       "      <th>prize</th>\n",
       "    </tr>\n",
       "  </thead>\n",
       "  <tbody>\n",
       "    <tr>\n",
       "      <th>205</th>\n",
       "      <td>United States of America</td>\n",
       "      <td>Cambridge, MA</td>\n",
       "      <td>Harvard University</td>\n",
       "      <td>29</td>\n",
       "    </tr>\n",
       "    <tr>\n",
       "      <th>280</th>\n",
       "      <td>United States of America</td>\n",
       "      <td>Stanford, CA</td>\n",
       "      <td>Stanford University</td>\n",
       "      <td>23</td>\n",
       "    </tr>\n",
       "    <tr>\n",
       "      <th>206</th>\n",
       "      <td>United States of America</td>\n",
       "      <td>Cambridge, MA</td>\n",
       "      <td>Massachusetts Institute of Technology (MIT)</td>\n",
       "      <td>21</td>\n",
       "    </tr>\n",
       "    <tr>\n",
       "      <th>209</th>\n",
       "      <td>United States of America</td>\n",
       "      <td>Chicago, IL</td>\n",
       "      <td>University of Chicago</td>\n",
       "      <td>20</td>\n",
       "    </tr>\n",
       "    <tr>\n",
       "      <th>195</th>\n",
       "      <td>United States of America</td>\n",
       "      <td>Berkeley, CA</td>\n",
       "      <td>University of California</td>\n",
       "      <td>19</td>\n",
       "    </tr>\n",
       "    <tr>\n",
       "      <th>...</th>\n",
       "      <td>...</td>\n",
       "      <td>...</td>\n",
       "      <td>...</td>\n",
       "      <td>...</td>\n",
       "    </tr>\n",
       "    <tr>\n",
       "      <th>220</th>\n",
       "      <td>United States of America</td>\n",
       "      <td>Gaithersburg, MD</td>\n",
       "      <td>National Institute of Standards and Technology</td>\n",
       "      <td>1</td>\n",
       "    </tr>\n",
       "    <tr>\n",
       "      <th>219</th>\n",
       "      <td>United States of America</td>\n",
       "      <td>Fairfax, VA</td>\n",
       "      <td>George Mason University</td>\n",
       "      <td>1</td>\n",
       "    </tr>\n",
       "    <tr>\n",
       "      <th>218</th>\n",
       "      <td>United States of America</td>\n",
       "      <td>Fairfax, VA</td>\n",
       "      <td>Center for Study of Public Choice</td>\n",
       "      <td>1</td>\n",
       "    </tr>\n",
       "    <tr>\n",
       "      <th>216</th>\n",
       "      <td>United States of America</td>\n",
       "      <td>Durham, NC</td>\n",
       "      <td>Howard Hughes Medical Institute</td>\n",
       "      <td>1</td>\n",
       "    </tr>\n",
       "    <tr>\n",
       "      <th>13</th>\n",
       "      <td>Belgium</td>\n",
       "      <td>Louvain</td>\n",
       "      <td>Université Catholique de Louvain</td>\n",
       "      <td>1</td>\n",
       "    </tr>\n",
       "  </tbody>\n",
       "</table>\n",
       "<p>291 rows × 4 columns</p>\n",
       "</div>"
      ],
      "text/plain": [
       "         organization_country organization_city  \\\n",
       "205  United States of America     Cambridge, MA   \n",
       "280  United States of America      Stanford, CA   \n",
       "206  United States of America     Cambridge, MA   \n",
       "209  United States of America       Chicago, IL   \n",
       "195  United States of America      Berkeley, CA   \n",
       "..                        ...               ...   \n",
       "220  United States of America  Gaithersburg, MD   \n",
       "219  United States of America       Fairfax, VA   \n",
       "218  United States of America       Fairfax, VA   \n",
       "216  United States of America        Durham, NC   \n",
       "13                    Belgium           Louvain   \n",
       "\n",
       "                                  organization_name  prize  \n",
       "205                              Harvard University     29  \n",
       "280                             Stanford University     23  \n",
       "206     Massachusetts Institute of Technology (MIT)     21  \n",
       "209                           University of Chicago     20  \n",
       "195                        University of California     19  \n",
       "..                                              ...    ...  \n",
       "220  National Institute of Standards and Technology      1  \n",
       "219                         George Mason University      1  \n",
       "218               Center for Study of Public Choice      1  \n",
       "216                 Howard Hughes Medical Institute      1  \n",
       "13                 Université Catholique de Louvain      1  \n",
       "\n",
       "[291 rows x 4 columns]"
      ]
     },
     "execution_count": 178,
     "metadata": {},
     "output_type": "execute_result"
    }
   ],
   "source": [
    "organization_prizes = df_data.groupby(\n",
    "    [\"organization_country\", \n",
    "    \"organization_city\", \n",
    "    \"organization_name\"], as_index=False\n",
    "    ).agg({\"prize\":pd.Series.count}).sort_values(by=\"prize\"\n",
    ")\n",
    "\n",
    "organization_prizes.sort_values(by=\"prize\", ascending=False)"
   ]
  },
  {
   "cell_type": "code",
   "execution_count": 180,
   "metadata": {
    "id": "l1DPxFgRGJBg"
   },
   "outputs": [
    {
     "data": {
      "application/vnd.plotly.v1+json": {
       "config": {
        "plotlyServerURL": "https://plot.ly"
       },
       "data": [
        {
         "branchvalues": "total",
         "domain": {
          "x": [
           0,
           1
          ],
          "y": [
           0,
           1
          ]
         },
         "hovertemplate": "labels=%{label}<br>prize=%{value}<br>parent=%{parent}<br>id=%{id}<extra></extra>",
         "ids": [
          "Russia/St. Petersburg/A.F. Ioffe Physico-Technical Institute",
          "Denmark/Aarhus/Aarhus University",
          "Russia/Moscow/Academy of Sciences",
          "Netherlands/Amsterdam/Amsterdam University",
          "United States of America/Argonne, IL/Argonne National Laboratory",
          "United States of America/Tempe, AZ/Arizona State University",
          "Japan/Tokyo/Asahi Kasei Corporation",
          "United States of America/Washington, DC/Associated Universities Inc.",
          "United Kingdom/Harwell, Berkshire/Atomic Energy Research Establishment",
          "Australia/Canberra/Australian National University",
          "Australia/Weston Creek/Australian National University",
          "Switzerland/Basel/Basel Institute for Immunology",
          "Switzerland/Basel/Basel University",
          "United States of America/Holmdel, NJ/Bell Laboratories",
          "United States of America/Murray Hill, NJ/Bell Laboratories",
          "United States of America/New York, NY/Bell Laboratories",
          "Germany/Berlin/Berlin University",
          "Switzerland/Berne/Berne University",
          "United States of America/New York, NY/Binghamton University State University of New York",
          "Switzerland/Basel/Biozentrum der Universität",
          "United Kingdom/Birmingham/Birmingham University",
          "United States of America/Waltham MA/Brandeis University",
          "United States of America/Boston, MA/Brigham and Women's Hospital",
          "United Kingdom/Bristol/Bristol University",
          "United States of America/Providence, RI/Brown University",
          "Belgium/Brussels/Brussels University",
          "France/Sèvres/Bureau International des Poids et Mesures (International Bureau of Weights and Measures)",
          "Switzerland/Geneva/CERN",
          "India/Calcutta/Calcutta University",
          "United States of America/Pasadena, CA/California Institute of Technology (Caltech)",
          "United Kingdom/Cardiff/Cardiff University",
          "United States of America/New York, NY/Carnegie Institution of Washington",
          "United States of America/Pittsburgh, PA/Carnegie Mellon University",
          "United States of America/Fairfax, VA/Center for Study of Public Choice",
          "United Kingdom/London/Central Research Laboratories, EMI",
          "United States of America/Boston, MA/Children's Medical Center",
          "China/Beijing/China Academy of Traditional Chinese Medicine",
          "United States of America/New York, NY/City University of New York",
          "United States of America/Cold Spring Harbor, NY/Cold Spring Harbor Laboratory",
          "France/Paris/Collège de France",
          "Germany/Cologne/Cologne University",
          "United States of America/New York, NY/Columbia University",
          "Denmark/Copenhagen/Copenhagen University",
          "United States of America/Ithaca, NY/Cornell University",
          "United Kingdom/London/Department of Scientific and Industrial Research",
          "United States of America/Mountain View, CA/Digital Pathways, Inc.",
          "United States of America/Madison, NJ/Drew University",
          "United States of America/Wilmington, DE/Du Pont",
          "United Kingdom/Edinburgh/Edinburgh University",
          "Switzerland/Zurich/Eidgenössische Technische Hochschule (Swiss Federal Institute of Technology)",
          "United States of America/Batavia, IL/Fermi National Accelerator Laboratory",
          "Denmark/Copenhagen/Finsen Medical Light Institute",
          "Germany/J&uuml;lich/Forschungszentrum J&uuml;lich",
          "United Kingdom/Hertfordshire/Francis Crick Institute",
          "Germany/Frankfurt-on-the-Main/Frankfurt-on-the-Main University",
          "United States of America/Seattle, WA/Fred Hutchinson Cancer Research Center",
          "Germany/Berlin-Dahlem/Fritz-Haber-Institut",
          "Germany/Berlin/Fritz-Haber-Institut der Max-Planck-Gesellschaft",
          "United States of America/Schenectady, NY/General Electric Company",
          "United States of America/Fairfax, VA/George Mason University",
          "Germany/Heidelberg/German Cancer Research Center",
          "Belgium/Ghent/Ghent University",
          "United Kingdom/Bodmin/Glynn Research Laboratories",
          "Germany/Göttingen/Goettingen University",
          "Austria/Graz/Graz University",
          "Germany/Greifswald/Greifswald University",
          "Netherlands/Groningen/Groningen University",
          "United Kingdom/Cambridge/Gurdon Institute",
          "Sweden/Gothenburg/Göteborg University",
          "Germany/Halle/Halle University",
          "United States of America/Boston, MA/Harvard Medical School",
          "United States of America/Cambridge, MA/Harvard University",
          "Japan/Tsukuba/High Energy Accelerator Research Organization (KEK)",
          "Japan/Sapporo/Hokkaido University",
          "United States of America/Chevy Chase/Howard Hughes Medical Institute",
          "United States of America/Durham, NC/Howard Hughes Medical Institute",
          "United States of America/Yorktown Heights, NY/IBM Thomas J. Watson Research Center",
          "Switzerland/Rüschlikon/IBM Zurich Research Laboratory",
          "United Kingdom/London/Imperial Cancer Research Fund",
          "United Kingdom/London/Imperial College",
          "United States of America/Bloomington, IN/Indiana University",
          "Austria/Innsbruck/Innsbruck University",
          "France/Rueil-Malmaison/Institut Français du Pétrole",
          "France/Paris/Institut Pasteur",
          "Tunisia/Tunis/Institut Pasteur",
          "France/Paris/Institut du Radium",
          "United States of America/Princeton, NJ/Institute for Advanced Study",
          "Argentina/Buenos Aires/Institute for Biochemical Research",
          "Russia/Moscow/Institute for Chemical Physics of the Academy of Sciences of the USSR",
          "Germany/Berlin/Institute for Infectious Diseases",
          "Italy/Rome/Institute of Cell Biology of the C.N.R.",
          "United Kingdom/Cambridge/Institute of Physical Chemistry",
          "Italy/Milan/Institute of Technology",
          "Argentina/Buenos Aires/Instituto de Biologia y Medicina Experimental (Institute for Biology and Experimental Medicine)",
          "Italy/Trieste/International Centre for Theoretical Physics",
          "Italy/Rome/Istituto Superiore di Sanità (Chief Institute of Public Health)",
          "United States of America/Bar Harbor, ME/Jackson Laboratory",
          "United States of America/Ashburn, VA/Janelia Research Campus, Howard Hughes Medical Institute",
          "United States of America/Baltimore, MD/Johns Hopkins University",
          "Sweden/Stockholm/Karolinska Institutet",
          "Germany/Kiel/Kiel University",
          "Japan/Tokyo/Kitasato University",
          "Austria/Altenberg; Grünau im Almtal/Konrad-Lorenz-Institut der Österreichischen Akademie der Wissen­schaften, Forschungsstelle für Ethologie",
          "Japan/Kyoto/Kyoto Sangyo University",
          "Japan/Kyoto/Kyoto University",
          "United States of America/New York, NY/Laboratories of the Division of Medicine and Public Health, Rockefeller Foundation",
          "Switzerland/Basel/Laboratorium der Farben-Fabriken J.R. Geigy A.G. (Laboratory of the J.R. Geigy Dye-Factory Co.)",
          "Germany/Berlin/Landwirtschaftliche Hochschule (Agricultural College)",
          "United States of America/Berkeley, CA/Lawrence Berkeley National Laboratory",
          "Netherlands/Leiden/Leiden University",
          "Germany/Leipzig/Leipzig University",
          "United Kingdom/Liverpool/Liverpool University",
          "United Kingdom/London/London School of Economics and Political Science",
          "United Kingdom/London/London University",
          "United States of America/Greenwich, CT/Long Term Capital Management",
          "United Kingdom/Cambridge/MRC Laboratory of Molecular Biology",
          "Spain/Madrid/Madrid University",
          "Germany/Mainz/Mainz University",
          "Germany/Marburg/Marburg University",
          "United Kingdom/London/Marconi Wireless Telegraph Co. Ltd.",
          "United States of America/Woods Hole, MA/Marine Biological Laboratory (MBL)",
          "United States of America/Cambridge, MA/Massachusetts Institute of Technology (MIT)",
          "Germany/Berlin/Max-Planck Institut",
          "Germany/Berlin-Dahlem/Max-Planck Institut",
          "Germany/Heidelberg/Max-Planck Institut",
          "Germany/Berlin/Max-Planck-Institut",
          "Germany/Frankfurt-on-the-Main/Max-Planck-Institut",
          "Germany/Garching/Max-Planck-Institut",
          "Germany/Göttingen/Max-Planck-Institut",
          "Germany/Heidelberg/Max-Planck-Institut",
          "Germany/Mainz/Max-Planck-Institut",
          "Germany/Martinsried/Max-Planck-Institut",
          "Germany/Munich/Max-Planck-Institut",
          "Germany/Mülheim/Ruhr/Max-Planck-Institut",
          "Germany/Stuttgart/Max-Planck-Institut",
          "Germany/Tübingen/Max-Planck-Institut",
          "United States of America/Rochester, MN/Mayo Clinic",
          "Canada/Hamilton, Ontario/McMaster University",
          "Japan/Nagoya/Meijo University",
          "Russia/St. Petersburg/Military Medical Academy",
          "Germany/Munich/Munich University",
          "Germany/Munster/Munster University",
          "United States of America/Greenbelt, MD/NASA Goddard Space Flight Center",
          "Australia/Nedlands/NHMRC Helicobacter pylori Research Laboratory, QEII Medical Centre",
          "Japan/Nagoya/Nagoya University",
          "France/Nancy/Nancy University",
          "United Kingdom/London/National Institute for Medical Research",
          "United States of America/Research Triangle Park, NC/National Institute of Environmental Health Sciences",
          "United States of America/Boulder, CO/National Institute of Standards and Technology",
          "United States of America/Gaithersburg, MD/National Institute of Standards and Technology",
          "United States of America/Bethesda, MD/National Institutes of Health",
          "Canada/Ottawa/National Research Council of Canada",
          "United States of America/Beverly, MA/New England Biolabs",
          "United States of America/New York, NY/New York University",
          "Denmark/Copenhagen/Niels Bohr Institute",
          "Denmark/Copenhagen/Nordita",
          "United States of America/Evanston, IL/Northwestern University",
          "Norway/Trondheim/Norwegian University of Science and Technology (NTNU)",
          "Russia/Moscow/P.N. Lebedev Physical Institute",
          "United States of America/San Francisco, CA/Parker Institute for Cancer Immunotherapy",
          "Italy/Pavia/Pavia University",
          "Czech Republic/Prague/Polarographic Institute of the Czechoslovak Academy of Science",
          "Denmark/Copenhagen/Polytechnic Institute",
          "United States of America/Princeton, NJ/Princeton University",
          "United States of America/West Lafayette, IN/Purdue University",
          "Canada/Kingston/Queen's University",
          "Germany/Bonn/Rheinische Friedrich-Wilhelms-Universität",
          "United States of America/Houston, TX/Rice University",
          "United States of America/New York, NY/Rockefeller Institute for Medical Research",
          "United States of America/Princeton, NJ/Rockefeller Institute for Medical Research",
          "United States of America/New York, NY/Rockefeller University",
          "Italy/Rome/Rome University",
          "United Kingdom/Bucksburn (Scotland)/Rowett Research Institute",
          "Sweden/Stockholm/Royal Institute of Technology",
          "United Kingdom/London/Royal Institution of Great Britain",
          "United States of America/New Brunswick, NJ/Rutgers University",
          "United States of America/New York, NY/SUNY Health Science Center",
          "United States of America/St. Louis, MO/Saint Louis University",
          "United States of America/Mountain View, CA/Semiconductor Laboratory of Beckman Instruments, Inc.",
          "United Kingdom/Sheffield/Sheffield University",
          "Japan/Kyoto/Shimadzu Corp.",
          "France/Paris/Sorbonne University",
          "United States of America/Memphis, TN/St. Jude Children's Research Hospital",
          "United Kingdom/Harlow/Standard Telecommunication Laboratories",
          "United States of America/Stanford, CA/Stanford Linear Accelerator Center",
          "United States of America/Stanford, CA/Stanford University",
          "Sweden/Stockholm/Stockholm School of Economics",
          "Sweden/Stockholm/Stockholm University",
          "France/Strasbourg/Strasbourg University",
          "Sweden/Lidingö-Stockholm/Swedish Gas-Accumulator Co.",
          "Hungary/Szeged/Szeged University",
          "Germany/Munich/Technical University",
          "Israel/Haifa/Technion - Israel Institute of Technology",
          "Germany/Munich/Technische Hochschule (Institute of Technology)",
          "United States of America/Dallas, TX/Texas Instruments",
          "United States of America/Philadelphia, PA/The Institute for Cancer Research",
          "United States of America/Buffalo, NY/The Medical Foundation of Buffalo",
          "United States of America/Berkeley, CA/The Molecular Sciences Institute",
          "Netherlands/Rotterdam/The Netherlands School of Economics",
          "United States of America/San Diego, CA/The Salk Institute",
          "United States of America/La Jolla, CA/The Scripps Research Institute",
          "United Kingdom/Beckenham/The Wellcome Research Laboratories",
          "United Kingdom/Cambridge/The Wellcome Trust Sanger Institute",
          "Japan/Tokyo/Tokyo Institute of Technology",
          "Japan/Tokyo/Tokyo University of Education",
          "France/Toulouse/Toulouse School of Economics (TSE)",
          "France/Toulouse/Toulouse University",
          "Ireland/Dublin/Trinity College",
          "United States of America/Medford, MA/Tufts University",
          "United States of America/Washington, DC/US Naval Research Laboratory",
          "United Kingdom/Liverpool/University College London",
          "United Kingdom/London/University College London",
          "Canada/Edmonton/University of Alberta",
          "Germany/Bonn/University of Bonn",
          "Canada/Vancouver/University of British Columbia",
          "United States of America/Berkeley, CA/University of California",
          "United States of America/Irvine, CA/University of California",
          "United States of America/Los Angeles, CA/University of California",
          "United States of America/San Diego, CA/University of California",
          "United States of America/San Francisco, CA/University of California",
          "United States of America/Santa Barbara, CA/University of California",
          "United Kingdom/Cambridge/University of Cambridge",
          "United States of America/Chicago, IL/University of Chicago",
          "United States of America/Boulder, CO/University of Colorado",
          "United Kingdom/Edinburgh/University of Edinburgh",
          "Germany/Breisgau/University of Freiburg",
          "Switzerland/Geneva/University of Geneva",
          "France/Grenoble/University of Grenoble",
          "Netherlands/Groningen/University of Groningen",
          "Germany/Heidelberg/University of Heidelberg",
          "Finland/Helsinki/University of Helsinki",
          "United States of America/Urbana, IL/University of Illinois",
          "Israel/Jerusalem/University of Jerusalem, Center for Rationality",
          "Switzerland/Lausanne/University of Lausanne",
          "Portugal/Lisbon/University of Lisbon",
          "United States of America/Maine ME/University of Maine",
          "United Kingdom/Manchester/University of Manchester",
          "United States of America/College Park, MD/University of Maryland, Department of Economics and School of Public Policy",
          "United States of America/Worcester, MA/University of Massachusetts Medical School",
          "United States of America/Minneapolis, MN/University of Minnesota",
          "United States of America/Columbia/University of Missouri",
          "Russia/Moscow/University of Moscow",
          "United States of America/Chapel Hill, NC/University of North Carolina",
          "United Kingdom/Nottingham/University of Nottingham, School of Physics and Astronomy",
          "Norway/Oslo/University of Oslo",
          "United Kingdom/Oxford/University of Oxford",
          "United States of America/Philadelphia, PA/University of Pennsylvania",
          "United States of America/Rochester, NY/University of Rochester",
          "United States of America/Los Angeles, CA/University of Southern California",
          "France/Strasbourg/University of Strasbourg",
          "United Kingdom/Brighton/University of Sussex",
          "United States of America/Austin TX/University of Texas",
          "United States of America/Houston, TX/University of Texas",
          "United States of America/Dallas, TX/University of Texas Southwestern Medical Center at Dallas",
          "Japan/Kashiwa/University of Tokyo",
          "Japan/Tokyo/University of Tokyo",
          "Canada/Toronto/University of Toronto",
          "Japan/Tokyo/University of Tsukuba",
          "United States of America/Salt Lake City, UT/University of Utah",
          "United States of America/Seattle, WA/University of Washington",
          "Canada/Waterloo/University of Waterloo",
          "United States of America/Madison, WI/University of Wisconsin",
          "Switzerland/Zurich/University of Zurich",
          "Belgium/Louvain/Université Catholique de Louvain",
          "Belgium/Brussels/Université Libre de Bruxelles",
          "France/Strasbourg/Université Louis Pasteur",
          "France/Orsay/Université Paris-Saclay",
          "France/Paris/Université de Paris, Laboratoire Immuno-Hématologie",
          "France/Strasbourg/Université de Strasbourg",
          "Sweden/Uppsala/Uppsala University",
          "Netherlands/Utrecht/Utrecht University",
          "United States of America/Nashville, TN/Vanderbilt University",
          "United States of America/New Orleans, LA/Veterans Administration Hospital",
          "United States of America/New York, NY/Veterans Administration Hospital",
          "United Kingdom/Manchester/Victoria University",
          "Austria/Vienna/Vienna University",
          "United States of America/Richmond, VA/Virginia Commonwealth University",
          "Australia/Melbourne/Walter and Eliza Hall Institute for Medical Research",
          "United States of America/St. Louis, MO/Washington University",
          "Israel/Rehovot/Weizmann Institute of Science",
          "United States of America/Research Triangle Park, NC/Wellcome Research Laboratories",
          "United States of America/Cleveland, OH/Western Reserve University",
          "France/Paris/World Foundation for AIDS Research and Prevention",
          "Germany/Würzburg/Würzburg University",
          "United States of America/New Haven, CT/Yale University",
          "France/Paris/École Nationale Supérieur des Mines de Paris",
          "France/Paris/École Normale Supérieure",
          "France/Palaiseau/École Polytechnique",
          "France/Paris/École Polytechnique",
          "France/Paris/École Supérieure de Physique et Chimie",
          "France/Paris/École municipale de physique et de chimie industrielles (Municipal School of Industrial Physics and Chemistry)",
          "Denmark/Aarhus",
          "Austria/Altenberg; Grünau im Almtal",
          "Netherlands/Amsterdam",
          "United States of America/Argonne, IL",
          "United States of America/Ashburn, VA",
          "United States of America/Austin TX",
          "United States of America/Baltimore, MD",
          "United States of America/Bar Harbor, ME",
          "Switzerland/Basel",
          "United States of America/Batavia, IL",
          "United Kingdom/Beckenham",
          "China/Beijing",
          "United States of America/Berkeley, CA",
          "Germany/Berlin",
          "Germany/Berlin-Dahlem",
          "Switzerland/Berne",
          "United States of America/Bethesda, MD",
          "United States of America/Beverly, MA",
          "United Kingdom/Birmingham",
          "United States of America/Bloomington, IN",
          "United Kingdom/Bodmin",
          "Germany/Bonn",
          "United States of America/Boston, MA",
          "United States of America/Boulder, CO",
          "Germany/Breisgau",
          "United Kingdom/Brighton",
          "United Kingdom/Bristol",
          "Belgium/Brussels",
          "United Kingdom/Bucksburn (Scotland)",
          "Argentina/Buenos Aires",
          "United States of America/Buffalo, NY",
          "India/Calcutta",
          "United Kingdom/Cambridge",
          "United States of America/Cambridge, MA",
          "Australia/Canberra",
          "United Kingdom/Cardiff",
          "United States of America/Chapel Hill, NC",
          "United States of America/Chevy Chase",
          "United States of America/Chicago, IL",
          "United States of America/Cleveland, OH",
          "United States of America/Cold Spring Harbor, NY",
          "United States of America/College Park, MD",
          "Germany/Cologne",
          "United States of America/Columbia",
          "Denmark/Copenhagen",
          "United States of America/Dallas, TX",
          "Ireland/Dublin",
          "United States of America/Durham, NC",
          "United Kingdom/Edinburgh",
          "Canada/Edmonton",
          "United States of America/Evanston, IL",
          "United States of America/Fairfax, VA",
          "Germany/Frankfurt-on-the-Main",
          "United States of America/Gaithersburg, MD",
          "Germany/Garching",
          "Switzerland/Geneva",
          "Belgium/Ghent",
          "Sweden/Gothenburg",
          "Austria/Graz",
          "United States of America/Greenbelt, MD",
          "United States of America/Greenwich, CT",
          "Germany/Greifswald",
          "France/Grenoble",
          "Netherlands/Groningen",
          "Germany/Göttingen",
          "Israel/Haifa",
          "Germany/Halle",
          "Canada/Hamilton, Ontario",
          "United Kingdom/Harlow",
          "United Kingdom/Harwell, Berkshire",
          "Germany/Heidelberg",
          "Finland/Helsinki",
          "United Kingdom/Hertfordshire",
          "United States of America/Holmdel, NJ",
          "United States of America/Houston, TX",
          "Austria/Innsbruck",
          "United States of America/Irvine, CA",
          "United States of America/Ithaca, NY",
          "Germany/J&uuml;lich",
          "Israel/Jerusalem",
          "Japan/Kashiwa",
          "Germany/Kiel",
          "Canada/Kingston",
          "Japan/Kyoto",
          "United States of America/La Jolla, CA",
          "Switzerland/Lausanne",
          "Netherlands/Leiden",
          "Germany/Leipzig",
          "Sweden/Lidingö-Stockholm",
          "Portugal/Lisbon",
          "United Kingdom/Liverpool",
          "United Kingdom/London",
          "United States of America/Los Angeles, CA",
          "Belgium/Louvain",
          "United States of America/Madison, NJ",
          "United States of America/Madison, WI",
          "Spain/Madrid",
          "United States of America/Maine ME",
          "Germany/Mainz",
          "United Kingdom/Manchester",
          "Germany/Marburg",
          "Germany/Martinsried",
          "United States of America/Medford, MA",
          "Australia/Melbourne",
          "United States of America/Memphis, TN",
          "Italy/Milan",
          "United States of America/Minneapolis, MN",
          "Russia/Moscow",
          "United States of America/Mountain View, CA",
          "Germany/Munich",
          "Germany/Munster",
          "United States of America/Murray Hill, NJ",
          "Germany/Mülheim/Ruhr",
          "Japan/Nagoya",
          "France/Nancy",
          "United States of America/Nashville, TN",
          "Australia/Nedlands",
          "United States of America/New Brunswick, NJ",
          "United States of America/New Haven, CT",
          "United States of America/New Orleans, LA",
          "United States of America/New York, NY",
          "United Kingdom/Nottingham",
          "France/Orsay",
          "Norway/Oslo",
          "Canada/Ottawa",
          "United Kingdom/Oxford",
          "France/Palaiseau",
          "France/Paris",
          "United States of America/Pasadena, CA",
          "Italy/Pavia",
          "United States of America/Philadelphia, PA",
          "United States of America/Pittsburgh, PA",
          "Czech Republic/Prague",
          "United States of America/Princeton, NJ",
          "United States of America/Providence, RI",
          "Israel/Rehovot",
          "United States of America/Research Triangle Park, NC",
          "United States of America/Richmond, VA",
          "United States of America/Rochester, MN",
          "United States of America/Rochester, NY",
          "Italy/Rome",
          "Netherlands/Rotterdam",
          "France/Rueil-Malmaison",
          "Switzerland/Rüschlikon",
          "United States of America/Salt Lake City, UT",
          "United States of America/San Diego, CA",
          "United States of America/San Francisco, CA",
          "United States of America/Santa Barbara, CA",
          "Japan/Sapporo",
          "United States of America/Schenectady, NY",
          "United States of America/Seattle, WA",
          "United Kingdom/Sheffield",
          "United States of America/St. Louis, MO",
          "Russia/St. Petersburg",
          "United States of America/Stanford, CA",
          "Sweden/Stockholm",
          "France/Strasbourg",
          "Germany/Stuttgart",
          "Hungary/Szeged",
          "France/Sèvres",
          "United States of America/Tempe, AZ",
          "Japan/Tokyo",
          "Canada/Toronto",
          "France/Toulouse",
          "Italy/Trieste",
          "Norway/Trondheim",
          "Japan/Tsukuba",
          "Tunisia/Tunis",
          "Germany/Tübingen",
          "Sweden/Uppsala",
          "United States of America/Urbana, IL",
          "Netherlands/Utrecht",
          "Canada/Vancouver",
          "Austria/Vienna",
          "United States of America/Waltham MA",
          "United States of America/Washington, DC",
          "Canada/Waterloo",
          "United States of America/West Lafayette, IN",
          "Australia/Weston Creek",
          "United States of America/Wilmington, DE",
          "United States of America/Woods Hole, MA",
          "United States of America/Worcester, MA",
          "Germany/Würzburg",
          "United States of America/Yorktown Heights, NY",
          "Switzerland/Zurich",
          "Argentina",
          "Australia",
          "Austria",
          "Belgium",
          "Canada",
          "China",
          "Czech Republic",
          "Denmark",
          "Finland",
          "France",
          "Germany",
          "Hungary",
          "India",
          "Ireland",
          "Israel",
          "Italy",
          "Japan",
          "Netherlands",
          "Norway",
          "Portugal",
          "Russia",
          "Spain",
          "Sweden",
          "Switzerland",
          "Tunisia",
          "United Kingdom",
          "United States of America"
         ],
         "labels": [
          "A.F. Ioffe Physico-Technical Institute",
          "Aarhus University",
          "Academy of Sciences",
          "Amsterdam University",
          "Argonne National Laboratory",
          "Arizona State University",
          "Asahi Kasei Corporation",
          "Associated Universities Inc.",
          "Atomic Energy Research Establishment",
          "Australian National University",
          "Australian National University",
          "Basel Institute for Immunology",
          "Basel University",
          "Bell Laboratories",
          "Bell Laboratories",
          "Bell Laboratories",
          "Berlin University",
          "Berne University",
          "Binghamton University State University of New York",
          "Biozentrum der Universität",
          "Birmingham University",
          "Brandeis University",
          "Brigham and Women's Hospital",
          "Bristol University",
          "Brown University",
          "Brussels University",
          "Bureau International des Poids et Mesures (International Bureau of Weights and Measures)",
          "CERN",
          "Calcutta University",
          "California Institute of Technology (Caltech)",
          "Cardiff University",
          "Carnegie Institution of Washington",
          "Carnegie Mellon University",
          "Center for Study of Public Choice",
          "Central Research Laboratories, EMI",
          "Children's Medical Center",
          "China Academy of Traditional Chinese Medicine",
          "City University of New York",
          "Cold Spring Harbor Laboratory",
          "Collège de France",
          "Cologne University",
          "Columbia University",
          "Copenhagen University",
          "Cornell University",
          "Department of Scientific and Industrial Research",
          "Digital Pathways, Inc.",
          "Drew University",
          "Du Pont",
          "Edinburgh University",
          "Eidgenössische Technische Hochschule (Swiss Federal Institute of Technology)",
          "Fermi National Accelerator Laboratory",
          "Finsen Medical Light Institute",
          "Forschungszentrum J&uuml;lich",
          "Francis Crick Institute",
          "Frankfurt-on-the-Main University",
          "Fred Hutchinson Cancer Research Center",
          "Fritz-Haber-Institut",
          "Fritz-Haber-Institut der Max-Planck-Gesellschaft",
          "General Electric Company",
          "George Mason University",
          "German Cancer Research Center",
          "Ghent University",
          "Glynn Research Laboratories",
          "Goettingen University",
          "Graz University",
          "Greifswald University",
          "Groningen University",
          "Gurdon Institute",
          "Göteborg University",
          "Halle University",
          "Harvard Medical School",
          "Harvard University",
          "High Energy Accelerator Research Organization (KEK)",
          "Hokkaido University",
          "Howard Hughes Medical Institute",
          "Howard Hughes Medical Institute",
          "IBM Thomas J. Watson Research Center",
          "IBM Zurich Research Laboratory",
          "Imperial Cancer Research Fund",
          "Imperial College",
          "Indiana University",
          "Innsbruck University",
          "Institut Français du Pétrole",
          "Institut Pasteur",
          "Institut Pasteur",
          "Institut du Radium",
          "Institute for Advanced Study",
          "Institute for Biochemical Research",
          "Institute for Chemical Physics of the Academy of Sciences of the USSR",
          "Institute for Infectious Diseases",
          "Institute of Cell Biology of the C.N.R.",
          "Institute of Physical Chemistry",
          "Institute of Technology",
          "Instituto de Biologia y Medicina Experimental (Institute for Biology and Experimental Medicine)",
          "International Centre for Theoretical Physics",
          "Istituto Superiore di Sanità (Chief Institute of Public Health)",
          "Jackson Laboratory",
          "Janelia Research Campus, Howard Hughes Medical Institute",
          "Johns Hopkins University",
          "Karolinska Institutet",
          "Kiel University",
          "Kitasato University",
          "Konrad-Lorenz-Institut der Österreichischen Akademie der Wissen­schaften, Forschungsstelle für Ethologie",
          "Kyoto Sangyo University",
          "Kyoto University",
          "Laboratories of the Division of Medicine and Public Health, Rockefeller Foundation",
          "Laboratorium der Farben-Fabriken J.R. Geigy A.G. (Laboratory of the J.R. Geigy Dye-Factory Co.)",
          "Landwirtschaftliche Hochschule (Agricultural College)",
          "Lawrence Berkeley National Laboratory",
          "Leiden University",
          "Leipzig University",
          "Liverpool University",
          "London School of Economics and Political Science",
          "London University",
          "Long Term Capital Management",
          "MRC Laboratory of Molecular Biology",
          "Madrid University",
          "Mainz University",
          "Marburg University",
          "Marconi Wireless Telegraph Co. Ltd.",
          "Marine Biological Laboratory (MBL)",
          "Massachusetts Institute of Technology (MIT)",
          "Max-Planck Institut",
          "Max-Planck Institut",
          "Max-Planck Institut",
          "Max-Planck-Institut",
          "Max-Planck-Institut",
          "Max-Planck-Institut",
          "Max-Planck-Institut",
          "Max-Planck-Institut",
          "Max-Planck-Institut",
          "Max-Planck-Institut",
          "Max-Planck-Institut",
          "Max-Planck-Institut",
          "Max-Planck-Institut",
          "Max-Planck-Institut",
          "Mayo Clinic",
          "McMaster University",
          "Meijo University",
          "Military Medical Academy",
          "Munich University",
          "Munster University",
          "NASA Goddard Space Flight Center",
          "NHMRC Helicobacter pylori Research Laboratory, QEII Medical Centre",
          "Nagoya University",
          "Nancy University",
          "National Institute for Medical Research",
          "National Institute of Environmental Health Sciences",
          "National Institute of Standards and Technology",
          "National Institute of Standards and Technology",
          "National Institutes of Health",
          "National Research Council of Canada",
          "New England Biolabs",
          "New York University",
          "Niels Bohr Institute",
          "Nordita",
          "Northwestern University",
          "Norwegian University of Science and Technology (NTNU)",
          "P.N. Lebedev Physical Institute",
          "Parker Institute for Cancer Immunotherapy",
          "Pavia University",
          "Polarographic Institute of the Czechoslovak Academy of Science",
          "Polytechnic Institute",
          "Princeton University",
          "Purdue University",
          "Queen's University",
          "Rheinische Friedrich-Wilhelms-Universität",
          "Rice University",
          "Rockefeller Institute for Medical Research",
          "Rockefeller Institute for Medical Research",
          "Rockefeller University",
          "Rome University",
          "Rowett Research Institute",
          "Royal Institute of Technology",
          "Royal Institution of Great Britain",
          "Rutgers University",
          "SUNY Health Science Center",
          "Saint Louis University",
          "Semiconductor Laboratory of Beckman Instruments, Inc.",
          "Sheffield University",
          "Shimadzu Corp.",
          "Sorbonne University",
          "St. Jude Children's Research Hospital",
          "Standard Telecommunication Laboratories",
          "Stanford Linear Accelerator Center",
          "Stanford University",
          "Stockholm School of Economics",
          "Stockholm University",
          "Strasbourg University",
          "Swedish Gas-Accumulator Co.",
          "Szeged University",
          "Technical University",
          "Technion - Israel Institute of Technology",
          "Technische Hochschule (Institute of Technology)",
          "Texas Instruments",
          "The Institute for Cancer Research",
          "The Medical Foundation of Buffalo",
          "The Molecular Sciences Institute",
          "The Netherlands School of Economics",
          "The Salk Institute",
          "The Scripps Research Institute",
          "The Wellcome Research Laboratories",
          "The Wellcome Trust Sanger Institute",
          "Tokyo Institute of Technology",
          "Tokyo University of Education",
          "Toulouse School of Economics (TSE)",
          "Toulouse University",
          "Trinity College",
          "Tufts University",
          "US Naval Research Laboratory",
          "University College London",
          "University College London",
          "University of Alberta",
          "University of Bonn",
          "University of British Columbia",
          "University of California",
          "University of California",
          "University of California",
          "University of California",
          "University of California",
          "University of California",
          "University of Cambridge",
          "University of Chicago",
          "University of Colorado",
          "University of Edinburgh",
          "University of Freiburg",
          "University of Geneva",
          "University of Grenoble",
          "University of Groningen",
          "University of Heidelberg",
          "University of Helsinki",
          "University of Illinois",
          "University of Jerusalem, Center for Rationality",
          "University of Lausanne",
          "University of Lisbon",
          "University of Maine",
          "University of Manchester",
          "University of Maryland, Department of Economics and School of Public Policy",
          "University of Massachusetts Medical School",
          "University of Minnesota",
          "University of Missouri",
          "University of Moscow",
          "University of North Carolina",
          "University of Nottingham, School of Physics and Astronomy",
          "University of Oslo",
          "University of Oxford",
          "University of Pennsylvania",
          "University of Rochester",
          "University of Southern California",
          "University of Strasbourg",
          "University of Sussex",
          "University of Texas",
          "University of Texas",
          "University of Texas Southwestern Medical Center at Dallas",
          "University of Tokyo",
          "University of Tokyo",
          "University of Toronto",
          "University of Tsukuba",
          "University of Utah",
          "University of Washington",
          "University of Waterloo",
          "University of Wisconsin",
          "University of Zurich",
          "Université Catholique de Louvain",
          "Université Libre de Bruxelles",
          "Université Louis Pasteur",
          "Université Paris-Saclay",
          "Université de Paris, Laboratoire Immuno-Hématologie",
          "Université de Strasbourg",
          "Uppsala University",
          "Utrecht University",
          "Vanderbilt University",
          "Veterans Administration Hospital",
          "Veterans Administration Hospital",
          "Victoria University",
          "Vienna University",
          "Virginia Commonwealth University",
          "Walter and Eliza Hall Institute for Medical Research",
          "Washington University",
          "Weizmann Institute of Science",
          "Wellcome Research Laboratories",
          "Western Reserve University",
          "World Foundation for AIDS Research and Prevention",
          "Würzburg University",
          "Yale University",
          "École Nationale Supérieur des Mines de Paris",
          "École Normale Supérieure",
          "École Polytechnique",
          "École Polytechnique",
          "École Supérieure de Physique et Chimie",
          "École municipale de physique et de chimie industrielles (Municipal School of Industrial Physics and Chemistry)",
          "Aarhus",
          "Altenberg; Grünau im Almtal",
          "Amsterdam",
          "Argonne, IL",
          "Ashburn, VA",
          "Austin TX",
          "Baltimore, MD",
          "Bar Harbor, ME",
          "Basel",
          "Batavia, IL",
          "Beckenham",
          "Beijing",
          "Berkeley, CA",
          "Berlin",
          "Berlin-Dahlem",
          "Berne",
          "Bethesda, MD",
          "Beverly, MA",
          "Birmingham",
          "Bloomington, IN",
          "Bodmin",
          "Bonn",
          "Boston, MA",
          "Boulder, CO",
          "Breisgau",
          "Brighton",
          "Bristol",
          "Brussels",
          "Bucksburn (Scotland)",
          "Buenos Aires",
          "Buffalo, NY",
          "Calcutta",
          "Cambridge",
          "Cambridge, MA",
          "Canberra",
          "Cardiff",
          "Chapel Hill, NC",
          "Chevy Chase",
          "Chicago, IL",
          "Cleveland, OH",
          "Cold Spring Harbor, NY",
          "College Park, MD",
          "Cologne",
          "Columbia",
          "Copenhagen",
          "Dallas, TX",
          "Dublin",
          "Durham, NC",
          "Edinburgh",
          "Edmonton",
          "Evanston, IL",
          "Fairfax, VA",
          "Frankfurt-on-the-Main",
          "Gaithersburg, MD",
          "Garching",
          "Geneva",
          "Ghent",
          "Gothenburg",
          "Graz",
          "Greenbelt, MD",
          "Greenwich, CT",
          "Greifswald",
          "Grenoble",
          "Groningen",
          "Göttingen",
          "Haifa",
          "Halle",
          "Hamilton, Ontario",
          "Harlow",
          "Harwell, Berkshire",
          "Heidelberg",
          "Helsinki",
          "Hertfordshire",
          "Holmdel, NJ",
          "Houston, TX",
          "Innsbruck",
          "Irvine, CA",
          "Ithaca, NY",
          "J&uuml;lich",
          "Jerusalem",
          "Kashiwa",
          "Kiel",
          "Kingston",
          "Kyoto",
          "La Jolla, CA",
          "Lausanne",
          "Leiden",
          "Leipzig",
          "Lidingö-Stockholm",
          "Lisbon",
          "Liverpool",
          "London",
          "Los Angeles, CA",
          "Louvain",
          "Madison, NJ",
          "Madison, WI",
          "Madrid",
          "Maine ME",
          "Mainz",
          "Manchester",
          "Marburg",
          "Martinsried",
          "Medford, MA",
          "Melbourne",
          "Memphis, TN",
          "Milan",
          "Minneapolis, MN",
          "Moscow",
          "Mountain View, CA",
          "Munich",
          "Munster",
          "Murray Hill, NJ",
          "Mülheim/Ruhr",
          "Nagoya",
          "Nancy",
          "Nashville, TN",
          "Nedlands",
          "New Brunswick, NJ",
          "New Haven, CT",
          "New Orleans, LA",
          "New York, NY",
          "Nottingham",
          "Orsay",
          "Oslo",
          "Ottawa",
          "Oxford",
          "Palaiseau",
          "Paris",
          "Pasadena, CA",
          "Pavia",
          "Philadelphia, PA",
          "Pittsburgh, PA",
          "Prague",
          "Princeton, NJ",
          "Providence, RI",
          "Rehovot",
          "Research Triangle Park, NC",
          "Richmond, VA",
          "Rochester, MN",
          "Rochester, NY",
          "Rome",
          "Rotterdam",
          "Rueil-Malmaison",
          "Rüschlikon",
          "Salt Lake City, UT",
          "San Diego, CA",
          "San Francisco, CA",
          "Santa Barbara, CA",
          "Sapporo",
          "Schenectady, NY",
          "Seattle, WA",
          "Sheffield",
          "St. Louis, MO",
          "St. Petersburg",
          "Stanford, CA",
          "Stockholm",
          "Strasbourg",
          "Stuttgart",
          "Szeged",
          "Sèvres",
          "Tempe, AZ",
          "Tokyo",
          "Toronto",
          "Toulouse",
          "Trieste",
          "Trondheim",
          "Tsukuba",
          "Tunis",
          "Tübingen",
          "Uppsala",
          "Urbana, IL",
          "Utrecht",
          "Vancouver",
          "Vienna",
          "Waltham MA",
          "Washington, DC",
          "Waterloo",
          "West Lafayette, IN",
          "Weston Creek",
          "Wilmington, DE",
          "Woods Hole, MA",
          "Worcester, MA",
          "Würzburg",
          "Yorktown Heights, NY",
          "Zurich",
          "Argentina",
          "Australia",
          "Austria",
          "Belgium",
          "Canada",
          "China",
          "Czech Republic",
          "Denmark",
          "Finland",
          "France",
          "Germany",
          "Hungary",
          "India",
          "Ireland",
          "Israel",
          "Italy",
          "Japan",
          "Netherlands",
          "Norway",
          "Portugal",
          "Russia",
          "Spain",
          "Sweden",
          "Switzerland",
          "Tunisia",
          "United Kingdom",
          "United States of America"
         ],
         "name": "",
         "parents": [
          "Russia/St. Petersburg",
          "Denmark/Aarhus",
          "Russia/Moscow",
          "Netherlands/Amsterdam",
          "United States of America/Argonne, IL",
          "United States of America/Tempe, AZ",
          "Japan/Tokyo",
          "United States of America/Washington, DC",
          "United Kingdom/Harwell, Berkshire",
          "Australia/Canberra",
          "Australia/Weston Creek",
          "Switzerland/Basel",
          "Switzerland/Basel",
          "United States of America/Holmdel, NJ",
          "United States of America/Murray Hill, NJ",
          "United States of America/New York, NY",
          "Germany/Berlin",
          "Switzerland/Berne",
          "United States of America/New York, NY",
          "Switzerland/Basel",
          "United Kingdom/Birmingham",
          "United States of America/Waltham MA",
          "United States of America/Boston, MA",
          "United Kingdom/Bristol",
          "United States of America/Providence, RI",
          "Belgium/Brussels",
          "France/Sèvres",
          "Switzerland/Geneva",
          "India/Calcutta",
          "United States of America/Pasadena, CA",
          "United Kingdom/Cardiff",
          "United States of America/New York, NY",
          "United States of America/Pittsburgh, PA",
          "United States of America/Fairfax, VA",
          "United Kingdom/London",
          "United States of America/Boston, MA",
          "China/Beijing",
          "United States of America/New York, NY",
          "United States of America/Cold Spring Harbor, NY",
          "France/Paris",
          "Germany/Cologne",
          "United States of America/New York, NY",
          "Denmark/Copenhagen",
          "United States of America/Ithaca, NY",
          "United Kingdom/London",
          "United States of America/Mountain View, CA",
          "United States of America/Madison, NJ",
          "United States of America/Wilmington, DE",
          "United Kingdom/Edinburgh",
          "Switzerland/Zurich",
          "United States of America/Batavia, IL",
          "Denmark/Copenhagen",
          "Germany/J&uuml;lich",
          "United Kingdom/Hertfordshire",
          "Germany/Frankfurt-on-the-Main",
          "United States of America/Seattle, WA",
          "Germany/Berlin-Dahlem",
          "Germany/Berlin",
          "United States of America/Schenectady, NY",
          "United States of America/Fairfax, VA",
          "Germany/Heidelberg",
          "Belgium/Ghent",
          "United Kingdom/Bodmin",
          "Germany/Göttingen",
          "Austria/Graz",
          "Germany/Greifswald",
          "Netherlands/Groningen",
          "United Kingdom/Cambridge",
          "Sweden/Gothenburg",
          "Germany/Halle",
          "United States of America/Boston, MA",
          "United States of America/Cambridge, MA",
          "Japan/Tsukuba",
          "Japan/Sapporo",
          "United States of America/Chevy Chase",
          "United States of America/Durham, NC",
          "United States of America/Yorktown Heights, NY",
          "Switzerland/Rüschlikon",
          "United Kingdom/London",
          "United Kingdom/London",
          "United States of America/Bloomington, IN",
          "Austria/Innsbruck",
          "France/Rueil-Malmaison",
          "France/Paris",
          "Tunisia/Tunis",
          "France/Paris",
          "United States of America/Princeton, NJ",
          "Argentina/Buenos Aires",
          "Russia/Moscow",
          "Germany/Berlin",
          "Italy/Rome",
          "United Kingdom/Cambridge",
          "Italy/Milan",
          "Argentina/Buenos Aires",
          "Italy/Trieste",
          "Italy/Rome",
          "United States of America/Bar Harbor, ME",
          "United States of America/Ashburn, VA",
          "United States of America/Baltimore, MD",
          "Sweden/Stockholm",
          "Germany/Kiel",
          "Japan/Tokyo",
          "Austria/Altenberg; Grünau im Almtal",
          "Japan/Kyoto",
          "Japan/Kyoto",
          "United States of America/New York, NY",
          "Switzerland/Basel",
          "Germany/Berlin",
          "United States of America/Berkeley, CA",
          "Netherlands/Leiden",
          "Germany/Leipzig",
          "United Kingdom/Liverpool",
          "United Kingdom/London",
          "United Kingdom/London",
          "United States of America/Greenwich, CT",
          "United Kingdom/Cambridge",
          "Spain/Madrid",
          "Germany/Mainz",
          "Germany/Marburg",
          "United Kingdom/London",
          "United States of America/Woods Hole, MA",
          "United States of America/Cambridge, MA",
          "Germany/Berlin",
          "Germany/Berlin-Dahlem",
          "Germany/Heidelberg",
          "Germany/Berlin",
          "Germany/Frankfurt-on-the-Main",
          "Germany/Garching",
          "Germany/Göttingen",
          "Germany/Heidelberg",
          "Germany/Mainz",
          "Germany/Martinsried",
          "Germany/Munich",
          "Germany/Mülheim/Ruhr",
          "Germany/Stuttgart",
          "Germany/Tübingen",
          "United States of America/Rochester, MN",
          "Canada/Hamilton, Ontario",
          "Japan/Nagoya",
          "Russia/St. Petersburg",
          "Germany/Munich",
          "Germany/Munster",
          "United States of America/Greenbelt, MD",
          "Australia/Nedlands",
          "Japan/Nagoya",
          "France/Nancy",
          "United Kingdom/London",
          "United States of America/Research Triangle Park, NC",
          "United States of America/Boulder, CO",
          "United States of America/Gaithersburg, MD",
          "United States of America/Bethesda, MD",
          "Canada/Ottawa",
          "United States of America/Beverly, MA",
          "United States of America/New York, NY",
          "Denmark/Copenhagen",
          "Denmark/Copenhagen",
          "United States of America/Evanston, IL",
          "Norway/Trondheim",
          "Russia/Moscow",
          "United States of America/San Francisco, CA",
          "Italy/Pavia",
          "Czech Republic/Prague",
          "Denmark/Copenhagen",
          "United States of America/Princeton, NJ",
          "United States of America/West Lafayette, IN",
          "Canada/Kingston",
          "Germany/Bonn",
          "United States of America/Houston, TX",
          "United States of America/New York, NY",
          "United States of America/Princeton, NJ",
          "United States of America/New York, NY",
          "Italy/Rome",
          "United Kingdom/Bucksburn (Scotland)",
          "Sweden/Stockholm",
          "United Kingdom/London",
          "United States of America/New Brunswick, NJ",
          "United States of America/New York, NY",
          "United States of America/St. Louis, MO",
          "United States of America/Mountain View, CA",
          "United Kingdom/Sheffield",
          "Japan/Kyoto",
          "France/Paris",
          "United States of America/Memphis, TN",
          "United Kingdom/Harlow",
          "United States of America/Stanford, CA",
          "United States of America/Stanford, CA",
          "Sweden/Stockholm",
          "Sweden/Stockholm",
          "France/Strasbourg",
          "Sweden/Lidingö-Stockholm",
          "Hungary/Szeged",
          "Germany/Munich",
          "Israel/Haifa",
          "Germany/Munich",
          "United States of America/Dallas, TX",
          "United States of America/Philadelphia, PA",
          "United States of America/Buffalo, NY",
          "United States of America/Berkeley, CA",
          "Netherlands/Rotterdam",
          "United States of America/San Diego, CA",
          "United States of America/La Jolla, CA",
          "United Kingdom/Beckenham",
          "United Kingdom/Cambridge",
          "Japan/Tokyo",
          "Japan/Tokyo",
          "France/Toulouse",
          "France/Toulouse",
          "Ireland/Dublin",
          "United States of America/Medford, MA",
          "United States of America/Washington, DC",
          "United Kingdom/Liverpool",
          "United Kingdom/London",
          "Canada/Edmonton",
          "Germany/Bonn",
          "Canada/Vancouver",
          "United States of America/Berkeley, CA",
          "United States of America/Irvine, CA",
          "United States of America/Los Angeles, CA",
          "United States of America/San Diego, CA",
          "United States of America/San Francisco, CA",
          "United States of America/Santa Barbara, CA",
          "United Kingdom/Cambridge",
          "United States of America/Chicago, IL",
          "United States of America/Boulder, CO",
          "United Kingdom/Edinburgh",
          "Germany/Breisgau",
          "Switzerland/Geneva",
          "France/Grenoble",
          "Netherlands/Groningen",
          "Germany/Heidelberg",
          "Finland/Helsinki",
          "United States of America/Urbana, IL",
          "Israel/Jerusalem",
          "Switzerland/Lausanne",
          "Portugal/Lisbon",
          "United States of America/Maine ME",
          "United Kingdom/Manchester",
          "United States of America/College Park, MD",
          "United States of America/Worcester, MA",
          "United States of America/Minneapolis, MN",
          "United States of America/Columbia",
          "Russia/Moscow",
          "United States of America/Chapel Hill, NC",
          "United Kingdom/Nottingham",
          "Norway/Oslo",
          "United Kingdom/Oxford",
          "United States of America/Philadelphia, PA",
          "United States of America/Rochester, NY",
          "United States of America/Los Angeles, CA",
          "France/Strasbourg",
          "United Kingdom/Brighton",
          "United States of America/Austin TX",
          "United States of America/Houston, TX",
          "United States of America/Dallas, TX",
          "Japan/Kashiwa",
          "Japan/Tokyo",
          "Canada/Toronto",
          "Japan/Tokyo",
          "United States of America/Salt Lake City, UT",
          "United States of America/Seattle, WA",
          "Canada/Waterloo",
          "United States of America/Madison, WI",
          "Switzerland/Zurich",
          "Belgium/Louvain",
          "Belgium/Brussels",
          "France/Strasbourg",
          "France/Orsay",
          "France/Paris",
          "France/Strasbourg",
          "Sweden/Uppsala",
          "Netherlands/Utrecht",
          "United States of America/Nashville, TN",
          "United States of America/New Orleans, LA",
          "United States of America/New York, NY",
          "United Kingdom/Manchester",
          "Austria/Vienna",
          "United States of America/Richmond, VA",
          "Australia/Melbourne",
          "United States of America/St. Louis, MO",
          "Israel/Rehovot",
          "United States of America/Research Triangle Park, NC",
          "United States of America/Cleveland, OH",
          "France/Paris",
          "Germany/Würzburg",
          "United States of America/New Haven, CT",
          "France/Paris",
          "France/Paris",
          "France/Palaiseau",
          "France/Paris",
          "France/Paris",
          "France/Paris",
          "Denmark",
          "Austria",
          "Netherlands",
          "United States of America",
          "United States of America",
          "United States of America",
          "United States of America",
          "United States of America",
          "Switzerland",
          "United States of America",
          "United Kingdom",
          "China",
          "United States of America",
          "Germany",
          "Germany",
          "Switzerland",
          "United States of America",
          "United States of America",
          "United Kingdom",
          "United States of America",
          "United Kingdom",
          "Germany",
          "United States of America",
          "United States of America",
          "Germany",
          "United Kingdom",
          "United Kingdom",
          "Belgium",
          "United Kingdom",
          "Argentina",
          "United States of America",
          "India",
          "United Kingdom",
          "United States of America",
          "Australia",
          "United Kingdom",
          "United States of America",
          "United States of America",
          "United States of America",
          "United States of America",
          "United States of America",
          "United States of America",
          "Germany",
          "United States of America",
          "Denmark",
          "United States of America",
          "Ireland",
          "United States of America",
          "United Kingdom",
          "Canada",
          "United States of America",
          "United States of America",
          "Germany",
          "United States of America",
          "Germany",
          "Switzerland",
          "Belgium",
          "Sweden",
          "Austria",
          "United States of America",
          "United States of America",
          "Germany",
          "France",
          "Netherlands",
          "Germany",
          "Israel",
          "Germany",
          "Canada",
          "United Kingdom",
          "United Kingdom",
          "Germany",
          "Finland",
          "United Kingdom",
          "United States of America",
          "United States of America",
          "Austria",
          "United States of America",
          "United States of America",
          "Germany",
          "Israel",
          "Japan",
          "Germany",
          "Canada",
          "Japan",
          "United States of America",
          "Switzerland",
          "Netherlands",
          "Germany",
          "Sweden",
          "Portugal",
          "United Kingdom",
          "United Kingdom",
          "United States of America",
          "Belgium",
          "United States of America",
          "United States of America",
          "Spain",
          "United States of America",
          "Germany",
          "United Kingdom",
          "Germany",
          "Germany",
          "United States of America",
          "Australia",
          "United States of America",
          "Italy",
          "United States of America",
          "Russia",
          "United States of America",
          "Germany",
          "Germany",
          "United States of America",
          "Germany",
          "Japan",
          "France",
          "United States of America",
          "Australia",
          "United States of America",
          "United States of America",
          "United States of America",
          "United States of America",
          "United Kingdom",
          "France",
          "Norway",
          "Canada",
          "United Kingdom",
          "France",
          "France",
          "United States of America",
          "Italy",
          "United States of America",
          "United States of America",
          "Czech Republic",
          "United States of America",
          "United States of America",
          "Israel",
          "United States of America",
          "United States of America",
          "United States of America",
          "United States of America",
          "Italy",
          "Netherlands",
          "France",
          "Switzerland",
          "United States of America",
          "United States of America",
          "United States of America",
          "United States of America",
          "Japan",
          "United States of America",
          "United States of America",
          "United Kingdom",
          "United States of America",
          "Russia",
          "United States of America",
          "Sweden",
          "France",
          "Germany",
          "Hungary",
          "France",
          "United States of America",
          "Japan",
          "Canada",
          "France",
          "Italy",
          "Norway",
          "Japan",
          "Tunisia",
          "Germany",
          "Sweden",
          "United States of America",
          "Netherlands",
          "Canada",
          "Austria",
          "United States of America",
          "United States of America",
          "Canada",
          "United States of America",
          "Australia",
          "United States of America",
          "United States of America",
          "United States of America",
          "Germany",
          "United States of America",
          "Switzerland",
          "",
          "",
          "",
          "",
          "",
          "",
          "",
          "",
          "",
          "",
          "",
          "",
          "",
          "",
          "",
          "",
          "",
          "",
          "",
          "",
          "",
          "",
          "",
          "",
          "",
          "",
          ""
         ],
         "type": "sunburst",
         "values": [
          1,
          1,
          3,
          2,
          1,
          1,
          1,
          1,
          1,
          1,
          1,
          2,
          1,
          3,
          4,
          1,
          6,
          1,
          1,
          1,
          1,
          1,
          1,
          1,
          2,
          1,
          1,
          3,
          1,
          17,
          1,
          1,
          3,
          1,
          1,
          1,
          1,
          1,
          1,
          3,
          1,
          17,
          3,
          8,
          1,
          1,
          1,
          1,
          2,
          4,
          1,
          1,
          1,
          1,
          1,
          3,
          1,
          2,
          2,
          1,
          1,
          1,
          1,
          5,
          2,
          1,
          1,
          1,
          1,
          1,
          7,
          29,
          1,
          1,
          1,
          1,
          1,
          4,
          3,
          3,
          2,
          1,
          1,
          6,
          1,
          2,
          2,
          1,
          1,
          1,
          1,
          1,
          1,
          1,
          1,
          1,
          1,
          1,
          6,
          5,
          3,
          1,
          1,
          1,
          4,
          1,
          1,
          1,
          1,
          3,
          2,
          1,
          1,
          7,
          1,
          10,
          1,
          1,
          1,
          1,
          1,
          21,
          1,
          3,
          1,
          1,
          1,
          1,
          3,
          1,
          1,
          1,
          1,
          1,
          1,
          1,
          2,
          1,
          1,
          1,
          5,
          1,
          1,
          1,
          2,
          1,
          2,
          1,
          1,
          1,
          5,
          1,
          1,
          4,
          1,
          1,
          3,
          2,
          4,
          1,
          1,
          1,
          1,
          15,
          2,
          1,
          1,
          2,
          4,
          2,
          13,
          1,
          1,
          1,
          2,
          1,
          1,
          1,
          1,
          1,
          1,
          7,
          1,
          1,
          1,
          23,
          1,
          3,
          1,
          1,
          1,
          2,
          3,
          1,
          1,
          1,
          1,
          1,
          1,
          1,
          1,
          1,
          1,
          1,
          1,
          1,
          1,
          1,
          1,
          1,
          1,
          6,
          1,
          1,
          1,
          19,
          3,
          6,
          3,
          4,
          5,
          18,
          20,
          4,
          1,
          2,
          2,
          1,
          1,
          6,
          1,
          4,
          1,
          1,
          1,
          1,
          2,
          1,
          1,
          1,
          1,
          2,
          2,
          1,
          3,
          12,
          4,
          1,
          2,
          2,
          2,
          1,
          1,
          5,
          1,
          1,
          3,
          1,
          1,
          4,
          1,
          3,
          4,
          1,
          2,
          1,
          1,
          1,
          1,
          5,
          2,
          2,
          1,
          1,
          3,
          2,
          1,
          1,
          4,
          1,
          2,
          1,
          1,
          1,
          9,
          1,
          1,
          1,
          1,
          1,
          1,
          1,
          1,
          2,
          1,
          1,
          1,
          6,
          1,
          5,
          1,
          1,
          1,
          21,
          12,
          4,
          1,
          5,
          1,
          1,
          2,
          1,
          2,
          9,
          5,
          2,
          2,
          1,
          3,
          1,
          2,
          1,
          1,
          31,
          50,
          1,
          1,
          2,
          1,
          20,
          1,
          1,
          1,
          1,
          1,
          7,
          6,
          1,
          1,
          3,
          1,
          3,
          2,
          2,
          1,
          1,
          5,
          1,
          1,
          2,
          1,
          1,
          1,
          1,
          2,
          8,
          3,
          1,
          1,
          1,
          1,
          9,
          1,
          1,
          3,
          3,
          1,
          3,
          8,
          1,
          1,
          1,
          3,
          1,
          6,
          1,
          1,
          3,
          2,
          1,
          1,
          2,
          27,
          8,
          1,
          1,
          3,
          1,
          1,
          2,
          5,
          1,
          1,
          1,
          1,
          1,
          1,
          1,
          10,
          2,
          9,
          1,
          4,
          1,
          3,
          1,
          2,
          1,
          1,
          9,
          1,
          45,
          1,
          1,
          3,
          1,
          12,
          1,
          25,
          17,
          1,
          5,
          3,
          1,
          19,
          2,
          1,
          3,
          1,
          2,
          1,
          3,
          1,
          1,
          4,
          1,
          4,
          5,
          5,
          1,
          2,
          7,
          1,
          5,
          2,
          24,
          10,
          5,
          1,
          1,
          1,
          1,
          6,
          3,
          2,
          1,
          2,
          1,
          1,
          1,
          5,
          4,
          2,
          1,
          2,
          1,
          2,
          1,
          2,
          1,
          1,
          1,
          1,
          1,
          1,
          8,
          2,
          4,
          6,
          5,
          9,
          1,
          1,
          8,
          1,
          38,
          67,
          1,
          1,
          1,
          5,
          6,
          18,
          10,
          5,
          1,
          12,
          1,
          17,
          24,
          1,
          93,
          365
         ]
        }
       ],
       "layout": {
        "coloraxis": {
         "showscale": false
        },
        "legend": {
         "tracegroupgap": 0
        },
        "template": {
         "data": {
          "bar": [
           {
            "error_x": {
             "color": "#2a3f5f"
            },
            "error_y": {
             "color": "#2a3f5f"
            },
            "marker": {
             "line": {
              "color": "#E5ECF6",
              "width": 0.5
             },
             "pattern": {
              "fillmode": "overlay",
              "size": 10,
              "solidity": 0.2
             }
            },
            "type": "bar"
           }
          ],
          "barpolar": [
           {
            "marker": {
             "line": {
              "color": "#E5ECF6",
              "width": 0.5
             },
             "pattern": {
              "fillmode": "overlay",
              "size": 10,
              "solidity": 0.2
             }
            },
            "type": "barpolar"
           }
          ],
          "carpet": [
           {
            "aaxis": {
             "endlinecolor": "#2a3f5f",
             "gridcolor": "white",
             "linecolor": "white",
             "minorgridcolor": "white",
             "startlinecolor": "#2a3f5f"
            },
            "baxis": {
             "endlinecolor": "#2a3f5f",
             "gridcolor": "white",
             "linecolor": "white",
             "minorgridcolor": "white",
             "startlinecolor": "#2a3f5f"
            },
            "type": "carpet"
           }
          ],
          "choropleth": [
           {
            "colorbar": {
             "outlinewidth": 0,
             "ticks": ""
            },
            "type": "choropleth"
           }
          ],
          "contour": [
           {
            "colorbar": {
             "outlinewidth": 0,
             "ticks": ""
            },
            "colorscale": [
             [
              0,
              "#0d0887"
             ],
             [
              0.1111111111111111,
              "#46039f"
             ],
             [
              0.2222222222222222,
              "#7201a8"
             ],
             [
              0.3333333333333333,
              "#9c179e"
             ],
             [
              0.4444444444444444,
              "#bd3786"
             ],
             [
              0.5555555555555556,
              "#d8576b"
             ],
             [
              0.6666666666666666,
              "#ed7953"
             ],
             [
              0.7777777777777778,
              "#fb9f3a"
             ],
             [
              0.8888888888888888,
              "#fdca26"
             ],
             [
              1,
              "#f0f921"
             ]
            ],
            "type": "contour"
           }
          ],
          "contourcarpet": [
           {
            "colorbar": {
             "outlinewidth": 0,
             "ticks": ""
            },
            "type": "contourcarpet"
           }
          ],
          "heatmap": [
           {
            "colorbar": {
             "outlinewidth": 0,
             "ticks": ""
            },
            "colorscale": [
             [
              0,
              "#0d0887"
             ],
             [
              0.1111111111111111,
              "#46039f"
             ],
             [
              0.2222222222222222,
              "#7201a8"
             ],
             [
              0.3333333333333333,
              "#9c179e"
             ],
             [
              0.4444444444444444,
              "#bd3786"
             ],
             [
              0.5555555555555556,
              "#d8576b"
             ],
             [
              0.6666666666666666,
              "#ed7953"
             ],
             [
              0.7777777777777778,
              "#fb9f3a"
             ],
             [
              0.8888888888888888,
              "#fdca26"
             ],
             [
              1,
              "#f0f921"
             ]
            ],
            "type": "heatmap"
           }
          ],
          "heatmapgl": [
           {
            "colorbar": {
             "outlinewidth": 0,
             "ticks": ""
            },
            "colorscale": [
             [
              0,
              "#0d0887"
             ],
             [
              0.1111111111111111,
              "#46039f"
             ],
             [
              0.2222222222222222,
              "#7201a8"
             ],
             [
              0.3333333333333333,
              "#9c179e"
             ],
             [
              0.4444444444444444,
              "#bd3786"
             ],
             [
              0.5555555555555556,
              "#d8576b"
             ],
             [
              0.6666666666666666,
              "#ed7953"
             ],
             [
              0.7777777777777778,
              "#fb9f3a"
             ],
             [
              0.8888888888888888,
              "#fdca26"
             ],
             [
              1,
              "#f0f921"
             ]
            ],
            "type": "heatmapgl"
           }
          ],
          "histogram": [
           {
            "marker": {
             "pattern": {
              "fillmode": "overlay",
              "size": 10,
              "solidity": 0.2
             }
            },
            "type": "histogram"
           }
          ],
          "histogram2d": [
           {
            "colorbar": {
             "outlinewidth": 0,
             "ticks": ""
            },
            "colorscale": [
             [
              0,
              "#0d0887"
             ],
             [
              0.1111111111111111,
              "#46039f"
             ],
             [
              0.2222222222222222,
              "#7201a8"
             ],
             [
              0.3333333333333333,
              "#9c179e"
             ],
             [
              0.4444444444444444,
              "#bd3786"
             ],
             [
              0.5555555555555556,
              "#d8576b"
             ],
             [
              0.6666666666666666,
              "#ed7953"
             ],
             [
              0.7777777777777778,
              "#fb9f3a"
             ],
             [
              0.8888888888888888,
              "#fdca26"
             ],
             [
              1,
              "#f0f921"
             ]
            ],
            "type": "histogram2d"
           }
          ],
          "histogram2dcontour": [
           {
            "colorbar": {
             "outlinewidth": 0,
             "ticks": ""
            },
            "colorscale": [
             [
              0,
              "#0d0887"
             ],
             [
              0.1111111111111111,
              "#46039f"
             ],
             [
              0.2222222222222222,
              "#7201a8"
             ],
             [
              0.3333333333333333,
              "#9c179e"
             ],
             [
              0.4444444444444444,
              "#bd3786"
             ],
             [
              0.5555555555555556,
              "#d8576b"
             ],
             [
              0.6666666666666666,
              "#ed7953"
             ],
             [
              0.7777777777777778,
              "#fb9f3a"
             ],
             [
              0.8888888888888888,
              "#fdca26"
             ],
             [
              1,
              "#f0f921"
             ]
            ],
            "type": "histogram2dcontour"
           }
          ],
          "mesh3d": [
           {
            "colorbar": {
             "outlinewidth": 0,
             "ticks": ""
            },
            "type": "mesh3d"
           }
          ],
          "parcoords": [
           {
            "line": {
             "colorbar": {
              "outlinewidth": 0,
              "ticks": ""
             }
            },
            "type": "parcoords"
           }
          ],
          "pie": [
           {
            "automargin": true,
            "type": "pie"
           }
          ],
          "scatter": [
           {
            "fillpattern": {
             "fillmode": "overlay",
             "size": 10,
             "solidity": 0.2
            },
            "type": "scatter"
           }
          ],
          "scatter3d": [
           {
            "line": {
             "colorbar": {
              "outlinewidth": 0,
              "ticks": ""
             }
            },
            "marker": {
             "colorbar": {
              "outlinewidth": 0,
              "ticks": ""
             }
            },
            "type": "scatter3d"
           }
          ],
          "scattercarpet": [
           {
            "marker": {
             "colorbar": {
              "outlinewidth": 0,
              "ticks": ""
             }
            },
            "type": "scattercarpet"
           }
          ],
          "scattergeo": [
           {
            "marker": {
             "colorbar": {
              "outlinewidth": 0,
              "ticks": ""
             }
            },
            "type": "scattergeo"
           }
          ],
          "scattergl": [
           {
            "marker": {
             "colorbar": {
              "outlinewidth": 0,
              "ticks": ""
             }
            },
            "type": "scattergl"
           }
          ],
          "scattermapbox": [
           {
            "marker": {
             "colorbar": {
              "outlinewidth": 0,
              "ticks": ""
             }
            },
            "type": "scattermapbox"
           }
          ],
          "scatterpolar": [
           {
            "marker": {
             "colorbar": {
              "outlinewidth": 0,
              "ticks": ""
             }
            },
            "type": "scatterpolar"
           }
          ],
          "scatterpolargl": [
           {
            "marker": {
             "colorbar": {
              "outlinewidth": 0,
              "ticks": ""
             }
            },
            "type": "scatterpolargl"
           }
          ],
          "scatterternary": [
           {
            "marker": {
             "colorbar": {
              "outlinewidth": 0,
              "ticks": ""
             }
            },
            "type": "scatterternary"
           }
          ],
          "surface": [
           {
            "colorbar": {
             "outlinewidth": 0,
             "ticks": ""
            },
            "colorscale": [
             [
              0,
              "#0d0887"
             ],
             [
              0.1111111111111111,
              "#46039f"
             ],
             [
              0.2222222222222222,
              "#7201a8"
             ],
             [
              0.3333333333333333,
              "#9c179e"
             ],
             [
              0.4444444444444444,
              "#bd3786"
             ],
             [
              0.5555555555555556,
              "#d8576b"
             ],
             [
              0.6666666666666666,
              "#ed7953"
             ],
             [
              0.7777777777777778,
              "#fb9f3a"
             ],
             [
              0.8888888888888888,
              "#fdca26"
             ],
             [
              1,
              "#f0f921"
             ]
            ],
            "type": "surface"
           }
          ],
          "table": [
           {
            "cells": {
             "fill": {
              "color": "#EBF0F8"
             },
             "line": {
              "color": "white"
             }
            },
            "header": {
             "fill": {
              "color": "#C8D4E3"
             },
             "line": {
              "color": "white"
             }
            },
            "type": "table"
           }
          ]
         },
         "layout": {
          "annotationdefaults": {
           "arrowcolor": "#2a3f5f",
           "arrowhead": 0,
           "arrowwidth": 1
          },
          "autotypenumbers": "strict",
          "coloraxis": {
           "colorbar": {
            "outlinewidth": 0,
            "ticks": ""
           }
          },
          "colorscale": {
           "diverging": [
            [
             0,
             "#8e0152"
            ],
            [
             0.1,
             "#c51b7d"
            ],
            [
             0.2,
             "#de77ae"
            ],
            [
             0.3,
             "#f1b6da"
            ],
            [
             0.4,
             "#fde0ef"
            ],
            [
             0.5,
             "#f7f7f7"
            ],
            [
             0.6,
             "#e6f5d0"
            ],
            [
             0.7,
             "#b8e186"
            ],
            [
             0.8,
             "#7fbc41"
            ],
            [
             0.9,
             "#4d9221"
            ],
            [
             1,
             "#276419"
            ]
           ],
           "sequential": [
            [
             0,
             "#0d0887"
            ],
            [
             0.1111111111111111,
             "#46039f"
            ],
            [
             0.2222222222222222,
             "#7201a8"
            ],
            [
             0.3333333333333333,
             "#9c179e"
            ],
            [
             0.4444444444444444,
             "#bd3786"
            ],
            [
             0.5555555555555556,
             "#d8576b"
            ],
            [
             0.6666666666666666,
             "#ed7953"
            ],
            [
             0.7777777777777778,
             "#fb9f3a"
            ],
            [
             0.8888888888888888,
             "#fdca26"
            ],
            [
             1,
             "#f0f921"
            ]
           ],
           "sequentialminus": [
            [
             0,
             "#0d0887"
            ],
            [
             0.1111111111111111,
             "#46039f"
            ],
            [
             0.2222222222222222,
             "#7201a8"
            ],
            [
             0.3333333333333333,
             "#9c179e"
            ],
            [
             0.4444444444444444,
             "#bd3786"
            ],
            [
             0.5555555555555556,
             "#d8576b"
            ],
            [
             0.6666666666666666,
             "#ed7953"
            ],
            [
             0.7777777777777778,
             "#fb9f3a"
            ],
            [
             0.8888888888888888,
             "#fdca26"
            ],
            [
             1,
             "#f0f921"
            ]
           ]
          },
          "colorway": [
           "#636efa",
           "#EF553B",
           "#00cc96",
           "#ab63fa",
           "#FFA15A",
           "#19d3f3",
           "#FF6692",
           "#B6E880",
           "#FF97FF",
           "#FECB52"
          ],
          "font": {
           "color": "#2a3f5f"
          },
          "geo": {
           "bgcolor": "white",
           "lakecolor": "white",
           "landcolor": "#E5ECF6",
           "showlakes": true,
           "showland": true,
           "subunitcolor": "white"
          },
          "hoverlabel": {
           "align": "left"
          },
          "hovermode": "closest",
          "mapbox": {
           "style": "light"
          },
          "paper_bgcolor": "white",
          "plot_bgcolor": "#E5ECF6",
          "polar": {
           "angularaxis": {
            "gridcolor": "white",
            "linecolor": "white",
            "ticks": ""
           },
           "bgcolor": "#E5ECF6",
           "radialaxis": {
            "gridcolor": "white",
            "linecolor": "white",
            "ticks": ""
           }
          },
          "scene": {
           "xaxis": {
            "backgroundcolor": "#E5ECF6",
            "gridcolor": "white",
            "gridwidth": 2,
            "linecolor": "white",
            "showbackground": true,
            "ticks": "",
            "zerolinecolor": "white"
           },
           "yaxis": {
            "backgroundcolor": "#E5ECF6",
            "gridcolor": "white",
            "gridwidth": 2,
            "linecolor": "white",
            "showbackground": true,
            "ticks": "",
            "zerolinecolor": "white"
           },
           "zaxis": {
            "backgroundcolor": "#E5ECF6",
            "gridcolor": "white",
            "gridwidth": 2,
            "linecolor": "white",
            "showbackground": true,
            "ticks": "",
            "zerolinecolor": "white"
           }
          },
          "shapedefaults": {
           "line": {
            "color": "#2a3f5f"
           }
          },
          "ternary": {
           "aaxis": {
            "gridcolor": "white",
            "linecolor": "white",
            "ticks": ""
           },
           "baxis": {
            "gridcolor": "white",
            "linecolor": "white",
            "ticks": ""
           },
           "bgcolor": "#E5ECF6",
           "caxis": {
            "gridcolor": "white",
            "linecolor": "white",
            "ticks": ""
           }
          },
          "title": {
           "x": 0.05
          },
          "xaxis": {
           "automargin": true,
           "gridcolor": "white",
           "linecolor": "white",
           "ticks": "",
           "title": {
            "standoff": 15
           },
           "zerolinecolor": "white",
           "zerolinewidth": 2
          },
          "yaxis": {
           "automargin": true,
           "gridcolor": "white",
           "linecolor": "white",
           "ticks": "",
           "title": {
            "standoff": 15
           },
           "zerolinecolor": "white",
           "zerolinewidth": 2
          }
         }
        },
        "title": {
         "text": "Where do discoveries take place?"
        },
        "xaxis": {
         "title": {
          "text": "Number of Prizes"
         }
        },
        "yaxis": {
         "title": {
          "text": "City"
         }
        }
       }
      },
      "text/html": [
       "<div>                            <div id=\"83be0fa7-bd6c-4226-83ea-d7a718a7bdbe\" class=\"plotly-graph-div\" style=\"height:525px; width:100%;\"></div>            <script type=\"text/javascript\">                require([\"plotly\"], function(Plotly) {                    window.PLOTLYENV=window.PLOTLYENV || {};                                    if (document.getElementById(\"83be0fa7-bd6c-4226-83ea-d7a718a7bdbe\")) {                    Plotly.newPlot(                        \"83be0fa7-bd6c-4226-83ea-d7a718a7bdbe\",                        [{\"branchvalues\":\"total\",\"domain\":{\"x\":[0.0,1.0],\"y\":[0.0,1.0]},\"hovertemplate\":\"labels=%{label}<br>prize=%{value}<br>parent=%{parent}<br>id=%{id}<extra></extra>\",\"ids\":[\"Russia/St. Petersburg/A.F. Ioffe Physico-Technical Institute\",\"Denmark/Aarhus/Aarhus University\",\"Russia/Moscow/Academy of Sciences\",\"Netherlands/Amsterdam/Amsterdam University\",\"United States of America/Argonne, IL/Argonne National Laboratory\",\"United States of America/Tempe, AZ/Arizona State University\",\"Japan/Tokyo/Asahi Kasei Corporation\",\"United States of America/Washington, DC/Associated Universities Inc.\",\"United Kingdom/Harwell, Berkshire/Atomic Energy Research Establishment\",\"Australia/Canberra/Australian National University\",\"Australia/Weston Creek/Australian National University\",\"Switzerland/Basel/Basel Institute for Immunology\",\"Switzerland/Basel/Basel University\",\"United States of America/Holmdel, NJ/Bell Laboratories\",\"United States of America/Murray Hill, NJ/Bell Laboratories\",\"United States of America/New York, NY/Bell Laboratories\",\"Germany/Berlin/Berlin University\",\"Switzerland/Berne/Berne University\",\"United States of America/New York, NY/Binghamton University State University of New York\",\"Switzerland/Basel/Biozentrum der Universit\\u00e4t\",\"United Kingdom/Birmingham/Birmingham University\",\"United States of America/Waltham MA/Brandeis University\",\"United States of America/Boston, MA/Brigham and Women's Hospital\",\"United Kingdom/Bristol/Bristol University\",\"United States of America/Providence, RI/Brown University\",\"Belgium/Brussels/Brussels University\",\"France/S\\u00e8vres/Bureau International des Poids et Mesures (International Bureau of Weights and Measures)\",\"Switzerland/Geneva/CERN\",\"India/Calcutta/Calcutta University\",\"United States of America/Pasadena, CA/California Institute of Technology (Caltech)\",\"United Kingdom/Cardiff/Cardiff University\",\"United States of America/New York, NY/Carnegie Institution of Washington\",\"United States of America/Pittsburgh, PA/Carnegie Mellon University\",\"United States of America/Fairfax, VA/Center for Study of Public Choice\",\"United Kingdom/London/Central Research Laboratories, EMI\",\"United States of America/Boston, MA/Children's Medical Center\",\"China/Beijing/China Academy of Traditional Chinese Medicine\",\"United States of America/New York, NY/City University of New York\",\"United States of America/Cold Spring Harbor, NY/Cold Spring Harbor Laboratory\",\"France/Paris/Coll\\u00e8ge de France\",\"Germany/Cologne/Cologne University\",\"United States of America/New York, NY/Columbia University\",\"Denmark/Copenhagen/Copenhagen University\",\"United States of America/Ithaca, NY/Cornell University\",\"United Kingdom/London/Department of Scientific and Industrial Research\",\"United States of America/Mountain View, CA/Digital Pathways, Inc.\",\"United States of America/Madison, NJ/Drew University\",\"United States of America/Wilmington, DE/Du Pont\",\"United Kingdom/Edinburgh/Edinburgh University\",\"Switzerland/Zurich/Eidgen\\u00f6ssische Technische Hochschule (Swiss Federal Institute of Technology)\",\"United States of America/Batavia, IL/Fermi National Accelerator Laboratory\",\"Denmark/Copenhagen/Finsen Medical Light Institute\",\"Germany/J&uuml;lich/Forschungszentrum J&uuml;lich\",\"United Kingdom/Hertfordshire/Francis Crick Institute\",\"Germany/Frankfurt-on-the-Main/Frankfurt-on-the-Main University\",\"United States of America/Seattle, WA/Fred Hutchinson Cancer Research Center\",\"Germany/Berlin-Dahlem/Fritz-Haber-Institut\",\"Germany/Berlin/Fritz-Haber-Institut der Max-Planck-Gesellschaft\",\"United States of America/Schenectady, NY/General Electric Company\",\"United States of America/Fairfax, VA/George Mason University\",\"Germany/Heidelberg/German Cancer Research Center\",\"Belgium/Ghent/Ghent University\",\"United Kingdom/Bodmin/Glynn Research Laboratories\",\"Germany/G\\u00f6ttingen/Goettingen University\",\"Austria/Graz/Graz University\",\"Germany/Greifswald/Greifswald University\",\"Netherlands/Groningen/Groningen University\",\"United Kingdom/Cambridge/Gurdon Institute\",\"Sweden/Gothenburg/G\\u00f6teborg University\",\"Germany/Halle/Halle University\",\"United States of America/Boston, MA/Harvard Medical School\",\"United States of America/Cambridge, MA/Harvard University\",\"Japan/Tsukuba/High Energy Accelerator Research Organization (KEK)\",\"Japan/Sapporo/Hokkaido University\",\"United States of America/Chevy Chase/Howard Hughes Medical Institute\",\"United States of America/Durham, NC/Howard Hughes Medical Institute\",\"United States of America/Yorktown Heights, NY/IBM Thomas J. Watson Research Center\",\"Switzerland/R\\u00fcschlikon/IBM Zurich Research Laboratory\",\"United Kingdom/London/Imperial Cancer Research Fund\",\"United Kingdom/London/Imperial College\",\"United States of America/Bloomington, IN/Indiana University\",\"Austria/Innsbruck/Innsbruck University\",\"France/Rueil-Malmaison/Institut Fran\\u00e7ais du P\\u00e9trole\",\"France/Paris/Institut Pasteur\",\"Tunisia/Tunis/Institut Pasteur\",\"France/Paris/Institut du Radium\",\"United States of America/Princeton, NJ/Institute for Advanced Study\",\"Argentina/Buenos Aires/Institute for Biochemical Research\",\"Russia/Moscow/Institute for Chemical Physics of the Academy of Sciences of the USSR\",\"Germany/Berlin/Institute for Infectious Diseases\",\"Italy/Rome/Institute of Cell Biology of the C.N.R.\",\"United Kingdom/Cambridge/Institute of Physical Chemistry\",\"Italy/Milan/Institute of Technology\",\"Argentina/Buenos Aires/Instituto de Biologia y Medicina Experimental (Institute for Biology and Experimental Medicine)\",\"Italy/Trieste/International Centre for Theoretical Physics\",\"Italy/Rome/Istituto Superiore di Sanit\\u00e0 (Chief Institute of Public Health)\",\"United States of America/Bar Harbor, ME/Jackson Laboratory\",\"United States of America/Ashburn, VA/Janelia Research Campus, Howard Hughes Medical Institute\",\"United States of America/Baltimore, MD/Johns Hopkins University\",\"Sweden/Stockholm/Karolinska Institutet\",\"Germany/Kiel/Kiel University\",\"Japan/Tokyo/Kitasato University\",\"Austria/Altenberg; Gr\\u00fcnau im Almtal/Konrad-Lorenz-Institut der \\u00d6sterreichischen Akademie der Wissen\\u00adschaften, Forschungsstelle f\\u00fcr Ethologie\",\"Japan/Kyoto/Kyoto Sangyo University\",\"Japan/Kyoto/Kyoto University\",\"United States of America/New York, NY/Laboratories of the Division of Medicine and Public Health, Rockefeller Foundation\",\"Switzerland/Basel/Laboratorium der Farben-Fabriken J.R. Geigy A.G. (Laboratory of the J.R. Geigy Dye-Factory Co.)\",\"Germany/Berlin/Landwirtschaftliche Hochschule (Agricultural College)\",\"United States of America/Berkeley, CA/Lawrence Berkeley National Laboratory\",\"Netherlands/Leiden/Leiden University\",\"Germany/Leipzig/Leipzig University\",\"United Kingdom/Liverpool/Liverpool University\",\"United Kingdom/London/London School of Economics and Political Science\",\"United Kingdom/London/London University\",\"United States of America/Greenwich, CT/Long Term Capital Management\",\"United Kingdom/Cambridge/MRC Laboratory of Molecular Biology\",\"Spain/Madrid/Madrid University\",\"Germany/Mainz/Mainz University\",\"Germany/Marburg/Marburg University\",\"United Kingdom/London/Marconi Wireless Telegraph Co. Ltd.\",\"United States of America/Woods Hole, MA/Marine Biological Laboratory (MBL)\",\"United States of America/Cambridge, MA/Massachusetts Institute of Technology (MIT)\",\"Germany/Berlin/Max-Planck Institut\",\"Germany/Berlin-Dahlem/Max-Planck Institut\",\"Germany/Heidelberg/Max-Planck Institut\",\"Germany/Berlin/Max-Planck-Institut\",\"Germany/Frankfurt-on-the-Main/Max-Planck-Institut\",\"Germany/Garching/Max-Planck-Institut\",\"Germany/G\\u00f6ttingen/Max-Planck-Institut\",\"Germany/Heidelberg/Max-Planck-Institut\",\"Germany/Mainz/Max-Planck-Institut\",\"Germany/Martinsried/Max-Planck-Institut\",\"Germany/Munich/Max-Planck-Institut\",\"Germany/M\\u00fclheim/Ruhr/Max-Planck-Institut\",\"Germany/Stuttgart/Max-Planck-Institut\",\"Germany/T\\u00fcbingen/Max-Planck-Institut\",\"United States of America/Rochester, MN/Mayo Clinic\",\"Canada/Hamilton, Ontario/McMaster University\",\"Japan/Nagoya/Meijo University\",\"Russia/St. Petersburg/Military Medical Academy\",\"Germany/Munich/Munich University\",\"Germany/Munster/Munster University\",\"United States of America/Greenbelt, MD/NASA Goddard Space Flight Center\",\"Australia/Nedlands/NHMRC Helicobacter pylori Research Laboratory, QEII Medical Centre\",\"Japan/Nagoya/Nagoya University\",\"France/Nancy/Nancy University\",\"United Kingdom/London/National Institute for Medical Research\",\"United States of America/Research Triangle Park, NC/National Institute of Environmental Health Sciences\",\"United States of America/Boulder, CO/National Institute of Standards and Technology\",\"United States of America/Gaithersburg, MD/National Institute of Standards and Technology\",\"United States of America/Bethesda, MD/National Institutes of Health\",\"Canada/Ottawa/National Research Council of Canada\",\"United States of America/Beverly, MA/New England Biolabs\",\"United States of America/New York, NY/New York University\",\"Denmark/Copenhagen/Niels Bohr Institute\",\"Denmark/Copenhagen/Nordita\",\"United States of America/Evanston, IL/Northwestern University\",\"Norway/Trondheim/Norwegian University of Science and Technology (NTNU)\",\"Russia/Moscow/P.N. Lebedev Physical Institute\",\"United States of America/San Francisco, CA/Parker Institute for Cancer Immunotherapy\",\"Italy/Pavia/Pavia University\",\"Czech Republic/Prague/Polarographic Institute of the Czechoslovak Academy of Science\",\"Denmark/Copenhagen/Polytechnic Institute\",\"United States of America/Princeton, NJ/Princeton University\",\"United States of America/West Lafayette, IN/Purdue University\",\"Canada/Kingston/Queen's University\",\"Germany/Bonn/Rheinische Friedrich-Wilhelms-Universit\\u00e4t\",\"United States of America/Houston, TX/Rice University\",\"United States of America/New York, NY/Rockefeller Institute for Medical Research\",\"United States of America/Princeton, NJ/Rockefeller Institute for Medical Research\",\"United States of America/New York, NY/Rockefeller University\",\"Italy/Rome/Rome University\",\"United Kingdom/Bucksburn (Scotland)/Rowett Research Institute\",\"Sweden/Stockholm/Royal Institute of Technology\",\"United Kingdom/London/Royal Institution of Great Britain\",\"United States of America/New Brunswick, NJ/Rutgers University\",\"United States of America/New York, NY/SUNY Health Science Center\",\"United States of America/St. Louis, MO/Saint Louis University\",\"United States of America/Mountain View, CA/Semiconductor Laboratory of Beckman Instruments, Inc.\",\"United Kingdom/Sheffield/Sheffield University\",\"Japan/Kyoto/Shimadzu Corp.\",\"France/Paris/Sorbonne University\",\"United States of America/Memphis, TN/St. Jude Children's Research Hospital\",\"United Kingdom/Harlow/Standard Telecommunication Laboratories\",\"United States of America/Stanford, CA/Stanford Linear Accelerator Center\",\"United States of America/Stanford, CA/Stanford University\",\"Sweden/Stockholm/Stockholm School of Economics\",\"Sweden/Stockholm/Stockholm University\",\"France/Strasbourg/Strasbourg University\",\"Sweden/Liding\\u00f6-Stockholm/Swedish Gas-Accumulator Co.\",\"Hungary/Szeged/Szeged University\",\"Germany/Munich/Technical University\",\"Israel/Haifa/Technion - Israel Institute of Technology\",\"Germany/Munich/Technische Hochschule (Institute of Technology)\",\"United States of America/Dallas, TX/Texas Instruments\",\"United States of America/Philadelphia, PA/The Institute for Cancer Research\",\"United States of America/Buffalo, NY/The Medical Foundation of Buffalo\",\"United States of America/Berkeley, CA/The Molecular Sciences Institute\",\"Netherlands/Rotterdam/The Netherlands School of Economics\",\"United States of America/San Diego, CA/The Salk Institute\",\"United States of America/La Jolla, CA/The Scripps Research Institute\",\"United Kingdom/Beckenham/The Wellcome Research Laboratories\",\"United Kingdom/Cambridge/The Wellcome Trust Sanger Institute\",\"Japan/Tokyo/Tokyo Institute of Technology\",\"Japan/Tokyo/Tokyo University of Education\",\"France/Toulouse/Toulouse School of Economics (TSE)\",\"France/Toulouse/Toulouse University\",\"Ireland/Dublin/Trinity College\",\"United States of America/Medford, MA/Tufts University\",\"United States of America/Washington, DC/US Naval Research Laboratory\",\"United Kingdom/Liverpool/University College London\",\"United Kingdom/London/University College London\",\"Canada/Edmonton/University of Alberta\",\"Germany/Bonn/University of Bonn\",\"Canada/Vancouver/University of British Columbia\",\"United States of America/Berkeley, CA/University of California\",\"United States of America/Irvine, CA/University of California\",\"United States of America/Los Angeles, CA/University of California\",\"United States of America/San Diego, CA/University of California\",\"United States of America/San Francisco, CA/University of California\",\"United States of America/Santa Barbara, CA/University of California\",\"United Kingdom/Cambridge/University of Cambridge\",\"United States of America/Chicago, IL/University of Chicago\",\"United States of America/Boulder, CO/University of Colorado\",\"United Kingdom/Edinburgh/University of Edinburgh\",\"Germany/Breisgau/University of Freiburg\",\"Switzerland/Geneva/University of Geneva\",\"France/Grenoble/University of Grenoble\",\"Netherlands/Groningen/University of Groningen\",\"Germany/Heidelberg/University of Heidelberg\",\"Finland/Helsinki/University of Helsinki\",\"United States of America/Urbana, IL/University of Illinois\",\"Israel/Jerusalem/University of Jerusalem, Center for Rationality\",\"Switzerland/Lausanne/University of Lausanne\",\"Portugal/Lisbon/University of Lisbon\",\"United States of America/Maine ME/University of Maine\",\"United Kingdom/Manchester/University of Manchester\",\"United States of America/College Park, MD/University of Maryland, Department of Economics and School of Public Policy\",\"United States of America/Worcester, MA/University of Massachusetts Medical School\",\"United States of America/Minneapolis, MN/University of Minnesota\",\"United States of America/Columbia/University of Missouri\",\"Russia/Moscow/University of Moscow\",\"United States of America/Chapel Hill, NC/University of North Carolina\",\"United Kingdom/Nottingham/University of Nottingham, School of Physics and Astronomy\",\"Norway/Oslo/University of Oslo\",\"United Kingdom/Oxford/University of Oxford\",\"United States of America/Philadelphia, PA/University of Pennsylvania\",\"United States of America/Rochester, NY/University of Rochester\",\"United States of America/Los Angeles, CA/University of Southern California\",\"France/Strasbourg/University of Strasbourg\",\"United Kingdom/Brighton/University of Sussex\",\"United States of America/Austin TX/University of Texas\",\"United States of America/Houston, TX/University of Texas\",\"United States of America/Dallas, TX/University of Texas Southwestern Medical Center at Dallas\",\"Japan/Kashiwa/University of Tokyo\",\"Japan/Tokyo/University of Tokyo\",\"Canada/Toronto/University of Toronto\",\"Japan/Tokyo/University of Tsukuba\",\"United States of America/Salt Lake City, UT/University of Utah\",\"United States of America/Seattle, WA/University of Washington\",\"Canada/Waterloo/University of Waterloo\",\"United States of America/Madison, WI/University of Wisconsin\",\"Switzerland/Zurich/University of Zurich\",\"Belgium/Louvain/Universit\\u00e9 Catholique de Louvain\",\"Belgium/Brussels/Universit\\u00e9 Libre de Bruxelles\",\"France/Strasbourg/Universit\\u00e9 Louis Pasteur\",\"France/Orsay/Universit\\u00e9 Paris-Saclay\",\"France/Paris/Universit\\u00e9 de Paris, Laboratoire Immuno-H\\u00e9matologie\",\"France/Strasbourg/Universit\\u00e9 de Strasbourg\",\"Sweden/Uppsala/Uppsala University\",\"Netherlands/Utrecht/Utrecht University\",\"United States of America/Nashville, TN/Vanderbilt University\",\"United States of America/New Orleans, LA/Veterans Administration Hospital\",\"United States of America/New York, NY/Veterans Administration Hospital\",\"United Kingdom/Manchester/Victoria University\",\"Austria/Vienna/Vienna University\",\"United States of America/Richmond, VA/Virginia Commonwealth University\",\"Australia/Melbourne/Walter and Eliza Hall Institute for Medical Research\",\"United States of America/St. Louis, MO/Washington University\",\"Israel/Rehovot/Weizmann Institute of Science\",\"United States of America/Research Triangle Park, NC/Wellcome Research Laboratories\",\"United States of America/Cleveland, OH/Western Reserve University\",\"France/Paris/World Foundation for AIDS Research and Prevention\",\"Germany/W\\u00fcrzburg/W\\u00fcrzburg University\",\"United States of America/New Haven, CT/Yale University\",\"France/Paris/\\u00c9cole Nationale Sup\\u00e9rieur des Mines de Paris\",\"France/Paris/\\u00c9cole Normale Sup\\u00e9rieure\",\"France/Palaiseau/\\u00c9cole Polytechnique\",\"France/Paris/\\u00c9cole Polytechnique\",\"France/Paris/\\u00c9cole Sup\\u00e9rieure de Physique et Chimie\",\"France/Paris/\\u00c9cole municipale de physique et de chimie industrielles (Municipal School of Industrial Physics and Chemistry)\",\"Denmark/Aarhus\",\"Austria/Altenberg; Gr\\u00fcnau im Almtal\",\"Netherlands/Amsterdam\",\"United States of America/Argonne, IL\",\"United States of America/Ashburn, VA\",\"United States of America/Austin TX\",\"United States of America/Baltimore, MD\",\"United States of America/Bar Harbor, ME\",\"Switzerland/Basel\",\"United States of America/Batavia, IL\",\"United Kingdom/Beckenham\",\"China/Beijing\",\"United States of America/Berkeley, CA\",\"Germany/Berlin\",\"Germany/Berlin-Dahlem\",\"Switzerland/Berne\",\"United States of America/Bethesda, MD\",\"United States of America/Beverly, MA\",\"United Kingdom/Birmingham\",\"United States of America/Bloomington, IN\",\"United Kingdom/Bodmin\",\"Germany/Bonn\",\"United States of America/Boston, MA\",\"United States of America/Boulder, CO\",\"Germany/Breisgau\",\"United Kingdom/Brighton\",\"United Kingdom/Bristol\",\"Belgium/Brussels\",\"United Kingdom/Bucksburn (Scotland)\",\"Argentina/Buenos Aires\",\"United States of America/Buffalo, NY\",\"India/Calcutta\",\"United Kingdom/Cambridge\",\"United States of America/Cambridge, MA\",\"Australia/Canberra\",\"United Kingdom/Cardiff\",\"United States of America/Chapel Hill, NC\",\"United States of America/Chevy Chase\",\"United States of America/Chicago, IL\",\"United States of America/Cleveland, OH\",\"United States of America/Cold Spring Harbor, NY\",\"United States of America/College Park, MD\",\"Germany/Cologne\",\"United States of America/Columbia\",\"Denmark/Copenhagen\",\"United States of America/Dallas, TX\",\"Ireland/Dublin\",\"United States of America/Durham, NC\",\"United Kingdom/Edinburgh\",\"Canada/Edmonton\",\"United States of America/Evanston, IL\",\"United States of America/Fairfax, VA\",\"Germany/Frankfurt-on-the-Main\",\"United States of America/Gaithersburg, MD\",\"Germany/Garching\",\"Switzerland/Geneva\",\"Belgium/Ghent\",\"Sweden/Gothenburg\",\"Austria/Graz\",\"United States of America/Greenbelt, MD\",\"United States of America/Greenwich, CT\",\"Germany/Greifswald\",\"France/Grenoble\",\"Netherlands/Groningen\",\"Germany/G\\u00f6ttingen\",\"Israel/Haifa\",\"Germany/Halle\",\"Canada/Hamilton, Ontario\",\"United Kingdom/Harlow\",\"United Kingdom/Harwell, Berkshire\",\"Germany/Heidelberg\",\"Finland/Helsinki\",\"United Kingdom/Hertfordshire\",\"United States of America/Holmdel, NJ\",\"United States of America/Houston, TX\",\"Austria/Innsbruck\",\"United States of America/Irvine, CA\",\"United States of America/Ithaca, NY\",\"Germany/J&uuml;lich\",\"Israel/Jerusalem\",\"Japan/Kashiwa\",\"Germany/Kiel\",\"Canada/Kingston\",\"Japan/Kyoto\",\"United States of America/La Jolla, CA\",\"Switzerland/Lausanne\",\"Netherlands/Leiden\",\"Germany/Leipzig\",\"Sweden/Liding\\u00f6-Stockholm\",\"Portugal/Lisbon\",\"United Kingdom/Liverpool\",\"United Kingdom/London\",\"United States of America/Los Angeles, CA\",\"Belgium/Louvain\",\"United States of America/Madison, NJ\",\"United States of America/Madison, WI\",\"Spain/Madrid\",\"United States of America/Maine ME\",\"Germany/Mainz\",\"United Kingdom/Manchester\",\"Germany/Marburg\",\"Germany/Martinsried\",\"United States of America/Medford, MA\",\"Australia/Melbourne\",\"United States of America/Memphis, TN\",\"Italy/Milan\",\"United States of America/Minneapolis, MN\",\"Russia/Moscow\",\"United States of America/Mountain View, CA\",\"Germany/Munich\",\"Germany/Munster\",\"United States of America/Murray Hill, NJ\",\"Germany/M\\u00fclheim/Ruhr\",\"Japan/Nagoya\",\"France/Nancy\",\"United States of America/Nashville, TN\",\"Australia/Nedlands\",\"United States of America/New Brunswick, NJ\",\"United States of America/New Haven, CT\",\"United States of America/New Orleans, LA\",\"United States of America/New York, NY\",\"United Kingdom/Nottingham\",\"France/Orsay\",\"Norway/Oslo\",\"Canada/Ottawa\",\"United Kingdom/Oxford\",\"France/Palaiseau\",\"France/Paris\",\"United States of America/Pasadena, CA\",\"Italy/Pavia\",\"United States of America/Philadelphia, PA\",\"United States of America/Pittsburgh, PA\",\"Czech Republic/Prague\",\"United States of America/Princeton, NJ\",\"United States of America/Providence, RI\",\"Israel/Rehovot\",\"United States of America/Research Triangle Park, NC\",\"United States of America/Richmond, VA\",\"United States of America/Rochester, MN\",\"United States of America/Rochester, NY\",\"Italy/Rome\",\"Netherlands/Rotterdam\",\"France/Rueil-Malmaison\",\"Switzerland/R\\u00fcschlikon\",\"United States of America/Salt Lake City, UT\",\"United States of America/San Diego, CA\",\"United States of America/San Francisco, CA\",\"United States of America/Santa Barbara, CA\",\"Japan/Sapporo\",\"United States of America/Schenectady, NY\",\"United States of America/Seattle, WA\",\"United Kingdom/Sheffield\",\"United States of America/St. Louis, MO\",\"Russia/St. Petersburg\",\"United States of America/Stanford, CA\",\"Sweden/Stockholm\",\"France/Strasbourg\",\"Germany/Stuttgart\",\"Hungary/Szeged\",\"France/S\\u00e8vres\",\"United States of America/Tempe, AZ\",\"Japan/Tokyo\",\"Canada/Toronto\",\"France/Toulouse\",\"Italy/Trieste\",\"Norway/Trondheim\",\"Japan/Tsukuba\",\"Tunisia/Tunis\",\"Germany/T\\u00fcbingen\",\"Sweden/Uppsala\",\"United States of America/Urbana, IL\",\"Netherlands/Utrecht\",\"Canada/Vancouver\",\"Austria/Vienna\",\"United States of America/Waltham MA\",\"United States of America/Washington, DC\",\"Canada/Waterloo\",\"United States of America/West Lafayette, IN\",\"Australia/Weston Creek\",\"United States of America/Wilmington, DE\",\"United States of America/Woods Hole, MA\",\"United States of America/Worcester, MA\",\"Germany/W\\u00fcrzburg\",\"United States of America/Yorktown Heights, NY\",\"Switzerland/Zurich\",\"Argentina\",\"Australia\",\"Austria\",\"Belgium\",\"Canada\",\"China\",\"Czech Republic\",\"Denmark\",\"Finland\",\"France\",\"Germany\",\"Hungary\",\"India\",\"Ireland\",\"Israel\",\"Italy\",\"Japan\",\"Netherlands\",\"Norway\",\"Portugal\",\"Russia\",\"Spain\",\"Sweden\",\"Switzerland\",\"Tunisia\",\"United Kingdom\",\"United States of America\"],\"labels\":[\"A.F. Ioffe Physico-Technical Institute\",\"Aarhus University\",\"Academy of Sciences\",\"Amsterdam University\",\"Argonne National Laboratory\",\"Arizona State University\",\"Asahi Kasei Corporation\",\"Associated Universities Inc.\",\"Atomic Energy Research Establishment\",\"Australian National University\",\"Australian National University\",\"Basel Institute for Immunology\",\"Basel University\",\"Bell Laboratories\",\"Bell Laboratories\",\"Bell Laboratories\",\"Berlin University\",\"Berne University\",\"Binghamton University State University of New York\",\"Biozentrum der Universit\\u00e4t\",\"Birmingham University\",\"Brandeis University\",\"Brigham and Women's Hospital\",\"Bristol University\",\"Brown University\",\"Brussels University\",\"Bureau International des Poids et Mesures (International Bureau of Weights and Measures)\",\"CERN\",\"Calcutta University\",\"California Institute of Technology (Caltech)\",\"Cardiff University\",\"Carnegie Institution of Washington\",\"Carnegie Mellon University\",\"Center for Study of Public Choice\",\"Central Research Laboratories, EMI\",\"Children's Medical Center\",\"China Academy of Traditional Chinese Medicine\",\"City University of New York\",\"Cold Spring Harbor Laboratory\",\"Coll\\u00e8ge de France\",\"Cologne University\",\"Columbia University\",\"Copenhagen University\",\"Cornell University\",\"Department of Scientific and Industrial Research\",\"Digital Pathways, Inc.\",\"Drew University\",\"Du Pont\",\"Edinburgh University\",\"Eidgen\\u00f6ssische Technische Hochschule (Swiss Federal Institute of Technology)\",\"Fermi National Accelerator Laboratory\",\"Finsen Medical Light Institute\",\"Forschungszentrum J&uuml;lich\",\"Francis Crick Institute\",\"Frankfurt-on-the-Main University\",\"Fred Hutchinson Cancer Research Center\",\"Fritz-Haber-Institut\",\"Fritz-Haber-Institut der Max-Planck-Gesellschaft\",\"General Electric Company\",\"George Mason University\",\"German Cancer Research Center\",\"Ghent University\",\"Glynn Research Laboratories\",\"Goettingen University\",\"Graz University\",\"Greifswald University\",\"Groningen University\",\"Gurdon Institute\",\"G\\u00f6teborg University\",\"Halle University\",\"Harvard Medical School\",\"Harvard University\",\"High Energy Accelerator Research Organization (KEK)\",\"Hokkaido University\",\"Howard Hughes Medical Institute\",\"Howard Hughes Medical Institute\",\"IBM Thomas J. Watson Research Center\",\"IBM Zurich Research Laboratory\",\"Imperial Cancer Research Fund\",\"Imperial College\",\"Indiana University\",\"Innsbruck University\",\"Institut Fran\\u00e7ais du P\\u00e9trole\",\"Institut Pasteur\",\"Institut Pasteur\",\"Institut du Radium\",\"Institute for Advanced Study\",\"Institute for Biochemical Research\",\"Institute for Chemical Physics of the Academy of Sciences of the USSR\",\"Institute for Infectious Diseases\",\"Institute of Cell Biology of the C.N.R.\",\"Institute of Physical Chemistry\",\"Institute of Technology\",\"Instituto de Biologia y Medicina Experimental (Institute for Biology and Experimental Medicine)\",\"International Centre for Theoretical Physics\",\"Istituto Superiore di Sanit\\u00e0 (Chief Institute of Public Health)\",\"Jackson Laboratory\",\"Janelia Research Campus, Howard Hughes Medical Institute\",\"Johns Hopkins University\",\"Karolinska Institutet\",\"Kiel University\",\"Kitasato University\",\"Konrad-Lorenz-Institut der \\u00d6sterreichischen Akademie der Wissen\\u00adschaften, Forschungsstelle f\\u00fcr Ethologie\",\"Kyoto Sangyo University\",\"Kyoto University\",\"Laboratories of the Division of Medicine and Public Health, Rockefeller Foundation\",\"Laboratorium der Farben-Fabriken J.R. Geigy A.G. (Laboratory of the J.R. Geigy Dye-Factory Co.)\",\"Landwirtschaftliche Hochschule (Agricultural College)\",\"Lawrence Berkeley National Laboratory\",\"Leiden University\",\"Leipzig University\",\"Liverpool University\",\"London School of Economics and Political Science\",\"London University\",\"Long Term Capital Management\",\"MRC Laboratory of Molecular Biology\",\"Madrid University\",\"Mainz University\",\"Marburg University\",\"Marconi Wireless Telegraph Co. Ltd.\",\"Marine Biological Laboratory (MBL)\",\"Massachusetts Institute of Technology (MIT)\",\"Max-Planck Institut\",\"Max-Planck Institut\",\"Max-Planck Institut\",\"Max-Planck-Institut\",\"Max-Planck-Institut\",\"Max-Planck-Institut\",\"Max-Planck-Institut\",\"Max-Planck-Institut\",\"Max-Planck-Institut\",\"Max-Planck-Institut\",\"Max-Planck-Institut\",\"Max-Planck-Institut\",\"Max-Planck-Institut\",\"Max-Planck-Institut\",\"Mayo Clinic\",\"McMaster University\",\"Meijo University\",\"Military Medical Academy\",\"Munich University\",\"Munster University\",\"NASA Goddard Space Flight Center\",\"NHMRC Helicobacter pylori Research Laboratory, QEII Medical Centre\",\"Nagoya University\",\"Nancy University\",\"National Institute for Medical Research\",\"National Institute of Environmental Health Sciences\",\"National Institute of Standards and Technology\",\"National Institute of Standards and Technology\",\"National Institutes of Health\",\"National Research Council of Canada\",\"New England Biolabs\",\"New York University\",\"Niels Bohr Institute\",\"Nordita\",\"Northwestern University\",\"Norwegian University of Science and Technology (NTNU)\",\"P.N. Lebedev Physical Institute\",\"Parker Institute for Cancer Immunotherapy\",\"Pavia University\",\"Polarographic Institute of the Czechoslovak Academy of Science\",\"Polytechnic Institute\",\"Princeton University\",\"Purdue University\",\"Queen's University\",\"Rheinische Friedrich-Wilhelms-Universit\\u00e4t\",\"Rice University\",\"Rockefeller Institute for Medical Research\",\"Rockefeller Institute for Medical Research\",\"Rockefeller University\",\"Rome University\",\"Rowett Research Institute\",\"Royal Institute of Technology\",\"Royal Institution of Great Britain\",\"Rutgers University\",\"SUNY Health Science Center\",\"Saint Louis University\",\"Semiconductor Laboratory of Beckman Instruments, Inc.\",\"Sheffield University\",\"Shimadzu Corp.\",\"Sorbonne University\",\"St. Jude Children's Research Hospital\",\"Standard Telecommunication Laboratories\",\"Stanford Linear Accelerator Center\",\"Stanford University\",\"Stockholm School of Economics\",\"Stockholm University\",\"Strasbourg University\",\"Swedish Gas-Accumulator Co.\",\"Szeged University\",\"Technical University\",\"Technion - Israel Institute of Technology\",\"Technische Hochschule (Institute of Technology)\",\"Texas Instruments\",\"The Institute for Cancer Research\",\"The Medical Foundation of Buffalo\",\"The Molecular Sciences Institute\",\"The Netherlands School of Economics\",\"The Salk Institute\",\"The Scripps Research Institute\",\"The Wellcome Research Laboratories\",\"The Wellcome Trust Sanger Institute\",\"Tokyo Institute of Technology\",\"Tokyo University of Education\",\"Toulouse School of Economics (TSE)\",\"Toulouse University\",\"Trinity College\",\"Tufts University\",\"US Naval Research Laboratory\",\"University College London\",\"University College London\",\"University of Alberta\",\"University of Bonn\",\"University of British Columbia\",\"University of California\",\"University of California\",\"University of California\",\"University of California\",\"University of California\",\"University of California\",\"University of Cambridge\",\"University of Chicago\",\"University of Colorado\",\"University of Edinburgh\",\"University of Freiburg\",\"University of Geneva\",\"University of Grenoble\",\"University of Groningen\",\"University of Heidelberg\",\"University of Helsinki\",\"University of Illinois\",\"University of Jerusalem, Center for Rationality\",\"University of Lausanne\",\"University of Lisbon\",\"University of Maine\",\"University of Manchester\",\"University of Maryland, Department of Economics and School of Public Policy\",\"University of Massachusetts Medical School\",\"University of Minnesota\",\"University of Missouri\",\"University of Moscow\",\"University of North Carolina\",\"University of Nottingham, School of Physics and Astronomy\",\"University of Oslo\",\"University of Oxford\",\"University of Pennsylvania\",\"University of Rochester\",\"University of Southern California\",\"University of Strasbourg\",\"University of Sussex\",\"University of Texas\",\"University of Texas\",\"University of Texas Southwestern Medical Center at Dallas\",\"University of Tokyo\",\"University of Tokyo\",\"University of Toronto\",\"University of Tsukuba\",\"University of Utah\",\"University of Washington\",\"University of Waterloo\",\"University of Wisconsin\",\"University of Zurich\",\"Universit\\u00e9 Catholique de Louvain\",\"Universit\\u00e9 Libre de Bruxelles\",\"Universit\\u00e9 Louis Pasteur\",\"Universit\\u00e9 Paris-Saclay\",\"Universit\\u00e9 de Paris, Laboratoire Immuno-H\\u00e9matologie\",\"Universit\\u00e9 de Strasbourg\",\"Uppsala University\",\"Utrecht University\",\"Vanderbilt University\",\"Veterans Administration Hospital\",\"Veterans Administration Hospital\",\"Victoria University\",\"Vienna University\",\"Virginia Commonwealth University\",\"Walter and Eliza Hall Institute for Medical Research\",\"Washington University\",\"Weizmann Institute of Science\",\"Wellcome Research Laboratories\",\"Western Reserve University\",\"World Foundation for AIDS Research and Prevention\",\"W\\u00fcrzburg University\",\"Yale University\",\"\\u00c9cole Nationale Sup\\u00e9rieur des Mines de Paris\",\"\\u00c9cole Normale Sup\\u00e9rieure\",\"\\u00c9cole Polytechnique\",\"\\u00c9cole Polytechnique\",\"\\u00c9cole Sup\\u00e9rieure de Physique et Chimie\",\"\\u00c9cole municipale de physique et de chimie industrielles (Municipal School of Industrial Physics and Chemistry)\",\"Aarhus\",\"Altenberg; Gr\\u00fcnau im Almtal\",\"Amsterdam\",\"Argonne, IL\",\"Ashburn, VA\",\"Austin TX\",\"Baltimore, MD\",\"Bar Harbor, ME\",\"Basel\",\"Batavia, IL\",\"Beckenham\",\"Beijing\",\"Berkeley, CA\",\"Berlin\",\"Berlin-Dahlem\",\"Berne\",\"Bethesda, MD\",\"Beverly, MA\",\"Birmingham\",\"Bloomington, IN\",\"Bodmin\",\"Bonn\",\"Boston, MA\",\"Boulder, CO\",\"Breisgau\",\"Brighton\",\"Bristol\",\"Brussels\",\"Bucksburn (Scotland)\",\"Buenos Aires\",\"Buffalo, NY\",\"Calcutta\",\"Cambridge\",\"Cambridge, MA\",\"Canberra\",\"Cardiff\",\"Chapel Hill, NC\",\"Chevy Chase\",\"Chicago, IL\",\"Cleveland, OH\",\"Cold Spring Harbor, NY\",\"College Park, MD\",\"Cologne\",\"Columbia\",\"Copenhagen\",\"Dallas, TX\",\"Dublin\",\"Durham, NC\",\"Edinburgh\",\"Edmonton\",\"Evanston, IL\",\"Fairfax, VA\",\"Frankfurt-on-the-Main\",\"Gaithersburg, MD\",\"Garching\",\"Geneva\",\"Ghent\",\"Gothenburg\",\"Graz\",\"Greenbelt, MD\",\"Greenwich, CT\",\"Greifswald\",\"Grenoble\",\"Groningen\",\"G\\u00f6ttingen\",\"Haifa\",\"Halle\",\"Hamilton, Ontario\",\"Harlow\",\"Harwell, Berkshire\",\"Heidelberg\",\"Helsinki\",\"Hertfordshire\",\"Holmdel, NJ\",\"Houston, TX\",\"Innsbruck\",\"Irvine, CA\",\"Ithaca, NY\",\"J&uuml;lich\",\"Jerusalem\",\"Kashiwa\",\"Kiel\",\"Kingston\",\"Kyoto\",\"La Jolla, CA\",\"Lausanne\",\"Leiden\",\"Leipzig\",\"Liding\\u00f6-Stockholm\",\"Lisbon\",\"Liverpool\",\"London\",\"Los Angeles, CA\",\"Louvain\",\"Madison, NJ\",\"Madison, WI\",\"Madrid\",\"Maine ME\",\"Mainz\",\"Manchester\",\"Marburg\",\"Martinsried\",\"Medford, MA\",\"Melbourne\",\"Memphis, TN\",\"Milan\",\"Minneapolis, MN\",\"Moscow\",\"Mountain View, CA\",\"Munich\",\"Munster\",\"Murray Hill, NJ\",\"M\\u00fclheim/Ruhr\",\"Nagoya\",\"Nancy\",\"Nashville, TN\",\"Nedlands\",\"New Brunswick, NJ\",\"New Haven, CT\",\"New Orleans, LA\",\"New York, NY\",\"Nottingham\",\"Orsay\",\"Oslo\",\"Ottawa\",\"Oxford\",\"Palaiseau\",\"Paris\",\"Pasadena, CA\",\"Pavia\",\"Philadelphia, PA\",\"Pittsburgh, PA\",\"Prague\",\"Princeton, NJ\",\"Providence, RI\",\"Rehovot\",\"Research Triangle Park, NC\",\"Richmond, VA\",\"Rochester, MN\",\"Rochester, NY\",\"Rome\",\"Rotterdam\",\"Rueil-Malmaison\",\"R\\u00fcschlikon\",\"Salt Lake City, UT\",\"San Diego, CA\",\"San Francisco, CA\",\"Santa Barbara, CA\",\"Sapporo\",\"Schenectady, NY\",\"Seattle, WA\",\"Sheffield\",\"St. Louis, MO\",\"St. Petersburg\",\"Stanford, CA\",\"Stockholm\",\"Strasbourg\",\"Stuttgart\",\"Szeged\",\"S\\u00e8vres\",\"Tempe, AZ\",\"Tokyo\",\"Toronto\",\"Toulouse\",\"Trieste\",\"Trondheim\",\"Tsukuba\",\"Tunis\",\"T\\u00fcbingen\",\"Uppsala\",\"Urbana, IL\",\"Utrecht\",\"Vancouver\",\"Vienna\",\"Waltham MA\",\"Washington, DC\",\"Waterloo\",\"West Lafayette, IN\",\"Weston Creek\",\"Wilmington, DE\",\"Woods Hole, MA\",\"Worcester, MA\",\"W\\u00fcrzburg\",\"Yorktown Heights, NY\",\"Zurich\",\"Argentina\",\"Australia\",\"Austria\",\"Belgium\",\"Canada\",\"China\",\"Czech Republic\",\"Denmark\",\"Finland\",\"France\",\"Germany\",\"Hungary\",\"India\",\"Ireland\",\"Israel\",\"Italy\",\"Japan\",\"Netherlands\",\"Norway\",\"Portugal\",\"Russia\",\"Spain\",\"Sweden\",\"Switzerland\",\"Tunisia\",\"United Kingdom\",\"United States of America\"],\"name\":\"\",\"parents\":[\"Russia/St. Petersburg\",\"Denmark/Aarhus\",\"Russia/Moscow\",\"Netherlands/Amsterdam\",\"United States of America/Argonne, IL\",\"United States of America/Tempe, AZ\",\"Japan/Tokyo\",\"United States of America/Washington, DC\",\"United Kingdom/Harwell, Berkshire\",\"Australia/Canberra\",\"Australia/Weston Creek\",\"Switzerland/Basel\",\"Switzerland/Basel\",\"United States of America/Holmdel, NJ\",\"United States of America/Murray Hill, NJ\",\"United States of America/New York, NY\",\"Germany/Berlin\",\"Switzerland/Berne\",\"United States of America/New York, NY\",\"Switzerland/Basel\",\"United Kingdom/Birmingham\",\"United States of America/Waltham MA\",\"United States of America/Boston, MA\",\"United Kingdom/Bristol\",\"United States of America/Providence, RI\",\"Belgium/Brussels\",\"France/S\\u00e8vres\",\"Switzerland/Geneva\",\"India/Calcutta\",\"United States of America/Pasadena, CA\",\"United Kingdom/Cardiff\",\"United States of America/New York, NY\",\"United States of America/Pittsburgh, PA\",\"United States of America/Fairfax, VA\",\"United Kingdom/London\",\"United States of America/Boston, MA\",\"China/Beijing\",\"United States of America/New York, NY\",\"United States of America/Cold Spring Harbor, NY\",\"France/Paris\",\"Germany/Cologne\",\"United States of America/New York, NY\",\"Denmark/Copenhagen\",\"United States of America/Ithaca, NY\",\"United Kingdom/London\",\"United States of America/Mountain View, CA\",\"United States of America/Madison, NJ\",\"United States of America/Wilmington, DE\",\"United Kingdom/Edinburgh\",\"Switzerland/Zurich\",\"United States of America/Batavia, IL\",\"Denmark/Copenhagen\",\"Germany/J&uuml;lich\",\"United Kingdom/Hertfordshire\",\"Germany/Frankfurt-on-the-Main\",\"United States of America/Seattle, WA\",\"Germany/Berlin-Dahlem\",\"Germany/Berlin\",\"United States of America/Schenectady, NY\",\"United States of America/Fairfax, VA\",\"Germany/Heidelberg\",\"Belgium/Ghent\",\"United Kingdom/Bodmin\",\"Germany/G\\u00f6ttingen\",\"Austria/Graz\",\"Germany/Greifswald\",\"Netherlands/Groningen\",\"United Kingdom/Cambridge\",\"Sweden/Gothenburg\",\"Germany/Halle\",\"United States of America/Boston, MA\",\"United States of America/Cambridge, MA\",\"Japan/Tsukuba\",\"Japan/Sapporo\",\"United States of America/Chevy Chase\",\"United States of America/Durham, NC\",\"United States of America/Yorktown Heights, NY\",\"Switzerland/R\\u00fcschlikon\",\"United Kingdom/London\",\"United Kingdom/London\",\"United States of America/Bloomington, IN\",\"Austria/Innsbruck\",\"France/Rueil-Malmaison\",\"France/Paris\",\"Tunisia/Tunis\",\"France/Paris\",\"United States of America/Princeton, NJ\",\"Argentina/Buenos Aires\",\"Russia/Moscow\",\"Germany/Berlin\",\"Italy/Rome\",\"United Kingdom/Cambridge\",\"Italy/Milan\",\"Argentina/Buenos Aires\",\"Italy/Trieste\",\"Italy/Rome\",\"United States of America/Bar Harbor, ME\",\"United States of America/Ashburn, VA\",\"United States of America/Baltimore, MD\",\"Sweden/Stockholm\",\"Germany/Kiel\",\"Japan/Tokyo\",\"Austria/Altenberg; Gr\\u00fcnau im Almtal\",\"Japan/Kyoto\",\"Japan/Kyoto\",\"United States of America/New York, NY\",\"Switzerland/Basel\",\"Germany/Berlin\",\"United States of America/Berkeley, CA\",\"Netherlands/Leiden\",\"Germany/Leipzig\",\"United Kingdom/Liverpool\",\"United Kingdom/London\",\"United Kingdom/London\",\"United States of America/Greenwich, CT\",\"United Kingdom/Cambridge\",\"Spain/Madrid\",\"Germany/Mainz\",\"Germany/Marburg\",\"United Kingdom/London\",\"United States of America/Woods Hole, MA\",\"United States of America/Cambridge, MA\",\"Germany/Berlin\",\"Germany/Berlin-Dahlem\",\"Germany/Heidelberg\",\"Germany/Berlin\",\"Germany/Frankfurt-on-the-Main\",\"Germany/Garching\",\"Germany/G\\u00f6ttingen\",\"Germany/Heidelberg\",\"Germany/Mainz\",\"Germany/Martinsried\",\"Germany/Munich\",\"Germany/M\\u00fclheim/Ruhr\",\"Germany/Stuttgart\",\"Germany/T\\u00fcbingen\",\"United States of America/Rochester, MN\",\"Canada/Hamilton, Ontario\",\"Japan/Nagoya\",\"Russia/St. Petersburg\",\"Germany/Munich\",\"Germany/Munster\",\"United States of America/Greenbelt, MD\",\"Australia/Nedlands\",\"Japan/Nagoya\",\"France/Nancy\",\"United Kingdom/London\",\"United States of America/Research Triangle Park, NC\",\"United States of America/Boulder, CO\",\"United States of America/Gaithersburg, MD\",\"United States of America/Bethesda, MD\",\"Canada/Ottawa\",\"United States of America/Beverly, MA\",\"United States of America/New York, NY\",\"Denmark/Copenhagen\",\"Denmark/Copenhagen\",\"United States of America/Evanston, IL\",\"Norway/Trondheim\",\"Russia/Moscow\",\"United States of America/San Francisco, CA\",\"Italy/Pavia\",\"Czech Republic/Prague\",\"Denmark/Copenhagen\",\"United States of America/Princeton, NJ\",\"United States of America/West Lafayette, IN\",\"Canada/Kingston\",\"Germany/Bonn\",\"United States of America/Houston, TX\",\"United States of America/New York, NY\",\"United States of America/Princeton, NJ\",\"United States of America/New York, NY\",\"Italy/Rome\",\"United Kingdom/Bucksburn (Scotland)\",\"Sweden/Stockholm\",\"United Kingdom/London\",\"United States of America/New Brunswick, NJ\",\"United States of America/New York, NY\",\"United States of America/St. Louis, MO\",\"United States of America/Mountain View, CA\",\"United Kingdom/Sheffield\",\"Japan/Kyoto\",\"France/Paris\",\"United States of America/Memphis, TN\",\"United Kingdom/Harlow\",\"United States of America/Stanford, CA\",\"United States of America/Stanford, CA\",\"Sweden/Stockholm\",\"Sweden/Stockholm\",\"France/Strasbourg\",\"Sweden/Liding\\u00f6-Stockholm\",\"Hungary/Szeged\",\"Germany/Munich\",\"Israel/Haifa\",\"Germany/Munich\",\"United States of America/Dallas, TX\",\"United States of America/Philadelphia, PA\",\"United States of America/Buffalo, NY\",\"United States of America/Berkeley, CA\",\"Netherlands/Rotterdam\",\"United States of America/San Diego, CA\",\"United States of America/La Jolla, CA\",\"United Kingdom/Beckenham\",\"United Kingdom/Cambridge\",\"Japan/Tokyo\",\"Japan/Tokyo\",\"France/Toulouse\",\"France/Toulouse\",\"Ireland/Dublin\",\"United States of America/Medford, MA\",\"United States of America/Washington, DC\",\"United Kingdom/Liverpool\",\"United Kingdom/London\",\"Canada/Edmonton\",\"Germany/Bonn\",\"Canada/Vancouver\",\"United States of America/Berkeley, CA\",\"United States of America/Irvine, CA\",\"United States of America/Los Angeles, CA\",\"United States of America/San Diego, CA\",\"United States of America/San Francisco, CA\",\"United States of America/Santa Barbara, CA\",\"United Kingdom/Cambridge\",\"United States of America/Chicago, IL\",\"United States of America/Boulder, CO\",\"United Kingdom/Edinburgh\",\"Germany/Breisgau\",\"Switzerland/Geneva\",\"France/Grenoble\",\"Netherlands/Groningen\",\"Germany/Heidelberg\",\"Finland/Helsinki\",\"United States of America/Urbana, IL\",\"Israel/Jerusalem\",\"Switzerland/Lausanne\",\"Portugal/Lisbon\",\"United States of America/Maine ME\",\"United Kingdom/Manchester\",\"United States of America/College Park, MD\",\"United States of America/Worcester, MA\",\"United States of America/Minneapolis, MN\",\"United States of America/Columbia\",\"Russia/Moscow\",\"United States of America/Chapel Hill, NC\",\"United Kingdom/Nottingham\",\"Norway/Oslo\",\"United Kingdom/Oxford\",\"United States of America/Philadelphia, PA\",\"United States of America/Rochester, NY\",\"United States of America/Los Angeles, CA\",\"France/Strasbourg\",\"United Kingdom/Brighton\",\"United States of America/Austin TX\",\"United States of America/Houston, TX\",\"United States of America/Dallas, TX\",\"Japan/Kashiwa\",\"Japan/Tokyo\",\"Canada/Toronto\",\"Japan/Tokyo\",\"United States of America/Salt Lake City, UT\",\"United States of America/Seattle, WA\",\"Canada/Waterloo\",\"United States of America/Madison, WI\",\"Switzerland/Zurich\",\"Belgium/Louvain\",\"Belgium/Brussels\",\"France/Strasbourg\",\"France/Orsay\",\"France/Paris\",\"France/Strasbourg\",\"Sweden/Uppsala\",\"Netherlands/Utrecht\",\"United States of America/Nashville, TN\",\"United States of America/New Orleans, LA\",\"United States of America/New York, NY\",\"United Kingdom/Manchester\",\"Austria/Vienna\",\"United States of America/Richmond, VA\",\"Australia/Melbourne\",\"United States of America/St. Louis, MO\",\"Israel/Rehovot\",\"United States of America/Research Triangle Park, NC\",\"United States of America/Cleveland, OH\",\"France/Paris\",\"Germany/W\\u00fcrzburg\",\"United States of America/New Haven, CT\",\"France/Paris\",\"France/Paris\",\"France/Palaiseau\",\"France/Paris\",\"France/Paris\",\"France/Paris\",\"Denmark\",\"Austria\",\"Netherlands\",\"United States of America\",\"United States of America\",\"United States of America\",\"United States of America\",\"United States of America\",\"Switzerland\",\"United States of America\",\"United Kingdom\",\"China\",\"United States of America\",\"Germany\",\"Germany\",\"Switzerland\",\"United States of America\",\"United States of America\",\"United Kingdom\",\"United States of America\",\"United Kingdom\",\"Germany\",\"United States of America\",\"United States of America\",\"Germany\",\"United Kingdom\",\"United Kingdom\",\"Belgium\",\"United Kingdom\",\"Argentina\",\"United States of America\",\"India\",\"United Kingdom\",\"United States of America\",\"Australia\",\"United Kingdom\",\"United States of America\",\"United States of America\",\"United States of America\",\"United States of America\",\"United States of America\",\"United States of America\",\"Germany\",\"United States of America\",\"Denmark\",\"United States of America\",\"Ireland\",\"United States of America\",\"United Kingdom\",\"Canada\",\"United States of America\",\"United States of America\",\"Germany\",\"United States of America\",\"Germany\",\"Switzerland\",\"Belgium\",\"Sweden\",\"Austria\",\"United States of America\",\"United States of America\",\"Germany\",\"France\",\"Netherlands\",\"Germany\",\"Israel\",\"Germany\",\"Canada\",\"United Kingdom\",\"United Kingdom\",\"Germany\",\"Finland\",\"United Kingdom\",\"United States of America\",\"United States of America\",\"Austria\",\"United States of America\",\"United States of America\",\"Germany\",\"Israel\",\"Japan\",\"Germany\",\"Canada\",\"Japan\",\"United States of America\",\"Switzerland\",\"Netherlands\",\"Germany\",\"Sweden\",\"Portugal\",\"United Kingdom\",\"United Kingdom\",\"United States of America\",\"Belgium\",\"United States of America\",\"United States of America\",\"Spain\",\"United States of America\",\"Germany\",\"United Kingdom\",\"Germany\",\"Germany\",\"United States of America\",\"Australia\",\"United States of America\",\"Italy\",\"United States of America\",\"Russia\",\"United States of America\",\"Germany\",\"Germany\",\"United States of America\",\"Germany\",\"Japan\",\"France\",\"United States of America\",\"Australia\",\"United States of America\",\"United States of America\",\"United States of America\",\"United States of America\",\"United Kingdom\",\"France\",\"Norway\",\"Canada\",\"United Kingdom\",\"France\",\"France\",\"United States of America\",\"Italy\",\"United States of America\",\"United States of America\",\"Czech Republic\",\"United States of America\",\"United States of America\",\"Israel\",\"United States of America\",\"United States of America\",\"United States of America\",\"United States of America\",\"Italy\",\"Netherlands\",\"France\",\"Switzerland\",\"United States of America\",\"United States of America\",\"United States of America\",\"United States of America\",\"Japan\",\"United States of America\",\"United States of America\",\"United Kingdom\",\"United States of America\",\"Russia\",\"United States of America\",\"Sweden\",\"France\",\"Germany\",\"Hungary\",\"France\",\"United States of America\",\"Japan\",\"Canada\",\"France\",\"Italy\",\"Norway\",\"Japan\",\"Tunisia\",\"Germany\",\"Sweden\",\"United States of America\",\"Netherlands\",\"Canada\",\"Austria\",\"United States of America\",\"United States of America\",\"Canada\",\"United States of America\",\"Australia\",\"United States of America\",\"United States of America\",\"United States of America\",\"Germany\",\"United States of America\",\"Switzerland\",\"\",\"\",\"\",\"\",\"\",\"\",\"\",\"\",\"\",\"\",\"\",\"\",\"\",\"\",\"\",\"\",\"\",\"\",\"\",\"\",\"\",\"\",\"\",\"\",\"\",\"\",\"\"],\"values\":[1,1,3,2,1,1,1,1,1,1,1,2,1,3,4,1,6,1,1,1,1,1,1,1,2,1,1,3,1,17,1,1,3,1,1,1,1,1,1,3,1,17,3,8,1,1,1,1,2,4,1,1,1,1,1,3,1,2,2,1,1,1,1,5,2,1,1,1,1,1,7,29,1,1,1,1,1,4,3,3,2,1,1,6,1,2,2,1,1,1,1,1,1,1,1,1,1,1,6,5,3,1,1,1,4,1,1,1,1,3,2,1,1,7,1,10,1,1,1,1,1,21,1,3,1,1,1,1,3,1,1,1,1,1,1,1,2,1,1,1,5,1,1,1,2,1,2,1,1,1,5,1,1,4,1,1,3,2,4,1,1,1,1,15,2,1,1,2,4,2,13,1,1,1,2,1,1,1,1,1,1,7,1,1,1,23,1,3,1,1,1,2,3,1,1,1,1,1,1,1,1,1,1,1,1,1,1,1,1,1,1,6,1,1,1,19,3,6,3,4,5,18,20,4,1,2,2,1,1,6,1,4,1,1,1,1,2,1,1,1,1,2,2,1,3,12,4,1,2,2,2,1,1,5,1,1,3,1,1,4,1,3,4,1,2,1,1,1,1,5,2,2,1,1,3,2,1,1,4,1,2,1,1,1,9,1,1,1,1,1,1,1,1,2,1,1,1,6,1,5,1,1,1,21,12,4,1,5,1,1,2,1,2,9,5,2,2,1,3,1,2,1,1,31,50,1,1,2,1,20,1,1,1,1,1,7,6,1,1,3,1,3,2,2,1,1,5,1,1,2,1,1,1,1,2,8,3,1,1,1,1,9,1,1,3,3,1,3,8,1,1,1,3,1,6,1,1,3,2,1,1,2,27,8,1,1,3,1,1,2,5,1,1,1,1,1,1,1,10,2,9,1,4,1,3,1,2,1,1,9,1,45,1,1,3,1,12,1,25,17,1,5,3,1,19,2,1,3,1,2,1,3,1,1,4,1,4,5,5,1,2,7,1,5,2,24,10,5,1,1,1,1,6,3,2,1,2,1,1,1,5,4,2,1,2,1,2,1,2,1,1,1,1,1,1,8,2,4,6,5,9,1,1,8,1,38,67,1,1,1,5,6,18,10,5,1,12,1,17,24,1,93,365],\"type\":\"sunburst\"}],                        {\"template\":{\"data\":{\"histogram2dcontour\":[{\"type\":\"histogram2dcontour\",\"colorbar\":{\"outlinewidth\":0,\"ticks\":\"\"},\"colorscale\":[[0.0,\"#0d0887\"],[0.1111111111111111,\"#46039f\"],[0.2222222222222222,\"#7201a8\"],[0.3333333333333333,\"#9c179e\"],[0.4444444444444444,\"#bd3786\"],[0.5555555555555556,\"#d8576b\"],[0.6666666666666666,\"#ed7953\"],[0.7777777777777778,\"#fb9f3a\"],[0.8888888888888888,\"#fdca26\"],[1.0,\"#f0f921\"]]}],\"choropleth\":[{\"type\":\"choropleth\",\"colorbar\":{\"outlinewidth\":0,\"ticks\":\"\"}}],\"histogram2d\":[{\"type\":\"histogram2d\",\"colorbar\":{\"outlinewidth\":0,\"ticks\":\"\"},\"colorscale\":[[0.0,\"#0d0887\"],[0.1111111111111111,\"#46039f\"],[0.2222222222222222,\"#7201a8\"],[0.3333333333333333,\"#9c179e\"],[0.4444444444444444,\"#bd3786\"],[0.5555555555555556,\"#d8576b\"],[0.6666666666666666,\"#ed7953\"],[0.7777777777777778,\"#fb9f3a\"],[0.8888888888888888,\"#fdca26\"],[1.0,\"#f0f921\"]]}],\"heatmap\":[{\"type\":\"heatmap\",\"colorbar\":{\"outlinewidth\":0,\"ticks\":\"\"},\"colorscale\":[[0.0,\"#0d0887\"],[0.1111111111111111,\"#46039f\"],[0.2222222222222222,\"#7201a8\"],[0.3333333333333333,\"#9c179e\"],[0.4444444444444444,\"#bd3786\"],[0.5555555555555556,\"#d8576b\"],[0.6666666666666666,\"#ed7953\"],[0.7777777777777778,\"#fb9f3a\"],[0.8888888888888888,\"#fdca26\"],[1.0,\"#f0f921\"]]}],\"heatmapgl\":[{\"type\":\"heatmapgl\",\"colorbar\":{\"outlinewidth\":0,\"ticks\":\"\"},\"colorscale\":[[0.0,\"#0d0887\"],[0.1111111111111111,\"#46039f\"],[0.2222222222222222,\"#7201a8\"],[0.3333333333333333,\"#9c179e\"],[0.4444444444444444,\"#bd3786\"],[0.5555555555555556,\"#d8576b\"],[0.6666666666666666,\"#ed7953\"],[0.7777777777777778,\"#fb9f3a\"],[0.8888888888888888,\"#fdca26\"],[1.0,\"#f0f921\"]]}],\"contourcarpet\":[{\"type\":\"contourcarpet\",\"colorbar\":{\"outlinewidth\":0,\"ticks\":\"\"}}],\"contour\":[{\"type\":\"contour\",\"colorbar\":{\"outlinewidth\":0,\"ticks\":\"\"},\"colorscale\":[[0.0,\"#0d0887\"],[0.1111111111111111,\"#46039f\"],[0.2222222222222222,\"#7201a8\"],[0.3333333333333333,\"#9c179e\"],[0.4444444444444444,\"#bd3786\"],[0.5555555555555556,\"#d8576b\"],[0.6666666666666666,\"#ed7953\"],[0.7777777777777778,\"#fb9f3a\"],[0.8888888888888888,\"#fdca26\"],[1.0,\"#f0f921\"]]}],\"surface\":[{\"type\":\"surface\",\"colorbar\":{\"outlinewidth\":0,\"ticks\":\"\"},\"colorscale\":[[0.0,\"#0d0887\"],[0.1111111111111111,\"#46039f\"],[0.2222222222222222,\"#7201a8\"],[0.3333333333333333,\"#9c179e\"],[0.4444444444444444,\"#bd3786\"],[0.5555555555555556,\"#d8576b\"],[0.6666666666666666,\"#ed7953\"],[0.7777777777777778,\"#fb9f3a\"],[0.8888888888888888,\"#fdca26\"],[1.0,\"#f0f921\"]]}],\"mesh3d\":[{\"type\":\"mesh3d\",\"colorbar\":{\"outlinewidth\":0,\"ticks\":\"\"}}],\"scatter\":[{\"fillpattern\":{\"fillmode\":\"overlay\",\"size\":10,\"solidity\":0.2},\"type\":\"scatter\"}],\"parcoords\":[{\"type\":\"parcoords\",\"line\":{\"colorbar\":{\"outlinewidth\":0,\"ticks\":\"\"}}}],\"scatterpolargl\":[{\"type\":\"scatterpolargl\",\"marker\":{\"colorbar\":{\"outlinewidth\":0,\"ticks\":\"\"}}}],\"bar\":[{\"error_x\":{\"color\":\"#2a3f5f\"},\"error_y\":{\"color\":\"#2a3f5f\"},\"marker\":{\"line\":{\"color\":\"#E5ECF6\",\"width\":0.5},\"pattern\":{\"fillmode\":\"overlay\",\"size\":10,\"solidity\":0.2}},\"type\":\"bar\"}],\"scattergeo\":[{\"type\":\"scattergeo\",\"marker\":{\"colorbar\":{\"outlinewidth\":0,\"ticks\":\"\"}}}],\"scatterpolar\":[{\"type\":\"scatterpolar\",\"marker\":{\"colorbar\":{\"outlinewidth\":0,\"ticks\":\"\"}}}],\"histogram\":[{\"marker\":{\"pattern\":{\"fillmode\":\"overlay\",\"size\":10,\"solidity\":0.2}},\"type\":\"histogram\"}],\"scattergl\":[{\"type\":\"scattergl\",\"marker\":{\"colorbar\":{\"outlinewidth\":0,\"ticks\":\"\"}}}],\"scatter3d\":[{\"type\":\"scatter3d\",\"line\":{\"colorbar\":{\"outlinewidth\":0,\"ticks\":\"\"}},\"marker\":{\"colorbar\":{\"outlinewidth\":0,\"ticks\":\"\"}}}],\"scattermapbox\":[{\"type\":\"scattermapbox\",\"marker\":{\"colorbar\":{\"outlinewidth\":0,\"ticks\":\"\"}}}],\"scatterternary\":[{\"type\":\"scatterternary\",\"marker\":{\"colorbar\":{\"outlinewidth\":0,\"ticks\":\"\"}}}],\"scattercarpet\":[{\"type\":\"scattercarpet\",\"marker\":{\"colorbar\":{\"outlinewidth\":0,\"ticks\":\"\"}}}],\"carpet\":[{\"aaxis\":{\"endlinecolor\":\"#2a3f5f\",\"gridcolor\":\"white\",\"linecolor\":\"white\",\"minorgridcolor\":\"white\",\"startlinecolor\":\"#2a3f5f\"},\"baxis\":{\"endlinecolor\":\"#2a3f5f\",\"gridcolor\":\"white\",\"linecolor\":\"white\",\"minorgridcolor\":\"white\",\"startlinecolor\":\"#2a3f5f\"},\"type\":\"carpet\"}],\"table\":[{\"cells\":{\"fill\":{\"color\":\"#EBF0F8\"},\"line\":{\"color\":\"white\"}},\"header\":{\"fill\":{\"color\":\"#C8D4E3\"},\"line\":{\"color\":\"white\"}},\"type\":\"table\"}],\"barpolar\":[{\"marker\":{\"line\":{\"color\":\"#E5ECF6\",\"width\":0.5},\"pattern\":{\"fillmode\":\"overlay\",\"size\":10,\"solidity\":0.2}},\"type\":\"barpolar\"}],\"pie\":[{\"automargin\":true,\"type\":\"pie\"}]},\"layout\":{\"autotypenumbers\":\"strict\",\"colorway\":[\"#636efa\",\"#EF553B\",\"#00cc96\",\"#ab63fa\",\"#FFA15A\",\"#19d3f3\",\"#FF6692\",\"#B6E880\",\"#FF97FF\",\"#FECB52\"],\"font\":{\"color\":\"#2a3f5f\"},\"hovermode\":\"closest\",\"hoverlabel\":{\"align\":\"left\"},\"paper_bgcolor\":\"white\",\"plot_bgcolor\":\"#E5ECF6\",\"polar\":{\"bgcolor\":\"#E5ECF6\",\"angularaxis\":{\"gridcolor\":\"white\",\"linecolor\":\"white\",\"ticks\":\"\"},\"radialaxis\":{\"gridcolor\":\"white\",\"linecolor\":\"white\",\"ticks\":\"\"}},\"ternary\":{\"bgcolor\":\"#E5ECF6\",\"aaxis\":{\"gridcolor\":\"white\",\"linecolor\":\"white\",\"ticks\":\"\"},\"baxis\":{\"gridcolor\":\"white\",\"linecolor\":\"white\",\"ticks\":\"\"},\"caxis\":{\"gridcolor\":\"white\",\"linecolor\":\"white\",\"ticks\":\"\"}},\"coloraxis\":{\"colorbar\":{\"outlinewidth\":0,\"ticks\":\"\"}},\"colorscale\":{\"sequential\":[[0.0,\"#0d0887\"],[0.1111111111111111,\"#46039f\"],[0.2222222222222222,\"#7201a8\"],[0.3333333333333333,\"#9c179e\"],[0.4444444444444444,\"#bd3786\"],[0.5555555555555556,\"#d8576b\"],[0.6666666666666666,\"#ed7953\"],[0.7777777777777778,\"#fb9f3a\"],[0.8888888888888888,\"#fdca26\"],[1.0,\"#f0f921\"]],\"sequentialminus\":[[0.0,\"#0d0887\"],[0.1111111111111111,\"#46039f\"],[0.2222222222222222,\"#7201a8\"],[0.3333333333333333,\"#9c179e\"],[0.4444444444444444,\"#bd3786\"],[0.5555555555555556,\"#d8576b\"],[0.6666666666666666,\"#ed7953\"],[0.7777777777777778,\"#fb9f3a\"],[0.8888888888888888,\"#fdca26\"],[1.0,\"#f0f921\"]],\"diverging\":[[0,\"#8e0152\"],[0.1,\"#c51b7d\"],[0.2,\"#de77ae\"],[0.3,\"#f1b6da\"],[0.4,\"#fde0ef\"],[0.5,\"#f7f7f7\"],[0.6,\"#e6f5d0\"],[0.7,\"#b8e186\"],[0.8,\"#7fbc41\"],[0.9,\"#4d9221\"],[1,\"#276419\"]]},\"xaxis\":{\"gridcolor\":\"white\",\"linecolor\":\"white\",\"ticks\":\"\",\"title\":{\"standoff\":15},\"zerolinecolor\":\"white\",\"automargin\":true,\"zerolinewidth\":2},\"yaxis\":{\"gridcolor\":\"white\",\"linecolor\":\"white\",\"ticks\":\"\",\"title\":{\"standoff\":15},\"zerolinecolor\":\"white\",\"automargin\":true,\"zerolinewidth\":2},\"scene\":{\"xaxis\":{\"backgroundcolor\":\"#E5ECF6\",\"gridcolor\":\"white\",\"linecolor\":\"white\",\"showbackground\":true,\"ticks\":\"\",\"zerolinecolor\":\"white\",\"gridwidth\":2},\"yaxis\":{\"backgroundcolor\":\"#E5ECF6\",\"gridcolor\":\"white\",\"linecolor\":\"white\",\"showbackground\":true,\"ticks\":\"\",\"zerolinecolor\":\"white\",\"gridwidth\":2},\"zaxis\":{\"backgroundcolor\":\"#E5ECF6\",\"gridcolor\":\"white\",\"linecolor\":\"white\",\"showbackground\":true,\"ticks\":\"\",\"zerolinecolor\":\"white\",\"gridwidth\":2}},\"shapedefaults\":{\"line\":{\"color\":\"#2a3f5f\"}},\"annotationdefaults\":{\"arrowcolor\":\"#2a3f5f\",\"arrowhead\":0,\"arrowwidth\":1},\"geo\":{\"bgcolor\":\"white\",\"landcolor\":\"#E5ECF6\",\"subunitcolor\":\"white\",\"showland\":true,\"showlakes\":true,\"lakecolor\":\"white\"},\"title\":{\"x\":0.05},\"mapbox\":{\"style\":\"light\"}}},\"legend\":{\"tracegroupgap\":0},\"title\":{\"text\":\"Where do discoveries take place?\"},\"coloraxis\":{\"showscale\":false},\"xaxis\":{\"title\":{\"text\":\"Number of Prizes\"}},\"yaxis\":{\"title\":{\"text\":\"City\"}}},                        {\"responsive\": true}                    ).then(function(){\n",
       "                            \n",
       "var gd = document.getElementById('83be0fa7-bd6c-4226-83ea-d7a718a7bdbe');\n",
       "var x = new MutationObserver(function (mutations, observer) {{\n",
       "        var display = window.getComputedStyle(gd).display;\n",
       "        if (!display || display === 'none') {{\n",
       "            console.log([gd, 'removed!']);\n",
       "            Plotly.purge(gd);\n",
       "            observer.disconnect();\n",
       "        }}\n",
       "}});\n",
       "\n",
       "// Listen for the removal of the full notebook cells\n",
       "var notebookContainer = gd.closest('#notebook-container');\n",
       "if (notebookContainer) {{\n",
       "    x.observe(notebookContainer, {childList: true});\n",
       "}}\n",
       "\n",
       "// Listen for the clearing of the current output cell\n",
       "var outputEl = gd.closest('.output');\n",
       "if (outputEl) {{\n",
       "    x.observe(outputEl, {childList: true});\n",
       "}}\n",
       "\n",
       "                        })                };                });            </script>        </div>"
      ]
     },
     "metadata": {},
     "output_type": "display_data"
    }
   ],
   "source": [
    "burst = px.sunburst(\n",
    "    organization_prizes,\n",
    "    path=[\"organization_country\",\"organization_city\",\"organization_name\"],\n",
    "    values=\"prize\",\n",
    "    title=\"Where do discoveries take place?\"\n",
    ")\n",
    "\n",
    "burst.update_layout(\n",
    "    xaxis_title=\"Number of Prizes\",\n",
    "    yaxis_title=\"City\",\n",
    "    coloraxis_showscale=False\n",
    ")\n",
    "\n",
    "burst.show()"
   ]
  },
  {
   "cell_type": "markdown",
   "metadata": {
    "id": "PW4jvWFWo7Mv"
   },
   "source": [
    "# Patterns in the Laureate Age at the Time of the Award\n",
    "\n",
    "How Old Are the Laureates When the Win the Prize?\n",
    "\n",
    "**Challenge**: Calculate the age of the laureate in the year of the ceremony and add this as a column called `winning_age` to the `df_data` DataFrame. Hint: you can use [this](https://pandas.pydata.org/pandas-docs/stable/reference/api/pandas.Series.dt.html) to help you. \n",
    "\n"
   ]
  },
  {
   "cell_type": "code",
   "execution_count": 184,
   "metadata": {
    "id": "2f4JpfUCGLd2"
   },
   "outputs": [
    {
     "data": {
      "text/html": [
       "<div>\n",
       "<style scoped>\n",
       "    .dataframe tbody tr th:only-of-type {\n",
       "        vertical-align: middle;\n",
       "    }\n",
       "\n",
       "    .dataframe tbody tr th {\n",
       "        vertical-align: top;\n",
       "    }\n",
       "\n",
       "    .dataframe thead th {\n",
       "        text-align: right;\n",
       "    }\n",
       "</style>\n",
       "<table border=\"1\" class=\"dataframe\">\n",
       "  <thead>\n",
       "    <tr style=\"text-align: right;\">\n",
       "      <th></th>\n",
       "      <th>year</th>\n",
       "      <th>category</th>\n",
       "      <th>prize</th>\n",
       "      <th>motivation</th>\n",
       "      <th>prize_share</th>\n",
       "      <th>laureate_type</th>\n",
       "      <th>full_name</th>\n",
       "      <th>birth_date</th>\n",
       "      <th>birth_city</th>\n",
       "      <th>birth_country</th>\n",
       "      <th>birth_country_current</th>\n",
       "      <th>sex</th>\n",
       "      <th>organization_name</th>\n",
       "      <th>organization_city</th>\n",
       "      <th>organization_country</th>\n",
       "      <th>ISO</th>\n",
       "      <th>share_pct</th>\n",
       "      <th>winning_age</th>\n",
       "    </tr>\n",
       "  </thead>\n",
       "  <tbody>\n",
       "    <tr>\n",
       "      <th>885</th>\n",
       "      <td>2014</td>\n",
       "      <td>Peace</td>\n",
       "      <td>The Nobel Peace Prize 2014</td>\n",
       "      <td>\"for their struggle against the suppression of...</td>\n",
       "      <td>1/2</td>\n",
       "      <td>Individual</td>\n",
       "      <td>Malala Yousafzai</td>\n",
       "      <td>1997-07-12</td>\n",
       "      <td>Mingora</td>\n",
       "      <td>Pakistan</td>\n",
       "      <td>Pakistan</td>\n",
       "      <td>Female</td>\n",
       "      <td>NaN</td>\n",
       "      <td>NaN</td>\n",
       "      <td>NaN</td>\n",
       "      <td>PAK</td>\n",
       "      <td>0.50</td>\n",
       "      <td>17.00</td>\n",
       "    </tr>\n",
       "    <tr>\n",
       "      <th>85</th>\n",
       "      <td>1915</td>\n",
       "      <td>Physics</td>\n",
       "      <td>The Nobel Prize in Physics 1915</td>\n",
       "      <td>\"for their services in the analysis of crystal...</td>\n",
       "      <td>1/2</td>\n",
       "      <td>Individual</td>\n",
       "      <td>William Lawrence Bragg</td>\n",
       "      <td>1890-03-31</td>\n",
       "      <td>Adelaide</td>\n",
       "      <td>Australia</td>\n",
       "      <td>Australia</td>\n",
       "      <td>Male</td>\n",
       "      <td>Victoria University</td>\n",
       "      <td>Manchester</td>\n",
       "      <td>United Kingdom</td>\n",
       "      <td>AUS</td>\n",
       "      <td>0.50</td>\n",
       "      <td>25.00</td>\n",
       "    </tr>\n",
       "    <tr>\n",
       "      <th>932</th>\n",
       "      <td>2018</td>\n",
       "      <td>Peace</td>\n",
       "      <td>The Nobel Peace Prize 2018</td>\n",
       "      <td>“for their efforts to end the use of sexual vi...</td>\n",
       "      <td>1/2</td>\n",
       "      <td>Individual</td>\n",
       "      <td>Nadia Murad</td>\n",
       "      <td>1993-07-02</td>\n",
       "      <td>Kojo</td>\n",
       "      <td>Iraq</td>\n",
       "      <td>Iraq</td>\n",
       "      <td>Female</td>\n",
       "      <td>NaN</td>\n",
       "      <td>NaN</td>\n",
       "      <td>NaN</td>\n",
       "      <td>IRQ</td>\n",
       "      <td>0.50</td>\n",
       "      <td>25.00</td>\n",
       "    </tr>\n",
       "    <tr>\n",
       "      <th>305</th>\n",
       "      <td>1957</td>\n",
       "      <td>Physics</td>\n",
       "      <td>The Nobel Prize in Physics 1957</td>\n",
       "      <td>\"for their penetrating investigation of the so...</td>\n",
       "      <td>1/2</td>\n",
       "      <td>Individual</td>\n",
       "      <td>Tsung-Dao (T.D.) Lee</td>\n",
       "      <td>1926-11-24</td>\n",
       "      <td>Shanghai</td>\n",
       "      <td>China</td>\n",
       "      <td>China</td>\n",
       "      <td>Male</td>\n",
       "      <td>Columbia University</td>\n",
       "      <td>New York, NY</td>\n",
       "      <td>United States of America</td>\n",
       "      <td>CHN</td>\n",
       "      <td>0.50</td>\n",
       "      <td>31.00</td>\n",
       "    </tr>\n",
       "    <tr>\n",
       "      <th>171</th>\n",
       "      <td>1933</td>\n",
       "      <td>Physics</td>\n",
       "      <td>The Nobel Prize in Physics 1933</td>\n",
       "      <td>\"for the discovery of new productive forms of ...</td>\n",
       "      <td>1/2</td>\n",
       "      <td>Individual</td>\n",
       "      <td>Paul Adrien Maurice Dirac</td>\n",
       "      <td>1902-08-08</td>\n",
       "      <td>Bristol</td>\n",
       "      <td>United Kingdom</td>\n",
       "      <td>United Kingdom</td>\n",
       "      <td>Male</td>\n",
       "      <td>University of Cambridge</td>\n",
       "      <td>Cambridge</td>\n",
       "      <td>United Kingdom</td>\n",
       "      <td>GBR</td>\n",
       "      <td>0.50</td>\n",
       "      <td>31.00</td>\n",
       "    </tr>\n",
       "  </tbody>\n",
       "</table>\n",
       "</div>"
      ],
      "text/plain": [
       "     year category                            prize  \\\n",
       "885  2014    Peace       The Nobel Peace Prize 2014   \n",
       "85   1915  Physics  The Nobel Prize in Physics 1915   \n",
       "932  2018    Peace       The Nobel Peace Prize 2018   \n",
       "305  1957  Physics  The Nobel Prize in Physics 1957   \n",
       "171  1933  Physics  The Nobel Prize in Physics 1933   \n",
       "\n",
       "                                            motivation prize_share  \\\n",
       "885  \"for their struggle against the suppression of...         1/2   \n",
       "85   \"for their services in the analysis of crystal...         1/2   \n",
       "932  “for their efforts to end the use of sexual vi...         1/2   \n",
       "305  \"for their penetrating investigation of the so...         1/2   \n",
       "171  \"for the discovery of new productive forms of ...         1/2   \n",
       "\n",
       "    laureate_type                  full_name birth_date birth_city  \\\n",
       "885    Individual           Malala Yousafzai 1997-07-12    Mingora   \n",
       "85     Individual     William Lawrence Bragg 1890-03-31   Adelaide   \n",
       "932    Individual                Nadia Murad 1993-07-02       Kojo   \n",
       "305    Individual       Tsung-Dao (T.D.) Lee 1926-11-24   Shanghai   \n",
       "171    Individual  Paul Adrien Maurice Dirac 1902-08-08    Bristol   \n",
       "\n",
       "      birth_country birth_country_current     sex        organization_name  \\\n",
       "885        Pakistan              Pakistan  Female                      NaN   \n",
       "85        Australia             Australia    Male      Victoria University   \n",
       "932            Iraq                  Iraq  Female                      NaN   \n",
       "305           China                 China    Male      Columbia University   \n",
       "171  United Kingdom        United Kingdom    Male  University of Cambridge   \n",
       "\n",
       "    organization_city      organization_country  ISO  share_pct  winning_age  \n",
       "885               NaN                       NaN  PAK       0.50        17.00  \n",
       "85         Manchester            United Kingdom  AUS       0.50        25.00  \n",
       "932               NaN                       NaN  IRQ       0.50        25.00  \n",
       "305      New York, NY  United States of America  CHN       0.50        31.00  \n",
       "171         Cambridge            United Kingdom  GBR       0.50        31.00  "
      ]
     },
     "execution_count": 184,
     "metadata": {},
     "output_type": "execute_result"
    }
   ],
   "source": [
    "birth_years = df_data[\"birth_date\"].dt.year\n",
    "df_data[\"winning_age\"] = df_data[\"year\"] - birth_years\n",
    "\n",
    "df_data.head()"
   ]
  },
  {
   "cell_type": "markdown",
   "metadata": {
    "dc": {
     "key": "66"
    },
    "id": "09344hnCo7My",
    "run_control": {
     "frozen": true
    },
    "tags": [
     "context"
    ]
   },
   "source": [
    "### Who were the oldest and youngest winners?\n",
    "\n",
    "**Challenge**: \n",
    "* What are the names of the youngest and oldest Nobel laureate? \n",
    "* What did they win the prize for?\n",
    "* What is the average age of a winner?\n",
    "* 75% of laureates are younger than what age when they receive the prize?\n",
    "* Use Seaborn to [create histogram](https://seaborn.pydata.org/generated/seaborn.histplot.html) to visualise the distribution of laureate age at the time of winning. Experiment with the number of `bins` to see how the visualisation changes."
   ]
  },
  {
   "cell_type": "code",
   "execution_count": null,
   "metadata": {
    "id": "IzGfeUyNGNcR"
   },
   "outputs": [],
   "source": []
  },
  {
   "cell_type": "code",
   "execution_count": null,
   "metadata": {
    "id": "inN6ggCUGNUy"
   },
   "outputs": [],
   "source": []
  },
  {
   "cell_type": "markdown",
   "metadata": {
    "id": "UQxMUPddo6fo"
   },
   "source": [
    "### Descriptive Statistics for the Laureate Age at Time of Award\n",
    "\n",
    "* Calculate the descriptive statistics for the age at the time of the award. \n",
    "* Then visualise the distribution in the form of a histogram using [Seaborn's .histplot() function](https://seaborn.pydata.org/generated/seaborn.histplot.html).\n",
    "* Experiment with the `bin` size. Try 10, 20, 30, and 50.  "
   ]
  },
  {
   "cell_type": "code",
   "execution_count": null,
   "metadata": {
    "id": "6vlp5S0WGO98"
   },
   "outputs": [],
   "source": []
  },
  {
   "cell_type": "code",
   "execution_count": null,
   "metadata": {
    "id": "P6cAIrB5GO24"
   },
   "outputs": [],
   "source": []
  },
  {
   "cell_type": "markdown",
   "metadata": {
    "id": "gljdi8sxpkg7"
   },
   "source": [
    "### Age at Time of Award throughout History\n",
    "\n",
    "Are Nobel laureates being nominated later in life than before? Have the ages of laureates at the time of the award increased or decreased over time?\n",
    "\n",
    "**Challenge**\n",
    "\n",
    "* Use Seaborn to [create a .regplot](https://seaborn.pydata.org/generated/seaborn.regplot.html?highlight=regplot#seaborn.regplot) with a trendline.\n",
    "* Set the `lowess` parameter to `True` to show a moving average of the linear fit.\n",
    "* According to the best fit line, how old were Nobel laureates in the years 1900-1940 when they were awarded the prize?\n",
    "* According to the best fit line, what age would it predict for a Nobel laureate in 2020?\n"
   ]
  },
  {
   "cell_type": "code",
   "execution_count": null,
   "metadata": {
    "id": "AjUdtyB9GQ9w"
   },
   "outputs": [],
   "source": []
  },
  {
   "cell_type": "code",
   "execution_count": null,
   "metadata": {
    "id": "B_NsO6aaGQzu"
   },
   "outputs": [],
   "source": []
  },
  {
   "cell_type": "markdown",
   "metadata": {
    "dc": {
     "key": "59"
    },
    "id": "CPFMftF9o7M5",
    "run_control": {
     "frozen": true
    },
    "tags": [
     "context"
    ]
   },
   "source": [
    "### Winning Age Across the Nobel Prize Categories\n",
    "\n",
    "How does the age of laureates vary by category? \n",
    "\n",
    "* Use Seaborn's [`.boxplot()`](https://seaborn.pydata.org/generated/seaborn.boxplot.html?highlight=boxplot#seaborn.boxplot) to show how the mean, quartiles, max, and minimum values vary across categories. Which category has the longest \"whiskers\"? \n",
    "* In which prize category are the average winners the oldest?\n",
    "* In which prize category are the average winners the youngest?"
   ]
  },
  {
   "cell_type": "code",
   "execution_count": null,
   "metadata": {
    "id": "mbpG0Kj5GSxg"
   },
   "outputs": [],
   "source": []
  },
  {
   "cell_type": "code",
   "execution_count": null,
   "metadata": {
    "id": "WiGT3CmuGSqp"
   },
   "outputs": [],
   "source": []
  },
  {
   "cell_type": "markdown",
   "metadata": {
    "id": "M9qE0P4-8i5L"
   },
   "source": [
    "**Challenge**\n",
    "* Now use Seaborn's [`.lmplot()`](https://seaborn.pydata.org/generated/seaborn.lmplot.html?highlight=lmplot#seaborn.lmplot) and the `row` parameter to create 6 separate charts for each prize category. Again set `lowess` to `True`.\n",
    "* What are the winning age trends in each category? \n",
    "* Which category has the age trending up and which category has the age trending down? \n",
    "* Is this `.lmplot()` telling a different story from the `.boxplot()`?\n",
    "* Create another chart with Seaborn. This time use `.lmplot()` to put all 6 categories on the same chart using the `hue` parameter. \n"
   ]
  },
  {
   "cell_type": "code",
   "execution_count": null,
   "metadata": {
    "id": "HcdLGWC7GUb7"
   },
   "outputs": [],
   "source": []
  },
  {
   "cell_type": "code",
   "execution_count": null,
   "metadata": {
    "id": "8HwP_swVGUiq"
   },
   "outputs": [],
   "source": []
  },
  {
   "cell_type": "code",
   "execution_count": null,
   "metadata": {
    "id": "Ml9w1jFjGUTi"
   },
   "outputs": [],
   "source": []
  },
  {
   "cell_type": "code",
   "execution_count": null,
   "metadata": {
    "id": "PJD0-Opko7M_"
   },
   "outputs": [],
   "source": []
  },
  {
   "cell_type": "code",
   "execution_count": null,
   "metadata": {
    "id": "9F9f_2HZo7NA"
   },
   "outputs": [],
   "source": []
  }
 ],
 "metadata": {
  "colab": {
   "name": "Nobel Prize Analysis (start).ipynb",
   "provenance": []
  },
  "kernelspec": {
   "display_name": "Python 3 (ipykernel)",
   "language": "python",
   "name": "python3"
  },
  "language_info": {
   "codemirror_mode": {
    "name": "ipython",
    "version": 3
   },
   "file_extension": ".py",
   "mimetype": "text/x-python",
   "name": "python",
   "nbconvert_exporter": "python",
   "pygments_lexer": "ipython3",
   "version": "3.9.7"
  }
 },
 "nbformat": 4,
 "nbformat_minor": 1
}
